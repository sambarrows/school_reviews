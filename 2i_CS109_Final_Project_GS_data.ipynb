{
 "metadata": {
  "name": ""
 },
 "nbformat": 3,
 "nbformat_minor": 0,
 "worksheets": [
  {
   "cells": [
    {
     "cell_type": "markdown",
     "metadata": {},
     "source": [
      "# CS 109 Final Project:  GreatSchools - Data \n",
      "<i>Project team: Samuel Barrows, Joseph Davin, Brian Feeny, Michael Lackner</i>\n",
      "<br>\n",
      "<br>\n",
      "\n",
      "<img src=\"http://www.newschools.org/wp/wp-content/uploads/Bill-Jackson.jpg\">"
     ]
    },
    {
     "cell_type": "markdown",
     "metadata": {},
     "source": [
      "### Data collection \n",
      " Data: Source, scraping method, cleanup, etc.\n",
      "       \n",
      "    \n",
      "#### Primary data sources\n",
      "\n",
      "The basic GreatSchools dataset is located at http://www.greatschools.org, accessible through the GS API as a Representational State Transfer (REST) resource. API key requests must be approved by GreatSchools.  The team received initial approvals but encountered limitations under the free license and arranged with GS for wider access. GreatSchools dates back to 1998 and at first focused on Alameda, CA, expanding later to serve the rest of California and other states.  The initial focus of this study was the Los Angeles County area (comprehending the City of Los Angeles and surrounding LA county municipalities).  \n",
      "\n",
      "Additional school and socioeconomic data were obtained from the National Center for Education Statistics (NCES) and the US Census, including subsets of the NCES's Common Core of Data and the US Census's American Community Survey. These were added to the MySQL database and joined on common keys such as school or district NCES id, or ZIP code.\n",
      "\n",
      "#### Collection I:  Website scraping with R and API downloads with Python\n",
      "\n",
      "Early in the project GreatSchools school and review data were downloaded for a large number of US cities using R (scraping both school and review records) and Python (schools only via the API).\n",
      "\n",
      "#### Collection II:  GreatSchools full dataset with Python\n",
      "\n",
      "The GreatSchools full dataset was posted for download on 11/27.  ETL was done using Python and MySQL tools (see code and results below).  \n",
      "\n",
      "#### Storage: MySQL on Amazon Web Services / Relational Data Server\n",
      "\n",
      "There was some question as to whether or not to use a database, but from an early stage it was clear that folders full of csv files did not answer the need for a centralized, structured, secure repository, especially if the full dataset were to be processed. \n",
      "\n",
      "The GS data was inherently relational, so MySQL was chosen as a widely used and proven open source database, having the additional advantage of being available as an option in Amazon Web Services relational data server offerings.  The first iteration of the database was a subset of data on LA county schools, scrubbed and loaded using Python into a MySQL 5.65 instance running on one team member's laptop. Soon afterward this was scaled up on Amazon Web Services / Relational Data Service as an m1.small server running MySQL 5.65.13.  After issues related to access methods were resolved and regular performance could be measured, the database was scaled up again, this time as an AWS m1.large server with 2 processors and 7GB RAM. \n",
      "\n",
      "<img src=\"files/img_ml_aws_rds_mysql_server.png\" />\n",
      "\n",
      "The database was modeled, built, populated, and administered using MySQL Workbench v. 6.0 (https://www.mysql.com/products/workbench/) and Navicat (http://www.navicat.com/).  Anticipating heavy ETL operations in a compressed time frame (the full GS dataset was not received until the week of 11/24), the InnoDb engine was selected to drive table operations.  InnoDB is MySQL's only ACID option; until MySQL version 5.6, MyISAM was recommended for applications involving text search, an important consideration given the project focus on GreatSchools user reviews, but as of version 5.6 InnoDb supports full text indices. (MyISAM does table rather than row level locking, which could cause contention or deadlocks during ETL.)\n",
      "\n",
      "#### The full dataset data model\n",
      "\n",
      "Considerable revision to the data structure, indices, and retrieval stored procedures was required after receipt of the full dataset on 11/24, because the data model, table names, column names and data types differed substantially from those specified in the API.\n",
      "\n",
      "GS full dataset tables:\n",
      "\n",
      "<table>\n",
      "<th>table name</th><th>number of records</th><th>description</th>\n",
      "<tr><td>schools</td><td>148,957</td><td>entity table containing state, school district and school information</td></tr>\n",
      "<tr><td>reviews</td><td>864,221</td><td>school reviews and star ratings by parents, teachers, students and others</td></tr>\n",
      "<tr><td>test_results</td><td>20,578,880</td><td>school test results by year, grade and subject for states, school districts, and schools</td></tr>\n",
      "<tr><td>census</td><td>1,559,955</td><td>demographic and socioeconomic data for states, school districts and schools</td></tr>\n",
      "<tr><td>ratings</td><td>97,743</td><td>school ratings by categories including safety, academics etc</td></tr>\n",
      "<tr><td>topics_reviews</td><td>25,916,820</td><td>review LDA topics (normalized)</td></tr>\n",
      "<tr><td>topics_schools</td><td>2,970,960</td><td>review LDA topics aggregated at the school level (normalized)</td></tr>\n",
      "</table>\n",
      "\n",
      "Table fields and data types are given in the model below. The test_results and topics_reviews tables are the largest by far, with over 20 million rows each.  Accomodating these and the Python retrieval methods used by analytical processes required careful indexing, and scaling up to a higher capacity AWS RDS server.\n",
      "\n",
      "The database was the principal source for Great Schools data and a repository for project analytical results.\n",
      "\n",
      "<img src=\"files/img_ml_final_project_data_model.png\" />\n",
      "\n",
      "#### Retrieval: pymysql library and MySQL stored procedures\n",
      "\n",
      "The pymysql library and psql are used to retrieve denormalized rows of school, reviews, test results and census data by executing stored procedures on the AWS/RDS MySQL db, permitting quick connections and rows that load smoothly into Python panda datasets. (see sample code below).  \n",
      "\n",
      "Sample stored procedure:\n",
      "\n",
      "<img src=\"files/img_ml_mysql_sproc_reviews_by_state.png\" />\n",
      "\n",
      "In the final week of the project there was heavy use of the database, including new stored procedures and various ad hoc queries to produce subsets of the data suitable for use in analytical processes running in Python or R.\n",
      "\n",
      "<img src=\"files/img_ml_navicat_admin.png\" />"
     ]
    },
    {
     "cell_type": "code",
     "collapsed": false,
     "input": [
      "# key used to access the GS API\n",
      "GS_api_key = '3ibtlgutdkievurqdaqqawxx'\n",
      "\n",
      "# libraries used for Great Schools project ETL operations\n",
      "import datetime\n",
      "import json\n",
      "import glob\n",
      "import os\n",
      "import numpy as np\n",
      "import networkx as nx\n",
      "import requests\n",
      "from pattern import web\n",
      "import codecs\n",
      "import requests.exceptions\n",
      "import urllib2 \n",
      "import htmllib\n",
      "import pandas as pd\n",
      "# to install pymysql: pip install pymysql\n",
      "import pymysql\n",
      "import pandas.io.sql as psql\n",
      "from BeautifulSoup import BeautifulSoup as Soup\n"
     ],
     "language": "python",
     "metadata": {},
     "outputs": [],
     "prompt_number": 2
    },
    {
     "cell_type": "markdown",
     "metadata": {},
     "source": [
      "#### MySQL AWS / RDS db:  connection and retrieval (Python)\n",
      "\n",
      "The mysql_ops Python class abstracts the process of requesting data from the database.  It creates the db connection, opens a cursor, requests execution of a remote stored procedure, returns the result as a panda dataframe, and then closes the db connection."
     ]
    },
    {
     "cell_type": "code",
     "collapsed": false,
     "input": [
      "\"\"\"\n",
      "class mysql_ops\n",
      "\n",
      "functions:\n",
      "\n",
      "    mysql_connect - connects to our MySQL db\n",
      "    mysql_disconnect - disconnects\n",
      "    get_mysql_data - generic retrieval function that invokes a stored procedure returning a denormalized df combining school and review data\n",
      "    \n",
      "    retrieval methods (commented inline)\n",
      "    \n",
      "\"\"\"\n",
      "class mysql_ops(object):\n",
      "    \n",
      "    # returns a connection to our MySQL db\n",
      "    @classmethod\n",
      "    def mysql_connect(self):\n",
      "        \n",
      "        cnx = pymysql.connect(host='cs109instance.ccikshmkulj7.us-east-1.rds.amazonaws.com', \n",
      "                               port=3306, \n",
      "                               user='michael', \n",
      "                               passwd='michael', \n",
      "                               db='cs109gs')\n",
      "        this_cursor = cnx.cursor(pymysql.cursors.DictCursor)\n",
      "        return cnx, this_cursor\n",
      "    \n",
      "    # close cursor and MySQL connection\n",
      "    @classmethod\n",
      "    def mysql_disconnect(self, cnx, cursor):\n",
      "        cursor.close()\n",
      "        cnx.close() # close db connection\n",
      "        \n",
      "    # get data from mysql db\n",
      "    def get_mysql_data(self, sql, data_id1=None, data_id2=None, data_id3=None, cursor_type='proc'):\n",
      "        \n",
      "        cnx, cursor = self.mysql_connect()\n",
      "        \n",
      "        if data_id3:\n",
      "            cursor.callproc(sql, (data_id1, data_id2, data_id3))\n",
      "        elif data_id2:\n",
      "            cursor.callproc(sql, (data_id1, data_id2))\n",
      "        elif data_id1:\n",
      "            cursor.callproc(sql, (data_id1,))\n",
      "        else:\n",
      "            if cursor_type == 'proc':\n",
      "                cursor.callproc(sql)\n",
      "            elif cursor_type == 'sql':\n",
      "                cursor.execute(sql)\n",
      "                cnx.commit()\n",
      "        if (cursor.rowcount > 0):\n",
      "            df = pd.DataFrame(cursor.fetchall())\n",
      "            self.mysql_disconnect(cnx, cursor)# close db connection\n",
      "            return df\n",
      "        else:\n",
      "            self.mysql_disconnect(cnx, cursor)# close db connection\n",
      "            print \"no rows returned\"\n",
      "        \n",
      "        return None\n",
      "    \n",
      "    # execute a sql statement\n",
      "    def execute_sql(self, sql, cursor_type='sql'):\n",
      "        \n",
      "        return self.get_mysql_data(sql, None, None, None, cursor_type)\n",
      "    \n",
      "    # return all reviews for one school gsid (denormalized, i.e. with the associated school data repeated per review)\n",
      "    def get_reviews_gsid(self, gsid):\n",
      "        sql = 'school_reviews_by_gsid'\n",
      "        return self.get_mysql_data(sql, gsid)\n",
      "     \n",
      "    # return ethnic composition data for one school gsid (OBSOLETE NCES TABLE VERSION)\n",
      "    def get_race_gsid(self, gsid):\n",
      "        sql = 'school_race_by_gsid'\n",
      "        return self.get_mysql_data(sql, gsid)\n",
      "    \n",
      "    # return GS census data for one school gsid \n",
      "    def get_census_gsid(self, gsid):\n",
      "        sql = 'school_census_by_gsid'\n",
      "        return self.get_mysql_data(sql, gsid)\n",
      "    \n",
      "    # return GS test results data for one school gsid \n",
      "    def get_results_gsid(self, gsid):\n",
      "        sql = 'school_results_by_gsid'\n",
      "        return self.get_mysql_data(sql, gsid)\n",
      "    \n",
      "    # return GS test results data for one school ncesid\n",
      "    def get_results_ncesid(self, ncesid):\n",
      "        sql = 'school_results_by_ncesid'\n",
      "        return self.get_mysql_data(sql, ncesid)\n",
      " \n",
      "    # return all reviews for one school ncesid (denormalized)\n",
      "    def get_reviews_ncesid(self, ncesid):\n",
      "        sql = 'school_reviews_by_ncesid'\n",
      "        return self.get_mysql_data(sql, ncesid)\n",
      "    \n",
      "    # return all reviews for one school ncesid \n",
      "    def get_reviews_districtncesid(self, districtncesid):\n",
      "        sql = 'school_reviews_by_districtncesid'\n",
      "        return self.get_mysql_data(sql, districtncesid)\n",
      "    \n",
      "    # return all reviews for one state \n",
      "    def get_reviews_state(self, state):\n",
      "        sql = 'school_reviews_by_state'\n",
      "        return self.get_mysql_data(sql, state)\n",
      "    \n",
      "    # return all census data for one state \n",
      "    def get_census_state(self, state):\n",
      "        sql = 'school_census_by_state'\n",
      "        return self.get_mysql_data(sql, state)\n",
      "    \n",
      "    # return all census data for one state, year and data_type (e.g. 'ethnicity') \n",
      "    def get_census_state_year_data_type(self, state, year, data_type):\n",
      "        sql = 'school_census_by_state_year_data_type'\n",
      "        return self.get_mysql_data(sql, state, year, data_type)\n",
      "    \n",
      "    # return all test results for one state (big states like CA could take several minutes to return)\n",
      "    def get_results_state(self, state):\n",
      "        sql = 'school_results_by_state'\n",
      "        return self.get_mysql_data(sql, state)\n",
      "    \n",
      "    # return all test results for one state and grade\n",
      "    def get_results_state_grade(self, state, grade):\n",
      "        sql = 'school_results_by_state_grade'\n",
      "        return self.get_mysql_data(sql, state, grade)\n",
      "    \n",
      "    # return all test results for one state and year\n",
      "    def get_results_state_year(self, state, year):\n",
      "        sql = 'school_results_by_state_year'\n",
      "        return self.get_mysql_data(sql, state, year)\n",
      "    \n",
      "    # return all test results for one state, year and grade\n",
      "    def get_results_state_year_grade(self, state, year, grade):\n",
      "        sql = 'school_results_by_state_year_grade'\n",
      "        return self.get_mysql_data(sql, state, year, grade)\n",
      "    \n",
      "     # return all schools, zscores, reviews for one state and year\n",
      "    def get_school_zscores_reviews_state_year(self, state, year):\n",
      "        sql = 'school_zscores_reviews_by_state_year'\n",
      "        return self.get_mysql_data(sql, state, year)\n",
      "    \n",
      "    # return all reviews for one county\n",
      "    def get_reviews_county(self, state, county):\n",
      "        sql = 'school_reviews_by_county'\n",
      "        return self.get_mysql_data(sql, state, county)\n",
      "    \n",
      "    # return all reviews containing text string\n",
      "    def get_reviews_string(self, text_string):\n",
      "        sql = 'school_reviews_by_string'\n",
      "        return self.get_mysql_data(sql, text_string)\n",
      "    \n",
      "    # note the commented psql syntax\n",
      "    # CAREFUL :  THIS WILL RUN A LONG TIME AND RETURN ALL US SCHOOLS AND REVIEWS!\n",
      "    def get_all_reviews(self):\n",
      "        sql = 'school_reviews' \n",
      "        return self.get_mysql_data(sql)\n",
      "        #df = psql.frame_query(sql, cn)\n",
      "        #cn = cnx.mysql_disconnect()\n",
      "        #return df\n",
      "    \n",
      "    # returns only schools with reviews (only school and review table data returned)\n",
      "    def get_school_with_reviews():\n",
      "        sql = 'school_only_with_reviews' \n",
      "        return self.get_mysql_data(sql)\n",
      "    \n",
      "    #return all cities and towns for a given state\n",
      "    def get_cities_towns_by_state(self, state):\n",
      "        sql = 'get_cities_towns_by_state' \n",
      "        return self.get_mysql_data(sql, state)\n",
      "    \n",
      "    #return all topic values for a specified state and level1/level2 topic\n",
      "    def get_school_reviews_topics_by_state_level1_level2(self, state, level1, level2):\n",
      "        sql = 'school_reviews_topics_by_state_level1_level2' \n",
      "        return self.get_mysql_data(sql, state, level1, level2)\n",
      "\n",
      "\n",
      "# display retrieval time\n",
      "def timer(dt1):\n",
      "    dt2 = datetime.datetime.now()\n",
      "    print dt2 - dt1\n",
      "    return dt2\n"
     ],
     "language": "python",
     "metadata": {},
     "outputs": [],
     "prompt_number": 3
    },
    {
     "cell_type": "markdown",
     "metadata": {},
     "source": [
      "#### MySQL Great Schools data retrieval samples\n",
      "\n",
      "The MySQL Workbench server monitor reports activity:\n",
      "\n",
      "<img src=\"files/img_ml_mysql_workbench_monitor.png\" />\n",
      "\n",
      "(Although some of the output below shows mean star-ratings and other summary information, the datasets retrieved from the db server are full, denormalized sets of reviews (or test results, or census information), per the relevant selection parameters.)"
     ]
    },
    {
     "cell_type": "code",
     "collapsed": false,
     "input": [
      "# instance mysql_ops\n",
      "cnx = mysql_ops()\n",
      "dt1 = datetime.datetime.now()\n",
      "\n",
      "# example: populate panda df with school records using gsid\n",
      "# reviews for a single LA county school and calculate mean star review\n",
      "gsid = 200390\n",
      "df = cnx.get_reviews_gsid(gsid)\n",
      "df_stars = df[df['stars'] < 99] \n",
      "print \" Mean stars for school with gsid {}: {}\".format(gsid, np.mean(df_stars.stars))\n",
      "dt1 = timer(dt1)\n",
      "print\n",
      "\n",
      "# example: get df with NCES core dataset school racial composition columns using gsid\n",
      "# REPLACED BY get_census_gsid BELOW AFTER FULL GS DB LOAD\n",
      "# reviews for a single LA county school \n",
      "#gsid = 200390\n",
      "#df = cnx.get_race_gsid(gsid)\n",
      "#print \"\\t 2011 NCES American Indian/Alaska Native student population for gsid {}: {}\".format(gsid, np.sum(df['American Indian/Alaska Native Students [Public School] 2010-11']))\n",
      "#print \"\\t 2011 NCES Hispanic student population for gsid {}: {}\".format(gsid, np.sum(df['Hispanic Students [Public School] 2010-11']))\n",
      "#print \"\\t 2011 NCES Black student population for gsid {}: {}\".format(gsid, np.sum(df['Black Students [Public School] 2010-11']))\n",
      "#print \"\\t 2011 NCES White student population for gsid {}: {}\".format(gsid, np.sum(df['White Students [Public School] 2010-11']))\n",
      "#print \"\\t 2011 NCES Two or More Races student population for gsid {}: {}\".format(gsid, np.sum(df['Two or More Races Students [Public School] 2010-11']))\n",
      "#print \"\\t Current GS total enrollment for gsid {}: {}\".format(gsid, np.sum(df['enrollment']))\n",
      "\n",
      "# example: get df with school records using ncesid\n",
      "# reviews for a single LA county school and calculate mean star review\n",
      "ncesid = '064128006839'\n",
      "df = cnx.get_reviews_ncesid(ncesid)\n",
      "df_stars = df[df['stars'] < 99] \n",
      "print \" Mean stars for school with ncesid {}: {}\".format(ncesid, np.mean(df_stars.stars))\n",
      "dt1 = timer(dt1)\n",
      "print\n",
      "\n",
      "# example: populate panda df with school records using ncesid\n",
      "# reviews for a single LA county school and calculate mean star review\n",
      "districtncesid = '0641280'\n",
      "df = cnx.get_reviews_districtncesid(districtncesid)\n",
      "df_stars = df[df['stars'] < 99] \n",
      "print \" Mean stars for schools in districtncesid {}: {}\".format(districtncesid, np.mean(df_stars.stars))\n",
      "dt1 = timer(dt1)\n",
      "print\n",
      "\n",
      "# example: get df with school records by state\n",
      "# reviews for all schools in the state, calculate mean star review\n",
      "state = 'CA'\n",
      "county = 'Los Angeles'\n",
      "df = cnx.get_reviews_county(state, county)\n",
      "df_stars = df[df['stars'] < 99] \n",
      "print \" Mean stars for school with state {} and county {}: {}\".format(state, county, np.mean(df_stars.stars))\n",
      "dt1 = timer(dt1)\n",
      "print\n",
      "\n",
      "# example: get df with school records by state\n",
      "# reviews for all schools in the state, calculate mean star review\n",
      "state = 'CA'\n",
      "df = cnx.get_reviews_state(state)\n",
      "df_stars = df[df['stars'] < 99] \n",
      "print \" Mean stars for school with state {}: {}\".format(state, np.mean(df_stars.stars))\n",
      "dt1 = timer(dt1)\n",
      "print\n",
      "\n",
      "# example: get df with GS census dataset school (e.g. ethnic composition records) using gsid\n",
      "# reviews for a single LA county school \n",
      "print\n",
      "print \"CENSUS EXAMPLES\"\n",
      "print \"---------------\"\n",
      "print\n",
      "\n",
      "print \"CENSUS BY GSID: \"\n",
      "gsid = 200390\n",
      "df = cnx.get_census_gsid(gsid)\n",
      "print \"Census data for school with gsid = {}\".format(gsid)\n",
      "for id, values in df.iterrows():\n",
      "    print values['name'],values['year'],values['data_type'],values['breakdown'],values['value']\n",
      "dt1 = timer(dt1)\n",
      "print\n",
      "\n",
      "\n",
      "print \"CENSUS BY STATE, YEAR, DATA_TYPE: \"\n",
      "# example: get df with school records by state, year and data_type (e.g. 'ethnicity')\n",
      "# data types include:\n",
      "# \n",
      "# 'enrollment'\n",
      "# 'ethnicity'\n",
      "# 'student-teacher-ratio'\n",
      "# 'percent-free-and-reduced-price-lunch'\n",
      "#\n",
      "state = 'CA'\n",
      "year = '2011'\n",
      "data_type = 'ethnicity'\n",
      "df = cnx.get_census_state_year_data_type(state, year, data_type)\n",
      "state_count = 0\n",
      "print \"Census data for school with state = {}, year = {}, data_type = {}.  (first 30 recs) \".format(state, year, data_type)\n",
      "for id, values in df.iterrows():\n",
      "    state_count += 1\n",
      "    print values['name'],values['year'],values['data_type'],values['breakdown'],values['value']\n",
      "    if (state_count > 30):\n",
      "        break\n",
      "dt1 = timer(dt1)\n",
      "print\n",
      "\n",
      "# example: get df with GS census dataset school (e.g. ethnic composition records) using gsid\n",
      "print\n",
      "print \"TEST RESULTS EXAMPLES\"\n",
      "print \"---------------------\"\n",
      "print\n",
      "\n",
      "print \"TEST RESULTS BY GSID: \"\n",
      "gsid = 200390\n",
      "df = cnx.get_results_gsid(gsid)\n",
      "print \"Test results for school with gsid = {}\".format(gsid)\n",
      "for id, values in df.iterrows():\n",
      "    print values['name'], values['subject_name'],values['year'],values['grade_name'],values['score'],values['proficiency_band_name'],values['number_tested']\n",
      "dt1 = timer(dt1)\n",
      "print\n",
      "\n",
      "print \"TEST RESULTS BY STATE AND YEAR: \"\n",
      "# example: get df with school records by state and year\n",
      "state = 'AK'\n",
      "year = '2008'\n",
      "df = cnx.get_results_state_year(state, year)\n",
      "state_count = 0\n",
      "print \"Test results for school with state = {}.  (first 30 recs) \".format(state)\n",
      "for id, values in df.iterrows():\n",
      "    state_count += 1\n",
      "    print values['name'], values['subject_name'],values['year'],values['grade_name'],values['score'],values['proficiency_band_name'],values['number_tested']\n",
      "    if (state_count > 30):\n",
      "        break\n",
      "dt1 = timer(dt1)\n",
      "print\n",
      "\n",
      "print \"TEST RESULTS BY STATE AND GRADE: \"\n",
      "# example: get df with school records by state and year\n",
      "state = 'AK'\n",
      "grade = '8'\n",
      "df = cnx.get_results_state_grade(state, grade)\n",
      "state_count = 0\n",
      "print \"Test results for school with state = {} and grade = {}.  (first 30 recs) \".format(state, grade)\n",
      "for id, values in df.iterrows():\n",
      "    state_count += 1\n",
      "    print values['name'], values['subject_name'],values['year'],values['grade_name'],values['score'],values['proficiency_band_name'],values['number_tested']\n",
      "    if (state_count > 30):\n",
      "        break\n",
      "dt1 = timer(dt1)\n",
      "print\n",
      "\n",
      "print \"TEST RESULTS BY STATE, YEAR AND GRADE: \"\n",
      "# example: get df with school records by state and year\n",
      "state = 'AK'\n",
      "year = '2008'\n",
      "grade = '9'\n",
      "df = cnx.get_results_state_year_grade(state, year, grade)\n",
      "state_count = 0\n",
      "print \"Test results for school with state = {}, year = {} and grade = {}.  (first 30 recs) \".format(state, year, grade)\n",
      "for id, values in df.iterrows():\n",
      "    state_count += 1\n",
      "    print values['name'], values['subject_name'],values['year'],values['grade_name'],values['score'],values['proficiency_band_name'],values['number_tested']\n",
      "    if (state_count > 30):\n",
      "        break\n",
      "dt1 = timer(dt1)\n",
      "print\n",
      "\n",
      "print \"SCHOOL, ZSCORE, REVIEWS BY STATE, YEAR: \"\n",
      "# example: get df with school records, zscore and reviews by state and year\n",
      "state = 'CA'\n",
      "year = '2006'\n",
      "df = cnx.get_school_zscores_reviews_state_year(state, year)\n",
      "state_count = 0\n",
      "print \"Zscores and reviews for school with state = {}, year = {}.  (first 30 recs) \".format(state, year)\n",
      "for id, values in df.iterrows():\n",
      "    state_count += 1\n",
      "    print values['name'], values['year'],values['score'],values['postdate'],values['reviews']\n",
      "    if (state_count > 30):\n",
      "        break\n",
      "dt1 = timer(dt1)\n",
      "print\n",
      "\n",
      "\n",
      "# example: get df with reviews containing a specific text string\n",
      "# reviews for all schools in the db, calculate mean star review\n",
      "# InnoDb MySQL FULLTEXT index search is a mixed bag:  http://www.mysqlperformanceblog.com/2013/02/26/myisam-vs-innodb-full-text-search-in-mysql-5-6-part-1/\n",
      "# (5.6.12 - which is what we're using - addressed the performance issue but most of the above critique\n",
      "# remains valid.  Fortunately it doesn't really affect us.)\n",
      "text_strings = ('math', 'bully','best','violence','crime', 'mediocre', 'worst', 'confident', 'drugs', 'character',\n",
      "                'intelligent','flunk','knowledge','succeed', 'football', 'sports', 'lab', 'computer', 'book')\n",
      "for n in text_strings:\n",
      "    df = cnx.get_reviews_string(n)\n",
      "    if df:\n",
      "        df_stars = df[df['stars'] < 99] \n",
      "        print \" # / mean stars for reviews containing\\t '{}':\\t\\t\\t {}\\t {}\".format(n, len(df), np.mean(df_stars.stars))\n",
      "        dt1 = timer(dt1)\n",
      " \n",
      "        \n",
      "print \"SCHOOL, TOPIC LEVEL1 / LEVEL2, TOPIC VALUE, and REVIEW TEXT BY STATE FOR SPECIFIED LEVEL1/LEVEL2, YEAR: \"\n",
      "# example: get df with school records, zscore and reviews by state and year\n",
      "state = 'CA'\n",
      "level1 = 'Administration'\n",
      "level2 = 'Addressing concerns'\n",
      "df = cnx.get_school_reviews_topics_by_state_level1_level2(state, level1, level2)\n",
      "state_count = 0\n",
      "print \"topics and reviews for schools with state = {}, year = {}.  (first 30 recs) \".format(state, year)\n",
      "for id, values in df.iterrows():\n",
      "    state_count += 1\n",
      "    print values['name'], values['topic_level1'],values['topic_level2'],values['value'],values['reviews']\n",
      "    if (state_count > 30):\n",
      "        break\n",
      "dt1 = timer(dt1)\n",
      "print\n"
     ],
     "language": "python",
     "metadata": {},
     "outputs": [
      {
       "output_type": "stream",
       "stream": "stdout",
       "text": [
        " Mean stars for school with gsid 200390: 3.33333333333\n",
        "0:00:01.266000\n",
        "\n",
        " Mean stars for school with ncesid 064128006839: 4.66666666667"
       ]
      },
      {
       "output_type": "stream",
       "stream": "stdout",
       "text": [
        "\n",
        "0:00:00.109000\n",
        "\n",
        " Mean stars for schools in districtncesid 0641280: 4.29761904762"
       ]
      },
      {
       "output_type": "stream",
       "stream": "stdout",
       "text": [
        "\n",
        "0:00:00.187000\n",
        "\n",
        " Mean stars for school with state CA and county Los Angeles: 4.03084069449"
       ]
      },
      {
       "output_type": "stream",
       "stream": "stdout",
       "text": [
        "\n",
        "0:00:35.811000\n",
        "\n",
        " Mean stars for school with state CA: 4.04229448934"
       ]
      },
      {
       "output_type": "stream",
       "stream": "stdout",
       "text": [
        "\n",
        "0:01:33.074000\n",
        "\n",
        "\n",
        "CENSUS EXAMPLES\n",
        "---------------\n",
        "\n",
        "CENSUS BY GSID: \n",
        "Census data for school with gsid = 200390"
       ]
      },
      {
       "output_type": "stream",
       "stream": "stdout",
       "text": [
        "\n",
        "North Pole Middle School 2009 student-teacher-ratio None 17.2\n",
        "North Pole Middle School 2011 enrollment None 582\n",
        "North Pole Middle School 2011 percent-free-and-reduced-price-lunch None 25.4296\n",
        "North Pole Middle School 2011 ethnicity Black, non-Hispanic 2.06186\n",
        "North Pole Middle School 2011 ethnicity White, non-Hispanic 75.7732\n",
        "North Pole Middle School 2011 ethnicity Native Hawaiian or Other Pacific Islander 0.515464\n",
        "North Pole Middle School 2011 ethnicity Asian 0.515464\n",
        "North Pole Middle School 2011 ethnicity Native American or Native Alaskan 6.70103\n",
        "North Pole Middle School 2011 ethnicity Hispanic 5.84192\n",
        "North Pole Middle School 2011 ethnicity Multiracial 8.59107\n",
        "North Pole Middle School 2009 student-teacher-ratio None 17.2\n",
        "North Pole Middle School 2011 enrollment None 582\n",
        "North Pole Middle School 2011 percent-free-and-reduced-price-lunch None 25.4296\n",
        "North Pole Middle School 2011 ethnicity Black, non-Hispanic 2.06186\n",
        "North Pole Middle School 2011 ethnicity White, non-Hispanic 75.7732\n",
        "North Pole Middle School 2011 ethnicity Native Hawaiian or Other Pacific Islander 0.515464\n",
        "North Pole Middle School 2011 ethnicity Asian 0.515464\n",
        "North Pole Middle School 2011 ethnicity Native American or Native Alaskan 6.70103\n",
        "North Pole Middle School 2011 ethnicity Hispanic 5.84192\n",
        "North Pole Middle School 2011 ethnicity Multiracial 8.59107\n",
        "North Pole Middle School 2009 student-teacher-ratio None 17.2\n",
        "North Pole Middle School 2011 enrollment None 582\n",
        "North Pole Middle School 2011 percent-free-and-reduced-price-lunch None 25.4296\n",
        "North Pole Middle School 2011 ethnicity Black, non-Hispanic 2.06186\n",
        "North Pole Middle School 2011 ethnicity White, non-Hispanic 75.7732\n",
        "North Pole Middle School 2011 ethnicity Native Hawaiian or Other Pacific Islander 0.515464\n",
        "North Pole Middle School 2011 ethnicity Asian 0.515464\n",
        "North Pole Middle School 2011 ethnicity Native American or Native Alaskan 6.70103\n",
        "North Pole Middle School 2011 ethnicity Hispanic 5.84192\n",
        "North Pole Middle School 2011 ethnicity Multiracial 8.59107\n",
        "North Pole Middle School 2009 student-teacher-ratio None 17.2\n",
        "North Pole Middle School 2011 enrollment None 582\n",
        "North Pole Middle School 2011 percent-free-and-reduced-price-lunch None 25.4296\n",
        "North Pole Middle School 2011 ethnicity Black, non-Hispanic 2.06186\n",
        "North Pole Middle School 2011 ethnicity White, non-Hispanic 75.7732\n",
        "North Pole Middle School 2011 ethnicity Native Hawaiian or Other Pacific Islander 0.515464\n",
        "North Pole Middle School 2011 ethnicity Asian 0.515464\n",
        "North Pole Middle School 2011 ethnicity Native American or Native Alaskan 6.70103\n",
        "North Pole Middle School 2011 ethnicity Hispanic 5.84192\n",
        "North Pole Middle School 2011 ethnicity Multiracial 8.59107\n",
        "North Pole Middle School 2009 student-teacher-ratio None 17.2\n",
        "North Pole Middle School 2011 enrollment None 582\n",
        "North Pole Middle School 2011 percent-free-and-reduced-price-lunch None 25.4296\n",
        "North Pole Middle School 2011 ethnicity Black, non-Hispanic 2.06186\n",
        "North Pole Middle School 2011 ethnicity White, non-Hispanic 75.7732\n",
        "North Pole Middle School 2011 ethnicity Native Hawaiian or Other Pacific Islander 0.515464\n",
        "North Pole Middle School 2011 ethnicity Asian 0.515464\n",
        "North Pole Middle School 2011 ethnicity Native American or Native Alaskan 6.70103\n",
        "North Pole Middle School 2011 ethnicity Hispanic 5.84192\n",
        "North Pole Middle School 2011 ethnicity Multiracial 8.59107\n",
        "0:00:00.719000\n",
        "\n",
        "CENSUS BY STATE, YEAR, DATA_TYPE: \n",
        "Census data for school with state = CA, year = 2011, data_type = ethnicity.  (first 30 recs) "
       ]
      },
      {
       "output_type": "stream",
       "stream": "stdout",
       "text": [
        "\n",
        "Alameda High School 2011 ethnicity Native Hawaiian or Other Pacific Islander 0.910064\n",
        "Alameda High School 2011 ethnicity Asian 51.1242\n",
        "Alameda High School 2011 ethnicity Native American or Native Alaskan 0.481799\n",
        "Alameda High School 2011 ethnicity Hispanic 9.04711\n",
        "Alameda High School 2011 ethnicity Multiracial 0.695931\n",
        "Alameda High School 2011 ethnicity Black, non-Hispanic 5.88865\n",
        "Alameda High School 2011 ethnicity White, non-Hispanic 31.8522\n",
        "Bay Farm Elementary School 2011 ethnicity Native Hawaiian or Other Pacific Islander 0.619835\n",
        "Bay Farm Elementary School 2011 ethnicity Asian 47.314\n",
        "Bay Farm Elementary School 2011 ethnicity Native American or Native Alaskan 0\n",
        "Bay Farm Elementary School 2011 ethnicity Hispanic 8.26446\n",
        "Bay Farm Elementary School 2011 ethnicity Multiracial 11.5702\n",
        "Bay Farm Elementary School 2011 ethnicity Black, non-Hispanic 2.89256\n",
        "Bay Farm Elementary School 2011 ethnicity White, non-Hispanic 29.3388\n",
        "Amelia Earhart Elementary School 2011 ethnicity Native Hawaiian or Other Pacific Islander 0.841751\n",
        "Amelia Earhart Elementary School 2011 ethnicity Asian 46.9697\n",
        "Amelia Earhart Elementary School 2011 ethnicity Native American or Native Alaskan 0.3367\n",
        "Amelia Earhart Elementary School 2011 ethnicity Hispanic 10.2694\n",
        "Amelia Earhart Elementary School 2011 ethnicity Multiracial 2.6936\n",
        "Amelia Earhart Elementary School 2011 ethnicity Black, non-Hispanic 5.38721\n",
        "Amelia Earhart Elementary School 2011 ethnicity White, non-Hispanic 33.5017\n",
        "Edison Elementary School 2011 ethnicity Native Hawaiian or Other Pacific Islander 0.480769\n",
        "Edison Elementary School 2011 ethnicity Asian 18.75\n",
        "Edison Elementary School 2011 ethnicity Native American or Native Alaskan 0.721154\n",
        "Edison Elementary School 2011 ethnicity Hispanic 5.04808\n",
        "Edison Elementary School 2011 ethnicity Multiracial 1.92308\n",
        "Edison Elementary School 2011 ethnicity Black, non-Hispanic 2.64423\n",
        "Edison Elementary School 2011 ethnicity White, non-Hispanic 70.4327\n",
        "Encinal High School 2011 ethnicity Native Hawaiian or Other Pacific Islander 2.22652\n",
        "Encinal High School 2011 ethnicity Asian 41.5295\n",
        "Encinal High School 2011 ethnicity Native American or Native Alaskan 0.484027\n",
        "0:00:08.171000\n",
        "\n",
        "\n",
        "TEST RESULTS EXAMPLES\n",
        "---------------------\n",
        "\n",
        "TEST RESULTS BY GSID: \n",
        "Test results for school with gsid = 200390"
       ]
      },
      {
       "output_type": "stream",
       "stream": "stdout",
       "text": [
        "\n",
        "North Pole Middle School"
       ]
      },
      {
       "output_type": "stream",
       "stream": "stdout",
       "text": [
        " Science 2008 8 46.9 None 208\n",
        "North Pole Middle School Writing 2008 6 62.5 None 118\n",
        "North Pole Middle School Writing 2008 7 58.2 None 201\n",
        "North Pole Middle School Writing 2008 8 60.8 None 208\n",
        "North Pole Middle School Reading 2008 6 75.9 None 118\n",
        "North Pole Middle School Reading 2008 7 74.6 None 201\n",
        "North Pole Middle School Reading 2008 8 85.3 None 208\n",
        "North Pole Middle School Math 2008 6 67.0 None 118\n",
        "North Pole Middle School Math 2008 7 63.6 None 201\n",
        "North Pole Middle School Math 2008 8 63.1 None 208\n",
        "North Pole Middle School Reading 2009 6 17.6 not proficient 188\n",
        "North Pole Middle School Reading 2009 6 82.4 None 188\n",
        "North Pole Middle School Writing 2009 6 21.8 not proficient 188\n",
        "North Pole Middle School Writing 2009 6 78.2 None 188\n",
        "North Pole Middle School Math 2009 6 26.5 not proficient 189\n",
        "North Pole Middle School Math 2009 6 73.5 None 189\n",
        "North Pole Middle School Reading 2009 7 17.6 not proficient 205\n",
        "North Pole Middle School Reading 2009 7 82.4 None 205\n",
        "North Pole Middle School Writing 2009 7 33.7 not proficient 205\n",
        "North Pole Middle School Writing 2009 7 66.3 None 205\n",
        "North Pole Middle School Math 2009 7 35.3 not proficient 204\n",
        "North Pole Middle School Math 2009 7 64.7 None 204\n",
        "North Pole Middle School Reading 2009 8 22.4 not proficient 170\n",
        "North Pole Middle School Reading 2009 8 77.6 None 170\n",
        "North Pole Middle School Writing 2009 8 33.1 not proficient 172\n",
        "North Pole Middle School Writing 2009 8 66.9 None 172\n",
        "North Pole Middle School Math 2009 8 37.6 not proficient 173\n",
        "North Pole Middle School Math 2009 8 62.4 None 173\n",
        "North Pole Middle School Reading 2010 6 19.5 not proficient 205\n",
        "North Pole Middle School Reading 2010 6 80.5 None 205\n",
        "North Pole Middle School Writing 2010 6 30.0 not proficient 207\n",
        "North Pole Middle School Writing 2010 6 70.0 None 207\n",
        "North Pole Middle School Math 2010 6 29.5 not proficient 207\n",
        "North Pole Middle School Math 2010 6 70.5 None 207\n",
        "North Pole Middle School Reading 2010 7 13.0 not proficient 200\n",
        "North Pole Middle School Reading 2010 7 87.0 None 200\n",
        "North Pole Middle School Writing 2010 7 20.6 not proficient 199\n",
        "North Pole Middle School Writing 2010 7 79.4 None 199\n",
        "North Pole Middle School Math 2010 7 23.1 not proficient 199\n",
        "North Pole Middle School Math 2010 7 76.9 None 199\n",
        "North Pole Middle School Reading 2010 8 13.6 not proficient 206\n",
        "North Pole Middle School Reading 2010 8 86.4 None 206\n",
        "North Pole Middle School Writing 2010 8 24.5 not proficient 204\n",
        "North Pole Middle School Writing 2010 8 75.5 None 204\n",
        "North Pole Middle School Math 2010 8 20.3 not proficient 202\n",
        "North Pole Middle School Math 2010 8 79.7 None 202\n",
        "North Pole Middle School Reading 2011 6 19.7 not proficient 188\n",
        "North Pole Middle School Reading 2011 6 80.3 None 188\n",
        "North Pole Middle School Writing 2011 6 26.2 not proficient 187\n",
        "North Pole Middle School Writing 2011 6 73.8 None 187\n",
        "North Pole Middle School Math 2011 6 34.9 not proficient 186\n",
        "North Pole Middle School Math 2011 6 65.1 None 186\n",
        "North Pole Middle School Reading 2011 7 22.8 not proficient 189\n",
        "North Pole Middle School Reading 2011 7 77.2 None 189\n",
        "North Pole Middle School Writing 2011 7 27.7 not proficient 191\n",
        "North Pole Middle School Writing 2011 7 72.3 None 191\n",
        "North Pole Middle School Math 2011 7 29.5 not proficient 190\n",
        "North Pole Middle School Math 2011 7 70.5 None 190\n",
        "North Pole Middle School Reading 2011 8 9.7 not proficient 207\n",
        "North Pole Middle School Reading 2011 8 90.3 None 207\n",
        "North Pole Middle School Writing 2011 8 13.0 not proficient 207\n",
        "North Pole Middle School Writing 2011 8 87.0 None 207\n",
        "North Pole Middle School Math 2011 8 29.0 not proficient 207\n",
        "North Pole Middle School Math 2011 8 71.0 None 207\n",
        "North Pole Middle School Science 2009 8 53.8 not proficient 160\n",
        "North Pole Middle School Science 2009 8 46.3 None 160\n",
        "North Pole Middle School Science 2010 8 37.5 not proficient 200\n",
        "North Pole Middle School Science 2010 8 62.5 None 200\n",
        "North Pole Middle School Science 2011 8 33.5 not proficient 203\n",
        "North Pole Middle School Science 2011 8 66.5 None 203\n",
        "0:00:01.281000\n",
        "\n",
        "TEST RESULTS BY STATE AND YEAR: \n",
        "Test results for school with state = AK.  (first 30 recs) "
       ]
      },
      {
       "output_type": "stream",
       "stream": "stdout",
       "text": [
        "\n",
        "Akiachak School Science 2008 4 -20.0 None 15\n",
        "Akiachak School Science 2008 8 -20.0 None 16\n",
        "Akiachak School Writing 2008 4 -20.0 None 15\n",
        "Akiachak School Writing 2008 5 25.0 None 16\n",
        "Akiachak School Writing 2008 6 -20.0 None 16\n",
        "Akiachak School Writing 2008 7 -20.0 None 14\n",
        "Akiachak School Writing 2008 8 20.0 None 16\n",
        "Akiachak School Writing 2008 9 27.3 None 25\n",
        "Akiachak School Reading 2008 4 -20.0 None 15\n",
        "Akiachak School Reading 2008 5 37.5 None 16\n",
        "Akiachak School Reading 2008 6 -20.0 None 16\n",
        "Akiachak School Reading 2008 7 21.4 None 14\n",
        "Akiachak School Reading 2008 8 26.7 None 16\n",
        "Akiachak School Reading 2008 9 31.8 None 25\n",
        "Akiachak School Math 2008 4 -20.0 None 15\n",
        "Akiachak School Math 2008 5 31.3 None 16\n",
        "Akiachak School Math 2008 6 25.0 None 16\n",
        "Akiachak School Math 2008 7 -20.0 None 14\n",
        "Akiachak School Math 2008 8 40.0 None 16\n",
        "Akiachak School Math 2008 9 13.0 None 25\n",
        "Akiak School Science 2008 4 -40.0 None 7\n",
        "Akiak School Writing 2008 3 50.0 None 6\n",
        "Akiak School Writing 2008 4 -40.0 None 7\n",
        "Akiak School Writing 2008 5 -60.0 None 6\n",
        "Akiak School Writing 2008 9 -25.0 None 8\n",
        "Akiak School Reading 2008 3 50.0 None 6\n",
        "Akiak School Reading 2008 4 -60.0 None 7\n",
        "Akiak School Reading 2008 5 -60.0 None 6\n",
        "Akiak School Reading 2008 9 37.5 None 8\n",
        "Akiak School Math 2008 3 -60.0 None 6\n",
        "Akiak School Math 2008 4 -40.0 None 7\n",
        "0:00:01.507000\n",
        "\n",
        "TEST RESULTS BY STATE AND GRADE: \n",
        "Test results for school with state = AK and grade = 8.  (first 30 recs) "
       ]
      },
      {
       "output_type": "stream",
       "stream": "stdout",
       "text": [
        "\n",
        "Akiachak School Science 2008 8 -20.0 None 16\n",
        "Akiachak School Writing 2008 8 20.0 None 16\n",
        "Akiachak School Reading 2008 8 26.7 None 16\n",
        "Akiachak School Math 2008 8 40.0 None 16\n",
        "Akiachak School Reading 2009 8 -80.0 not proficient 0\n",
        "Akiachak School Reading 2009 8 -20.0 None 0\n",
        "Akiachak School Writing 2009 8 -75.0 not proficient 0\n",
        "Akiachak School Writing 2009 8 -25.0 None 0\n",
        "Akiachak School Math 2009 8 -80.0 not proficient 0\n",
        "Akiachak School Math 2009 8 -20.0 None 0\n",
        "Akiachak School Reading 2010 8 76.5 not proficient 17\n",
        "Akiachak School Reading 2010 8 23.5 None 17\n",
        "Akiachak School Writing 2010 8 -80.0 not proficient 0\n",
        "Akiachak School Writing 2010 8 -20.0 None 0\n",
        "Akiachak School Math 2010 8 81.3 not proficient 16\n",
        "Akiachak School Math 2010 8 18.8 None 16\n",
        "Akiachak School Reading 2011 8 73.3 not proficient 15\n",
        "Akiachak School Reading 2011 8 26.7 None 15\n",
        "Akiachak School Writing 2011 8 80.0 not proficient 15\n",
        "Akiachak School Writing 2011 8 20.0 None 15\n",
        "Akiachak School Math 2011 8 -80.0 not proficient 0\n",
        "Akiachak School Math 2011 8 -20.0 None 0\n",
        "Akiachak School Science 2009 8 -75.0 not proficient 0\n",
        "Akiachak School Science 2009 8 -25.0 None 0\n",
        "Akiachak School Science 2010 8 -80.0 not proficient 0\n",
        "Akiachak School Science 2010 8 -20.0 None 0\n",
        "Akiachak School Science 2011 8 -80.0 not proficient 0\n",
        "Akiachak School Science 2011 8 -20.0 None 0\n",
        "Akiak School Reading 2010 8 -25.0 not proficient 0\n",
        "Akiak School Reading 2010 8 -75.0 None 0\n",
        "Akiak School Writing 2010 8 -75.0 not proficient 0\n",
        "0:00:00.797000\n",
        "\n",
        "TEST RESULTS BY STATE, YEAR AND GRADE: \n",
        "Test results for school with state = AK, year = 2008 and grade = 9.  (first 30 recs) "
       ]
      },
      {
       "output_type": "stream",
       "stream": "stdout",
       "text": [
        "\n",
        "Akiachak School Math 2008 9 13.0 None 25\n",
        "Akiachak School Reading 2008 9 31.8 None 25\n",
        "Akiachak School Writing 2008 9 27.3 None 25\n",
        "Akiak School Math 2008 9 -25.0 None 8\n",
        "Akiak School Reading 2008 9 37.5 None 8\n",
        "Akiak School Writing 2008 9 -25.0 None 8\n",
        "Alakanuk School Math 2008 9 25.0 None 12\n",
        "Alakanuk School Reading 2008 9 50.0 None 12\n",
        "Alakanuk School Writing 2008 9 33.3 None 12\n",
        "Allakaket School Reading 2008 9 -40.0 None 5\n",
        "Allakaket School Writing 2008 9 -40.0 None 5\n",
        "Nunamiut School Math 2008 9 -40.0 None 7\n",
        "Nunamiut School Reading 2008 9 -60.0 None 7\n",
        "Nunamiut School Writing 2008 9 -60.0 None 7\n",
        "Bartlett High School Math 2008 9 58.0 None 452\n",
        "Bartlett High School Reading 2008 9 83.0 None 452\n",
        "Bartlett High School Writing 2008 9 69.4 None 452\n",
        "Dimond High School Math 2008 9 74.1 None 460\n",
        "Dimond High School Reading 2008 9 87.2 None 460\n",
        "Dimond High School Writing 2008 9 78.7 None 460\n",
        "East High School Math 2008 9 62.0 None 584\n",
        "East High School Reading 2008 9 80.2 None 584\n",
        "East High School Writing 2008 9 68.6 None 584\n",
        "Polaris K-12 School Math 2008 9 -95.0 None 41\n",
        "Polaris K-12 School Reading 2008 9 -95.0 None 41\n",
        "Polaris K-12 School Writing 2008 9 -95.0 None 41\n",
        "Benson Secondary/S.E.A.R.C.H. Math 2008 9 -20.0 None 10\n",
        "Benson Secondary/S.E.A.R.C.H. Reading 2008 9 70.0 None 10\n",
        "Benson Secondary/S.E.A.R.C.H. Writing 2008 9 70.0 None 10\n",
        "Steller Secondary School Math 2008 9 84.1 None 46\n",
        "Steller Secondary School Reading 2008 9 -95.0 None 46\n",
        "0:00:01\n",
        "\n",
        "SCHOOL, ZSCORE, REVIEWS BY STATE, YEAR: \n",
        "Zscores and reviews for school with state = CA, year = 2006.  (first 30 recs) "
       ]
      },
      {
       "output_type": "stream",
       "stream": "stdout",
       "text": [
        "\n",
        "Bay Farm Elementary School"
       ]
      },
      {
       "output_type": "stream",
       "stream": "stdout",
       "text": [
        " 2006 1.695457212543121 2007-02-23T00:00:00.000-08:00 My sons came in behind when they started at Bay Farm School due to going from a traditional school schedule to year round schedule. Within 2 months the staff at Bay Farm had them both up to grade level in both reading and math. The 6th grade class was the best experience for my oldest. It prepared him for middle school very well. In fact many of the subjects he learned in history have actually provided the foundation for more indepth learning in honors classes now that he is a freshman.   The parents and PTA are all very involved and financially support the school in a big way. This was one of the best communities we have lived in and as a military family we have lived in several places since our children have been school age.\n",
        "Amelia Earhart Elementary School 2006 1.5396422562861418 2007-02-23T00:00:00.000-08:00 Although my child is only a kindergartner, I have been pleased with the quality of education, the diversity of the student body, the fun and interesting activities and crafts and the outstanding level of parent involvement.\n",
        "Franklin Elementary School 2006 1.1760740250198563 2006-10-11T00:00:00.000-07:00 If you have a child who fits down the middle, you will probably be ok.  Teachers range from uninspired to pretty darn good, its the luck of the draw; they've gotten rid of the obviously bad ones.  I think social stuff is their biggest weakness, bullying goes unchecked, playground complaints by kids are not taken seriously.  They just don't seem committed to each and every child being successful; if your's is outside the norm (high or low), they are not as committed to the child experiencing real success-only with having them fit into the system.  But there is a lot to be said for a small neighborhood school.\n",
        "Henry Haight Elementary School 2006 0.44893756248728534 2007-05-25T00:00:00.000-07:00 The school's excellent test scores are a strong indicator of the high level of competence of the staff at Haight. The building was painted and upgraded in 2007. Overall Haight is a wonderful and diverse school with a dedicated and loving staff.\n",
        "Donald D. Lum Elementary School 2006 0.5008758812396118 2007-05-30T00:00:00.000-07:00 My daughter went to this school through third grade and it was such a great experience for her.  From the teachers, to the students, to the parents, everyone was great and involved.  She learned a lot and has taken that with her into the upper grades.\n",
        "Frank Otis Elementary School 2006 0.6566908374965913 2006-06-08T00:00:00.000-07:00 We have been at Otis school for 3 years and we love it.  We have a great PTA and lots of parent envolement or support.  We have a school garden, music and art programs as well as other fun activites through the year. The school is very diverse and embraces the culture diversity at the school.  The principle has been well liked and invested in the school.  However, for the next school year (2006) a new principle is joining Otis.  He comes highly recommended and is from an existing Alameda school.\n",
        "Frank Otis Elementary School 2006 0.6566908374965913 2006-06-18T00:00:00.000-07:00 The instructional staff is top rate. My childs has flourished beyond what can be expected from a public school system. \n",
        "William G. Paden Elementary School 2006 -0.07044562503597969 2006-09-20T00:00:00.000-07:00 Very good elementary school, with combined first/kindergarten classrooms. P.E., Music, and after-school enrichment offers are also good features.\n",
        "Marin Elementary School 2006 0.6566908374965913 2006-09-27T00:00:00.000-07:00 From the teachers to the principal to the volunteers, this is a wonderful program.  I picked Albay after a divorce which found my ex-wife relocating to Berkeley.  I did all the research I could and landed in Albany as a result.  I do wish they had a little more in the area of sports but am planning on helping out to get something going when my little guy gets a little older.  High marks all the way!\n",
        "Marin Elementary School 2006 0.6566908374965913 2007-03-20T00:00:00.000-07:00 I agree 100% reviewer from June 2003. We had a similar experance. We have not had a very positive experience at all with the whole Albany School District. \n",
        "Rosa Parks Environmental Science Magnet School 2006 -1.4208419125964684 2006-09-04T00:00:00.000-07:00 Rosa Parks has been a quiet kept secret in Berkeley.  It has an amazing teaching staff that is supported by an energetic literacy coach all under the direction of a strong, but realistic principal.  The principal can be seen on the school campus interacting with the students and parents daily.  The students are engaged in their learning and develop the skills necessary to respect their peers and the environment.  And the science teacher she is stellar.  Keep up the great work!\n",
        "Cragmont Elementary School 2006 0.7086291562489178 2006-06-06T00:00:00.000-07:00 WOnderful School. Very involved parents. Our two kids both went there for all of elementary and the dedication to enrichment was great.\n",
        "Jefferson Elementary School 2006 1.331888981276836 2007-05-29T00:00:00.000-07:00 We have a daughter in first grade at Jefferson who has done very well in her two years there. She is excited about learning, has made friends easily, is excited about going to school, and is exposed to a diverse student body. There are numerous PTA sponsored after-school activities to choose from as well as Voyager, an after-school program that runs until 6:00. There is little diversity at the PTA level and that has been disappointing. Overall, Jefferson offers the opportunity to achieve for most students. As in any academic environment, parent involvement is key to success and most Jefferson parents are very involved and attentive to their children's education.\n",
        "Leconte Elementary School 2006 -1.1092120000825096 2007-02-01T00:00:00.000-08:00 LeConte School is having a renaissance. The new principal is not only intelligent, but the hardest working professional I know. The teaching staff are strong and committed to building the school   we have one of the best track records in securing outside grants in the district.  I see increasing focus on individualized assessment and instruction for students both struggling and excelling.  LeConte's farm and garden program is a gem; it was one of the first in Berkeley and has been copied by many elementary schools.  Our own son, a second grader, has particularly grown this year, both academically and emotionally, as a result of energy and caring he feels around him.\n",
        "Leconte Elementary School 2006 -1.1092120000825096 2007-05-15T00:00:00.000-07:00 My twin daughters and I moved here last summer from Maine. Because we registered so late in the season, they placed us where they had room, which happened to be LeConte.  I was sceptical at first, due largely to the information I found on this website, but we have been pleasantly surprised.  There is a core group of dedicated parents/staff members who truly pour their hearts and souls into this charming little school.  The principal's dedication to this school is inspiring and contagious.  The farm and garden program has been running there for 25 years and it shows!  Chef Brenna goes above and beyond her duties as cooking teacher and is a true ally to any child in her presence.  Ms. Louie (2nd grade) is invested in her students, she cares and it shows.  My daughters and I love this school and the community we have found becasue of it.\n",
        "Malcolm X Elementary School 2006 0.24118428747797932 2006-06-03T00:00:00.000-07:00 The school seems crowded to me.\n",
        "Malcolm X Elementary School 2006 0.24118428747797932 2007-05-29T00:00:00.000-07:00 I have to agree about the kindergarten program here. It is at least as good as the private school programs that my older children attended. The art, dance, drama, music, gardening, and cooking classes are a wonderful part of the curriculum. The field trips have been a lot of fun, and the parent-teacher community is warm and inviting. I had also worried about the size of the school, but my daughter has blossomed and acts like she has ownership of the school. The afterschool program (X-Plus) is superb, with amazing projects for the kids. My daughter learned book binding, paper mache, mask making and much more. The school has a diverse student body and has had wonderful multi-cultural PTA programs. I give this school my highest recommendation.\n",
        "John Muir Elementary School 2006 0.0853693312209998 2006-09-12T00:00:00.000-07:00 John Muir is gem of a school. The staff are dedicated and hardworking; the parent community is diverse and active and the site is beautiful. We're blessed with a natural creek running through the school. It complements our focus on the environment. Besides the classroom curriculum, we offer a gardening/cooking program, physical education 2x a week in every grade, an art teacher, a music specialist and a myriad of assemblies and field trips. We're the smallest school in Berkeley which helps give the school a 'community' feel. Go Grizzlies! (That's our mascot).\n",
        "Washington Elementary School 2006 -0.5378904938069182 2006-09-20T00:00:00.000-07:00 I'm a grandparent of a 4th grader.   My husband and I have tutored his classmates since he was in  kindergarten and so are well acquainted with the school. I taught and observed classes in about a dozen East Bay schools for 11 years.  Washington definitely offers more than most of those in terms of quality of academics, excellent principal and teachers, extra programs during and after school. The atmosphere  at the school is as organized, orderly, serene and productive as at any school I have known. I don't know how much most parents are involved, but the staff and teachers are great.\n",
        "Independent Elementary School 2006 1.695457212543121 2007-05-01T00:00:00.000-07:00 Excellent school with diverse student body, dedicated teachers, excellent principal, and very involved parents. Bullying is not tolerated. Respect is rewarded. Diversity is expected and celebrated.\n",
        "Vannoy Elementary School 2006 0.9163824312582237 2006-07-05T00:00:00.000-07:00 Vannoy is a great school at all levels of a child's educational development.  The teachers commitment and dedication to the children's education is quite evident.  The music for minors program is great.  The sports and the after school homework club are also great. Parent participation is very impressive at Vannoy.   I'm very happy that my children attend this school.\n",
        "Frederiksen Elementary School 2006 -0.01850730628365318 2006-09-18T00:00:00.000-07:00 Parents are very involved at this school. Principle is new this year. Last year we had two different people through the year.Some teachers are very good and some are only fair. \n",
        "Frederiksen Elementary School 2006 -0.01850730628365318 2007-05-03T00:00:00.000-07:00 As a parent of a 1st grader at Fred, I believe this is an excellent school. They have great extra curricular activities for the kids that my daughter has loved attending this year. As a parent and a former student I recomend this school.\n",
        "Murray Elementary School 2006 0.24118428747797932 2006-08-31T00:00:00.000-07:00 I've had two sons go through Murray  (they are now in high school)and I enjoyed being there with them. I now have a first grader and I'm so glad to be back. I've had previous experiences with other elementary schools and Murray is by far the best place to be. The Teachers are awesome, the staff is great and very friendly. And belive it or not the fundraisers help our children tremendously. Come by a P.F.C. meating and you'll find out exactly how money is used.\n",
        "Joseph Azevada Elementary School 2006 1.1241357062675297 2007-05-30T00:00:00.000-07:00 Some of the teachers at this school are really great! That is what is most important. However, it is truly luck of the draw.  As a concerned parent, the main issues I see are Sanitation of areas where food is eaten, and supervision at recess. The Ratio at recess is about 1 adult to 80 children, with about 300 plus on the yard at the same time. Too many to supervise in a quality positive way. Unfortunately, language & negative behavior goes uncorrected until a problem happens. On the upside, They have plans to improve after school programs & add some arts programs. It is a start but it is still in the 'plan to' stage for next year, they have added a music for minors program for first grade,& a Dance program school wide. Over all it is a good school getting better but needs more parent support.\n",
        "Brookvale Elementary School 2006 1.072197387515203 2006-11-20T00:00:00.000-08:00 Brookvale is outstanding.  The teachers and prinicpal ensure that learning takes place everyday and the needs of students are addressed.  This school is safe, clean, friendly and academically challenging for all students.  Their webpage is great too!\n",
        "Brookvale Elementary School 2006 1.072197387515203 2007-01-04T00:00:00.000-08:00 I've had nothing but great experience at Brookvale. My son attended Kindergarten and now is in the first grade. His teacher is always on top things and constantly trying new programs. The parent involvement is great too. I think the staff works very well together\n",
        "Cabrillo Elementary School 2006 0.7086291562489178 2006-08-28T00:00:00.000-07:00 This school offers a lot of cultural diversity.  They have a great after school soccer program.  I wish they offered more specified tutoring after school because the students really seem to need it.  The teachers are very kind and helpful.  Mrs. Christenson is a great primary teacher.  I think she teaches the second grade.  Miss Meneses is an excellent teacher as well - she teaches the upper grades.  She worked wonders for my child.  If your child can get into either one of their classes you can be assured that your child will be in good hands.  Parent involvement seems to be quite low.  I went to one of their PTA meetings once and I only saw about 5 adults.  I encourage more parents to join.\n",
        "Joshua Chadbourne Elementary School 2006 1.8512721688001008 2006-09-21T00:00:00.000-07:00 Chadbourne has actually surpassed my expectations.  Great all rounded program.\n",
        "Circle of Independent Learning School 2006 0.2931226062303058 2006-08-14T00:00:00.000-07:00 I cant say enough about COIL and it's staff.  Everyone is great and puts my son's needs as a top priority....which was definatley not the case at Vallejo Mill Elementary.  Thanks so much to the wonderful individuals that finally said my son is dyslexic and needs help.  The encouragement from the staff boosted his self esteem greatly.  He never thought that there was something wrong with him.  Thank you so much.... His advisory teacher the past year and a half was an asset to our family, helping us to help Gage is something we will never be able to thank her for properly. We love Coil!\n",
        "J. Haley Durham Elementary School 2006 -0.6417671313115711 2006-10-03T00:00:00.000-07:00 Hardworking and experienced teachers!  Lots of extracurricular activities like music, scrabble, READ program.  Parents need to involve more.  Overall great school!\n",
        "0:00:02.922000\n",
        "\n",
        " # / mean stars for reviews containing\t 'math':\t\t\t 30587\t 3.8680125909"
       ]
      },
      {
       "output_type": "stream",
       "stream": "stdout",
       "text": [
        "\n",
        "0:00:21.407000\n",
        " # / mean stars for reviews containing\t 'bully':\t\t\t 3394\t 2.44638324873"
       ]
      },
      {
       "output_type": "stream",
       "stream": "stdout",
       "text": [
        "\n",
        "0:00:02.203000\n",
        " # / mean stars for reviews containing\t 'best':\t\t\t 128882\t 4.42173561176"
       ]
      },
      {
       "output_type": "stream",
       "stream": "stdout",
       "text": [
        "\n",
        "0:01:19.977000\n",
        " # / mean stars for reviews containing\t 'violence':\t\t\t 2375\t 3.11047889995"
       ]
      },
      {
       "output_type": "stream",
       "stream": "stdout",
       "text": [
        "\n",
        "0:00:02.672000\n",
        " # / mean stars for reviews containing\t 'crime':\t\t\t 569\t 3.33204633205"
       ]
      },
      {
       "output_type": "stream",
       "stream": "stdout",
       "text": [
        "\n",
        "0:00:00.480000\n",
        " # / mean stars for reviews containing\t 'mediocre':\t\t\t 2601\t 2.43255432554"
       ]
      },
      {
       "output_type": "stream",
       "stream": "stdout",
       "text": [
        "\n",
        "0:00:01.454000\n",
        " # / mean stars for reviews containing\t 'worst':\t\t\t 11727\t 1.59259608139"
       ]
      },
      {
       "output_type": "stream",
       "stream": "stdout",
       "text": [
        "\n",
        "0:00:08.299000\n",
        " # / mean stars for reviews containing\t 'confident':\t\t\t 5826\t 4.70226349391"
       ]
      },
      {
       "output_type": "stream",
       "stream": "stdout",
       "text": [
        "\n",
        "0:00:04.240000\n",
        " # / mean stars for reviews containing\t 'drugs':\t\t\t 2921\t 3.10176492677"
       ]
      },
      {
       "output_type": "stream",
       "stream": "stdout",
       "text": [
        "\n",
        "0:00:03.395000\n",
        " # / mean stars for reviews containing\t 'character':\t\t\t 7533\t 4.53794574825"
       ]
      },
      {
       "output_type": "stream",
       "stream": "stdout",
       "text": [
        "\n",
        "0:00:04.071000\n",
        " # / mean stars for reviews containing\t 'intelligent':\t\t\t 3008\t 4.14906832298"
       ]
      },
      {
       "output_type": "stream",
       "stream": "stdout",
       "text": [
        "\n",
        "0:00:04.041000\n",
        " # / mean stars for reviews containing\t 'flunk':\t\t\t 73\t 2.34782608696"
       ]
      },
      {
       "output_type": "stream",
       "stream": "stdout",
       "text": [
        "\n",
        "0:00:00.265000\n",
        " # / mean stars for reviews containing\t 'knowledge':\t\t\t 7637\t 4.06717995169"
       ]
      },
      {
       "output_type": "stream",
       "stream": "stdout",
       "text": [
        "\n",
        "0:00:04.790000\n",
        " # / mean stars for reviews containing\t 'succeed':\t\t\t 14284\t 4.31795164979"
       ]
      },
      {
       "output_type": "stream",
       "stream": "stdout",
       "text": [
        "\n",
        "0:00:09.702000\n",
        " # / mean stars for reviews containing\t 'football':\t\t\t 8128\t 3.75151348376"
       ]
      },
      {
       "output_type": "stream",
       "stream": "stdout",
       "text": [
        "\n",
        "0:00:04.342000\n",
        " # / mean stars for reviews containing\t 'sports':\t\t\t 40874\t 4.01970828503"
       ]
      },
      {
       "output_type": "stream",
       "stream": "stdout",
       "text": [
        "\n",
        "0:00:26.857000\n",
        " # / mean stars for reviews containing\t 'lab':\t\t\t 4088\t 4.32623922414"
       ]
      },
      {
       "output_type": "stream",
       "stream": "stdout",
       "text": [
        "\n",
        "0:00:02.574000\n",
        " # / mean stars for reviews containing\t 'computer':\t\t\t 8052\t 4.10153178799"
       ]
      },
      {
       "output_type": "stream",
       "stream": "stdout",
       "text": [
        "\n",
        "0:00:05.288000\n",
        " # / mean stars for reviews containing\t 'book':\t\t\t 5382\t 3.62377884016"
       ]
      },
      {
       "output_type": "stream",
       "stream": "stdout",
       "text": [
        "\n",
        "0:00:03.411000\n",
        "SCHOOL, TOPIC LEVEL1 / LEVEL2, TOPIC VALUE, and REVIEW TEXT BY STATE FOR SPECIFIED LEVEL1/LEVEL2, YEAR: \n",
        "topics and reviews for schools with state = CA, year = 2006.  (first 30 recs) "
       ]
      },
      {
       "output_type": "stream",
       "stream": "stdout",
       "text": [
        "\n",
        "Alameda High School"
       ]
      },
      {
       "output_type": "stream",
       "stream": "stdout",
       "text": [
        " Administration Addressing concerns 0 Good school.  Lots of AP classes.  But mixed economics makes learning tougher for the non-CP students.\n",
        "Alameda High School Administration Addressing concerns 0 Offers a wide range of AP classes\n",
        "Alameda High School Administration Addressing concerns 0 Excellent teachers for AP and HP English and History programs. Good music/choir program. Excellent drama program. Sports-- won league in many sports in 2003-2004.\n",
        "Alameda High School Administration Addressing concerns 0 I attended this school years ago and found the caliber of AP classes to be solid. The theatre and music programs are also very strong. \n",
        "Alameda High School Administration Addressing concerns 0 We just went to Open House at Alameda High, and found the teachers very dedicated.  They know their students and were ready to give individual feedback to parents.  There is a range of academic levels offered including some very challenging AP classes. Some classes are rather large, but the EXP and AP classes may be smaller. There is a range of students, from those who are not interested in studying, to those who are highly motivated and hard working, with GPA's over 4.0. There is a lot of student involvement in extracurricular activities, such as a poetry anthology they were selling to raise money for the English Dept., a book sale to benefit the media center, a blood drive sponsored by one of the clubs.  They have after school sports, an active music dept (the jazz band just performed at Yoshi's), extraodinary drama dept. that puts on several plays each year.\n",
        "Alameda High School Administration Addressing concerns 0.11381033304383867 I have hasd 2 children at Alameda High and I find the school to be 'okay. As a large public high school, with a huge variation of academic abilities, it is extremely important for parents to stay in touch with course choices and expectations of teachers to ensure their child's basic education. Their music and drama programs are excellent - don't know about sports. Easy to lose your way in such a large environment - stay in touch with counselors and teachers.\n",
        "Alameda High School Administration Addressing concerns 0 The staff gets on the level of the students and everything is kaotic.\n",
        "Bay Farm Elementary School Administration Addressing concerns 0 Our daughter is about to finish her 4th year at Bay Farm (3rd grade) & we have been extremely pleased with the school & its teachers. We often thought about moving to the East Bay for more space but kept comparing Lamorinda scores & feel the quality of education here combined with the diversity and easy lifestyle & commute can't be beat. We have opted to stay to give our son who is entering K next year the same experience. This past year Measure A was passed ensuring class sizes stay small at Bay Farm & extra-curricular activities remain extremely enriching. This is a hidden gem of a school.\n",
        "Bay Farm Elementary School Administration Addressing concerns 0.13699335926616887 My kids have gone through Kindergarten to 5th grade here. I couldn't be happier with the quality of the teachers. High parental involvement and the kids are great. They have added 6th grade and will be adding 7th & 8th to round out the middle school option as well. Hopefully it will continues to be high performing through the middle school years.\n",
        "Bay Farm Elementary School Administration Addressing concerns 0 We are impressed by the quality of the staff and dedication of the principal.  It's a very calm, well-run school with huge parent involvement.\n",
        "Bay Farm Elementary School Administration Addressing concerns 0 Bay Farm has a strong academic program with a lot of great teachers and a very experienced principal.  There are lots of extracurricular activities and incredible amount of parent involvement.\n",
        "Bay Farm Elementary School Administration Addressing concerns 0 We are Extremely happy and impressed with the school. The Principals involvement is remarkable. All the Kindergartner teachers are Excellent but we Love ours   Mrs. Geis.  \n",
        "Bay Farm Elementary School Administration Addressing concerns 0.05333333329999999 Love this school. We have had our  2 kids here at Bay Farm over 9 + years and is still loving it! The teachers (including PE and Music) are just incredible! The parents are VERY helpful and our principal is just incredible:) This school is growing better and better! We HIGHLY recommend sending your kids here! \n",
        "Bay Farm Elementary School Administration Addressing concerns 0.03625834518526987 Bay Farm School is truly a community of learners! Together, our students, teachers, support professionals, and parents work tirelessly to support our  academic and social goals, and provide learning opportunities that challenge our students to become independent, creative, and collaborative problem-solvers. We are implementing an Innovative Plan that infuses technology directly into our instruction so that our students can develop 21st century learning skills to be able to participate successfully in our global society.  Come learn with us!\n",
        "Bay Farm Elementary School Administration Addressing concerns 0.044333294793103425 We are new to Bay Farm school and have been to others due to moving, so have a little experience in elementary schools. In terms of learning, attention to children, parent involvement, community, technology - this school is doing wonderfully! The teachers and staff are innovative and most of them seem to love what they do. We have recently changed form k-5 to k-8 and the transition is going well. The program they are developing for the middle school is fantastic so far; and AEF compliments it with extra-curriculars like band and sports. We are thrilled with Bay Farm!\n",
        "Bay Farm Elementary School Administration Addressing concerns 0.048640957713472426 BayFarm school is such a strong school due to the tight knit sense of community among children, teachers & parents.  Most of us walk or ride to school and find we have a lot in common: a high value place on education, a strong sense of drive and desire for our kids to excel and be contributing members of our community.  I am grateful to live in such a supportive neighborhood and participate in such a wonderful school community. \n",
        "Bay Farm Elementary School Administration Addressing concerns 0 Bay Farm school is wonderful.  This is the first year it holds seventh grade, and it has two classes.  The teachers are phenomenal and balance each other's strength. One is a Math and Science genius, while the other is an English and History buff.  I have twins and one kid in each class.  Both of them respect and admire their teachers. They actually enjoy learning and look forward to going to school. Of course, they love their weekends too. Just incredible how Bay Farm and their teachers created an environment in which my twins are engaged and are blossoming.  When I drive up to the school each morning, I see a clean, well-kept grounds.  There a true sense of safety and caring. Little safety monitors help direct all the crazy bicycle, car and people traffic. Today was \"Walk to School\" day, and the community had the local police also guiding traffic.  They were even smiling. The children gather in the courtyard for morning announcements, and each child who has a birthday that morning is brought up while the entire school sings them a song and wish them well. Can you image how special that makes a kid feel? If only each day can be that extraordinary. Oh wait, it is at Bay Farm.\n",
        "Bay Farm Elementary School Administration Addressing concerns 0.09178965646202059 Last year we celebrated our 20th Anniversary at Bay Farm School, and I couldn't be prouder of all that we have accomplished over the years!  We've come a long way since we opened our doors to just over 250 students!  We are now over 500 strong, with a staff who is committed to making Bay Farm a safe, fun, and challenging place to learn and grow.  We have replaced overhead projectors with document cameras and smart boards, are in our second year of our K-8 implementation, continue to move forward into our 21st Century Innovative Plan, and have an Outdoor Learning Center and Go Green program that is the envy of districts near and far.  Our greatest legacy, however, is our continuing relationship with our students who have grown and left us to make their way in the world.  They have gone on to high school and college, are making the world a better place in their chosen fields, and, most importantly, are raising their own children to be strong, kind, and independent.  They come back often to check in and to take part in school activities and celebrations.  They share their memories of their experiences at Bay Farm and their goals.  They remind me, day after day, why I do what I do!\n",
        "Bay Farm Elementary School Administration Addressing concerns 0 We have been at Bay Farm Elementary for 3 years and are very proud to be part of this school.  There is a great partnership between parents and teacher/staff.  Our child is challenged and excited about class.  \n",
        "Bay Farm Elementary School Administration Addressing concerns 0 I have a 7th grader and a kindergartner at Bay Farm... I'm halfway through what will end up being 18 years at this school! I don't mispeak when I say that... the community, the parents, are as much a part of this school as the kids, teachers and staff are. Together, this community works toward a common set of goals: Giving each student a great education, creating a safe and scintillating environment for them to learn in, and putting them on a path to success. Many of us feel as if we've stumbled upon a piece of near perfection. The principal, Mrs. Freitas, is dedicated to the betterment of the school at every turn, and the teachers and staff are absolutely fabulous. With a hugely active PTA and parent community, you just can't go wrong. I'm so thrilled my kids have this place!\n",
        "Bay Farm Elementary School Administration Addressing concerns 0 One of the best elementary schools in the bay area!\n",
        "Bay Farm Elementary School Administration Addressing concerns 0 This is our first year at Bay Farm and I am very pleased with my kindergarteners progress.  Bay Farm teachers are not afraid to push the kids to the limits.  My daughter is being challenged and she is loving it. \n",
        "Bay Farm Elementary School Administration Addressing concerns 0.03337847039043081 Three of my children went through Bay Farm Elementary. My youngest started in the Kindergarten and is now attending fourth grade.  We moved into this area so our children can attend Bay Farm Elementary.  The biggest asset of the school success is its parents.  The parents of the students are heavily involved in school operations and activities.  The students are aware their parents are in close contacts with the teachers.  My daughter wants to go to school everyday to meet her friends and to learn.     If you are interested to attend bay Farm, you must move into the proper zoned neighborhoods.  You will also be willing to be involved with your children's education and activities. As long as you participate in the children's activities, you will find out that Bay Farm Elementary offers academic achievements as good as any private school. It is an example of public school that works.\n",
        "Bay Farm Elementary School Administration Addressing concerns 0.1260957099102964 There's a high level of achievement and parent involvement at this school.  Teachers are excellent.  In particular, Joni Reynolds, the 6th grade teacher, has such heart, intelligence, energy and infectious enthusiasm that she is a valuable role model not only for her students, but also for their parents.\n",
        "Bay Farm Elementary School Administration Addressing concerns 0.021343235108842246 Bay Farm is a great school.  I often compare notes with friends whose children attend private schools and I often find that the Bay Farm education is superior.  The parent group is incredibly active and the PTA makes a huge financial contribution to the school paying for things like a computer in every classroom and field trips for all the grade levels.  As with all schools, it is not uncommon to have one year where you don't like the teacher as well as other years, but the overall experience is terriffic and the test scores demonstrate this.    I do think this can be a really tough environment for a student who is struggling academically.  Because so many students are at grade level, the very small number who are not really feel isolated, I think. In other groups, they'd have a peer group.    One note of caution to parents moving into the Bay Farm area.  The school is very full and there are no funds to expand, even using portable classrooms.  As a result, if you move into the district in the late summer, you may find the school can't accept your child for the coming school year because a particular grade level may be completely full.  If you are new to the school, get your enrollment paperwork in ASAP (including immunizations and any physical exam requirements.)  They date stamp when the application is complete and the last students in are the first diverted to other schools.       \n",
        "Bay Farm Elementary School Administration Addressing concerns 0 My sons came in behind when they started at Bay Farm School due to going from a traditional school schedule to year round schedule. Within 2 months the staff at Bay Farm had them both up to grade level in both reading and math. The 6th grade class was the best experience for my oldest. It prepared him for middle school very well. In fact many of the subjects he learned in history have actually provided the foundation for more indepth learning in honors classes now that he is a freshman.   The parents and PTA are all very involved and financially support the school in a big way. This was one of the best communities we have lived in and as a military family we have lived in several places since our children have been school age.\n",
        "Bay Farm Elementary School Administration Addressing concerns 0 Our daughter just finished kindergarten at Bay Farm and it was a wonderful year.  The teachers are dynamic and caring, and the parents are involved.  The mornings are like a Norman Rockwell painting as most kids live close enough to walk to school.  We'll often see our daughter's friends around town as well - we really feel like we are now part of a community.  Go Bay Farm!\n",
        "Amelia Earhart Elementary School Administration Addressing concerns 0 Amelia Earhart is an outstanding school with very active parent community involvement.  The teachers for the most part are wonderful and the principal is very supportive and hands-on at the school.  We like it here a lot!\n",
        "Amelia Earhart Elementary School Administration Addressing concerns 0.05333333329999999 We are very unhappy with the principal. \n",
        "Amelia Earhart Elementary School Administration Addressing concerns 0.16789466087866114 Overall, this is a very good school - but if you have a child with ADHD or one that is simply 'high-spirited' and 'full of energy' -- you'll need to be vigilant to ensure that his/her needs are meet.  Parents are very involved and the school has a terrific enrichment program.  It costs extra, but includes everything from Mandarin to Theatre to Karate.  Teachers tend to stick around a while and it's worth the high price of homes in the area to know that the expectation are high academically.\n",
        "Amelia Earhart Elementary School Administration Addressing concerns 0 Parental involvement is amazing.  PTA contributes over $100k from fundraising per year allowing school to include fantastic art, music and computer programs for the students, training for teachers and other programs for parents.\n",
        "0:06:36.700000\n",
        "\n"
       ]
      }
     ],
     "prompt_number": 4
    },
    {
     "cell_type": "markdown",
     "metadata": {},
     "source": [
      "#### GreatSchools API access and retrieval (Python)\n",
      "\n",
      "Before the full dataset was received on 11/27, some of the data was collected via the API using the code below."
     ]
    },
    {
     "cell_type": "code",
     "collapsed": false,
     "input": [
      "\"\"\"\n",
      "Function\n",
      "--------\n",
      "get _GS_school_data\n",
      "\n",
      "Retrieves schools and review records via the GreatSchools API\n",
      "\n",
      "Parameters\n",
      "----------\n",
      "city_state : array of city / state tuples\n",
      "    \n",
      "Returns\n",
      "-------\n",
      "sdf : panda dataframe of GreatSchools school data records\n",
      "rdf : panda dataframe of GreatSchools school review records\n",
      "     \n",
      "Examples\n",
      "--------\n",
      "see next cell\n",
      "\n",
      "\"\"\"\n",
      "\n",
      "schools_url = 'http://api.greatschools.org/schools/{}/{}?key={}&limit=-1'\n",
      "reviews_url = 'http://api.greatschools.org/reviews/school/{}/{}?key={}'\n",
      "\n",
      "schools_columns=['gsid','name', 'type','graderange','enrollment','city','state','districtid',\n",
      "                'districtncesid','address','phone','fax','website','ncesid',\n",
      "                'lat','lon','gsrating', 'parentrating', 'overviewlink','ratingslink',\n",
      "                'reviewslink','schoolstatslink']\n",
      "reviews_columns = ['gsid','reviewlink', 'rating', 'submitter', 'posteddate','comments']\n",
      "\n",
      "def get_GS_school_data(city_state):\n",
      "    \n",
      "    try:\n",
      "     \n",
      "        sdf = pd.DataFrame(columns=schools_columns)\n",
      "        sdf[['gsid']] = sdf[['gsid']].astype(int)\n",
      "        rdf = pd.DataFrame(columns=reviews_columns)\n",
      "        \n",
      "        for cs in city_state:\n",
      "            \n",
      "            this_sdf = pd.DataFrame(columns=schools_columns)\n",
      "            \n",
      "            city = cs[0].replace('-','_').replace(' ','-') # prep city name per GS format\n",
      "            state = cs[1]\n",
      "            \n",
      "            xml = urllib2.urlopen(schools_url.format(state, city, GS_api_key)).read()\n",
      "            \n",
      "            # unicode housekeeping\n",
      "            xml = unicode(xml.strip(codecs.BOM_UTF8), 'utf-8')\n",
      "            xml = xml.encode('UTF-8')\n",
      "            \n",
      "            soup = Soup(xml)\n",
      "            soup = soup.findAll('school')\n",
      "            \n",
      "            checker = sdf.gsid.unique()\n",
      "            \n",
      "            for gs in soup:\n",
      "                \n",
      "                # filter duplicates:  API returns some school gsids under multiple city names\n",
      "                if (int(gs.gsid.text) not in checker):\n",
      "                    \n",
      "                    this_sdf = this_sdf.append({'gsid' : int(gs.gsid.text),\n",
      "                               'name' : (gs.find('name')).text, \n",
      "                               'type' : (gs.find('type')).text, \n",
      "                               'graderange': gs.graderange.text if gs.graderange else '',\n",
      "                               'enrollment' : gs.enrollment.text if gs.enrollment else '',\n",
      "                               'city' : gs.city.text,\n",
      "                               'state' : gs.state.text,\n",
      "                               'districtid' : gs.districtid.text if gs.districtid else '',\n",
      "                               'district' : gs.district.text if gs.district else '',\n",
      "                               'districtncesid' : gs.districtncesid.text if gs.districtncesid else '',\n",
      "                               'address' : gs.address.text,\n",
      "                               'phone' : gs.phone.text,\n",
      "                               'fax': gs.fax.text,\n",
      "                               'website' : gs.website.text,\n",
      "                               'ncesid' : gs.ncesid.text,\n",
      "                               'lat' : gs.lat.text,\n",
      "                               'lon' : gs.lon.text,\n",
      "                               'gsrating' : gs.gsrating.text if gs.gsrating else '',\n",
      "                               'parentrating' : gs.parentrating.text if gs.parentrating else '',\n",
      "                               'overviewlink' : gs.overviewlink.text,\n",
      "                               'ratingslink' : gs.ratingslink.text,\n",
      "                               'reviewslink' : gs.reviewslink.text,\n",
      "                               'schoolstatslink' : gs.schoolstatslink.text if gs.schoolstatslink else None}, ignore_index=True)\n",
      "                \n",
      "            try:\n",
      "                # currently rejected by the API as illegal access\n",
      "                this_rdf = pd.DataFrame(columns=reviews_columns)\n",
      "                for id, values in this_sdf.iterrows():\n",
      "                                   \n",
      "                    print reviews_url.format(state, values['gsid'], GS_api_key)\n",
      "                    rxml = urllib2.urlopen(reviews_url.format(state, values['gsid'], GS_api_key)).read()\n",
      "            \n",
      "                    rsoup = Soup(rxml)\n",
      "                    rsoup = rsoup.findAll('review')\n",
      "           \n",
      "                    rdf = rdf.append({'gsid' : r.gsid.text,\n",
      "                                      'reviewlink' : r.reviewlink.text,\n",
      "                                      'rating' : r.rating.text,\n",
      "                                      'submitter' : r.submitter.text,\n",
      "                                      'posteddate' : r.posteddate.text,\n",
      "                                      'comments' : no_escape(r.comments.text) \n",
      "                                      }, ignore_index=True)\n",
      "                \n",
      "                rdf = pd.concat([rdf, this_rdf])\n",
      "                    \n",
      "            except IOError as e:    # e.g. 'unauthorized' \n",
      "                print e\n",
      "            \n",
      "            sdf = pd.concat([sdf, this_sdf])\n",
      "            \n",
      "    \n",
      "    except IOError as e:    \n",
      "        print e\n",
      "        \n",
      "        \n",
      "    return sdf, rdf\n",
      "\n",
      "\"\"\"\n",
      "Function\n",
      "--------\n",
      "no_escape : replaces ascii escape string in html text with original ascii character\n",
      "\n",
      "Parameters\n",
      "-----------\n",
      "esc_text: text in which to replace html ascii esc strings with ascii chars\n",
      "\n",
      "Returns\n",
      "--------\n",
      "\n",
      "\"\"\"\n",
      "def no_escape(esc_text):  # adapted from code on StackOverflow\n",
      "    \n",
      "    cleaner = htmllib.HTMLParser(None)\n",
      "    cleaner.save_bgn()\n",
      "    cleaner.feed(esc_text)\n",
      "    return cleaner.save_end()"
     ],
     "language": "python",
     "metadata": {},
     "outputs": [],
     "prompt_number": 5
    },
    {
     "cell_type": "markdown",
     "metadata": {},
     "source": [
      "#### Load schools/reviews for selected cities using Great Schools API  (Python)\n",
      "\n",
      "The initial focus for data collection and exploratory analysis was Los Angeles county.  As see the error messages below, our API license forbade access to the GreatSchools reviews.  We also discovered that the API restricted retrieval to 300 schools per city, far too few for a city of the size of Los Angeles."
     ]
    },
    {
     "cell_type": "code",
     "collapsed": false,
     "input": [
      "# Get LA County school data from GS API\n",
      "\n",
      "city_state = [['Agoura Hills', 'CA'],\n",
      "['Alhambra','CA'],\n",
      "['Arcadia','CA'],\n",
      "['Artesia','CA'],\n",
      "['Avalon','CA'],\n",
      "['Azusa','CA'],\n",
      "['Baldwin Park','CA'],\n",
      "['Bell','CA'],\n",
      "['Bell Gardens','CA'],\n",
      "['Bellflower','CA'],\n",
      "['Beverly Hills','CA'],\n",
      "['Bradbury','CA'],\n",
      "['Burbank','CA'],\n",
      "['Calabasas','CA'],\n",
      "['Carson','CA'],\n",
      "['Cerritos','CA'],\n",
      "['Claremont','CA'],\n",
      "['Commerce','CA'],\n",
      "['Compton','CA'],\n",
      "['Covina','CA'],\n",
      "['Cudahy','CA'],\n",
      "['Culver City','CA'],\n",
      "['Diamond Bar','CA'],\n",
      "['Downey','CA'],\n",
      "['Duarte','CA'],\n",
      "['El Monte','CA'],\n",
      "['El Segundo','CA'],\n",
      "['Gardena','CA'],\n",
      "['Glendale','CA'],\n",
      "['Glendora','CA'],\n",
      "['Hawaiian Gardens','CA'],\n",
      "['Hawthorne','CA'],\n",
      "['Hermosa Beach','CA'],\n",
      "['Hidden Hills','CA'],\n",
      "['Huntington Park','CA'],\n",
      "['Industry','CA'],\n",
      "['Inglewood','CA'],\n",
      "['Irwindale','CA'],\n",
      "['La Ca\u00f1ada Flintridge','CA'],\n",
      "['La Habra Heights','CA'],\n",
      "['La Mirada','CA'],\n",
      "['La Puente','CA'],\n",
      "['La Verne','CA'],\n",
      "['Lakewood','CA'],\n",
      "['Lancaster','CA'],\n",
      "['Lawndale','CA'],\n",
      "['Lomita','CA'],\n",
      "['Long Beach','CA'],\n",
      "['Lynwood','CA'],\n",
      "['Malibu','CA'],\n",
      "['Manhattan Beach','CA'],\n",
      "['Maywood','CA'],\n",
      "['Monrovia','CA'],\n",
      "['Montebello','CA'],\n",
      "['Monterey Park','CA'],\n",
      "['Norwalk','CA'],\n",
      "['Palmdale','CA'],\n",
      "['Palos Verdes Estates','CA'],\n",
      "['Paramount','CA'],\n",
      "['Pasadena','CA'],\n",
      "['Pico Rivera','CA'],\n",
      "['Pomona','CA'],\n",
      "['Rancho Palos Verdes','CA'],\n",
      "['Redondo Beach','CA'],\n",
      "['Rolling Hills','CA'],\n",
      "['Rolling Hills Estates','CA'],\n",
      "['Rosemead','CA'],\n",
      "['San Dimas','CA'],\n",
      "['San Fernando','CA'],\n",
      "['San Gabriel','CA'],\n",
      "['San Marino','CA'],\n",
      "['Santa Clarita','CA'],\n",
      "['Santa Fe Springs','CA'],\n",
      "['Santa Monica','CA'],\n",
      "['Sierra Madre','CA'],\n",
      "['Signal Hill','CA'],\n",
      "['South El Monte','CA'],\n",
      "['South Gate','CA'],\n",
      "['South Pasadena','CA'],\n",
      "['Temple City','CA'],\n",
      "['Torrance','CA'],\n",
      "['Vernon','CA'],\n",
      "['Walnut','CA'],\n",
      "['West Covina','CA'],\n",
      "['West Hollywood','CA'],\n",
      "['Westlake Village','CA'],\n",
      "['Whittier','CA']]\n",
      "               \n",
      "school_data, review_data = get_GS_school_data(city_state)\n",
      "\n",
      "school_data.to_csv('schools.csv', index=False, encoding='utf-8')\n",
      "review_data.to_csv('reviews.csv', index=False, encoding='utf-8')\n"
     ],
     "language": "python",
     "metadata": {},
     "outputs": [
      {
       "output_type": "stream",
       "stream": "stdout",
       "text": [
        "http://api.greatschools.org/reviews/school/CA/15178?key=3ibtlgutdkievurqdaqqawxx\n",
        "HTTP Error 401: Unauthorized"
       ]
      },
      {
       "output_type": "stream",
       "stream": "stdout",
       "text": [
        "\n",
        "http://api.greatschools.org/reviews/school/CA/14523?key=3ibtlgutdkievurqdaqqawxx"
       ]
      },
      {
       "output_type": "stream",
       "stream": "stdout",
       "text": [
        "\n",
        "HTTP Error 401: Unauthorized"
       ]
      },
      {
       "output_type": "stream",
       "stream": "stdout",
       "text": [
        "\n",
        "http://api.greatschools.org/reviews/school/CA/17898?key=3ibtlgutdkievurqdaqqawxx"
       ]
      },
      {
       "output_type": "stream",
       "stream": "stdout",
       "text": [
        "\n",
        "HTTP Error 401: Unauthorized"
       ]
      },
      {
       "output_type": "stream",
       "stream": "stdout",
       "text": [
        "\n",
        "http://api.greatschools.org/reviews/school/CA/1426?key=3ibtlgutdkievurqdaqqawxx"
       ]
      },
      {
       "output_type": "stream",
       "stream": "stdout",
       "text": [
        "\n",
        "HTTP Error 401: Unauthorized"
       ]
      },
      {
       "output_type": "stream",
       "stream": "stdout",
       "text": [
        "\n",
        "http://api.greatschools.org/reviews/school/CA/1474?key=3ibtlgutdkievurqdaqqawxx"
       ]
      },
      {
       "output_type": "stream",
       "stream": "stdout",
       "text": [
        "\n",
        "HTTP Error 401: Unauthorized"
       ]
      },
      {
       "output_type": "stream",
       "stream": "stdout",
       "text": [
        "\n",
        "http://api.greatschools.org/reviews/school/CA/24141?key=3ibtlgutdkievurqdaqqawxx"
       ]
      },
      {
       "output_type": "stream",
       "stream": "stdout",
       "text": [
        "\n",
        "HTTP Error 401: Unauthorized"
       ]
      },
      {
       "output_type": "stream",
       "stream": "stdout",
       "text": [
        "\n",
        "http://api.greatschools.org/reviews/school/CA/12702?key=3ibtlgutdkievurqdaqqawxx"
       ]
      },
      {
       "output_type": "stream",
       "stream": "stdout",
       "text": [
        "\n",
        "HTTP Error 401: Unauthorized"
       ]
      },
      {
       "output_type": "stream",
       "stream": "stdout",
       "text": [
        "\n",
        "http://api.greatschools.org/reviews/school/CA/10619?key=3ibtlgutdkievurqdaqqawxx"
       ]
      },
      {
       "output_type": "stream",
       "stream": "stdout",
       "text": [
        "\n",
        "HTTP Error 401: Unauthorized"
       ]
      },
      {
       "output_type": "stream",
       "stream": "stdout",
       "text": [
        "\n",
        "http://api.greatschools.org/reviews/school/CA/1520?key=3ibtlgutdkievurqdaqqawxx"
       ]
      },
      {
       "output_type": "stream",
       "stream": "stdout",
       "text": [
        "\n",
        "HTTP Error 401: Unauthorized"
       ]
      },
      {
       "output_type": "stream",
       "stream": "stdout",
       "text": [
        "\n",
        "http://api.greatschools.org/reviews/school/CA/7995?key=3ibtlgutdkievurqdaqqawxx"
       ]
      },
      {
       "output_type": "stream",
       "stream": "stdout",
       "text": [
        "\n",
        "HTTP Error 401: Unauthorized"
       ]
      },
      {
       "output_type": "stream",
       "stream": "stdout",
       "text": [
        "\n",
        "http://api.greatschools.org/reviews/school/CA/12479?key=3ibtlgutdkievurqdaqqawxx"
       ]
      },
      {
       "output_type": "stream",
       "stream": "stdout",
       "text": [
        "\n",
        "HTTP Error 401: Unauthorized"
       ]
      },
      {
       "output_type": "stream",
       "stream": "stdout",
       "text": [
        "\n",
        "http://api.greatschools.org/reviews/school/CA/1897?key=3ibtlgutdkievurqdaqqawxx"
       ]
      },
      {
       "output_type": "stream",
       "stream": "stdout",
       "text": [
        "\n",
        "HTTP Error 401: Unauthorized"
       ]
      },
      {
       "output_type": "stream",
       "stream": "stdout",
       "text": [
        "\n",
        "http://api.greatschools.org/reviews/school/CA/11946?key=3ibtlgutdkievurqdaqqawxx"
       ]
      },
      {
       "output_type": "stream",
       "stream": "stdout",
       "text": [
        "\n",
        "HTTP Error 401: Unauthorized"
       ]
      },
      {
       "output_type": "stream",
       "stream": "stdout",
       "text": [
        "\n",
        "http://api.greatschools.org/reviews/school/CA/1575?key=3ibtlgutdkievurqdaqqawxx"
       ]
      },
      {
       "output_type": "stream",
       "stream": "stdout",
       "text": [
        "\n",
        "HTTP Error 401: Unauthorized"
       ]
      },
      {
       "output_type": "stream",
       "stream": "stdout",
       "text": [
        "\n",
        "http://api.greatschools.org/reviews/school/CA/2668?key=3ibtlgutdkievurqdaqqawxx"
       ]
      },
      {
       "output_type": "stream",
       "stream": "stdout",
       "text": [
        "\n",
        "HTTP Error 401: Unauthorized"
       ]
      },
      {
       "output_type": "stream",
       "stream": "stdout",
       "text": [
        "\n",
        "http://api.greatschools.org/reviews/school/CA/25926?key=3ibtlgutdkievurqdaqqawxx"
       ]
      },
      {
       "output_type": "stream",
       "stream": "stdout",
       "text": [
        "\n",
        "HTTP Error 401: Unauthorized"
       ]
      },
      {
       "output_type": "stream",
       "stream": "stdout",
       "text": [
        "\n",
        "http://api.greatschools.org/reviews/school/CA/1477?key=3ibtlgutdkievurqdaqqawxx"
       ]
      },
      {
       "output_type": "stream",
       "stream": "stdout",
       "text": [
        "\n",
        "HTTP Error 401: Unauthorized"
       ]
      },
      {
       "output_type": "stream",
       "stream": "stdout",
       "text": [
        "\n",
        "http://api.greatschools.org/reviews/school/CA/2054?key=3ibtlgutdkievurqdaqqawxx"
       ]
      },
      {
       "output_type": "stream",
       "stream": "stdout",
       "text": [
        "\n",
        "HTTP Error 401: Unauthorized"
       ]
      },
      {
       "output_type": "stream",
       "stream": "stdout",
       "text": [
        "\n",
        "http://api.greatschools.org/reviews/school/CA/1940?key=3ibtlgutdkievurqdaqqawxx"
       ]
      },
      {
       "output_type": "stream",
       "stream": "stdout",
       "text": [
        "\n",
        "HTTP Error 401: Unauthorized"
       ]
      },
      {
       "output_type": "stream",
       "stream": "stdout",
       "text": [
        "\n",
        "http://api.greatschools.org/reviews/school/CA/2807?key=3ibtlgutdkievurqdaqqawxx"
       ]
      },
      {
       "output_type": "stream",
       "stream": "stdout",
       "text": [
        "\n",
        "HTTP Error 401: Unauthorized"
       ]
      },
      {
       "output_type": "stream",
       "stream": "stdout",
       "text": [
        "\n",
        "http://api.greatschools.org/reviews/school/CA/1658?key=3ibtlgutdkievurqdaqqawxx"
       ]
      },
      {
       "output_type": "stream",
       "stream": "stdout",
       "text": [
        "\n",
        "HTTP Error 401: Unauthorized"
       ]
      },
      {
       "output_type": "stream",
       "stream": "stdout",
       "text": [
        "\n",
        "http://api.greatschools.org/reviews/school/CA/1679?key=3ibtlgutdkievurqdaqqawxx"
       ]
      },
      {
       "output_type": "stream",
       "stream": "stdout",
       "text": [
        "\n",
        "HTTP Error 401: Unauthorized"
       ]
      },
      {
       "output_type": "stream",
       "stream": "stdout",
       "text": [
        "\n",
        "http://api.greatschools.org/reviews/school/CA/2660?key=3ibtlgutdkievurqdaqqawxx"
       ]
      },
      {
       "output_type": "stream",
       "stream": "stdout",
       "text": [
        "\n",
        "HTTP Error 401: Unauthorized"
       ]
      },
      {
       "output_type": "stream",
       "stream": "stdout",
       "text": [
        "\n",
        "http://api.greatschools.org/reviews/school/CA/1707?key=3ibtlgutdkievurqdaqqawxx"
       ]
      },
      {
       "output_type": "stream",
       "stream": "stdout",
       "text": [
        "\n",
        "HTTP Error 401: Unauthorized"
       ]
      },
      {
       "output_type": "stream",
       "stream": "stdout",
       "text": [
        "\n",
        "http://api.greatschools.org/reviews/school/CA/1898?key=3ibtlgutdkievurqdaqqawxx"
       ]
      },
      {
       "output_type": "stream",
       "stream": "stdout",
       "text": [
        "\n",
        "HTTP Error 401: Unauthorized"
       ]
      },
      {
       "output_type": "stream",
       "stream": "stdout",
       "text": [
        "\n",
        "http://api.greatschools.org/reviews/school/CA/12968?key=3ibtlgutdkievurqdaqqawxx"
       ]
      },
      {
       "output_type": "stream",
       "stream": "stdout",
       "text": [
        "\n",
        "HTTP Error 401: Unauthorized"
       ]
      },
      {
       "output_type": "stream",
       "stream": "stdout",
       "text": [
        "\n",
        "http://api.greatschools.org/reviews/school/CA/1623?key=3ibtlgutdkievurqdaqqawxx"
       ]
      },
      {
       "output_type": "stream",
       "stream": "stdout",
       "text": [
        "\n",
        "HTTP Error 401: Unauthorized"
       ]
      },
      {
       "output_type": "stream",
       "stream": "stdout",
       "text": [
        "\n",
        "http://api.greatschools.org/reviews/school/CA/1418?key=3ibtlgutdkievurqdaqqawxx"
       ]
      },
      {
       "output_type": "stream",
       "stream": "stdout",
       "text": [
        "\n",
        "HTTP Error 401: Unauthorized"
       ]
      },
      {
       "output_type": "stream",
       "stream": "stdout",
       "text": [
        "\n",
        "http://api.greatschools.org/reviews/school/CA/15952?key=3ibtlgutdkievurqdaqqawxx"
       ]
      },
      {
       "output_type": "stream",
       "stream": "stdout",
       "text": [
        "\n",
        "HTTP Error 401: Unauthorized"
       ]
      },
      {
       "output_type": "stream",
       "stream": "stdout",
       "text": [
        "\n",
        "http://api.greatschools.org/reviews/school/CA/25929?key=3ibtlgutdkievurqdaqqawxx"
       ]
      },
      {
       "output_type": "stream",
       "stream": "stdout",
       "text": [
        "\n",
        "HTTP Error 401: Unauthorized"
       ]
      },
      {
       "output_type": "stream",
       "stream": "stdout",
       "text": [
        "\n",
        "http://api.greatschools.org/reviews/school/CA/14723?key=3ibtlgutdkievurqdaqqawxx"
       ]
      },
      {
       "output_type": "stream",
       "stream": "stdout",
       "text": [
        "\n",
        "HTTP Error 401: Unauthorized"
       ]
      },
      {
       "output_type": "stream",
       "stream": "stdout",
       "text": [
        "\n",
        "http://api.greatschools.org/reviews/school/CA/14943?key=3ibtlgutdkievurqdaqqawxx"
       ]
      },
      {
       "output_type": "stream",
       "stream": "stdout",
       "text": [
        "\n",
        "HTTP Error 401: Unauthorized"
       ]
      },
      {
       "output_type": "stream",
       "stream": "stdout",
       "text": [
        "\n",
        "http://api.greatschools.org/reviews/school/CA/24132?key=3ibtlgutdkievurqdaqqawxx"
       ]
      },
      {
       "output_type": "stream",
       "stream": "stdout",
       "text": [
        "\n",
        "HTTP Error 401: Unauthorized"
       ]
      },
      {
       "output_type": "stream",
       "stream": "stdout",
       "text": [
        "\n",
        "http://api.greatschools.org/reviews/school/CA/2727?key=3ibtlgutdkievurqdaqqawxx"
       ]
      },
      {
       "output_type": "stream",
       "stream": "stdout",
       "text": [
        "\n",
        "HTTP Error 401: Unauthorized"
       ]
      },
      {
       "output_type": "stream",
       "stream": "stdout",
       "text": [
        "\n",
        "http://api.greatschools.org/reviews/school/CA/1801?key=3ibtlgutdkievurqdaqqawxx"
       ]
      },
      {
       "output_type": "stream",
       "stream": "stdout",
       "text": [
        "\n",
        "HTTP Error 401: Unauthorized"
       ]
      },
      {
       "output_type": "stream",
       "stream": "stdout",
       "text": [
        "\n",
        "http://api.greatschools.org/reviews/school/CA/25447?key=3ibtlgutdkievurqdaqqawxx"
       ]
      },
      {
       "output_type": "stream",
       "stream": "stdout",
       "text": [
        "\n",
        "HTTP Error 401: Unauthorized"
       ]
      },
      {
       "output_type": "stream",
       "stream": "stdout",
       "text": [
        "\n",
        "http://api.greatschools.org/reviews/school/CA/1404?key=3ibtlgutdkievurqdaqqawxx"
       ]
      },
      {
       "output_type": "stream",
       "stream": "stdout",
       "text": [
        "\n",
        "HTTP Error 401: Unauthorized"
       ]
      },
      {
       "output_type": "stream",
       "stream": "stdout",
       "text": [
        "\n",
        "http://api.greatschools.org/reviews/school/CA/9561?key=3ibtlgutdkievurqdaqqawxx"
       ]
      },
      {
       "output_type": "stream",
       "stream": "stdout",
       "text": [
        "\n",
        "HTTP Error 401: Unauthorized"
       ]
      },
      {
       "output_type": "stream",
       "stream": "stdout",
       "text": [
        "\n",
        "http://api.greatschools.org/reviews/school/CA/2509?key=3ibtlgutdkievurqdaqqawxx"
       ]
      },
      {
       "output_type": "stream",
       "stream": "stdout",
       "text": [
        "\n",
        "HTTP Error 401: Unauthorized"
       ]
      },
      {
       "output_type": "stream",
       "stream": "stdout",
       "text": [
        "\n",
        "http://api.greatschools.org/reviews/school/CA/2079?key=3ibtlgutdkievurqdaqqawxx"
       ]
      },
      {
       "output_type": "stream",
       "stream": "stdout",
       "text": [
        "\n",
        "HTTP Error 401: Unauthorized"
       ]
      },
      {
       "output_type": "stream",
       "stream": "stdout",
       "text": [
        "\n",
        "http://api.greatschools.org/reviews/school/CA/2537?key=3ibtlgutdkievurqdaqqawxx"
       ]
      },
      {
       "output_type": "stream",
       "stream": "stdout",
       "text": [
        "\n",
        "HTTP Error 401: Unauthorized"
       ]
      },
      {
       "output_type": "stream",
       "stream": "stdout",
       "text": [
        "\n",
        "http://api.greatschools.org/reviews/school/CA/23828?key=3ibtlgutdkievurqdaqqawxx"
       ]
      },
      {
       "output_type": "stream",
       "stream": "stdout",
       "text": [
        "\n",
        "HTTP Error 401: Unauthorized"
       ]
      },
      {
       "output_type": "stream",
       "stream": "stdout",
       "text": [
        "\n",
        "http://api.greatschools.org/reviews/school/CA/9156?key=3ibtlgutdkievurqdaqqawxx"
       ]
      },
      {
       "output_type": "stream",
       "stream": "stdout",
       "text": [
        "\n",
        "HTTP Error 401: Unauthorized"
       ]
      },
      {
       "output_type": "stream",
       "stream": "stdout",
       "text": [
        "\n",
        "http://api.greatschools.org/reviews/school/CA/8025?key=3ibtlgutdkievurqdaqqawxx"
       ]
      },
      {
       "output_type": "stream",
       "stream": "stdout",
       "text": [
        "\n",
        "HTTP Error 401: Unauthorized"
       ]
      },
      {
       "output_type": "stream",
       "stream": "stdout",
       "text": [
        "\n",
        "http://api.greatschools.org/reviews/school/CA/23833?key=3ibtlgutdkievurqdaqqawxx"
       ]
      },
      {
       "output_type": "stream",
       "stream": "stdout",
       "text": [
        "\n",
        "HTTP Error 401: Unauthorized"
       ]
      },
      {
       "output_type": "stream",
       "stream": "stdout",
       "text": [
        "\n",
        "http://api.greatschools.org/reviews/school/CA/2673?key=3ibtlgutdkievurqdaqqawxx"
       ]
      },
      {
       "output_type": "stream",
       "stream": "stdout",
       "text": [
        "\n",
        "HTTP Error 401: Unauthorized"
       ]
      },
      {
       "output_type": "stream",
       "stream": "stdout",
       "text": [
        "\n",
        "http://api.greatschools.org/reviews/school/CA/12714?key=3ibtlgutdkievurqdaqqawxx"
       ]
      },
      {
       "output_type": "stream",
       "stream": "stdout",
       "text": [
        "\n",
        "HTTP Error 401: Unauthorized"
       ]
      },
      {
       "output_type": "stream",
       "stream": "stdout",
       "text": [
        "\n",
        "http://api.greatschools.org/reviews/school/CA/23830?key=3ibtlgutdkievurqdaqqawxx"
       ]
      },
      {
       "output_type": "stream",
       "stream": "stdout",
       "text": [
        "\n",
        "HTTP Error 401: Unauthorized"
       ]
      },
      {
       "output_type": "stream",
       "stream": "stdout",
       "text": [
        "\n",
        "http://api.greatschools.org/reviews/school/CA/2723?key=3ibtlgutdkievurqdaqqawxx"
       ]
      },
      {
       "output_type": "stream",
       "stream": "stdout",
       "text": [
        "\n",
        "HTTP Error 401: Unauthorized"
       ]
      },
      {
       "output_type": "stream",
       "stream": "stdout",
       "text": [
        "\n",
        "http://api.greatschools.org/reviews/school/CA/23969?key=3ibtlgutdkievurqdaqqawxx"
       ]
      },
      {
       "output_type": "stream",
       "stream": "stdout",
       "text": [
        "\n",
        "HTTP Error 401: Unauthorized"
       ]
      },
      {
       "output_type": "stream",
       "stream": "stdout",
       "text": [
        "\n",
        "http://api.greatschools.org/reviews/school/CA/8677?key=3ibtlgutdkievurqdaqqawxx"
       ]
      },
      {
       "output_type": "stream",
       "stream": "stdout",
       "text": [
        "\n",
        "HTTP Error 401: Unauthorized"
       ]
      },
      {
       "output_type": "stream",
       "stream": "stdout",
       "text": [
        "\n",
        "http://api.greatschools.org/reviews/school/CA/2767?key=3ibtlgutdkievurqdaqqawxx"
       ]
      },
      {
       "output_type": "stream",
       "stream": "stdout",
       "text": [
        "\n",
        "HTTP Error 401: Unauthorized"
       ]
      },
      {
       "output_type": "stream",
       "stream": "stdout",
       "text": [
        "\n",
        "http://api.greatschools.org/reviews/school/CA/25930?key=3ibtlgutdkievurqdaqqawxx"
       ]
      },
      {
       "output_type": "stream",
       "stream": "stdout",
       "text": [
        "\n",
        "HTTP Error 401: Unauthorized"
       ]
      },
      {
       "output_type": "stream",
       "stream": "stdout",
       "text": [
        "\n",
        "http://api.greatschools.org/reviews/school/CA/1691?key=3ibtlgutdkievurqdaqqawxx"
       ]
      },
      {
       "output_type": "stream",
       "stream": "stdout",
       "text": [
        "\n",
        "HTTP Error 401: Unauthorized"
       ]
      },
      {
       "output_type": "stream",
       "stream": "stdout",
       "text": [
        "\n",
        "http://api.greatschools.org/reviews/school/CA/2805?key=3ibtlgutdkievurqdaqqawxx"
       ]
      },
      {
       "output_type": "stream",
       "stream": "stdout",
       "text": [
        "\n",
        "HTTP Error 401: Unauthorized"
       ]
      },
      {
       "output_type": "stream",
       "stream": "stdout",
       "text": [
        "\n",
        "http://api.greatschools.org/reviews/school/CA/12812?key=3ibtlgutdkievurqdaqqawxx"
       ]
      },
      {
       "output_type": "stream",
       "stream": "stdout",
       "text": [
        "\n",
        "HTTP Error 401: Unauthorized"
       ]
      },
      {
       "output_type": "stream",
       "stream": "stdout",
       "text": [
        "\n",
        "http://api.greatschools.org/reviews/school/CA/2857?key=3ibtlgutdkievurqdaqqawxx"
       ]
      },
      {
       "output_type": "stream",
       "stream": "stdout",
       "text": [
        "\n",
        "HTTP Error 401: Unauthorized"
       ]
      },
      {
       "output_type": "stream",
       "stream": "stdout",
       "text": [
        "\n",
        "http://api.greatschools.org/reviews/school/CA/24196?key=3ibtlgutdkievurqdaqqawxx"
       ]
      },
      {
       "output_type": "stream",
       "stream": "stdout",
       "text": [
        "\n",
        "HTTP Error 401: Unauthorized"
       ]
      },
      {
       "output_type": "stream",
       "stream": "stdout",
       "text": [
        "\n",
        "http://api.greatschools.org/reviews/school/CA/9595?key=3ibtlgutdkievurqdaqqawxx"
       ]
      },
      {
       "output_type": "stream",
       "stream": "stdout",
       "text": [
        "\n",
        "HTTP Error 401: Unauthorized"
       ]
      },
      {
       "output_type": "stream",
       "stream": "stdout",
       "text": [
        "\n",
        "http://api.greatschools.org/reviews/school/CA/1525?key=3ibtlgutdkievurqdaqqawxx"
       ]
      },
      {
       "output_type": "stream",
       "stream": "stdout",
       "text": [
        "\n",
        "HTTP Error 401: Unauthorized"
       ]
      },
      {
       "output_type": "stream",
       "stream": "stdout",
       "text": [
        "\n",
        "http://api.greatschools.org/reviews/school/CA/25734?key=3ibtlgutdkievurqdaqqawxx"
       ]
      },
      {
       "output_type": "stream",
       "stream": "stdout",
       "text": [
        "\n",
        "HTTP Error 401: Unauthorized"
       ]
      },
      {
       "output_type": "stream",
       "stream": "stdout",
       "text": [
        "\n",
        "http://api.greatschools.org/reviews/school/CA/22362?key=3ibtlgutdkievurqdaqqawxx"
       ]
      },
      {
       "output_type": "stream",
       "stream": "stdout",
       "text": [
        "\n",
        "HTTP Error 401: Unauthorized"
       ]
      },
      {
       "output_type": "stream",
       "stream": "stdout",
       "text": [
        "\n",
        "http://api.greatschools.org/reviews/school/CA/2915?key=3ibtlgutdkievurqdaqqawxx"
       ]
      },
      {
       "output_type": "stream",
       "stream": "stdout",
       "text": [
        "\n",
        "HTTP Error 401: Unauthorized"
       ]
      },
      {
       "output_type": "stream",
       "stream": "stdout",
       "text": [
        "\n",
        "http://api.greatschools.org/reviews/school/CA/11752?key=3ibtlgutdkievurqdaqqawxx"
       ]
      },
      {
       "output_type": "stream",
       "stream": "stdout",
       "text": [
        "\n",
        "HTTP Error 401: Unauthorized"
       ]
      },
      {
       "output_type": "stream",
       "stream": "stdout",
       "text": [
        "\n",
        "http://api.greatschools.org/reviews/school/CA/2525?key=3ibtlgutdkievurqdaqqawxx"
       ]
      },
      {
       "output_type": "stream",
       "stream": "stdout",
       "text": [
        "\n",
        "HTTP Error 401: Unauthorized"
       ]
      },
      {
       "output_type": "stream",
       "stream": "stdout",
       "text": [
        "\n",
        "http://api.greatschools.org/reviews/school/CA/25942?key=3ibtlgutdkievurqdaqqawxx"
       ]
      },
      {
       "output_type": "stream",
       "stream": "stdout",
       "text": [
        "\n",
        "HTTP Error 401: Unauthorized"
       ]
      },
      {
       "output_type": "stream",
       "stream": "stdout",
       "text": [
        "\n",
        "http://api.greatschools.org/reviews/school/CA/7943?key=3ibtlgutdkievurqdaqqawxx"
       ]
      },
      {
       "output_type": "stream",
       "stream": "stdout",
       "text": [
        "\n",
        "HTTP Error 401: Unauthorized"
       ]
      },
      {
       "output_type": "stream",
       "stream": "stdout",
       "text": [
        "\n",
        "http://api.greatschools.org/reviews/school/CA/2538?key=3ibtlgutdkievurqdaqqawxx"
       ]
      },
      {
       "output_type": "stream",
       "stream": "stdout",
       "text": [
        "\n",
        "HTTP Error 401: Unauthorized"
       ]
      },
      {
       "output_type": "stream",
       "stream": "stdout",
       "text": [
        "\n",
        "http://api.greatschools.org/reviews/school/CA/25278?key=3ibtlgutdkievurqdaqqawxx"
       ]
      },
      {
       "output_type": "stream",
       "stream": "stdout",
       "text": [
        "\n",
        "HTTP Error 401: Unauthorized"
       ]
      },
      {
       "output_type": "stream",
       "stream": "stdout",
       "text": [
        "\n",
        "http://api.greatschools.org/reviews/school/CA/1712?key=3ibtlgutdkievurqdaqqawxx"
       ]
      },
      {
       "output_type": "stream",
       "stream": "stdout",
       "text": [
        "\n",
        "HTTP Error 401: Unauthorized"
       ]
      },
      {
       "output_type": "stream",
       "stream": "stdout",
       "text": [
        "\n",
        "http://api.greatschools.org/reviews/school/CA/2962?key=3ibtlgutdkievurqdaqqawxx"
       ]
      },
      {
       "output_type": "stream",
       "stream": "stdout",
       "text": [
        "\n",
        "HTTP Error 401: Unauthorized"
       ]
      },
      {
       "output_type": "stream",
       "stream": "stdout",
       "text": [
        "\n",
        "http://api.greatschools.org/reviews/school/CA/25078?key=3ibtlgutdkievurqdaqqawxx"
       ]
      },
      {
       "output_type": "stream",
       "stream": "stdout",
       "text": [
        "\n",
        "HTTP Error 401: Unauthorized"
       ]
      },
      {
       "output_type": "stream",
       "stream": "stdout",
       "text": [
        "\n",
        "http://api.greatschools.org/reviews/school/CA/11296?key=3ibtlgutdkievurqdaqqawxx"
       ]
      },
      {
       "output_type": "stream",
       "stream": "stdout",
       "text": [
        "\n",
        "HTTP Error 401: Unauthorized"
       ]
      },
      {
       "output_type": "stream",
       "stream": "stdout",
       "text": [
        "\n",
        "http://api.greatschools.org/reviews/school/CA/9301?key=3ibtlgutdkievurqdaqqawxx"
       ]
      },
      {
       "output_type": "stream",
       "stream": "stdout",
       "text": [
        "\n",
        "HTTP Error 401: Unauthorized"
       ]
      },
      {
       "output_type": "stream",
       "stream": "stdout",
       "text": [
        "\n",
        "http://api.greatschools.org/reviews/school/CA/2535?key=3ibtlgutdkievurqdaqqawxx"
       ]
      },
      {
       "output_type": "stream",
       "stream": "stdout",
       "text": [
        "\n",
        "HTTP Error 401: Unauthorized"
       ]
      },
      {
       "output_type": "stream",
       "stream": "stdout",
       "text": [
        "\n"
       ]
      }
     ],
     "prompt_number": 8
    },
    {
     "cell_type": "markdown",
     "metadata": {},
     "source": [
      "#### Ad hoc clean-up of scraped GS reviews  (Python)\n",
      "\n",
      "It was discovered that the reviews scraped using R contained html escape sequences for certain ASII codes.  The code below was used to correct the problem in the database (scrubbing was also done \"on the fly\" in the LDA runs)."
     ]
    },
    {
     "cell_type": "code",
     "collapsed": false,
     "input": [
      "\"\"\"\n",
      "clean_up = ['reviews-alabama-birmingham-nicedate.csv',\n",
      "            'reviews-florida-miami-nicedate.csv', \n",
      "            'reviews-california-los-angeles-nicedate.csv']\n",
      "\"\"\"\n",
      "clean_up = ['reviews-notla.csv']\n",
      "\n",
      "for n in clean_up:\n",
      "    this_data = pd.read_csv(n)\n",
      "    this_data.reviews = [no_escape(x) for x in this_data.reviews] # only unescapes reviews\n",
      "    this_data.to_csv('noescape-{}'.format(n)) #save with prefix - i.e., keep old file\n",
      "    "
     ],
     "language": "python",
     "metadata": {},
     "outputs": [],
     "prompt_number": 6
    },
    {
     "cell_type": "markdown",
     "metadata": {},
     "source": [
      "#### Retrieve name and state name for all cities/towns in a given state  (Python)\n",
      "\n",
      "While awaiting final word from GreatSchools as to whether we would be given access to the full dataset, we decided to assure access to a modicum of data by scraping all GS schools and reviews for California.  A standard file of US cities was located and downloaded, and the code below was used to generate a list of CA cities for which there was at least one school and review."
     ]
    },
    {
     "cell_type": "code",
     "collapsed": false,
     "input": [
      "\"\"\"\n",
      "Function\n",
      "--------\n",
      "find _GS_cities\n",
      "\n",
      "Retrieves schools and review records via the GreatSchools API\n",
      "\n",
      "Parameters\n",
      "----------\n",
      "city_state : array of city / state tuples\n",
      "    \n",
      "Returns\n",
      "-------\n",
      "sdf : panda dataframe of GreatSchools school data records\n",
      "\n",
      "     \n",
      "Examples\n",
      "--------\n",
      "see next cell\n",
      "\n",
      "\"\"\"\n",
      "\n",
      "schools_url = 'http://api.greatschools.org/schools/{}/{}?key={}&limit=-1'\n",
      "\n",
      "def find_GS_cities_towns(city_state):\n",
      "    \n",
      "    try:\n",
      "         \n",
      "        for id, values in city_state.iterrows():\n",
      "        \n",
      "            city = values['city'].replace('-','_').replace(' ','-') # prep city name per GS format\n",
      "            state = values['state']\n",
      "            \n",
      "            xml = urllib2.urlopen(schools_url.format(state, city, GS_api_key)).read()\n",
      "            \n",
      "            # unicode housekeeping\n",
      "            xml = unicode(xml.strip(codecs.BOM_UTF8), 'utf-8')\n",
      "            xml = xml.encode('UTF-8')\n",
      "            \n",
      "            soup = Soup(xml)\n",
      "            soup = soup.findAll('school')\n",
      "            \n",
      "                       \n",
      "            for gs in soup:\n",
      "                \n",
      "                # filter duplicates:  API returns some school gsids under multiple city names\n",
      "                print \"['{}','{}'],\".format(gs.city.text, 'CA')\n",
      "                break\n",
      "     \n",
      "    except IOError as e:    \n",
      "        print e\n",
      "        \n",
      "        \n",
      "# instance mysql_ops\n",
      "cnx = mysql_ops()\n",
      "state = 'CA'\n",
      "df = cnx.get_cities_towns_by_state(state)\n",
      "find_GS_cities_towns(df)"
     ],
     "language": "python",
     "metadata": {},
     "outputs": [
      {
       "output_type": "stream",
       "stream": "stdout",
       "text": [
        "['Acampo','CA'],\n",
        "['Acton','CA'],"
       ]
      },
      {
       "output_type": "stream",
       "stream": "stdout",
       "text": [
        "\n",
        "['Adelanto','CA'],"
       ]
      },
      {
       "output_type": "stream",
       "stream": "stdout",
       "text": [
        "\n",
        "['Agoura Hills','CA'],"
       ]
      },
      {
       "output_type": "stream",
       "stream": "stdout",
       "text": [
        "\n",
        "['Aguanga','CA'],"
       ]
      },
      {
       "output_type": "stream",
       "stream": "stdout",
       "text": [
        "\n",
        "['Ahwahnee','CA'],"
       ]
      },
      {
       "output_type": "stream",
       "stream": "stdout",
       "text": [
        "\n",
        "['Alameda','CA'],"
       ]
      },
      {
       "output_type": "stream",
       "stream": "stdout",
       "text": [
        "\n",
        "['Alamo','CA'],"
       ]
      },
      {
       "output_type": "stream",
       "stream": "stdout",
       "text": [
        "\n",
        "['Albany','CA'],"
       ]
      },
      {
       "output_type": "stream",
       "stream": "stdout",
       "text": [
        "\n",
        "['Albion','CA'],"
       ]
      },
      {
       "output_type": "stream",
       "stream": "stdout",
       "text": [
        "\n",
        "['Alhambra','CA'],"
       ]
      },
      {
       "output_type": "stream",
       "stream": "stdout",
       "text": [
        "\n",
        "['Aliso Viejo','CA'],"
       ]
      },
      {
       "output_type": "stream",
       "stream": "stdout",
       "text": [
        "\n",
        "['Alpaugh','CA'],"
       ]
      },
      {
       "output_type": "stream",
       "stream": "stdout",
       "text": [
        "\n",
        "['Alpine','CA'],"
       ]
      },
      {
       "output_type": "stream",
       "stream": "stdout",
       "text": [
        "\n",
        "['Alta Loma','CA'],"
       ]
      },
      {
       "output_type": "stream",
       "stream": "stdout",
       "text": [
        "\n",
        "['Altadena','CA'],"
       ]
      },
      {
       "output_type": "stream",
       "stream": "stdout",
       "text": [
        "\n",
        "['Alturas','CA'],"
       ]
      },
      {
       "output_type": "stream",
       "stream": "stdout",
       "text": [
        "\n",
        "['Alviso','CA'],"
       ]
      },
      {
       "output_type": "stream",
       "stream": "stdout",
       "text": [
        "\n",
        "['American Canyon','CA'],"
       ]
      },
      {
       "output_type": "stream",
       "stream": "stdout",
       "text": [
        "\n",
        "['Anaheim','CA'],"
       ]
      },
      {
       "output_type": "stream",
       "stream": "stdout",
       "text": [
        "\n",
        "['Anderson','CA'],"
       ]
      },
      {
       "output_type": "stream",
       "stream": "stdout",
       "text": [
        "\n",
        "['Angels Camp','CA'],"
       ]
      },
      {
       "output_type": "stream",
       "stream": "stdout",
       "text": [
        "\n",
        "['Angelus Oaks','CA'],"
       ]
      },
      {
       "output_type": "stream",
       "stream": "stdout",
       "text": [
        "\n",
        "['Angwin','CA'],"
       ]
      },
      {
       "output_type": "stream",
       "stream": "stdout",
       "text": [
        "\n",
        "['Annapolis','CA'],"
       ]
      },
      {
       "output_type": "stream",
       "stream": "stdout",
       "text": [
        "\n",
        "['Antelope','CA'],"
       ]
      },
      {
       "output_type": "stream",
       "stream": "stdout",
       "text": [
        "\n",
        "['Antioch','CA'],"
       ]
      },
      {
       "output_type": "stream",
       "stream": "stdout",
       "text": [
        "\n",
        "['Anza','CA'],"
       ]
      },
      {
       "output_type": "stream",
       "stream": "stdout",
       "text": [
        "\n",
        "['Apple Valley','CA'],"
       ]
      },
      {
       "output_type": "stream",
       "stream": "stdout",
       "text": [
        "\n",
        "['Aptos','CA'],"
       ]
      },
      {
       "output_type": "stream",
       "stream": "stdout",
       "text": [
        "\n",
        "['Arbuckle','CA'],"
       ]
      },
      {
       "output_type": "stream",
       "stream": "stdout",
       "text": [
        "\n",
        "['Arcadia','CA'],"
       ]
      },
      {
       "output_type": "stream",
       "stream": "stdout",
       "text": [
        "\n",
        "['Arcata','CA'],"
       ]
      },
      {
       "output_type": "stream",
       "stream": "stdout",
       "text": [
        "\n",
        "['Armona','CA'],"
       ]
      },
      {
       "output_type": "stream",
       "stream": "stdout",
       "text": [
        "\n",
        "['Arnold','CA'],"
       ]
      },
      {
       "output_type": "stream",
       "stream": "stdout",
       "text": [
        "\n",
        "['Aromas','CA'],"
       ]
      },
      {
       "output_type": "stream",
       "stream": "stdout",
       "text": [
        "\n",
        "['Arroyo Grande','CA'],"
       ]
      },
      {
       "output_type": "stream",
       "stream": "stdout",
       "text": [
        "\n",
        "['Artesia','CA'],"
       ]
      },
      {
       "output_type": "stream",
       "stream": "stdout",
       "text": [
        "\n",
        "['Arvin','CA'],"
       ]
      },
      {
       "output_type": "stream",
       "stream": "stdout",
       "text": [
        "\n",
        "['Atascadero','CA'],"
       ]
      },
      {
       "output_type": "stream",
       "stream": "stdout",
       "text": [
        "\n",
        "['Atherton','CA'],"
       ]
      },
      {
       "output_type": "stream",
       "stream": "stdout",
       "text": [
        "\n",
        "['Atwater','CA'],"
       ]
      },
      {
       "output_type": "stream",
       "stream": "stdout",
       "text": [
        "\n",
        "['Auberry','CA'],"
       ]
      },
      {
       "output_type": "stream",
       "stream": "stdout",
       "text": [
        "\n",
        "['Auburn','CA'],"
       ]
      },
      {
       "output_type": "stream",
       "stream": "stdout",
       "text": [
        "\n",
        "['Avenal','CA'],"
       ]
      },
      {
       "output_type": "stream",
       "stream": "stdout",
       "text": [
        "\n",
        "['Avery','CA'],"
       ]
      },
      {
       "output_type": "stream",
       "stream": "stdout",
       "text": [
        "\n",
        "['Azusa','CA'],"
       ]
      },
      {
       "output_type": "stream",
       "stream": "stdout",
       "text": [
        "\n",
        "['Badger','CA'],"
       ]
      },
      {
       "output_type": "stream",
       "stream": "stdout",
       "text": [
        "\n",
        "['Baker','CA'],"
       ]
      },
      {
       "output_type": "stream",
       "stream": "stdout",
       "text": [
        "\n",
        "['Bakersfield','CA'],"
       ]
      },
      {
       "output_type": "stream",
       "stream": "stdout",
       "text": [
        "\n",
        "['Baldwin Park','CA'],"
       ]
      },
      {
       "output_type": "stream",
       "stream": "stdout",
       "text": [
        "\n",
        "['Ballico','CA'],"
       ]
      },
      {
       "output_type": "stream",
       "stream": "stdout",
       "text": [
        "\n",
        "['Bangor','CA'],"
       ]
      },
      {
       "output_type": "stream",
       "stream": "stdout",
       "text": [
        "\n",
        "['Banning','CA'],"
       ]
      },
      {
       "output_type": "stream",
       "stream": "stdout",
       "text": [
        "\n",
        "['Barstow','CA'],"
       ]
      },
      {
       "output_type": "stream",
       "stream": "stdout",
       "text": [
        "\n",
        "['Bayside','CA'],"
       ]
      },
      {
       "output_type": "stream",
       "stream": "stdout",
       "text": [
        "\n",
        "['Beale AFB','CA'],"
       ]
      },
      {
       "output_type": "stream",
       "stream": "stdout",
       "text": [
        "\n",
        "['Beaumont','CA'],"
       ]
      },
      {
       "output_type": "stream",
       "stream": "stdout",
       "text": [
        "\n",
        "['Beckwourth','CA'],"
       ]
      },
      {
       "output_type": "stream",
       "stream": "stdout",
       "text": [
        "\n",
        "['Bell','CA'],"
       ]
      },
      {
       "output_type": "stream",
       "stream": "stdout",
       "text": [
        "\n",
        "['Bell Gardens','CA'],"
       ]
      },
      {
       "output_type": "stream",
       "stream": "stdout",
       "text": [
        "\n",
        "['Bella Vista','CA'],"
       ]
      },
      {
       "output_type": "stream",
       "stream": "stdout",
       "text": [
        "\n",
        "['Bellflower','CA'],"
       ]
      },
      {
       "output_type": "stream",
       "stream": "stdout",
       "text": [
        "\n",
        "['Belmont','CA'],"
       ]
      },
      {
       "output_type": "stream",
       "stream": "stdout",
       "text": [
        "\n",
        "['Benicia','CA'],"
       ]
      },
      {
       "output_type": "stream",
       "stream": "stdout",
       "text": [
        "\n",
        "['Benton','CA'],"
       ]
      },
      {
       "output_type": "stream",
       "stream": "stdout",
       "text": [
        "\n",
        "['Berkeley','CA'],"
       ]
      },
      {
       "output_type": "stream",
       "stream": "stdout",
       "text": [
        "\n",
        "['Berry Creek','CA'],"
       ]
      },
      {
       "output_type": "stream",
       "stream": "stdout",
       "text": [
        "\n",
        "['Beverly Hills','CA'],"
       ]
      },
      {
       "output_type": "stream",
       "stream": "stdout",
       "text": [
        "\n",
        "['Bieber','CA'],"
       ]
      },
      {
       "output_type": "stream",
       "stream": "stdout",
       "text": [
        "\n",
        "['Big Bar','CA'],"
       ]
      },
      {
       "output_type": "stream",
       "stream": "stdout",
       "text": [
        "\n",
        "['Big Bear City','CA'],"
       ]
      },
      {
       "output_type": "stream",
       "stream": "stdout",
       "text": [
        "\n",
        "['Big Bear Lake','CA'],"
       ]
      },
      {
       "output_type": "stream",
       "stream": "stdout",
       "text": [
        "\n",
        "['Big Bend','CA'],"
       ]
      },
      {
       "output_type": "stream",
       "stream": "stdout",
       "text": [
        "\n",
        "['Big Creek','CA'],"
       ]
      },
      {
       "output_type": "stream",
       "stream": "stdout",
       "text": [
        "\n",
        "['Big Pine','CA'],"
       ]
      },
      {
       "output_type": "stream",
       "stream": "stdout",
       "text": [
        "\n",
        "['Big Sur','CA'],"
       ]
      },
      {
       "output_type": "stream",
       "stream": "stdout",
       "text": [
        "\n",
        "['Biggs','CA'],"
       ]
      },
      {
       "output_type": "stream",
       "stream": "stdout",
       "text": [
        "\n",
        "['Bishop','CA'],"
       ]
      },
      {
       "output_type": "stream",
       "stream": "stdout",
       "text": [
        "\n",
        "['Blocksburg','CA'],"
       ]
      },
      {
       "output_type": "stream",
       "stream": "stdout",
       "text": [
        "\n",
        "['Bloomington','CA'],"
       ]
      },
      {
       "output_type": "stream",
       "stream": "stdout",
       "text": [
        "\n",
        "['Blue Lake','CA'],"
       ]
      },
      {
       "output_type": "stream",
       "stream": "stdout",
       "text": [
        "\n",
        "['Blythe','CA'],"
       ]
      },
      {
       "output_type": "stream",
       "stream": "stdout",
       "text": [
        "\n",
        "['Bodega Bay','CA'],"
       ]
      },
      {
       "output_type": "stream",
       "stream": "stdout",
       "text": [
        "\n",
        "['Bodega Bay','CA'],"
       ]
      },
      {
       "output_type": "stream",
       "stream": "stdout",
       "text": [
        "\n",
        "['Bolinas','CA'],"
       ]
      },
      {
       "output_type": "stream",
       "stream": "stdout",
       "text": [
        "\n",
        "['Bonita','CA'],"
       ]
      },
      {
       "output_type": "stream",
       "stream": "stdout",
       "text": [
        "\n",
        "['Bonsall','CA'],"
       ]
      },
      {
       "output_type": "stream",
       "stream": "stdout",
       "text": [
        "\n",
        "['Boonville','CA'],"
       ]
      },
      {
       "output_type": "stream",
       "stream": "stdout",
       "text": [
        "\n",
        "['Boron','CA'],"
       ]
      },
      {
       "output_type": "stream",
       "stream": "stdout",
       "text": [
        "\n",
        "['Borrego Springs','CA'],"
       ]
      },
      {
       "output_type": "stream",
       "stream": "stdout",
       "text": [
        "\n",
        "['Boulder Creek','CA'],"
       ]
      },
      {
       "output_type": "stream",
       "stream": "stdout",
       "text": [
        "\n",
        "['Boulevard','CA'],"
       ]
      },
      {
       "output_type": "stream",
       "stream": "stdout",
       "text": [
        "\n",
        "['Bradley','CA'],"
       ]
      },
      {
       "output_type": "stream",
       "stream": "stdout",
       "text": [
        "\n",
        "['Brawley','CA'],"
       ]
      },
      {
       "output_type": "stream",
       "stream": "stdout",
       "text": [
        "\n",
        "['Brea','CA'],"
       ]
      },
      {
       "output_type": "stream",
       "stream": "stdout",
       "text": [
        "\n",
        "['Brentwood','CA'],"
       ]
      },
      {
       "output_type": "stream",
       "stream": "stdout",
       "text": [
        "\n",
        "['Bridgeport','CA'],"
       ]
      },
      {
       "output_type": "stream",
       "stream": "stdout",
       "text": [
        "\n",
        "['Bridgeville','CA'],"
       ]
      },
      {
       "output_type": "stream",
       "stream": "stdout",
       "text": [
        "\n",
        "['Brisbane','CA'],"
       ]
      },
      {
       "output_type": "stream",
       "stream": "stdout",
       "text": [
        "\n",
        "['Browns Valley','CA'],"
       ]
      },
      {
       "output_type": "stream",
       "stream": "stdout",
       "text": [
        "\n",
        "['Brownsville','CA'],"
       ]
      },
      {
       "output_type": "stream",
       "stream": "stdout",
       "text": [
        "\n",
        "['Buellton','CA'],"
       ]
      },
      {
       "output_type": "stream",
       "stream": "stdout",
       "text": [
        "\n",
        "['Buena Park','CA'],"
       ]
      },
      {
       "output_type": "stream",
       "stream": "stdout",
       "text": [
        "\n",
        "['Burbank','CA'],"
       ]
      },
      {
       "output_type": "stream",
       "stream": "stdout",
       "text": [
        "\n",
        "['Burlingame','CA'],"
       ]
      },
      {
       "output_type": "stream",
       "stream": "stdout",
       "text": [
        "\n",
        "['Burney','CA'],"
       ]
      },
      {
       "output_type": "stream",
       "stream": "stdout",
       "text": [
        "\n",
        "['Burnt Ranch','CA'],"
       ]
      },
      {
       "output_type": "stream",
       "stream": "stdout",
       "text": [
        "\n",
        "['Buttonwillow','CA'],"
       ]
      },
      {
       "output_type": "stream",
       "stream": "stdout",
       "text": [
        "\n",
        "['Byron','CA'],"
       ]
      },
      {
       "output_type": "stream",
       "stream": "stdout",
       "text": [
        "\n",
        "['Cabazon','CA'],"
       ]
      },
      {
       "output_type": "stream",
       "stream": "stdout",
       "text": [
        "\n",
        "['Calabasas','CA'],"
       ]
      },
      {
       "output_type": "stream",
       "stream": "stdout",
       "text": [
        "\n",
        "['Calexico','CA'],"
       ]
      },
      {
       "output_type": "stream",
       "stream": "stdout",
       "text": [
        "\n",
        "['Caliente','CA'],"
       ]
      },
      {
       "output_type": "stream",
       "stream": "stdout",
       "text": [
        "\n",
        "['California City','CA'],"
       ]
      },
      {
       "output_type": "stream",
       "stream": "stdout",
       "text": [
        "\n",
        "['California Hot Springs','CA'],"
       ]
      },
      {
       "output_type": "stream",
       "stream": "stdout",
       "text": [
        "\n",
        "['Calimesa','CA'],"
       ]
      },
      {
       "output_type": "stream",
       "stream": "stdout",
       "text": [
        "\n",
        "['Calipatria','CA'],"
       ]
      },
      {
       "output_type": "stream",
       "stream": "stdout",
       "text": [
        "\n",
        "['Calistoga','CA'],"
       ]
      },
      {
       "output_type": "stream",
       "stream": "stdout",
       "text": [
        "\n",
        "['Calpella','CA'],"
       ]
      },
      {
       "output_type": "stream",
       "stream": "stdout",
       "text": [
        "\n",
        "['Camarillo','CA'],"
       ]
      },
      {
       "output_type": "stream",
       "stream": "stdout",
       "text": [
        "\n",
        "['Cambria','CA'],"
       ]
      },
      {
       "output_type": "stream",
       "stream": "stdout",
       "text": [
        "\n",
        "['Camino','CA'],"
       ]
      },
      {
       "output_type": "stream",
       "stream": "stdout",
       "text": [
        "\n",
        "['Campbell','CA'],"
       ]
      },
      {
       "output_type": "stream",
       "stream": "stdout",
       "text": [
        "\n",
        "['Campo','CA'],"
       ]
      },
      {
       "output_type": "stream",
       "stream": "stdout",
       "text": [
        "\n",
        "['Camptonville','CA'],"
       ]
      },
      {
       "output_type": "stream",
       "stream": "stdout",
       "text": [
        "\n",
        "['Canby','CA'],"
       ]
      },
      {
       "output_type": "stream",
       "stream": "stdout",
       "text": [
        "\n",
        "['Canoga Park','CA'],"
       ]
      },
      {
       "output_type": "stream",
       "stream": "stdout",
       "text": [
        "\n",
        "['Cantua Creek','CA'],"
       ]
      },
      {
       "output_type": "stream",
       "stream": "stdout",
       "text": [
        "\n",
        "['American Canyon','CA'],"
       ]
      },
      {
       "output_type": "stream",
       "stream": "stdout",
       "text": [
        "\n",
        "['Canyon Country','CA'],"
       ]
      },
      {
       "output_type": "stream",
       "stream": "stdout",
       "text": [
        "\n",
        "['Capitola','CA'],"
       ]
      },
      {
       "output_type": "stream",
       "stream": "stdout",
       "text": [
        "\n",
        "['Cardiff-By-The-Sea','CA'],"
       ]
      },
      {
       "output_type": "stream",
       "stream": "stdout",
       "text": [
        "\n",
        "['Carlotta','CA'],"
       ]
      },
      {
       "output_type": "stream",
       "stream": "stdout",
       "text": [
        "\n",
        "['Carlsbad','CA'],"
       ]
      },
      {
       "output_type": "stream",
       "stream": "stdout",
       "text": [
        "\n",
        "['Carmel','CA'],"
       ]
      },
      {
       "output_type": "stream",
       "stream": "stdout",
       "text": [
        "\n",
        "['Carmel Valley','CA'],"
       ]
      },
      {
       "output_type": "stream",
       "stream": "stdout",
       "text": [
        "\n",
        "['Carmichael','CA'],"
       ]
      },
      {
       "output_type": "stream",
       "stream": "stdout",
       "text": [
        "\n",
        "['Carpinteria','CA'],"
       ]
      },
      {
       "output_type": "stream",
       "stream": "stdout",
       "text": [
        "\n",
        "['Carson','CA'],"
       ]
      },
      {
       "output_type": "stream",
       "stream": "stdout",
       "text": [
        "\n",
        "['Caruthers','CA'],"
       ]
      },
      {
       "output_type": "stream",
       "stream": "stdout",
       "text": [
        "\n",
        "['Cassel','CA'],"
       ]
      },
      {
       "output_type": "stream",
       "stream": "stdout",
       "text": [
        "\n",
        "['Castaic','CA'],"
       ]
      },
      {
       "output_type": "stream",
       "stream": "stdout",
       "text": [
        "\n",
        "['Castella','CA'],"
       ]
      },
      {
       "output_type": "stream",
       "stream": "stdout",
       "text": [
        "\n",
        "['Castro Valley','CA'],"
       ]
      },
      {
       "output_type": "stream",
       "stream": "stdout",
       "text": [
        "\n",
        "['Castroville','CA'],"
       ]
      },
      {
       "output_type": "stream",
       "stream": "stdout",
       "text": [
        "\n",
        "['Cathedral City','CA'],"
       ]
      },
      {
       "output_type": "stream",
       "stream": "stdout",
       "text": [
        "\n",
        "['Cayucos','CA'],"
       ]
      },
      {
       "output_type": "stream",
       "stream": "stdout",
       "text": [
        "\n",
        "['Cazadero','CA'],"
       ]
      },
      {
       "output_type": "stream",
       "stream": "stdout",
       "text": [
        "\n",
        "['Cedar Glen','CA'],"
       ]
      },
      {
       "output_type": "stream",
       "stream": "stdout",
       "text": [
        "\n",
        "['Cedarville','CA'],"
       ]
      },
      {
       "output_type": "stream",
       "stream": "stdout",
       "text": [
        "\n",
        "['Ceres','CA'],"
       ]
      },
      {
       "output_type": "stream",
       "stream": "stdout",
       "text": [
        "\n",
        "['Cerritos','CA'],"
       ]
      },
      {
       "output_type": "stream",
       "stream": "stdout",
       "text": [
        "\n",
        "['Challenge','CA'],"
       ]
      },
      {
       "output_type": "stream",
       "stream": "stdout",
       "text": [
        "\n",
        "['Chatsworth','CA'],"
       ]
      },
      {
       "output_type": "stream",
       "stream": "stdout",
       "text": [
        "\n",
        "['Chester','CA'],"
       ]
      },
      {
       "output_type": "stream",
       "stream": "stdout",
       "text": [
        "\n",
        "['Chico','CA'],"
       ]
      },
      {
       "output_type": "stream",
       "stream": "stdout",
       "text": [
        "\n",
        "['Chinese Camp','CA'],"
       ]
      },
      {
       "output_type": "stream",
       "stream": "stdout",
       "text": [
        "\n",
        "['Chino','CA'],"
       ]
      },
      {
       "output_type": "stream",
       "stream": "stdout",
       "text": [
        "\n",
        "['Chino Hills','CA'],"
       ]
      },
      {
       "output_type": "stream",
       "stream": "stdout",
       "text": [
        "\n",
        "['Chowchilla','CA'],"
       ]
      },
      {
       "output_type": "stream",
       "stream": "stdout",
       "text": [
        "\n",
        "['Chualar','CA'],"
       ]
      },
      {
       "output_type": "stream",
       "stream": "stdout",
       "text": [
        "\n",
        "['Chula Vista','CA'],"
       ]
      },
      {
       "output_type": "stream",
       "stream": "stdout",
       "text": [
        "\n",
        "['Citrus Heights','CA'],"
       ]
      },
      {
       "output_type": "stream",
       "stream": "stdout",
       "text": [
        "\n",
        "['City of Industry','CA'],"
       ]
      },
      {
       "output_type": "stream",
       "stream": "stdout",
       "text": [
        "\n",
        "['Claremont','CA'],"
       ]
      },
      {
       "output_type": "stream",
       "stream": "stdout",
       "text": [
        "\n",
        "['Clarksburg','CA'],"
       ]
      },
      {
       "output_type": "stream",
       "stream": "stdout",
       "text": [
        "\n",
        "['Clayton','CA'],"
       ]
      },
      {
       "output_type": "stream",
       "stream": "stdout",
       "text": [
        "\n",
        "['Clearlake','CA'],"
       ]
      },
      {
       "output_type": "stream",
       "stream": "stdout",
       "text": [
        "\n",
        "['San Clemente','CA'],"
       ]
      },
      {
       "output_type": "stream",
       "stream": "stdout",
       "text": [
        "\n",
        "['Cloverdale','CA'],"
       ]
      },
      {
       "output_type": "stream",
       "stream": "stdout",
       "text": [
        "\n",
        "['Clovis','CA'],"
       ]
      },
      {
       "output_type": "stream",
       "stream": "stdout",
       "text": [
        "\n",
        "['Coachella','CA'],"
       ]
      },
      {
       "output_type": "stream",
       "stream": "stdout",
       "text": [
        "\n",
        "['Coalinga','CA'],"
       ]
      },
      {
       "output_type": "stream",
       "stream": "stdout",
       "text": [
        "\n",
        "['Coarsegold','CA'],"
       ]
      },
      {
       "output_type": "stream",
       "stream": "stdout",
       "text": [
        "\n",
        "['Cobb','CA'],"
       ]
      },
      {
       "output_type": "stream",
       "stream": "stdout",
       "text": [
        "\n",
        "['Coleville','CA'],"
       ]
      },
      {
       "output_type": "stream",
       "stream": "stdout",
       "text": [
        "\n",
        "['Colfax','CA'],"
       ]
      },
      {
       "output_type": "stream",
       "stream": "stdout",
       "text": [
        "\n",
        "['Colton','CA'],"
       ]
      },
      {
       "output_type": "stream",
       "stream": "stdout",
       "text": [
        "\n",
        "['Columbia','CA'],"
       ]
      },
      {
       "output_type": "stream",
       "stream": "stdout",
       "text": [
        "\n",
        "['Colusa','CA'],"
       ]
      },
      {
       "output_type": "stream",
       "stream": "stdout",
       "text": [
        "\n",
        "['Comptche','CA'],"
       ]
      },
      {
       "output_type": "stream",
       "stream": "stdout",
       "text": [
        "\n",
        "['Compton','CA'],"
       ]
      },
      {
       "output_type": "stream",
       "stream": "stdout",
       "text": [
        "\n",
        "['Concord','CA'],"
       ]
      },
      {
       "output_type": "stream",
       "stream": "stdout",
       "text": [
        "\n",
        "['Cool','CA'],"
       ]
      },
      {
       "output_type": "stream",
       "stream": "stdout",
       "text": [
        "\n",
        "['Copperopolis','CA'],"
       ]
      },
      {
       "output_type": "stream",
       "stream": "stdout",
       "text": [
        "\n",
        "['Corcoran','CA'],"
       ]
      },
      {
       "output_type": "stream",
       "stream": "stdout",
       "text": [
        "\n",
        "['Corning','CA'],"
       ]
      },
      {
       "output_type": "stream",
       "stream": "stdout",
       "text": [
        "\n",
        "['Corona del Mar','CA'],"
       ]
      },
      {
       "output_type": "stream",
       "stream": "stdout",
       "text": [
        "\n",
        "['Corona del Mar','CA'],"
       ]
      },
      {
       "output_type": "stream",
       "stream": "stdout",
       "text": [
        "\n",
        "['Coronado','CA'],"
       ]
      },
      {
       "output_type": "stream",
       "stream": "stdout",
       "text": [
        "\n",
        "['Corte Madera','CA'],"
       ]
      },
      {
       "output_type": "stream",
       "stream": "stdout",
       "text": [
        "\n",
        "['Costa Mesa','CA'],"
       ]
      },
      {
       "output_type": "stream",
       "stream": "stdout",
       "text": [
        "\n",
        "['Cotati','CA'],"
       ]
      },
      {
       "output_type": "stream",
       "stream": "stdout",
       "text": [
        "\n",
        "['Cottonwood','CA'],"
       ]
      },
      {
       "output_type": "stream",
       "stream": "stdout",
       "text": [
        "\n",
        "['Coulterville','CA'],"
       ]
      },
      {
       "output_type": "stream",
       "stream": "stdout",
       "text": [
        "\n",
        "['Courtland','CA'],"
       ]
      },
      {
       "output_type": "stream",
       "stream": "stdout",
       "text": [
        "\n",
        "['Covelo','CA'],"
       ]
      },
      {
       "output_type": "stream",
       "stream": "stdout",
       "text": [
        "\n",
        "['Covina','CA'],"
       ]
      },
      {
       "output_type": "stream",
       "stream": "stdout",
       "text": [
        "\n",
        "['Crescent City','CA'],"
       ]
      },
      {
       "output_type": "stream",
       "stream": "stdout",
       "text": [
        "\n",
        "['Crestline','CA'],"
       ]
      },
      {
       "output_type": "stream",
       "stream": "stdout",
       "text": [
        "\n",
        "['Creston','CA'],"
       ]
      },
      {
       "output_type": "stream",
       "stream": "stdout",
       "text": [
        "\n",
        "['Crockett','CA'],"
       ]
      },
      {
       "output_type": "stream",
       "stream": "stdout",
       "text": [
        "\n",
        "['Crows Landing','CA'],"
       ]
      },
      {
       "output_type": "stream",
       "stream": "stdout",
       "text": [
        "\n",
        "['Culver City','CA'],"
       ]
      },
      {
       "output_type": "stream",
       "stream": "stdout",
       "text": [
        "\n",
        "['Cupertino','CA'],"
       ]
      },
      {
       "output_type": "stream",
       "stream": "stdout",
       "text": [
        "\n",
        "['Cutler','CA'],"
       ]
      },
      {
       "output_type": "stream",
       "stream": "stdout",
       "text": [
        "\n",
        "['Cypress','CA'],"
       ]
      },
      {
       "output_type": "stream",
       "stream": "stdout",
       "text": [
        "\n",
        "['Daggett','CA'],"
       ]
      },
      {
       "output_type": "stream",
       "stream": "stdout",
       "text": [
        "\n",
        "['Daly City','CA'],"
       ]
      },
      {
       "output_type": "stream",
       "stream": "stdout",
       "text": [
        "\n",
        "['Dana Point','CA'],"
       ]
      },
      {
       "output_type": "stream",
       "stream": "stdout",
       "text": [
        "\n",
        "['Danville','CA'],"
       ]
      },
      {
       "output_type": "stream",
       "stream": "stdout",
       "text": [
        "\n",
        "['Davenport','CA'],"
       ]
      },
      {
       "output_type": "stream",
       "stream": "stdout",
       "text": [
        "\n",
        "['Davis','CA'],"
       ]
      },
      {
       "output_type": "stream",
       "stream": "stdout",
       "text": [
        "\n",
        "['Death Valley','CA'],"
       ]
      },
      {
       "output_type": "stream",
       "stream": "stdout",
       "text": [
        "\n",
        "['Corona del Mar','CA'],"
       ]
      },
      {
       "output_type": "stream",
       "stream": "stdout",
       "text": [
        "\n",
        "['Del Rey','CA'],"
       ]
      },
      {
       "output_type": "stream",
       "stream": "stdout",
       "text": [
        "\n",
        "['Delano','CA'],"
       ]
      },
      {
       "output_type": "stream",
       "stream": "stdout",
       "text": [
        "\n",
        "['Delhi','CA'],"
       ]
      },
      {
       "output_type": "stream",
       "stream": "stdout",
       "text": [
        "\n",
        "['Denair','CA'],"
       ]
      },
      {
       "output_type": "stream",
       "stream": "stdout",
       "text": [
        "\n",
        "['Descanso','CA'],"
       ]
      },
      {
       "output_type": "stream",
       "stream": "stdout",
       "text": [
        "\n",
        "['Desert Center','CA'],"
       ]
      },
      {
       "output_type": "stream",
       "stream": "stdout",
       "text": [
        "\n",
        "['Desert Hot Springs','CA'],"
       ]
      },
      {
       "output_type": "stream",
       "stream": "stdout",
       "text": [
        "\n",
        "['Diamond Bar','CA'],"
       ]
      },
      {
       "output_type": "stream",
       "stream": "stdout",
       "text": [
        "\n",
        "['Diamond Springs','CA'],"
       ]
      },
      {
       "output_type": "stream",
       "stream": "stdout",
       "text": [
        "\n",
        "['Dinuba','CA'],"
       ]
      },
      {
       "output_type": "stream",
       "stream": "stdout",
       "text": [
        "\n",
        "['Discovery Bay','CA'],"
       ]
      },
      {
       "output_type": "stream",
       "stream": "stdout",
       "text": [
        "\n",
        "['Dixon','CA'],"
       ]
      },
      {
       "output_type": "stream",
       "stream": "stdout",
       "text": [
        "\n",
        "['Dobbins','CA'],"
       ]
      },
      {
       "output_type": "stream",
       "stream": "stdout",
       "text": [
        "\n",
        "['Dorris','CA'],"
       ]
      },
      {
       "output_type": "stream",
       "stream": "stdout",
       "text": [
        "\n",
        "['Dos Palos','CA'],"
       ]
      },
      {
       "output_type": "stream",
       "stream": "stdout",
       "text": [
        "\n",
        "['Douglas City','CA'],"
       ]
      },
      {
       "output_type": "stream",
       "stream": "stdout",
       "text": [
        "\n",
        "['Downey','CA'],"
       ]
      },
      {
       "output_type": "stream",
       "stream": "stdout",
       "text": [
        "\n",
        "['Downieville','CA'],"
       ]
      },
      {
       "output_type": "stream",
       "stream": "stdout",
       "text": [
        "\n",
        "['Doyle','CA'],"
       ]
      },
      {
       "output_type": "stream",
       "stream": "stdout",
       "text": [
        "\n",
        "['Duarte','CA'],"
       ]
      },
      {
       "output_type": "stream",
       "stream": "stdout",
       "text": [
        "\n",
        "['Dublin','CA'],"
       ]
      },
      {
       "output_type": "stream",
       "stream": "stdout",
       "text": [
        "\n",
        "['Ducor','CA'],"
       ]
      },
      {
       "output_type": "stream",
       "stream": "stdout",
       "text": [
        "\n",
        "['Dunlap','CA'],"
       ]
      },
      {
       "output_type": "stream",
       "stream": "stdout",
       "text": [
        "\n",
        "['Dunsmuir','CA'],"
       ]
      },
      {
       "output_type": "stream",
       "stream": "stdout",
       "text": [
        "\n",
        "['Durham','CA'],"
       ]
      },
      {
       "output_type": "stream",
       "stream": "stdout",
       "text": [
        "\n",
        "['Earlimart','CA'],"
       ]
      },
      {
       "output_type": "stream",
       "stream": "stdout",
       "text": [
        "\n",
        "['East Irvine','CA'],"
       ]
      },
      {
       "output_type": "stream",
       "stream": "stdout",
       "text": [
        "\n",
        "['Edwards AFB','CA'],"
       ]
      },
      {
       "output_type": "stream",
       "stream": "stdout",
       "text": [
        "\n",
        "['El Cajon','CA'],"
       ]
      },
      {
       "output_type": "stream",
       "stream": "stdout",
       "text": [
        "\n",
        "['El Centro','CA'],"
       ]
      },
      {
       "output_type": "stream",
       "stream": "stdout",
       "text": [
        "\n",
        "['El Cerrito','CA'],"
       ]
      },
      {
       "output_type": "stream",
       "stream": "stdout",
       "text": [
        "\n",
        "['El Dorado','CA'],"
       ]
      },
      {
       "output_type": "stream",
       "stream": "stdout",
       "text": [
        "\n",
        "['El Dorado Hills','CA'],"
       ]
      },
      {
       "output_type": "stream",
       "stream": "stdout",
       "text": [
        "\n",
        "['El Granada','CA'],"
       ]
      },
      {
       "output_type": "stream",
       "stream": "stdout",
       "text": [
        "\n",
        "['El Monte','CA'],"
       ]
      },
      {
       "output_type": "stream",
       "stream": "stdout",
       "text": [
        "\n",
        "['El Nido','CA'],"
       ]
      },
      {
       "output_type": "stream",
       "stream": "stdout",
       "text": [
        "\n",
        "['El Portal','CA'],"
       ]
      },
      {
       "output_type": "stream",
       "stream": "stdout",
       "text": [
        "\n",
        "['El Segundo','CA'],"
       ]
      },
      {
       "output_type": "stream",
       "stream": "stdout",
       "text": [
        "\n",
        "['El Sobrante','CA'],"
       ]
      },
      {
       "output_type": "stream",
       "stream": "stdout",
       "text": [
        "\n",
        "['Elk Grove','CA'],"
       ]
      },
      {
       "output_type": "stream",
       "stream": "stdout",
       "text": [
        "\n",
        "['Elk Creek','CA'],"
       ]
      },
      {
       "output_type": "stream",
       "stream": "stdout",
       "text": [
        "\n",
        "['Elk Grove','CA'],"
       ]
      },
      {
       "output_type": "stream",
       "stream": "stdout",
       "text": [
        "\n",
        "['Elmira','CA'],"
       ]
      },
      {
       "output_type": "stream",
       "stream": "stdout",
       "text": [
        "\n",
        "['Elverta','CA'],"
       ]
      },
      {
       "output_type": "stream",
       "stream": "stdout",
       "text": [
        "\n",
        "['Emeryville','CA'],"
       ]
      },
      {
       "output_type": "stream",
       "stream": "stdout",
       "text": [
        "\n",
        "['Emigrant Gap','CA'],"
       ]
      },
      {
       "output_type": "stream",
       "stream": "stdout",
       "text": [
        "\n",
        "['Empire','CA'],"
       ]
      },
      {
       "output_type": "stream",
       "stream": "stdout",
       "text": [
        "\n",
        "['Encinitas','CA'],"
       ]
      },
      {
       "output_type": "stream",
       "stream": "stdout",
       "text": [
        "\n",
        "['Encino','CA'],"
       ]
      },
      {
       "output_type": "stream",
       "stream": "stdout",
       "text": [
        "\n",
        "['Escalon','CA'],"
       ]
      },
      {
       "output_type": "stream",
       "stream": "stdout",
       "text": [
        "\n",
        "['Escondido','CA'],"
       ]
      },
      {
       "output_type": "stream",
       "stream": "stdout",
       "text": [
        "\n",
        "['Esparto','CA'],"
       ]
      },
      {
       "output_type": "stream",
       "stream": "stdout",
       "text": [
        "\n",
        "['Etna','CA'],"
       ]
      },
      {
       "output_type": "stream",
       "stream": "stdout",
       "text": [
        "\n",
        "['Eureka','CA'],"
       ]
      },
      {
       "output_type": "stream",
       "stream": "stdout",
       "text": [
        "\n",
        "['Exeter','CA'],"
       ]
      },
      {
       "output_type": "stream",
       "stream": "stdout",
       "text": [
        "\n",
        "['Fair Oaks','CA'],"
       ]
      },
      {
       "output_type": "stream",
       "stream": "stdout",
       "text": [
        "\n",
        "['Fairfax','CA'],"
       ]
      },
      {
       "output_type": "stream",
       "stream": "stdout",
       "text": [
        "\n",
        "['Fairfield','CA'],"
       ]
      },
      {
       "output_type": "stream",
       "stream": "stdout",
       "text": [
        "\n",
        "['Fall River Mills','CA'],"
       ]
      },
      {
       "output_type": "stream",
       "stream": "stdout",
       "text": [
        "\n",
        "['Fallbrook','CA'],"
       ]
      },
      {
       "output_type": "stream",
       "stream": "stdout",
       "text": [
        "\n",
        "['Farmersville','CA'],"
       ]
      },
      {
       "output_type": "stream",
       "stream": "stdout",
       "text": [
        "\n",
        "['Farmington','CA'],"
       ]
      },
      {
       "output_type": "stream",
       "stream": "stdout",
       "text": [
        "\n",
        "['Fellows','CA'],"
       ]
      },
      {
       "output_type": "stream",
       "stream": "stdout",
       "text": [
        "\n",
        "['Felton','CA'],"
       ]
      },
      {
       "output_type": "stream",
       "stream": "stdout",
       "text": [
        "\n",
        "['Ferndale','CA'],"
       ]
      },
      {
       "output_type": "stream",
       "stream": "stdout",
       "text": [
        "\n",
        "['Fillmore','CA'],"
       ]
      },
      {
       "output_type": "stream",
       "stream": "stdout",
       "text": [
        "\n",
        "['Firebaugh','CA'],"
       ]
      },
      {
       "output_type": "stream",
       "stream": "stdout",
       "text": [
        "\n",
        "['Five Points','CA'],"
       ]
      },
      {
       "output_type": "stream",
       "stream": "stdout",
       "text": [
        "\n",
        "['Flournoy','CA'],"
       ]
      },
      {
       "output_type": "stream",
       "stream": "stdout",
       "text": [
        "\n",
        "['Folsom','CA'],"
       ]
      },
      {
       "output_type": "stream",
       "stream": "stdout",
       "text": [
        "\n",
        "['Fontana','CA'],"
       ]
      },
      {
       "output_type": "stream",
       "stream": "stdout",
       "text": [
        "\n",
        "['Foothill Ranch','CA'],"
       ]
      },
      {
       "output_type": "stream",
       "stream": "stdout",
       "text": [
        "\n",
        "['Forest Falls','CA'],"
       ]
      },
      {
       "output_type": "stream",
       "stream": "stdout",
       "text": [
        "\n",
        "['Forest Ranch','CA'],"
       ]
      },
      {
       "output_type": "stream",
       "stream": "stdout",
       "text": [
        "\n",
        "['Foresthill','CA'],"
       ]
      },
      {
       "output_type": "stream",
       "stream": "stdout",
       "text": [
        "\n",
        "['Forestville','CA'],"
       ]
      },
      {
       "output_type": "stream",
       "stream": "stdout",
       "text": [
        "\n",
        "['Forks of Salmon','CA'],"
       ]
      },
      {
       "output_type": "stream",
       "stream": "stdout",
       "text": [
        "\n",
        "['Fort Bragg','CA'],"
       ]
      },
      {
       "output_type": "stream",
       "stream": "stdout",
       "text": [
        "\n",
        "['Fort Irwin','CA'],"
       ]
      },
      {
       "output_type": "stream",
       "stream": "stdout",
       "text": [
        "\n",
        "['Fort Jones','CA'],"
       ]
      },
      {
       "output_type": "stream",
       "stream": "stdout",
       "text": [
        "\n",
        "['Fortuna','CA'],"
       ]
      },
      {
       "output_type": "stream",
       "stream": "stdout",
       "text": [
        "\n",
        "['Fountain Valley','CA'],"
       ]
      },
      {
       "output_type": "stream",
       "stream": "stdout",
       "text": [
        "\n",
        "['Fowler','CA'],"
       ]
      },
      {
       "output_type": "stream",
       "stream": "stdout",
       "text": [
        "\n",
        "['Frazier Park','CA'],"
       ]
      },
      {
       "output_type": "stream",
       "stream": "stdout",
       "text": [
        "\n",
        "['Freedom','CA'],"
       ]
      },
      {
       "output_type": "stream",
       "stream": "stdout",
       "text": [
        "\n",
        "['Fremont','CA'],"
       ]
      },
      {
       "output_type": "stream",
       "stream": "stdout",
       "text": [
        "\n",
        "['French Camp','CA'],"
       ]
      },
      {
       "output_type": "stream",
       "stream": "stdout",
       "text": [
        "\n",
        "['French Gulch','CA'],"
       ]
      },
      {
       "output_type": "stream",
       "stream": "stdout",
       "text": [
        "\n",
        "['Fresno','CA'],"
       ]
      },
      {
       "output_type": "stream",
       "stream": "stdout",
       "text": [
        "\n",
        "['Fullerton','CA'],"
       ]
      },
      {
       "output_type": "stream",
       "stream": "stdout",
       "text": [
        "\n",
        "['Galt','CA'],"
       ]
      },
      {
       "output_type": "stream",
       "stream": "stdout",
       "text": [
        "\n",
        "['Garberville','CA'],"
       ]
      },
      {
       "output_type": "stream",
       "stream": "stdout",
       "text": [
        "\n",
        "['Garden Grove','CA'],"
       ]
      },
      {
       "output_type": "stream",
       "stream": "stdout",
       "text": [
        "\n",
        "['Garden Valley','CA'],"
       ]
      },
      {
       "output_type": "stream",
       "stream": "stdout",
       "text": [
        "\n",
        "['Gardena','CA'],"
       ]
      },
      {
       "output_type": "stream",
       "stream": "stdout",
       "text": [
        "\n",
        "['Gasquet','CA'],"
       ]
      },
      {
       "output_type": "stream",
       "stream": "stdout",
       "text": [
        "\n",
        "['Gazelle','CA'],"
       ]
      },
      {
       "output_type": "stream",
       "stream": "stdout",
       "text": [
        "\n",
        "['Georgetown','CA'],"
       ]
      },
      {
       "output_type": "stream",
       "stream": "stdout",
       "text": [
        "\n",
        "['Gerber','CA'],"
       ]
      },
      {
       "output_type": "stream",
       "stream": "stdout",
       "text": [
        "\n",
        "['Geyserville','CA'],"
       ]
      },
      {
       "output_type": "stream",
       "stream": "stdout",
       "text": [
        "\n",
        "['Gilroy','CA'],"
       ]
      },
      {
       "output_type": "stream",
       "stream": "stdout",
       "text": [
        "\n",
        "['Glen Ellen','CA'],"
       ]
      },
      {
       "output_type": "stream",
       "stream": "stdout",
       "text": [
        "\n",
        "['Glendale','CA'],"
       ]
      },
      {
       "output_type": "stream",
       "stream": "stdout",
       "text": [
        "\n",
        "['Glendora','CA'],"
       ]
      },
      {
       "output_type": "stream",
       "stream": "stdout",
       "text": [
        "\n",
        "['Glenn','CA'],"
       ]
      },
      {
       "output_type": "stream",
       "stream": "stdout",
       "text": [
        "\n",
        "['Glennville','CA'],"
       ]
      },
      {
       "output_type": "stream",
       "stream": "stdout",
       "text": [
        "\n",
        "['Goleta','CA'],"
       ]
      },
      {
       "output_type": "stream",
       "stream": "stdout",
       "text": [
        "\n",
        "['Gonzales','CA'],"
       ]
      },
      {
       "output_type": "stream",
       "stream": "stdout",
       "text": [
        "\n",
        "['Granada Hills','CA'],"
       ]
      },
      {
       "output_type": "stream",
       "stream": "stdout",
       "text": [
        "\n",
        "['Grand Terrace','CA'],"
       ]
      },
      {
       "output_type": "stream",
       "stream": "stdout",
       "text": [
        "\n",
        "['Granite Bay','CA'],"
       ]
      },
      {
       "output_type": "stream",
       "stream": "stdout",
       "text": [
        "\n",
        "['Grass Valley','CA'],"
       ]
      },
      {
       "output_type": "stream",
       "stream": "stdout",
       "text": [
        "\n",
        "['Graton','CA'],"
       ]
      },
      {
       "output_type": "stream",
       "stream": "stdout",
       "text": [
        "\n",
        "['Greenfield','CA'],"
       ]
      },
      {
       "output_type": "stream",
       "stream": "stdout",
       "text": [
        "\n",
        "['Greenville','CA'],"
       ]
      },
      {
       "output_type": "stream",
       "stream": "stdout",
       "text": [
        "\n",
        "['Greenwood','CA'],"
       ]
      },
      {
       "output_type": "stream",
       "stream": "stdout",
       "text": [
        "\n",
        "['Grenada','CA'],"
       ]
      },
      {
       "output_type": "stream",
       "stream": "stdout",
       "text": [
        "\n",
        "['Gridley','CA'],"
       ]
      },
      {
       "output_type": "stream",
       "stream": "stdout",
       "text": [
        "\n",
        "['Grimes','CA'],"
       ]
      },
      {
       "output_type": "stream",
       "stream": "stdout",
       "text": [
        "\n",
        "['Grizzly Flat','CA'],"
       ]
      },
      {
       "output_type": "stream",
       "stream": "stdout",
       "text": [
        "\n",
        "['Groveland','CA'],"
       ]
      },
      {
       "output_type": "stream",
       "stream": "stdout",
       "text": [
        "\n",
        "['Grover Beach','CA'],"
       ]
      },
      {
       "output_type": "stream",
       "stream": "stdout",
       "text": [
        "\n",
        "['Guadalupe','CA'],"
       ]
      },
      {
       "output_type": "stream",
       "stream": "stdout",
       "text": [
        "\n",
        "['Guerneville','CA'],"
       ]
      },
      {
       "output_type": "stream",
       "stream": "stdout",
       "text": [
        "\n",
        "['Gustine','CA'],"
       ]
      },
      {
       "output_type": "stream",
       "stream": "stdout",
       "text": [
        "\n",
        "['Hacienda Heights','CA'],"
       ]
      },
      {
       "output_type": "stream",
       "stream": "stdout",
       "text": [
        "\n",
        "['Half Moon Bay','CA'],"
       ]
      },
      {
       "output_type": "stream",
       "stream": "stdout",
       "text": [
        "\n",
        "['Hamilton City','CA'],"
       ]
      },
      {
       "output_type": "stream",
       "stream": "stdout",
       "text": [
        "\n",
        "['Hanford','CA'],"
       ]
      },
      {
       "output_type": "stream",
       "stream": "stdout",
       "text": [
        "\n",
        "['Happy Camp','CA'],"
       ]
      },
      {
       "output_type": "stream",
       "stream": "stdout",
       "text": [
        "\n",
        "['Harbor City','CA'],"
       ]
      },
      {
       "output_type": "stream",
       "stream": "stdout",
       "text": [
        "\n",
        "['Hawaiian Gardens','CA'],"
       ]
      },
      {
       "output_type": "stream",
       "stream": "stdout",
       "text": [
        "\n",
        "['Hawthorne','CA'],"
       ]
      },
      {
       "output_type": "stream",
       "stream": "stdout",
       "text": [
        "\n",
        "['Hayfork','CA'],"
       ]
      },
      {
       "output_type": "stream",
       "stream": "stdout",
       "text": [
        "\n",
        "['Hayward','CA'],"
       ]
      },
      {
       "output_type": "stream",
       "stream": "stdout",
       "text": [
        "\n",
        "['Healdsburg','CA'],"
       ]
      },
      {
       "output_type": "stream",
       "stream": "stdout",
       "text": [
        "\n",
        "['Heber','CA'],"
       ]
      },
      {
       "output_type": "stream",
       "stream": "stdout",
       "text": [
        "\n",
        "['Helendale','CA'],"
       ]
      },
      {
       "output_type": "stream",
       "stream": "stdout",
       "text": [
        "\n",
        "['Helm','CA'],"
       ]
      },
      {
       "output_type": "stream",
       "stream": "stdout",
       "text": [
        "\n",
        "['Hemet','CA'],"
       ]
      },
      {
       "output_type": "stream",
       "stream": "stdout",
       "text": [
        "\n",
        "['Herald','CA'],"
       ]
      },
      {
       "output_type": "stream",
       "stream": "stdout",
       "text": [
        "\n",
        "['Hercules','CA'],"
       ]
      },
      {
       "output_type": "stream",
       "stream": "stdout",
       "text": [
        "\n",
        "['Herlong','CA'],"
       ]
      },
      {
       "output_type": "stream",
       "stream": "stdout",
       "text": [
        "\n",
        "['Hermosa Beach','CA'],"
       ]
      },
      {
       "output_type": "stream",
       "stream": "stdout",
       "text": [
        "\n",
        "['Hesperia','CA'],"
       ]
      },
      {
       "output_type": "stream",
       "stream": "stdout",
       "text": [
        "\n",
        "['Hickman','CA'],"
       ]
      },
      {
       "output_type": "stream",
       "stream": "stdout",
       "text": [
        "\n",
        "['Highland Park','CA'],"
       ]
      },
      {
       "output_type": "stream",
       "stream": "stdout",
       "text": [
        "\n",
        "['Hilmar','CA'],"
       ]
      },
      {
       "output_type": "stream",
       "stream": "stdout",
       "text": [
        "\n",
        "['Hinkley','CA'],"
       ]
      },
      {
       "output_type": "stream",
       "stream": "stdout",
       "text": [
        "\n",
        "['Hollister','CA'],"
       ]
      },
      {
       "output_type": "stream",
       "stream": "stdout",
       "text": [
        "\n",
        "['Holtville','CA'],"
       ]
      },
      {
       "output_type": "stream",
       "stream": "stdout",
       "text": [
        "\n",
        "['Honeydew','CA'],"
       ]
      },
      {
       "output_type": "stream",
       "stream": "stdout",
       "text": [
        "\n",
        "['Hoopa','CA'],"
       ]
      },
      {
       "output_type": "stream",
       "stream": "stdout",
       "text": [
        "\n",
        "['Hornbrook','CA'],"
       ]
      },
      {
       "output_type": "stream",
       "stream": "stdout",
       "text": [
        "\n",
        "['Hughson','CA'],"
       ]
      },
      {
       "output_type": "stream",
       "stream": "stdout",
       "text": [
        "\n",
        "['Hume','CA'],"
       ]
      },
      {
       "output_type": "stream",
       "stream": "stdout",
       "text": [
        "\n",
        "['Huntington Beach','CA'],"
       ]
      },
      {
       "output_type": "stream",
       "stream": "stdout",
       "text": [
        "\n",
        "['Huntington Park','CA'],"
       ]
      },
      {
       "output_type": "stream",
       "stream": "stdout",
       "text": [
        "\n",
        "['Huron','CA'],"
       ]
      },
      {
       "output_type": "stream",
       "stream": "stdout",
       "text": [
        "\n",
        "['Hyampom','CA'],"
       ]
      },
      {
       "output_type": "stream",
       "stream": "stdout",
       "text": [
        "\n",
        "['Hydesville','CA'],"
       ]
      },
      {
       "output_type": "stream",
       "stream": "stdout",
       "text": [
        "\n",
        "['Idyllwild','CA'],"
       ]
      },
      {
       "output_type": "stream",
       "stream": "stdout",
       "text": [
        "\n",
        "['Igo','CA'],"
       ]
      },
      {
       "output_type": "stream",
       "stream": "stdout",
       "text": [
        "\n",
        "['Imperial Beach','CA'],"
       ]
      },
      {
       "output_type": "stream",
       "stream": "stdout",
       "text": [
        "\n",
        "['Imperial Beach','CA'],"
       ]
      },
      {
       "output_type": "stream",
       "stream": "stdout",
       "text": [
        "\n",
        "['Independence','CA'],"
       ]
      },
      {
       "output_type": "stream",
       "stream": "stdout",
       "text": [
        "\n",
        "['Indian Wells','CA'],"
       ]
      },
      {
       "output_type": "stream",
       "stream": "stdout",
       "text": [
        "\n",
        "['Indio','CA'],"
       ]
      },
      {
       "output_type": "stream",
       "stream": "stdout",
       "text": [
        "\n",
        "['Inglewood','CA'],"
       ]
      },
      {
       "output_type": "stream",
       "stream": "stdout",
       "text": [
        "\n",
        "['Inverness','CA'],"
       ]
      },
      {
       "output_type": "stream",
       "stream": "stdout",
       "text": [
        "\n",
        "['Inyokern','CA'],"
       ]
      },
      {
       "output_type": "stream",
       "stream": "stdout",
       "text": [
        "\n",
        "['Ione','CA'],"
       ]
      },
      {
       "output_type": "stream",
       "stream": "stdout",
       "text": [
        "\n",
        "['Irvine','CA'],"
       ]
      },
      {
       "output_type": "stream",
       "stream": "stdout",
       "text": [
        "\n",
        "['Isleton','CA'],"
       ]
      },
      {
       "output_type": "stream",
       "stream": "stdout",
       "text": [
        "\n",
        "['Ivanhoe','CA'],"
       ]
      },
      {
       "output_type": "stream",
       "stream": "stdout",
       "text": [
        "\n",
        "['Jackson','CA'],"
       ]
      },
      {
       "output_type": "stream",
       "stream": "stdout",
       "text": [
        "\n",
        "['Jacumba','CA'],"
       ]
      },
      {
       "output_type": "stream",
       "stream": "stdout",
       "text": [
        "\n",
        "['Jamestown','CA'],"
       ]
      },
      {
       "output_type": "stream",
       "stream": "stdout",
       "text": [
        "\n",
        "['Jamul','CA'],"
       ]
      },
      {
       "output_type": "stream",
       "stream": "stdout",
       "text": [
        "\n",
        "['Janesville','CA'],"
       ]
      },
      {
       "output_type": "stream",
       "stream": "stdout",
       "text": [
        "\n",
        "['Johannesburg','CA'],"
       ]
      },
      {
       "output_type": "stream",
       "stream": "stdout",
       "text": [
        "\n",
        "['Joshua Tree','CA'],"
       ]
      },
      {
       "output_type": "stream",
       "stream": "stdout",
       "text": [
        "\n",
        "['Julian','CA'],"
       ]
      },
      {
       "output_type": "stream",
       "stream": "stdout",
       "text": [
        "\n",
        "['Junction City','CA'],"
       ]
      },
      {
       "output_type": "stream",
       "stream": "stdout",
       "text": [
        "\n",
        "['June Lake','CA'],"
       ]
      },
      {
       "output_type": "stream",
       "stream": "stdout",
       "text": [
        "\n",
        "['Keene','CA'],"
       ]
      },
      {
       "output_type": "stream",
       "stream": "stdout",
       "text": [
        "\n",
        "['Kelseyville','CA'],"
       ]
      },
      {
       "output_type": "stream",
       "stream": "stdout",
       "text": [
        "\n",
        "['Kentfield','CA'],"
       ]
      },
      {
       "output_type": "stream",
       "stream": "stdout",
       "text": [
        "\n",
        "['Kenwood','CA'],"
       ]
      },
      {
       "output_type": "stream",
       "stream": "stdout",
       "text": [
        "\n",
        "['Kerman','CA'],"
       ]
      },
      {
       "output_type": "stream",
       "stream": "stdout",
       "text": [
        "\n",
        "['Kernville','CA'],"
       ]
      },
      {
       "output_type": "stream",
       "stream": "stdout",
       "text": [
        "\n",
        "['Kettleman City','CA'],"
       ]
      },
      {
       "output_type": "stream",
       "stream": "stdout",
       "text": [
        "\n",
        "['Keyes','CA'],"
       ]
      },
      {
       "output_type": "stream",
       "stream": "stdout",
       "text": [
        "\n",
        "['King City','CA'],"
       ]
      },
      {
       "output_type": "stream",
       "stream": "stdout",
       "text": [
        "\n",
        "['Kings Beach','CA'],"
       ]
      },
      {
       "output_type": "stream",
       "stream": "stdout",
       "text": [
        "\n",
        "['Kingsburg','CA'],"
       ]
      },
      {
       "output_type": "stream",
       "stream": "stdout",
       "text": [
        "\n",
        "['Klamath','CA'],"
       ]
      },
      {
       "output_type": "stream",
       "stream": "stdout",
       "text": [
        "\n",
        "['Kneeland','CA'],"
       ]
      },
      {
       "output_type": "stream",
       "stream": "stdout",
       "text": [
        "\n",
        "['Knights Landing','CA'],"
       ]
      },
      {
       "output_type": "stream",
       "stream": "stdout",
       "text": [
        "\n",
        "['Knightsen','CA'],"
       ]
      },
      {
       "output_type": "stream",
       "stream": "stdout",
       "text": [
        "\n",
        "['Korbel','CA'],"
       ]
      },
      {
       "output_type": "stream",
       "stream": "stdout",
       "text": [
        "\n",
        "['Kyburz','CA'],"
       ]
      },
      {
       "output_type": "stream",
       "stream": "stdout",
       "text": [
        "\n",
        "['La Canada Flintridge','CA'],"
       ]
      },
      {
       "output_type": "stream",
       "stream": "stdout",
       "text": [
        "\n",
        "['La Crescenta','CA'],"
       ]
      },
      {
       "output_type": "stream",
       "stream": "stdout",
       "text": [
        "\n",
        "['La Grange','CA'],"
       ]
      },
      {
       "output_type": "stream",
       "stream": "stdout",
       "text": [
        "\n",
        "['La Habra','CA'],"
       ]
      },
      {
       "output_type": "stream",
       "stream": "stdout",
       "text": [
        "\n",
        "['La Honda','CA'],"
       ]
      },
      {
       "output_type": "stream",
       "stream": "stdout",
       "text": [
        "\n",
        "['La Jolla','CA'],"
       ]
      },
      {
       "output_type": "stream",
       "stream": "stdout",
       "text": [
        "\n",
        "['La Mesa','CA'],"
       ]
      },
      {
       "output_type": "stream",
       "stream": "stdout",
       "text": [
        "\n",
        "['La Mirada','CA'],"
       ]
      },
      {
       "output_type": "stream",
       "stream": "stdout",
       "text": [
        "\n",
        "['La Palma','CA'],"
       ]
      },
      {
       "output_type": "stream",
       "stream": "stdout",
       "text": [
        "\n",
        "['La Puente','CA'],"
       ]
      },
      {
       "output_type": "stream",
       "stream": "stdout",
       "text": [
        "\n",
        "['La Quinta','CA'],"
       ]
      },
      {
       "output_type": "stream",
       "stream": "stdout",
       "text": [
        "\n",
        "['La Verne','CA'],"
       ]
      },
      {
       "output_type": "stream",
       "stream": "stdout",
       "text": [
        "\n",
        "['Ladera Ranch','CA'],"
       ]
      },
      {
       "output_type": "stream",
       "stream": "stdout",
       "text": [
        "\n",
        "['Lafayette','CA'],"
       ]
      },
      {
       "output_type": "stream",
       "stream": "stdout",
       "text": [
        "\n",
        "['Laguna Beach','CA'],"
       ]
      },
      {
       "output_type": "stream",
       "stream": "stdout",
       "text": [
        "\n",
        "['Laguna Hills','CA'],"
       ]
      },
      {
       "output_type": "stream",
       "stream": "stdout",
       "text": [
        "\n",
        "['Laguna Niguel','CA'],"
       ]
      },
      {
       "output_type": "stream",
       "stream": "stdout",
       "text": [
        "\n",
        "['Lake Arrowhead','CA'],"
       ]
      },
      {
       "output_type": "stream",
       "stream": "stdout",
       "text": [
        "\n",
        "['Lake Elsinore','CA'],"
       ]
      },
      {
       "output_type": "stream",
       "stream": "stdout",
       "text": [
        "\n",
        "['Lake Forest','CA'],"
       ]
      },
      {
       "output_type": "stream",
       "stream": "stdout",
       "text": [
        "\n",
        "['Lake Hughes','CA'],"
       ]
      },
      {
       "output_type": "stream",
       "stream": "stdout",
       "text": [
        "\n",
        "['Lake Isabella','CA'],"
       ]
      },
      {
       "output_type": "stream",
       "stream": "stdout",
       "text": [
        "\n",
        "['Lakeport','CA'],"
       ]
      },
      {
       "output_type": "stream",
       "stream": "stdout",
       "text": [
        "\n",
        "['Lakeside','CA'],"
       ]
      },
      {
       "output_type": "stream",
       "stream": "stdout",
       "text": [
        "\n",
        "['Lakewood','CA'],"
       ]
      },
      {
       "output_type": "stream",
       "stream": "stdout",
       "text": [
        "\n",
        "['Lamont','CA'],"
       ]
      },
      {
       "output_type": "stream",
       "stream": "stdout",
       "text": [
        "\n",
        "['Lancaster','CA'],"
       ]
      },
      {
       "output_type": "stream",
       "stream": "stdout",
       "text": [
        "\n",
        "['Landers','CA'],"
       ]
      },
      {
       "output_type": "stream",
       "stream": "stdout",
       "text": [
        "\n",
        "['Larkspur','CA'],"
       ]
      },
      {
       "output_type": "stream",
       "stream": "stdout",
       "text": [
        "\n",
        "['Lathrop','CA'],"
       ]
      },
      {
       "output_type": "stream",
       "stream": "stdout",
       "text": [
        "\n",
        "['Laton','CA'],"
       ]
      },
      {
       "output_type": "stream",
       "stream": "stdout",
       "text": [
        "\n",
        "['Lawndale','CA'],"
       ]
      },
      {
       "output_type": "stream",
       "stream": "stdout",
       "text": [
        "\n",
        "['Laytonville','CA'],"
       ]
      },
      {
       "output_type": "stream",
       "stream": "stdout",
       "text": [
        "\n",
        "['Le Grand','CA'],"
       ]
      },
      {
       "output_type": "stream",
       "stream": "stdout",
       "text": [
        "\n",
        "['Lebec','CA'],"
       ]
      },
      {
       "output_type": "stream",
       "stream": "stdout",
       "text": [
        "\n",
        "['Lee Vining','CA'],"
       ]
      },
      {
       "output_type": "stream",
       "stream": "stdout",
       "text": [
        "\n",
        "['Leggett','CA'],"
       ]
      },
      {
       "output_type": "stream",
       "stream": "stdout",
       "text": [
        "\n",
        "['Lemon Cove','CA'],"
       ]
      },
      {
       "output_type": "stream",
       "stream": "stdout",
       "text": [
        "\n",
        "['Lemon Grove','CA'],"
       ]
      },
      {
       "output_type": "stream",
       "stream": "stdout",
       "text": [
        "\n",
        "['Lemoore','CA'],"
       ]
      },
      {
       "output_type": "stream",
       "stream": "stdout",
       "text": [
        "\n",
        "['Lewiston','CA'],"
       ]
      },
      {
       "output_type": "stream",
       "stream": "stdout",
       "text": [
        "\n",
        "['Lincoln','CA'],"
       ]
      },
      {
       "output_type": "stream",
       "stream": "stdout",
       "text": [
        "\n",
        "['Linden','CA'],"
       ]
      },
      {
       "output_type": "stream",
       "stream": "stdout",
       "text": [
        "\n",
        "['Lindsay','CA'],"
       ]
      },
      {
       "output_type": "stream",
       "stream": "stdout",
       "text": [
        "\n",
        "['Litchfield','CA'],"
       ]
      },
      {
       "output_type": "stream",
       "stream": "stdout",
       "text": [
        "\n",
        "['Littlerock','CA'],"
       ]
      },
      {
       "output_type": "stream",
       "stream": "stdout",
       "text": [
        "\n",
        "['Live Oak','CA'],"
       ]
      },
      {
       "output_type": "stream",
       "stream": "stdout",
       "text": [
        "\n",
        "['Livermore','CA'],"
       ]
      },
      {
       "output_type": "stream",
       "stream": "stdout",
       "text": [
        "\n",
        "['Livingston','CA'],"
       ]
      },
      {
       "output_type": "stream",
       "stream": "stdout",
       "text": [
        "\n",
        "['Llano','CA'],"
       ]
      },
      {
       "output_type": "stream",
       "stream": "stdout",
       "text": [
        "\n",
        "['Lockeford','CA'],"
       ]
      },
      {
       "output_type": "stream",
       "stream": "stdout",
       "text": [
        "\n",
        "['Lockwood','CA'],"
       ]
      },
      {
       "output_type": "stream",
       "stream": "stdout",
       "text": [
        "\n",
        "['Lodi','CA'],"
       ]
      },
      {
       "output_type": "stream",
       "stream": "stdout",
       "text": [
        "\n",
        "['Loleta','CA'],"
       ]
      },
      {
       "output_type": "stream",
       "stream": "stdout",
       "text": [
        "\n",
        "['Loma Linda','CA'],"
       ]
      },
      {
       "output_type": "stream",
       "stream": "stdout",
       "text": [
        "\n",
        "['Lomita','CA'],"
       ]
      },
      {
       "output_type": "stream",
       "stream": "stdout",
       "text": [
        "\n",
        "['Lompoc','CA'],"
       ]
      },
      {
       "output_type": "stream",
       "stream": "stdout",
       "text": [
        "\n",
        "['Lone Pine','CA'],"
       ]
      },
      {
       "output_type": "stream",
       "stream": "stdout",
       "text": [
        "\n",
        "['Long Barn','CA'],"
       ]
      },
      {
       "output_type": "stream",
       "stream": "stdout",
       "text": [
        "\n",
        "['Long Beach','CA'],"
       ]
      },
      {
       "output_type": "stream",
       "stream": "stdout",
       "text": [
        "\n",
        "['Loomis','CA'],"
       ]
      },
      {
       "output_type": "stream",
       "stream": "stdout",
       "text": [
        "\n",
        "['Los Alamitos','CA'],"
       ]
      },
      {
       "output_type": "stream",
       "stream": "stdout",
       "text": [
        "\n",
        "['Los Alamos','CA'],"
       ]
      },
      {
       "output_type": "stream",
       "stream": "stdout",
       "text": [
        "\n",
        "['Los Altos','CA'],"
       ]
      },
      {
       "output_type": "stream",
       "stream": "stdout",
       "text": [
        "\n",
        "['Los Angeles','CA'],"
       ]
      },
      {
       "output_type": "stream",
       "stream": "stdout",
       "text": [
        "\n",
        "['Los Banos','CA'],"
       ]
      },
      {
       "output_type": "stream",
       "stream": "stdout",
       "text": [
        "\n",
        "['Los Gatos','CA'],"
       ]
      },
      {
       "output_type": "stream",
       "stream": "stdout",
       "text": [
        "\n",
        "['Los Molinos','CA'],"
       ]
      },
      {
       "output_type": "stream",
       "stream": "stdout",
       "text": [
        "\n",
        "['Los Olivos','CA'],"
       ]
      },
      {
       "output_type": "stream",
       "stream": "stdout",
       "text": [
        "\n",
        "['Los Osos','CA'],"
       ]
      },
      {
       "output_type": "stream",
       "stream": "stdout",
       "text": [
        "\n",
        "['Lost Hills','CA'],"
       ]
      },
      {
       "output_type": "stream",
       "stream": "stdout",
       "text": [
        "\n",
        "['Lower Lake','CA'],"
       ]
      },
      {
       "output_type": "stream",
       "stream": "stdout",
       "text": [
        "\n",
        "['Loyalton','CA'],"
       ]
      },
      {
       "output_type": "stream",
       "stream": "stdout",
       "text": [
        "\n",
        "['Lucerne','CA'],"
       ]
      },
      {
       "output_type": "stream",
       "stream": "stdout",
       "text": [
        "\n",
        "['Lucerne Valley','CA'],"
       ]
      },
      {
       "output_type": "stream",
       "stream": "stdout",
       "text": [
        "\n",
        "['Lynwood','CA'],"
       ]
      },
      {
       "output_type": "stream",
       "stream": "stdout",
       "text": [
        "\n",
        "['Macdoel','CA'],"
       ]
      },
      {
       "output_type": "stream",
       "stream": "stdout",
       "text": [
        "\n",
        "['Corte Madera','CA'],"
       ]
      },
      {
       "output_type": "stream",
       "stream": "stdout",
       "text": [
        "\n",
        "['Madison','CA'],"
       ]
      },
      {
       "output_type": "stream",
       "stream": "stdout",
       "text": [
        "\n",
        "['Magalia','CA'],"
       ]
      },
      {
       "output_type": "stream",
       "stream": "stdout",
       "text": [
        "\n",
        "['Malibu','CA'],"
       ]
      },
      {
       "output_type": "stream",
       "stream": "stdout",
       "text": [
        "\n",
        "['Mammoth Lakes','CA'],"
       ]
      },
      {
       "output_type": "stream",
       "stream": "stdout",
       "text": [
        "\n",
        "['Manchester','CA'],"
       ]
      },
      {
       "output_type": "stream",
       "stream": "stdout",
       "text": [
        "\n",
        "['Manhattan Beach','CA'],"
       ]
      },
      {
       "output_type": "stream",
       "stream": "stdout",
       "text": [
        "\n",
        "['Manteca','CA'],"
       ]
      },
      {
       "output_type": "stream",
       "stream": "stdout",
       "text": [
        "\n",
        "['Manton','CA'],"
       ]
      },
      {
       "output_type": "stream",
       "stream": "stdout",
       "text": [
        "\n",
        "['Maricopa','CA'],"
       ]
      },
      {
       "output_type": "stream",
       "stream": "stdout",
       "text": [
        "\n",
        "['Marina','CA'],"
       ]
      },
      {
       "output_type": "stream",
       "stream": "stdout",
       "text": [
        "\n",
        "['Marina del Rey','CA'],"
       ]
      },
      {
       "output_type": "stream",
       "stream": "stdout",
       "text": [
        "\n",
        "['Mariposa','CA'],"
       ]
      },
      {
       "output_type": "stream",
       "stream": "stdout",
       "text": [
        "\n",
        "['Markleeville','CA'],"
       ]
      },
      {
       "output_type": "stream",
       "stream": "stdout",
       "text": [
        "\n",
        "['Martinez','CA'],"
       ]
      },
      {
       "output_type": "stream",
       "stream": "stdout",
       "text": [
        "\n",
        "['Marysville','CA'],"
       ]
      },
      {
       "output_type": "stream",
       "stream": "stdout",
       "text": [
        "\n",
        "['Mather','CA'],"
       ]
      },
      {
       "output_type": "stream",
       "stream": "stdout",
       "text": [
        "\n",
        "['Maxwell','CA'],"
       ]
      },
      {
       "output_type": "stream",
       "stream": "stdout",
       "text": [
        "\n",
        "['Maywood','CA'],"
       ]
      },
      {
       "output_type": "stream",
       "stream": "stdout",
       "text": [
        "\n",
        "['McFarland','CA'],"
       ]
      },
      {
       "output_type": "stream",
       "stream": "stdout",
       "text": [
        "\n",
        "['McKittrick','CA'],"
       ]
      },
      {
       "output_type": "stream",
       "stream": "stdout",
       "text": [
        "\n",
        "['McArthur','CA'],"
       ]
      },
      {
       "output_type": "stream",
       "stream": "stdout",
       "text": [
        "\n",
        "['McClellan','CA'],"
       ]
      },
      {
       "output_type": "stream",
       "stream": "stdout",
       "text": [
        "\n",
        "['McCloud','CA'],"
       ]
      },
      {
       "output_type": "stream",
       "stream": "stdout",
       "text": [
        "\n",
        "['McKinleyville','CA'],"
       ]
      },
      {
       "output_type": "stream",
       "stream": "stdout",
       "text": [
        "\n",
        "['Meadow Vista','CA'],"
       ]
      },
      {
       "output_type": "stream",
       "stream": "stdout",
       "text": [
        "\n",
        "['Mecca','CA'],"
       ]
      },
      {
       "output_type": "stream",
       "stream": "stdout",
       "text": [
        "\n",
        "['Mendocino','CA'],"
       ]
      },
      {
       "output_type": "stream",
       "stream": "stdout",
       "text": [
        "\n",
        "['Mendota','CA'],"
       ]
      },
      {
       "output_type": "stream",
       "stream": "stdout",
       "text": [
        "\n",
        "['Menifee','CA'],"
       ]
      },
      {
       "output_type": "stream",
       "stream": "stdout",
       "text": [
        "\n",
        "['Menlo Park','CA'],"
       ]
      },
      {
       "output_type": "stream",
       "stream": "stdout",
       "text": [
        "\n",
        "['Mentone','CA'],"
       ]
      },
      {
       "output_type": "stream",
       "stream": "stdout",
       "text": [
        "\n",
        "['Merced','CA'],"
       ]
      },
      {
       "output_type": "stream",
       "stream": "stdout",
       "text": [
        "\n",
        "['Meridian','CA'],"
       ]
      },
      {
       "output_type": "stream",
       "stream": "stdout",
       "text": [
        "\n",
        "['Middletown','CA'],"
       ]
      },
      {
       "output_type": "stream",
       "stream": "stdout",
       "text": [
        "\n",
        "['Midway City','CA'],"
       ]
      },
      {
       "output_type": "stream",
       "stream": "stdout",
       "text": [
        "\n",
        "['Mill Valley','CA'],"
       ]
      },
      {
       "output_type": "stream",
       "stream": "stdout",
       "text": [
        "\n",
        "['Millbrae','CA'],"
       ]
      },
      {
       "output_type": "stream",
       "stream": "stdout",
       "text": [
        "\n",
        "['Millville','CA'],"
       ]
      },
      {
       "output_type": "stream",
       "stream": "stdout",
       "text": [
        "\n",
        "['Milpitas','CA'],"
       ]
      },
      {
       "output_type": "stream",
       "stream": "stdout",
       "text": [
        "\n",
        "['Mineral','CA'],"
       ]
      },
      {
       "output_type": "stream",
       "stream": "stdout",
       "text": [
        "\n",
        "['Mira Loma','CA'],"
       ]
      },
      {
       "output_type": "stream",
       "stream": "stdout",
       "text": [
        "\n",
        "['Miranda','CA'],"
       ]
      },
      {
       "output_type": "stream",
       "stream": "stdout",
       "text": [
        "\n",
        "['Mission Hills','CA'],"
       ]
      },
      {
       "output_type": "stream",
       "stream": "stdout",
       "text": [
        "\n",
        "['Mission Viejo','CA'],"
       ]
      },
      {
       "output_type": "stream",
       "stream": "stdout",
       "text": [
        "\n",
        "['Modesto','CA'],"
       ]
      },
      {
       "output_type": "stream",
       "stream": "stdout",
       "text": [
        "\n",
        "['Mojave','CA'],"
       ]
      },
      {
       "output_type": "stream",
       "stream": "stdout",
       "text": [
        "\n",
        "['Mokelumne Hill','CA'],"
       ]
      },
      {
       "output_type": "stream",
       "stream": "stdout",
       "text": [
        "\n",
        "['Monrovia','CA'],"
       ]
      },
      {
       "output_type": "stream",
       "stream": "stdout",
       "text": [
        "\n",
        "['Montague','CA'],"
       ]
      },
      {
       "output_type": "stream",
       "stream": "stdout",
       "text": [
        "\n",
        "['Montara','CA'],"
       ]
      },
      {
       "output_type": "stream",
       "stream": "stdout",
       "text": [
        "\n",
        "['Montclair','CA'],"
       ]
      },
      {
       "output_type": "stream",
       "stream": "stdout",
       "text": [
        "\n",
        "['Monte Rio','CA'],"
       ]
      },
      {
       "output_type": "stream",
       "stream": "stdout",
       "text": [
        "\n",
        "['Montebello','CA'],"
       ]
      },
      {
       "output_type": "stream",
       "stream": "stdout",
       "text": [
        "\n",
        "['Monterey Park','CA'],"
       ]
      },
      {
       "output_type": "stream",
       "stream": "stdout",
       "text": [
        "\n",
        "['Monterey Park','CA'],"
       ]
      },
      {
       "output_type": "stream",
       "stream": "stdout",
       "text": [
        "\n",
        "['Montgomery Creek','CA'],"
       ]
      },
      {
       "output_type": "stream",
       "stream": "stdout",
       "text": [
        "\n",
        "['Montrose','CA'],"
       ]
      },
      {
       "output_type": "stream",
       "stream": "stdout",
       "text": [
        "\n",
        "['Moorpark','CA'],"
       ]
      },
      {
       "output_type": "stream",
       "stream": "stdout",
       "text": [
        "\n",
        "['Moraga','CA'],"
       ]
      },
      {
       "output_type": "stream",
       "stream": "stdout",
       "text": [
        "\n",
        "['Moreno Valley','CA'],"
       ]
      },
      {
       "output_type": "stream",
       "stream": "stdout",
       "text": [
        "\n",
        "['Morgan Hill','CA'],"
       ]
      },
      {
       "output_type": "stream",
       "stream": "stdout",
       "text": [
        "\n",
        "['Morongo Valley','CA'],"
       ]
      },
      {
       "output_type": "stream",
       "stream": "stdout",
       "text": [
        "\n",
        "['Morro Bay','CA'],"
       ]
      },
      {
       "output_type": "stream",
       "stream": "stdout",
       "text": [
        "\n",
        "['Moss Landing','CA'],"
       ]
      },
      {
       "output_type": "stream",
       "stream": "stdout",
       "text": [
        "\n",
        "['Mount Aukum','CA'],"
       ]
      },
      {
       "output_type": "stream",
       "stream": "stdout",
       "text": [
        "\n",
        "['Mount Shasta','CA'],"
       ]
      },
      {
       "output_type": "stream",
       "stream": "stdout",
       "text": [
        "\n",
        "['Mountain Center','CA'],"
       ]
      },
      {
       "output_type": "stream",
       "stream": "stdout",
       "text": [
        "\n",
        "['Mountain Ranch','CA'],"
       ]
      },
      {
       "output_type": "stream",
       "stream": "stdout",
       "text": [
        "\n",
        "['Mountain View','CA'],"
       ]
      },
      {
       "output_type": "stream",
       "stream": "stdout",
       "text": [
        "\n",
        "['Murphys','CA'],"
       ]
      },
      {
       "output_type": "stream",
       "stream": "stdout",
       "text": [
        "\n",
        "['Murrieta','CA'],"
       ]
      },
      {
       "output_type": "stream",
       "stream": "stdout",
       "text": [
        "\n",
        "['Napa','CA'],"
       ]
      },
      {
       "output_type": "stream",
       "stream": "stdout",
       "text": [
        "\n",
        "['National City','CA'],"
       ]
      },
      {
       "output_type": "stream",
       "stream": "stdout",
       "text": [
        "\n",
        "['Needles','CA'],"
       ]
      },
      {
       "output_type": "stream",
       "stream": "stdout",
       "text": [
        "\n",
        "['Nevada City','CA'],"
       ]
      },
      {
       "output_type": "stream",
       "stream": "stdout",
       "text": [
        "\n",
        "['New Cuyama','CA'],"
       ]
      },
      {
       "output_type": "stream",
       "stream": "stdout",
       "text": [
        "\n",
        "['Newark','CA'],"
       ]
      },
      {
       "output_type": "stream",
       "stream": "stdout",
       "text": [
        "\n",
        "['Newberry Springs','CA'],"
       ]
      },
      {
       "output_type": "stream",
       "stream": "stdout",
       "text": [
        "\n",
        "['Newbury Park','CA'],"
       ]
      },
      {
       "output_type": "stream",
       "stream": "stdout",
       "text": [
        "\n",
        "['Newcastle','CA'],"
       ]
      },
      {
       "output_type": "stream",
       "stream": "stdout",
       "text": [
        "\n",
        "['Newhall','CA'],"
       ]
      },
      {
       "output_type": "stream",
       "stream": "stdout",
       "text": [
        "\n",
        "['Newman','CA'],"
       ]
      },
      {
       "output_type": "stream",
       "stream": "stdout",
       "text": [
        "\n",
        "['Newport Beach','CA'],"
       ]
      },
      {
       "output_type": "stream",
       "stream": "stdout",
       "text": [
        "\n",
        "['Nicasio','CA'],"
       ]
      },
      {
       "output_type": "stream",
       "stream": "stdout",
       "text": [
        "\n",
        "['Nicolaus','CA'],"
       ]
      },
      {
       "output_type": "stream",
       "stream": "stdout",
       "text": [
        "\n",
        "['Niland','CA'],"
       ]
      },
      {
       "output_type": "stream",
       "stream": "stdout",
       "text": [
        "\n",
        "['Nipomo','CA'],"
       ]
      },
      {
       "output_type": "stream",
       "stream": "stdout",
       "text": [
        "\n",
        "['Norco','CA'],"
       ]
      },
      {
       "output_type": "stream",
       "stream": "stdout",
       "text": [
        "\n",
        "['Norden','CA'],"
       ]
      },
      {
       "output_type": "stream",
       "stream": "stdout",
       "text": [
        "\n",
        "['North Fork','CA'],"
       ]
      },
      {
       "output_type": "stream",
       "stream": "stdout",
       "text": [
        "\n",
        "['North Highlands','CA'],"
       ]
      },
      {
       "output_type": "stream",
       "stream": "stdout",
       "text": [
        "\n",
        "['North Hills','CA'],"
       ]
      },
      {
       "output_type": "stream",
       "stream": "stdout",
       "text": [
        "\n",
        "['North Hollywood','CA'],"
       ]
      },
      {
       "output_type": "stream",
       "stream": "stdout",
       "text": [
        "\n",
        "['Northridge','CA'],"
       ]
      },
      {
       "output_type": "stream",
       "stream": "stdout",
       "text": [
        "\n",
        "['Norwalk','CA'],"
       ]
      },
      {
       "output_type": "stream",
       "stream": "stdout",
       "text": [
        "\n",
        "['Novato','CA'],"
       ]
      },
      {
       "output_type": "stream",
       "stream": "stdout",
       "text": [
        "\n",
        "['Nuevo','CA'],"
       ]
      },
      {
       "output_type": "stream",
       "stream": "stdout",
       "text": [
        "\n",
        "['O'Neals','CA'],"
       ]
      },
      {
       "output_type": "stream",
       "stream": "stdout",
       "text": [
        "\n",
        "['Oak Park','CA'],"
       ]
      },
      {
       "output_type": "stream",
       "stream": "stdout",
       "text": [
        "\n",
        "['Oak Run','CA'],"
       ]
      },
      {
       "output_type": "stream",
       "stream": "stdout",
       "text": [
        "\n",
        "['Oak View','CA'],"
       ]
      },
      {
       "output_type": "stream",
       "stream": "stdout",
       "text": [
        "\n",
        "['Oakdale','CA'],"
       ]
      },
      {
       "output_type": "stream",
       "stream": "stdout",
       "text": [
        "\n",
        "['Oakhurst','CA'],"
       ]
      },
      {
       "output_type": "stream",
       "stream": "stdout",
       "text": [
        "\n",
        "['Oakland','CA'],"
       ]
      },
      {
       "output_type": "stream",
       "stream": "stdout",
       "text": [
        "\n",
        "['Oakley','CA'],"
       ]
      },
      {
       "output_type": "stream",
       "stream": "stdout",
       "text": [
        "\n",
        "['Occidental','CA'],"
       ]
      },
      {
       "output_type": "stream",
       "stream": "stdout",
       "text": [
        "\n",
        "['Oceano','CA'],"
       ]
      },
      {
       "output_type": "stream",
       "stream": "stdout",
       "text": [
        "\n",
        "['Oceanside','CA'],"
       ]
      },
      {
       "output_type": "stream",
       "stream": "stdout",
       "text": [
        "\n",
        "['Ojai','CA'],"
       ]
      },
      {
       "output_type": "stream",
       "stream": "stdout",
       "text": [
        "\n",
        "['Olivehurst','CA'],"
       ]
      },
      {
       "output_type": "stream",
       "stream": "stdout",
       "text": [
        "\n",
        "['Olympic Valley','CA'],"
       ]
      },
      {
       "output_type": "stream",
       "stream": "stdout",
       "text": [
        "\n",
        "['Ontario','CA'],"
       ]
      },
      {
       "output_type": "stream",
       "stream": "stdout",
       "text": [
        "\n",
        "['Orange Cove','CA'],"
       ]
      },
      {
       "output_type": "stream",
       "stream": "stdout",
       "text": [
        "\n",
        "['Orange Cove','CA'],"
       ]
      },
      {
       "output_type": "stream",
       "stream": "stdout",
       "text": [
        "\n",
        "['Orangevale','CA'],"
       ]
      },
      {
       "output_type": "stream",
       "stream": "stdout",
       "text": [
        "\n",
        "['Oregon House','CA'],"
       ]
      },
      {
       "output_type": "stream",
       "stream": "stdout",
       "text": [
        "\n",
        "['Orick','CA'],"
       ]
      },
      {
       "output_type": "stream",
       "stream": "stdout",
       "text": [
        "\n",
        "['Orinda','CA'],"
       ]
      },
      {
       "output_type": "stream",
       "stream": "stdout",
       "text": [
        "\n",
        "['Orland','CA'],"
       ]
      },
      {
       "output_type": "stream",
       "stream": "stdout",
       "text": [
        "\n",
        "['Orleans','CA'],"
       ]
      },
      {
       "output_type": "stream",
       "stream": "stdout",
       "text": [
        "\n",
        "['Oro Grande','CA'],"
       ]
      },
      {
       "output_type": "stream",
       "stream": "stdout",
       "text": [
        "\n",
        "['Orosi','CA'],"
       ]
      },
      {
       "output_type": "stream",
       "stream": "stdout",
       "text": [
        "\n",
        "['Oroville','CA'],"
       ]
      },
      {
       "output_type": "stream",
       "stream": "stdout",
       "text": [
        "\n",
        "['Oxnard','CA'],"
       ]
      },
      {
       "output_type": "stream",
       "stream": "stdout",
       "text": [
        "\n",
        "['Pacific Grove','CA'],"
       ]
      },
      {
       "output_type": "stream",
       "stream": "stdout",
       "text": [
        "\n",
        "['Pacific Palisades','CA'],"
       ]
      },
      {
       "output_type": "stream",
       "stream": "stdout",
       "text": [
        "\n",
        "['Pacifica','CA'],"
       ]
      },
      {
       "output_type": "stream",
       "stream": "stdout",
       "text": [
        "\n",
        "['Pacoima','CA'],"
       ]
      },
      {
       "output_type": "stream",
       "stream": "stdout",
       "text": [
        "\n",
        "['Paicines','CA'],"
       ]
      },
      {
       "output_type": "stream",
       "stream": "stdout",
       "text": [
        "\n",
        "['Pala','CA'],"
       ]
      },
      {
       "output_type": "stream",
       "stream": "stdout",
       "text": [
        "\n",
        "['Palermo','CA'],"
       ]
      },
      {
       "output_type": "stream",
       "stream": "stdout",
       "text": [
        "\n",
        "['Palm Desert','CA'],"
       ]
      },
      {
       "output_type": "stream",
       "stream": "stdout",
       "text": [
        "\n",
        "['Palm Springs','CA'],"
       ]
      },
      {
       "output_type": "stream",
       "stream": "stdout",
       "text": [
        "\n",
        "['Palmdale','CA'],"
       ]
      },
      {
       "output_type": "stream",
       "stream": "stdout",
       "text": [
        "\n",
        "['Palo Alto','CA'],"
       ]
      },
      {
       "output_type": "stream",
       "stream": "stdout",
       "text": [
        "\n",
        "['Palo Cedro','CA'],"
       ]
      },
      {
       "output_type": "stream",
       "stream": "stdout",
       "text": [
        "\n",
        "['Rancho Palos Verdes','CA'],"
       ]
      },
      {
       "output_type": "stream",
       "stream": "stdout",
       "text": [
        "\n",
        "['Panorama City','CA'],"
       ]
      },
      {
       "output_type": "stream",
       "stream": "stdout",
       "text": [
        "\n",
        "['Paradise','CA'],"
       ]
      },
      {
       "output_type": "stream",
       "stream": "stdout",
       "text": [
        "\n",
        "['Paramount','CA'],"
       ]
      },
      {
       "output_type": "stream",
       "stream": "stdout",
       "text": [
        "\n",
        "['Parlier','CA'],"
       ]
      },
      {
       "output_type": "stream",
       "stream": "stdout",
       "text": [
        "\n",
        "['Pasadena','CA'],"
       ]
      },
      {
       "output_type": "stream",
       "stream": "stdout",
       "text": [
        "\n",
        "['Paskenta','CA'],"
       ]
      },
      {
       "output_type": "stream",
       "stream": "stdout",
       "text": [
        "\n",
        "['Paso Robles','CA'],"
       ]
      },
      {
       "output_type": "stream",
       "stream": "stdout",
       "text": [
        "\n",
        "['Patterson','CA'],"
       ]
      },
      {
       "output_type": "stream",
       "stream": "stdout",
       "text": [
        "\n",
        "['Pauma Valley','CA'],"
       ]
      },
      {
       "output_type": "stream",
       "stream": "stdout",
       "text": [
        "\n",
        "['Paynes Creek','CA'],"
       ]
      },
      {
       "output_type": "stream",
       "stream": "stdout",
       "text": [
        "\n",
        "['Pearblossom','CA'],"
       ]
      },
      {
       "output_type": "stream",
       "stream": "stdout",
       "text": [
        "\n",
        "['Pebble Beach','CA'],"
       ]
      },
      {
       "output_type": "stream",
       "stream": "stdout",
       "text": [
        "\n",
        "['Penn Valley','CA'],"
       ]
      },
      {
       "output_type": "stream",
       "stream": "stdout",
       "text": [
        "\n",
        "['Penngrove','CA'],"
       ]
      },
      {
       "output_type": "stream",
       "stream": "stdout",
       "text": [
        "\n",
        "['Penryn','CA'],"
       ]
      },
      {
       "output_type": "stream",
       "stream": "stdout",
       "text": [
        "\n",
        "['Perris','CA'],"
       ]
      },
      {
       "output_type": "stream",
       "stream": "stdout",
       "text": [
        "\n",
        "['Pescadero','CA'],"
       ]
      },
      {
       "output_type": "stream",
       "stream": "stdout",
       "text": [
        "\n",
        "['Petaluma','CA'],"
       ]
      },
      {
       "output_type": "stream",
       "stream": "stdout",
       "text": [
        "\n",
        "['Petrolia','CA'],"
       ]
      },
      {
       "output_type": "stream",
       "stream": "stdout",
       "text": [
        "\n",
        "['Phelan','CA'],"
       ]
      },
      {
       "output_type": "stream",
       "stream": "stdout",
       "text": [
        "\n",
        "['Philo','CA'],"
       ]
      },
      {
       "output_type": "stream",
       "stream": "stdout",
       "text": [
        "\n",
        "['Pico Rivera','CA'],"
       ]
      },
      {
       "output_type": "stream",
       "stream": "stdout",
       "text": [
        "\n",
        "['Piedmont','CA'],"
       ]
      },
      {
       "output_type": "stream",
       "stream": "stdout",
       "text": [
        "\n",
        "['Pine Grove','CA'],"
       ]
      },
      {
       "output_type": "stream",
       "stream": "stdout",
       "text": [
        "\n",
        "['Pine Valley','CA'],"
       ]
      },
      {
       "output_type": "stream",
       "stream": "stdout",
       "text": [
        "\n",
        "['Pinecrest','CA'],"
       ]
      },
      {
       "output_type": "stream",
       "stream": "stdout",
       "text": [
        "\n",
        "['Pinole','CA'],"
       ]
      },
      {
       "output_type": "stream",
       "stream": "stdout",
       "text": [
        "\n",
        "['Pinon Hills','CA'],"
       ]
      },
      {
       "output_type": "stream",
       "stream": "stdout",
       "text": [
        "\n",
        "['Pioneer','CA'],"
       ]
      },
      {
       "output_type": "stream",
       "stream": "stdout",
       "text": [
        "\n",
        "['Piru','CA'],"
       ]
      },
      {
       "output_type": "stream",
       "stream": "stdout",
       "text": [
        "\n",
        "['Pismo Beach','CA'],"
       ]
      },
      {
       "output_type": "stream",
       "stream": "stdout",
       "text": [
        "\n",
        "['Pittsburg','CA'],"
       ]
      },
      {
       "output_type": "stream",
       "stream": "stdout",
       "text": [
        "\n",
        "['Pixley','CA'],"
       ]
      },
      {
       "output_type": "stream",
       "stream": "stdout",
       "text": [
        "\n",
        "['Placentia','CA'],"
       ]
      },
      {
       "output_type": "stream",
       "stream": "stdout",
       "text": [
        "\n",
        "['Placerville','CA'],"
       ]
      },
      {
       "output_type": "stream",
       "stream": "stdout",
       "text": [
        "\n",
        "['Planada','CA'],"
       ]
      },
      {
       "output_type": "stream",
       "stream": "stdout",
       "text": [
        "\n",
        "['Platina','CA'],"
       ]
      },
      {
       "output_type": "stream",
       "stream": "stdout",
       "text": [
        "\n",
        "['Playa del Rey','CA'],"
       ]
      },
      {
       "output_type": "stream",
       "stream": "stdout",
       "text": [
        "\n",
        "['Pleasant Grove','CA'],"
       ]
      },
      {
       "output_type": "stream",
       "stream": "stdout",
       "text": [
        "\n",
        "['Pleasant Hill','CA'],"
       ]
      },
      {
       "output_type": "stream",
       "stream": "stdout",
       "text": [
        "\n",
        "['Pleasanton','CA'],"
       ]
      },
      {
       "output_type": "stream",
       "stream": "stdout",
       "text": [
        "\n",
        "['Plymouth','CA'],"
       ]
      },
      {
       "output_type": "stream",
       "stream": "stdout",
       "text": [
        "\n",
        "['Point Arena','CA'],"
       ]
      },
      {
       "output_type": "stream",
       "stream": "stdout",
       "text": [
        "\n",
        "['Point Reyes Station','CA'],"
       ]
      },
      {
       "output_type": "stream",
       "stream": "stdout",
       "text": [
        "\n",
        "['Pollock Pines','CA'],"
       ]
      },
      {
       "output_type": "stream",
       "stream": "stdout",
       "text": [
        "\n",
        "['Pomona','CA'],"
       ]
      },
      {
       "output_type": "stream",
       "stream": "stdout",
       "text": [
        "\n",
        "['Pope Valley','CA'],"
       ]
      },
      {
       "output_type": "stream",
       "stream": "stdout",
       "text": [
        "\n",
        "['Port Hueneme','CA'],"
       ]
      },
      {
       "output_type": "stream",
       "stream": "stdout",
       "text": [
        "\n",
        "['Porter Ranch','CA'],"
       ]
      },
      {
       "output_type": "stream",
       "stream": "stdout",
       "text": [
        "\n",
        "['Porterville','CA'],"
       ]
      },
      {
       "output_type": "stream",
       "stream": "stdout",
       "text": [
        "\n",
        "['Portola','CA'],"
       ]
      },
      {
       "output_type": "stream",
       "stream": "stdout",
       "text": [
        "\n",
        "['Potrero','CA'],"
       ]
      },
      {
       "output_type": "stream",
       "stream": "stdout",
       "text": [
        "\n",
        "['Potter Valley','CA'],"
       ]
      },
      {
       "output_type": "stream",
       "stream": "stdout",
       "text": [
        "\n",
        "['Poway','CA'],"
       ]
      },
      {
       "output_type": "stream",
       "stream": "stdout",
       "text": [
        "\n",
        "['Prather','CA'],"
       ]
      },
      {
       "output_type": "stream",
       "stream": "stdout",
       "text": [
        "\n",
        "['Princeton','CA'],"
       ]
      },
      {
       "output_type": "stream",
       "stream": "stdout",
       "text": [
        "\n",
        "['Quincy','CA'],"
       ]
      },
      {
       "output_type": "stream",
       "stream": "stdout",
       "text": [
        "\n",
        "['Rail Road Flat','CA'],"
       ]
      },
      {
       "output_type": "stream",
       "stream": "stdout",
       "text": [
        "\n",
        "['Raisin City','CA'],"
       ]
      },
      {
       "output_type": "stream",
       "stream": "stdout",
       "text": [
        "\n",
        "['Ramona','CA'],"
       ]
      },
      {
       "output_type": "stream",
       "stream": "stdout",
       "text": [
        "\n",
        "['Rancho Cordova','CA'],"
       ]
      },
      {
       "output_type": "stream",
       "stream": "stdout",
       "text": [
        "\n",
        "['Rancho Cucamonga','CA'],"
       ]
      },
      {
       "output_type": "stream",
       "stream": "stdout",
       "text": [
        "\n",
        "['Rancho Mirage','CA'],"
       ]
      },
      {
       "output_type": "stream",
       "stream": "stdout",
       "text": [
        "\n",
        "['Rancho Palos Verdes','CA'],"
       ]
      },
      {
       "output_type": "stream",
       "stream": "stdout",
       "text": [
        "\n",
        "['Rancho Santa Fe','CA'],"
       ]
      },
      {
       "output_type": "stream",
       "stream": "stdout",
       "text": [
        "\n",
        "['Rancho Santa Margarita','CA'],"
       ]
      },
      {
       "output_type": "stream",
       "stream": "stdout",
       "text": [
        "\n",
        "['Raymond','CA'],"
       ]
      },
      {
       "output_type": "stream",
       "stream": "stdout",
       "text": [
        "\n",
        "['Red Bluff','CA'],"
       ]
      },
      {
       "output_type": "stream",
       "stream": "stdout",
       "text": [
        "\n",
        "['Redding','CA'],"
       ]
      },
      {
       "output_type": "stream",
       "stream": "stdout",
       "text": [
        "\n",
        "['Redlands','CA'],"
       ]
      },
      {
       "output_type": "stream",
       "stream": "stdout",
       "text": [
        "\n",
        "['Redondo Beach','CA'],"
       ]
      },
      {
       "output_type": "stream",
       "stream": "stdout",
       "text": [
        "\n",
        "['Redway','CA'],"
       ]
      },
      {
       "output_type": "stream",
       "stream": "stdout",
       "text": [
        "\n",
        "['Redwood City','CA'],"
       ]
      },
      {
       "output_type": "stream",
       "stream": "stdout",
       "text": [
        "\n",
        "['Redwood Valley','CA'],"
       ]
      },
      {
       "output_type": "stream",
       "stream": "stdout",
       "text": [
        "\n",
        "['Reedley','CA'],"
       ]
      },
      {
       "output_type": "stream",
       "stream": "stdout",
       "text": [
        "\n",
        "['Rescue','CA'],"
       ]
      },
      {
       "output_type": "stream",
       "stream": "stdout",
       "text": [
        "\n",
        "['Reseda','CA'],"
       ]
      },
      {
       "output_type": "stream",
       "stream": "stdout",
       "text": [
        "\n",
        "['Rialto','CA'],"
       ]
      },
      {
       "output_type": "stream",
       "stream": "stdout",
       "text": [
        "\n",
        "['Richgrove','CA'],"
       ]
      },
      {
       "output_type": "stream",
       "stream": "stdout",
       "text": [
        "\n",
        "['Richmond','CA'],"
       ]
      },
      {
       "output_type": "stream",
       "stream": "stdout",
       "text": [
        "\n",
        "['Ridgecrest','CA'],"
       ]
      },
      {
       "output_type": "stream",
       "stream": "stdout",
       "text": [
        "\n",
        "['Rio Dell','CA'],"
       ]
      },
      {
       "output_type": "stream",
       "stream": "stdout",
       "text": [
        "\n",
        "['Rio Linda','CA'],"
       ]
      },
      {
       "output_type": "stream",
       "stream": "stdout",
       "text": [
        "\n",
        "['Rio Oso','CA'],"
       ]
      },
      {
       "output_type": "stream",
       "stream": "stdout",
       "text": [
        "\n",
        "['Rio Vista','CA'],"
       ]
      },
      {
       "output_type": "stream",
       "stream": "stdout",
       "text": [
        "\n",
        "['Ripon','CA'],"
       ]
      },
      {
       "output_type": "stream",
       "stream": "stdout",
       "text": [
        "\n",
        "['Riverbank','CA'],"
       ]
      },
      {
       "output_type": "stream",
       "stream": "stdout",
       "text": [
        "\n",
        "['Riverdale','CA'],"
       ]
      },
      {
       "output_type": "stream",
       "stream": "stdout",
       "text": [
        "\n",
        "['Riverside','CA'],"
       ]
      },
      {
       "output_type": "stream",
       "stream": "stdout",
       "text": [
        "\n",
        "['Robbins','CA'],"
       ]
      },
      {
       "output_type": "stream",
       "stream": "stdout",
       "text": [
        "\n",
        "['Rocklin','CA'],"
       ]
      },
      {
       "output_type": "stream",
       "stream": "stdout",
       "text": [
        "\n",
        "['Rodeo','CA'],"
       ]
      },
      {
       "output_type": "stream",
       "stream": "stdout",
       "text": [
        "\n",
        "['Rohnert Park','CA'],"
       ]
      },
      {
       "output_type": "stream",
       "stream": "stdout",
       "text": [
        "\n",
        "['Rosamond','CA'],"
       ]
      },
      {
       "output_type": "stream",
       "stream": "stdout",
       "text": [
        "\n",
        "['Rosemead','CA'],"
       ]
      },
      {
       "output_type": "stream",
       "stream": "stdout",
       "text": [
        "\n",
        "['Roseville','CA'],"
       ]
      },
      {
       "output_type": "stream",
       "stream": "stdout",
       "text": [
        "\n",
        "['Ross','CA'],"
       ]
      },
      {
       "output_type": "stream",
       "stream": "stdout",
       "text": [
        "\n",
        "['Rowland Heights','CA'],"
       ]
      },
      {
       "output_type": "stream",
       "stream": "stdout",
       "text": [
        "\n",
        "['Running Springs','CA'],"
       ]
      },
      {
       "output_type": "stream",
       "stream": "stdout",
       "text": [
        "\n",
        "['Sacramento','CA'],"
       ]
      },
      {
       "output_type": "stream",
       "stream": "stdout",
       "text": [
        "\n",
        "['Salida','CA'],"
       ]
      },
      {
       "output_type": "stream",
       "stream": "stdout",
       "text": [
        "\n",
        "['Salinas','CA'],"
       ]
      },
      {
       "output_type": "stream",
       "stream": "stdout",
       "text": [
        "\n",
        "['Salton City','CA'],"
       ]
      },
      {
       "output_type": "stream",
       "stream": "stdout",
       "text": [
        "\n",
        "['Samoa','CA'],"
       ]
      },
      {
       "output_type": "stream",
       "stream": "stdout",
       "text": [
        "\n",
        "['San Andreas','CA'],"
       ]
      },
      {
       "output_type": "stream",
       "stream": "stdout",
       "text": [
        "\n",
        "['San Anselmo','CA'],"
       ]
      },
      {
       "output_type": "stream",
       "stream": "stdout",
       "text": [
        "\n",
        "['San Ardo','CA'],"
       ]
      },
      {
       "output_type": "stream",
       "stream": "stdout",
       "text": [
        "\n",
        "['San Bernardino','CA'],"
       ]
      },
      {
       "output_type": "stream",
       "stream": "stdout",
       "text": [
        "\n",
        "['San Bruno','CA'],"
       ]
      },
      {
       "output_type": "stream",
       "stream": "stdout",
       "text": [
        "\n",
        "['San Carlos','CA'],"
       ]
      },
      {
       "output_type": "stream",
       "stream": "stdout",
       "text": [
        "\n",
        "['San Clemente','CA'],"
       ]
      },
      {
       "output_type": "stream",
       "stream": "stdout",
       "text": [
        "\n",
        "['San Diego','CA'],"
       ]
      },
      {
       "output_type": "stream",
       "stream": "stdout",
       "text": [
        "\n",
        "['San Dimas','CA'],"
       ]
      },
      {
       "output_type": "stream",
       "stream": "stdout",
       "text": [
        "\n",
        "['San Fernando','CA'],"
       ]
      },
      {
       "output_type": "stream",
       "stream": "stdout",
       "text": [
        "\n",
        "['San Francisco','CA'],"
       ]
      },
      {
       "output_type": "stream",
       "stream": "stdout",
       "text": [
        "\n",
        "['San Gabriel','CA'],"
       ]
      },
      {
       "output_type": "stream",
       "stream": "stdout",
       "text": [
        "\n",
        "['San Geronimo','CA'],"
       ]
      },
      {
       "output_type": "stream",
       "stream": "stdout",
       "text": [
        "\n",
        "['San Jacinto','CA'],"
       ]
      },
      {
       "output_type": "stream",
       "stream": "stdout",
       "text": [
        "\n",
        "['San Joaquin','CA'],"
       ]
      },
      {
       "output_type": "stream",
       "stream": "stdout",
       "text": [
        "\n",
        "['San Jose','CA'],"
       ]
      },
      {
       "output_type": "stream",
       "stream": "stdout",
       "text": [
        "\n",
        "['San Juan Bautista','CA'],"
       ]
      },
      {
       "output_type": "stream",
       "stream": "stdout",
       "text": [
        "\n",
        "['San Juan Capistrano','CA'],"
       ]
      },
      {
       "output_type": "stream",
       "stream": "stdout",
       "text": [
        "\n",
        "['San Leandro','CA'],"
       ]
      },
      {
       "output_type": "stream",
       "stream": "stdout",
       "text": [
        "\n",
        "['San Lorenzo','CA'],"
       ]
      },
      {
       "output_type": "stream",
       "stream": "stdout",
       "text": [
        "\n",
        "['San Lucas','CA'],"
       ]
      },
      {
       "output_type": "stream",
       "stream": "stdout",
       "text": [
        "\n",
        "['San Luis Obispo','CA'],"
       ]
      },
      {
       "output_type": "stream",
       "stream": "stdout",
       "text": [
        "\n",
        "['San Marcos','CA'],"
       ]
      },
      {
       "output_type": "stream",
       "stream": "stdout",
       "text": [
        "\n",
        "['San Marino','CA'],"
       ]
      },
      {
       "output_type": "stream",
       "stream": "stdout",
       "text": [
        "\n",
        "['San Martin','CA'],"
       ]
      },
      {
       "output_type": "stream",
       "stream": "stdout",
       "text": [
        "\n",
        "['San Mateo','CA'],"
       ]
      },
      {
       "output_type": "stream",
       "stream": "stdout",
       "text": [
        "\n",
        "['San Miguel','CA'],"
       ]
      },
      {
       "output_type": "stream",
       "stream": "stdout",
       "text": [
        "\n",
        "['San Pablo','CA'],"
       ]
      },
      {
       "output_type": "stream",
       "stream": "stdout",
       "text": [
        "\n",
        "['San Pedro','CA'],"
       ]
      },
      {
       "output_type": "stream",
       "stream": "stdout",
       "text": [
        "\n",
        "['San Rafael','CA'],"
       ]
      },
      {
       "output_type": "stream",
       "stream": "stdout",
       "text": [
        "\n",
        "['San Ramon','CA'],"
       ]
      },
      {
       "output_type": "stream",
       "stream": "stdout",
       "text": [
        "\n",
        "['San Ysidro','CA'],"
       ]
      },
      {
       "output_type": "stream",
       "stream": "stdout",
       "text": [
        "\n",
        "['Sanger','CA'],"
       ]
      },
      {
       "output_type": "stream",
       "stream": "stdout",
       "text": [
        "\n",
        "['Santa Ana','CA'],"
       ]
      },
      {
       "output_type": "stream",
       "stream": "stdout",
       "text": [
        "\n",
        "['Santa Barbara','CA'],"
       ]
      },
      {
       "output_type": "stream",
       "stream": "stdout",
       "text": [
        "\n",
        "['Santa Clara','CA'],"
       ]
      },
      {
       "output_type": "stream",
       "stream": "stdout",
       "text": [
        "\n",
        "['Santa Clarita','CA'],"
       ]
      },
      {
       "output_type": "stream",
       "stream": "stdout",
       "text": [
        "\n",
        "['Santa Cruz','CA'],"
       ]
      },
      {
       "output_type": "stream",
       "stream": "stdout",
       "text": [
        "\n",
        "['Santa Fe Springs','CA'],"
       ]
      },
      {
       "output_type": "stream",
       "stream": "stdout",
       "text": [
        "\n",
        "['Rancho Santa Margarita','CA'],"
       ]
      },
      {
       "output_type": "stream",
       "stream": "stdout",
       "text": [
        "\n",
        "['Santa Maria','CA'],"
       ]
      },
      {
       "output_type": "stream",
       "stream": "stdout",
       "text": [
        "\n",
        "['Santa Monica','CA'],"
       ]
      },
      {
       "output_type": "stream",
       "stream": "stdout",
       "text": [
        "\n",
        "['Santa Paula','CA'],"
       ]
      },
      {
       "output_type": "stream",
       "stream": "stdout",
       "text": [
        "\n",
        "['Santa Rosa','CA'],"
       ]
      },
      {
       "output_type": "stream",
       "stream": "stdout",
       "text": [
        "\n",
        "['Santa Ynez','CA'],"
       ]
      },
      {
       "output_type": "stream",
       "stream": "stdout",
       "text": [
        "\n",
        "['Santa Ysabel','CA'],"
       ]
      },
      {
       "output_type": "stream",
       "stream": "stdout",
       "text": [
        "\n",
        "['Santee','CA'],"
       ]
      },
      {
       "output_type": "stream",
       "stream": "stdout",
       "text": [
        "\n",
        "['Saratoga','CA'],"
       ]
      },
      {
       "output_type": "stream",
       "stream": "stdout",
       "text": [
        "\n",
        "['Sausalito','CA'],"
       ]
      },
      {
       "output_type": "stream",
       "stream": "stdout",
       "text": [
        "\n",
        "['Scotia','CA'],"
       ]
      },
      {
       "output_type": "stream",
       "stream": "stdout",
       "text": [
        "\n",
        "['Scotts Valley','CA'],"
       ]
      },
      {
       "output_type": "stream",
       "stream": "stdout",
       "text": [
        "\n",
        "['Seal Beach','CA'],"
       ]
      },
      {
       "output_type": "stream",
       "stream": "stdout",
       "text": [
        "\n",
        "['Seaside','CA'],"
       ]
      },
      {
       "output_type": "stream",
       "stream": "stdout",
       "text": [
        "\n",
        "['Sebastopol','CA'],"
       ]
      },
      {
       "output_type": "stream",
       "stream": "stdout",
       "text": [
        "\n",
        "['Seeley','CA'],"
       ]
      },
      {
       "output_type": "stream",
       "stream": "stdout",
       "text": [
        "\n",
        "['Seiad Valley','CA'],"
       ]
      },
      {
       "output_type": "stream",
       "stream": "stdout",
       "text": [
        "\n",
        "['Selma','CA'],"
       ]
      },
      {
       "output_type": "stream",
       "stream": "stdout",
       "text": [
        "\n",
        "['Shafter','CA'],"
       ]
      },
      {
       "output_type": "stream",
       "stream": "stdout",
       "text": [
        "\n",
        "['Shandon','CA'],"
       ]
      },
      {
       "output_type": "stream",
       "stream": "stdout",
       "text": [
        "\n",
        "['Shasta Lake','CA'],"
       ]
      },
      {
       "output_type": "stream",
       "stream": "stdout",
       "text": [
        "\n",
        "['Shasta Lake','CA'],"
       ]
      },
      {
       "output_type": "stream",
       "stream": "stdout",
       "text": [
        "\n",
        "['Shaver Lake','CA'],"
       ]
      },
      {
       "output_type": "stream",
       "stream": "stdout",
       "text": [
        "\n",
        "['Sheridan','CA'],"
       ]
      },
      {
       "output_type": "stream",
       "stream": "stdout",
       "text": [
        "\n",
        "['Sherman Oaks','CA'],"
       ]
      },
      {
       "output_type": "stream",
       "stream": "stdout",
       "text": [
        "\n",
        "['Shingle Springs','CA'],"
       ]
      },
      {
       "output_type": "stream",
       "stream": "stdout",
       "text": [
        "\n",
        "['Shingletown','CA'],"
       ]
      },
      {
       "output_type": "stream",
       "stream": "stdout",
       "text": [
        "\n",
        "['Shoshone','CA'],"
       ]
      },
      {
       "output_type": "stream",
       "stream": "stdout",
       "text": [
        "\n",
        "['Sierra Madre','CA'],"
       ]
      },
      {
       "output_type": "stream",
       "stream": "stdout",
       "text": [
        "\n",
        "['Sierraville','CA'],"
       ]
      },
      {
       "output_type": "stream",
       "stream": "stdout",
       "text": [
        "\n",
        "['Signal Hill','CA'],"
       ]
      },
      {
       "output_type": "stream",
       "stream": "stdout",
       "text": [
        "\n",
        "['Silverado Canyon','CA'],"
       ]
      },
      {
       "output_type": "stream",
       "stream": "stdout",
       "text": [
        "\n",
        "['Simi Valley','CA'],"
       ]
      },
      {
       "output_type": "stream",
       "stream": "stdout",
       "text": [
        "\n",
        "['Sloughhouse','CA'],"
       ]
      },
      {
       "output_type": "stream",
       "stream": "stdout",
       "text": [
        "\n",
        "['Smith River','CA'],"
       ]
      },
      {
       "output_type": "stream",
       "stream": "stdout",
       "text": [
        "\n",
        "['Snelling','CA'],"
       ]
      },
      {
       "output_type": "stream",
       "stream": "stdout",
       "text": [
        "\n",
        "['Solana Beach','CA'],"
       ]
      },
      {
       "output_type": "stream",
       "stream": "stdout",
       "text": [
        "\n",
        "['Soledad','CA'],"
       ]
      },
      {
       "output_type": "stream",
       "stream": "stdout",
       "text": [
        "\n",
        "['Solvang','CA'],"
       ]
      },
      {
       "output_type": "stream",
       "stream": "stdout",
       "text": [
        "\n",
        "['Somerset','CA'],"
       ]
      },
      {
       "output_type": "stream",
       "stream": "stdout",
       "text": [
        "\n",
        "['Somes Bar','CA'],"
       ]
      },
      {
       "output_type": "stream",
       "stream": "stdout",
       "text": [
        "\n",
        "['Somis','CA'],"
       ]
      },
      {
       "output_type": "stream",
       "stream": "stdout",
       "text": [
        "\n",
        "['Sonoma','CA'],"
       ]
      },
      {
       "output_type": "stream",
       "stream": "stdout",
       "text": [
        "\n",
        "['Sonora','CA'],"
       ]
      },
      {
       "output_type": "stream",
       "stream": "stdout",
       "text": [
        "\n",
        "['Soquel','CA'],"
       ]
      },
      {
       "output_type": "stream",
       "stream": "stdout",
       "text": [
        "\n",
        "['Soulsbyville','CA'],"
       ]
      },
      {
       "output_type": "stream",
       "stream": "stdout",
       "text": [
        "\n",
        "['South Dos Palos','CA'],"
       ]
      },
      {
       "output_type": "stream",
       "stream": "stdout",
       "text": [
        "\n",
        "['South El Monte','CA'],"
       ]
      },
      {
       "output_type": "stream",
       "stream": "stdout",
       "text": [
        "\n",
        "['South Gate','CA'],"
       ]
      },
      {
       "output_type": "stream",
       "stream": "stdout",
       "text": [
        "\n",
        "['South Lake Tahoe','CA'],"
       ]
      },
      {
       "output_type": "stream",
       "stream": "stdout",
       "text": [
        "\n",
        "['South Pasadena','CA'],"
       ]
      },
      {
       "output_type": "stream",
       "stream": "stdout",
       "text": [
        "\n",
        "['South San Francisco','CA'],"
       ]
      },
      {
       "output_type": "stream",
       "stream": "stdout",
       "text": [
        "\n",
        "['Spreckels','CA'],"
       ]
      },
      {
       "output_type": "stream",
       "stream": "stdout",
       "text": [
        "\n",
        "['Spring Valley','CA'],"
       ]
      },
      {
       "output_type": "stream",
       "stream": "stdout",
       "text": [
        "\n",
        "['Springville','CA'],"
       ]
      },
      {
       "output_type": "stream",
       "stream": "stdout",
       "text": [
        "\n",
        "['Squaw Valley','CA'],"
       ]
      },
      {
       "output_type": "stream",
       "stream": "stdout",
       "text": [
        "\n",
        "['Stanford','CA'],"
       ]
      },
      {
       "output_type": "stream",
       "stream": "stdout",
       "text": [
        "\n",
        "['Stanton','CA'],"
       ]
      },
      {
       "output_type": "stream",
       "stream": "stdout",
       "text": [
        "\n",
        "['Stevenson Ranch','CA'],"
       ]
      },
      {
       "output_type": "stream",
       "stream": "stdout",
       "text": [
        "\n",
        "['Stevinson','CA'],"
       ]
      },
      {
       "output_type": "stream",
       "stream": "stdout",
       "text": [
        "\n",
        "['Stewarts Point','CA'],"
       ]
      },
      {
       "output_type": "stream",
       "stream": "stdout",
       "text": [
        "\n",
        "['Stinson Beach','CA'],"
       ]
      },
      {
       "output_type": "stream",
       "stream": "stdout",
       "text": [
        "\n",
        "['Stockton','CA'],"
       ]
      },
      {
       "output_type": "stream",
       "stream": "stdout",
       "text": [
        "\n",
        "['Stonyford','CA'],"
       ]
      },
      {
       "output_type": "stream",
       "stream": "stdout",
       "text": [
        "\n",
        "['Stratford','CA'],"
       ]
      },
      {
       "output_type": "stream",
       "stream": "stdout",
       "text": [
        "\n",
        "['Strathmore','CA'],"
       ]
      },
      {
       "output_type": "stream",
       "stream": "stdout",
       "text": [
        "\n",
        "['Studio City','CA'],"
       ]
      },
      {
       "output_type": "stream",
       "stream": "stdout",
       "text": [
        "\n",
        "['Sugarloaf','CA'],"
       ]
      },
      {
       "output_type": "stream",
       "stream": "stdout",
       "text": [
        "\n",
        "['Suisun City','CA'],"
       ]
      },
      {
       "output_type": "stream",
       "stream": "stdout",
       "text": [
        "\n",
        "['Summerland','CA'],"
       ]
      },
      {
       "output_type": "stream",
       "stream": "stdout",
       "text": [
        "\n",
        "['Sun City','CA'],"
       ]
      },
      {
       "output_type": "stream",
       "stream": "stdout",
       "text": [
        "\n",
        "['Sun Valley','CA'],"
       ]
      },
      {
       "output_type": "stream",
       "stream": "stdout",
       "text": [
        "\n",
        "['Sunland','CA'],"
       ]
      },
      {
       "output_type": "stream",
       "stream": "stdout",
       "text": [
        "\n",
        "['Sunnyvale','CA'],"
       ]
      },
      {
       "output_type": "stream",
       "stream": "stdout",
       "text": [
        "\n",
        "['Sunol','CA'],"
       ]
      },
      {
       "output_type": "stream",
       "stream": "stdout",
       "text": [
        "\n",
        "['Susanville','CA'],"
       ]
      },
      {
       "output_type": "stream",
       "stream": "stdout",
       "text": [
        "\n",
        "['Sutter Creek','CA'],"
       ]
      },
      {
       "output_type": "stream",
       "stream": "stdout",
       "text": [
        "\n",
        "['Sutter Creek','CA'],"
       ]
      },
      {
       "output_type": "stream",
       "stream": "stdout",
       "text": [
        "\n",
        "['Sylmar','CA'],"
       ]
      },
      {
       "output_type": "stream",
       "stream": "stdout",
       "text": [
        "\n",
        "['Taft','CA'],"
       ]
      },
      {
       "output_type": "stream",
       "stream": "stdout",
       "text": [
        "\n",
        "['Tahoe City','CA'],"
       ]
      },
      {
       "output_type": "stream",
       "stream": "stdout",
       "text": [
        "\n",
        "['Tarzana','CA'],"
       ]
      },
      {
       "output_type": "stream",
       "stream": "stdout",
       "text": [
        "\n",
        "['Taylorsville','CA'],"
       ]
      },
      {
       "output_type": "stream",
       "stream": "stdout",
       "text": [
        "\n",
        "['Tecate','CA'],"
       ]
      },
      {
       "output_type": "stream",
       "stream": "stdout",
       "text": [
        "\n",
        "['Tecopa','CA'],"
       ]
      },
      {
       "output_type": "stream",
       "stream": "stdout",
       "text": [
        "\n",
        "['Tehachapi','CA'],"
       ]
      },
      {
       "output_type": "stream",
       "stream": "stdout",
       "text": [
        "\n",
        "['Temecula','CA'],"
       ]
      },
      {
       "output_type": "stream",
       "stream": "stdout",
       "text": [
        "\n",
        "['Temple City','CA'],"
       ]
      },
      {
       "output_type": "stream",
       "stream": "stdout",
       "text": [
        "\n",
        "['Templeton','CA'],"
       ]
      },
      {
       "output_type": "stream",
       "stream": "stdout",
       "text": [
        "\n",
        "['Termo','CA'],"
       ]
      },
      {
       "output_type": "stream",
       "stream": "stdout",
       "text": [
        "\n",
        "['Terra Bella','CA'],"
       ]
      },
      {
       "output_type": "stream",
       "stream": "stdout",
       "text": [
        "\n",
        "['Thermal','CA'],"
       ]
      },
      {
       "output_type": "stream",
       "stream": "stdout",
       "text": [
        "\n",
        "['Thornton','CA'],"
       ]
      },
      {
       "output_type": "stream",
       "stream": "stdout",
       "text": [
        "\n",
        "['Thousand Oaks','CA'],"
       ]
      },
      {
       "output_type": "stream",
       "stream": "stdout",
       "text": [
        "\n",
        "['Thousand Palms','CA'],"
       ]
      },
      {
       "output_type": "stream",
       "stream": "stdout",
       "text": [
        "\n",
        "['Three Rivers','CA'],"
       ]
      },
      {
       "output_type": "stream",
       "stream": "stdout",
       "text": [
        "\n",
        "['Tipton','CA'],"
       ]
      },
      {
       "output_type": "stream",
       "stream": "stdout",
       "text": [
        "\n",
        "['Tollhouse','CA'],"
       ]
      },
      {
       "output_type": "stream",
       "stream": "stdout",
       "text": [
        "\n",
        "['Tomales','CA'],"
       ]
      },
      {
       "output_type": "stream",
       "stream": "stdout",
       "text": [
        "\n",
        "['Topanga','CA'],"
       ]
      },
      {
       "output_type": "stream",
       "stream": "stdout",
       "text": [
        "\n",
        "['Torrance','CA'],"
       ]
      },
      {
       "output_type": "stream",
       "stream": "stdout",
       "text": [
        "\n",
        "['Trabuco Canyon','CA'],"
       ]
      },
      {
       "output_type": "stream",
       "stream": "stdout",
       "text": [
        "\n",
        "['Tracy','CA'],"
       ]
      },
      {
       "output_type": "stream",
       "stream": "stdout",
       "text": [
        "\n",
        "['Tranquillity','CA'],"
       ]
      },
      {
       "output_type": "stream",
       "stream": "stdout",
       "text": [
        "\n",
        "['Traver','CA'],"
       ]
      },
      {
       "output_type": "stream",
       "stream": "stdout",
       "text": [
        "\n",
        "['Travis AFB','CA'],"
       ]
      },
      {
       "output_type": "stream",
       "stream": "stdout",
       "text": [
        "\n",
        "['Tres Pinos','CA'],"
       ]
      },
      {
       "output_type": "stream",
       "stream": "stdout",
       "text": [
        "\n",
        "['Trinidad','CA'],"
       ]
      },
      {
       "output_type": "stream",
       "stream": "stdout",
       "text": [
        "\n",
        "['Trinity Center','CA'],"
       ]
      },
      {
       "output_type": "stream",
       "stream": "stdout",
       "text": [
        "\n",
        "['Trona','CA'],"
       ]
      },
      {
       "output_type": "stream",
       "stream": "stdout",
       "text": [
        "\n",
        "['Truckee','CA'],"
       ]
      },
      {
       "output_type": "stream",
       "stream": "stdout",
       "text": [
        "\n",
        "['Tujunga','CA'],"
       ]
      },
      {
       "output_type": "stream",
       "stream": "stdout",
       "text": [
        "\n",
        "['Tulare','CA'],"
       ]
      },
      {
       "output_type": "stream",
       "stream": "stdout",
       "text": [
        "\n",
        "['Tulelake','CA'],"
       ]
      },
      {
       "output_type": "stream",
       "stream": "stdout",
       "text": [
        "\n",
        "['Tuolumne','CA'],"
       ]
      },
      {
       "output_type": "stream",
       "stream": "stdout",
       "text": [
        "\n",
        "['Tupman','CA'],"
       ]
      },
      {
       "output_type": "stream",
       "stream": "stdout",
       "text": [
        "\n",
        "['Turlock','CA'],"
       ]
      },
      {
       "output_type": "stream",
       "stream": "stdout",
       "text": [
        "\n",
        "['Tustin','CA'],"
       ]
      },
      {
       "output_type": "stream",
       "stream": "stdout",
       "text": [
        "\n",
        "['Twain Harte','CA'],"
       ]
      },
      {
       "output_type": "stream",
       "stream": "stdout",
       "text": [
        "\n",
        "['Twain Harte','CA'],"
       ]
      },
      {
       "output_type": "stream",
       "stream": "stdout",
       "text": [
        "\n",
        "['Twentynine Palms','CA'],"
       ]
      },
      {
       "output_type": "stream",
       "stream": "stdout",
       "text": [
        "\n",
        "['Twin Peaks','CA'],"
       ]
      },
      {
       "output_type": "stream",
       "stream": "stdout",
       "text": [
        "\n",
        "['Ukiah','CA'],"
       ]
      },
      {
       "output_type": "stream",
       "stream": "stdout",
       "text": [
        "\n",
        "['Union City','CA'],"
       ]
      },
      {
       "output_type": "stream",
       "stream": "stdout",
       "text": [
        "\n",
        "['Upland','CA'],"
       ]
      },
      {
       "output_type": "stream",
       "stream": "stdout",
       "text": [
        "\n",
        "['Upper Lake','CA'],"
       ]
      },
      {
       "output_type": "stream",
       "stream": "stdout",
       "text": [
        "\n",
        "['Vacaville','CA'],"
       ]
      },
      {
       "output_type": "stream",
       "stream": "stdout",
       "text": [
        "\n",
        "['Valencia','CA'],"
       ]
      },
      {
       "output_type": "stream",
       "stream": "stdout",
       "text": [
        "\n",
        "['Vallecito','CA'],"
       ]
      },
      {
       "output_type": "stream",
       "stream": "stdout",
       "text": [
        "\n",
        "['Vallejo','CA'],"
       ]
      },
      {
       "output_type": "stream",
       "stream": "stdout",
       "text": [
        "\n",
        "['Valley Center','CA'],"
       ]
      },
      {
       "output_type": "stream",
       "stream": "stdout",
       "text": [
        "\n",
        "['Valley Springs','CA'],"
       ]
      },
      {
       "output_type": "stream",
       "stream": "stdout",
       "text": [
        "\n",
        "['Valley Village','CA'],"
       ]
      },
      {
       "output_type": "stream",
       "stream": "stdout",
       "text": [
        "\n",
        "['Van Nuys','CA'],"
       ]
      },
      {
       "output_type": "stream",
       "stream": "stdout",
       "text": [
        "\n",
        "['Venice','CA'],"
       ]
      },
      {
       "output_type": "stream",
       "stream": "stdout",
       "text": [
        "\n",
        "['Ventura','CA'],"
       ]
      },
      {
       "output_type": "stream",
       "stream": "stdout",
       "text": [
        "\n",
        "['Victor','CA'],"
       ]
      },
      {
       "output_type": "stream",
       "stream": "stdout",
       "text": [
        "\n",
        "['Victorville','CA'],"
       ]
      },
      {
       "output_type": "stream",
       "stream": "stdout",
       "text": [
        "\n",
        "['Villa Park','CA'],"
       ]
      },
      {
       "output_type": "stream",
       "stream": "stdout",
       "text": [
        "\n",
        "['Vina','CA'],"
       ]
      },
      {
       "output_type": "stream",
       "stream": "stdout",
       "text": [
        "\n",
        "['Visalia','CA'],"
       ]
      },
      {
       "output_type": "stream",
       "stream": "stdout",
       "text": [
        "\n",
        "['Chula Vista','CA'],"
       ]
      },
      {
       "output_type": "stream",
       "stream": "stdout",
       "text": [
        "\n",
        "['Walnut Park','CA'],"
       ]
      },
      {
       "output_type": "stream",
       "stream": "stdout",
       "text": [
        "\n",
        "['Walnut Creek','CA'],"
       ]
      },
      {
       "output_type": "stream",
       "stream": "stdout",
       "text": [
        "\n",
        "['Walnut Grove','CA'],"
       ]
      },
      {
       "output_type": "stream",
       "stream": "stdout",
       "text": [
        "\n",
        "['Warner Springs','CA'],"
       ]
      },
      {
       "output_type": "stream",
       "stream": "stdout",
       "text": [
        "\n",
        "['Wasco','CA'],"
       ]
      },
      {
       "output_type": "stream",
       "stream": "stdout",
       "text": [
        "\n",
        "['Washington','CA'],"
       ]
      },
      {
       "output_type": "stream",
       "stream": "stdout",
       "text": [
        "\n",
        "['Waterford','CA'],"
       ]
      },
      {
       "output_type": "stream",
       "stream": "stdout",
       "text": [
        "\n",
        "['Watsonville','CA'],"
       ]
      },
      {
       "output_type": "stream",
       "stream": "stdout",
       "text": [
        "\n",
        "['Weaverville','CA'],"
       ]
      },
      {
       "output_type": "stream",
       "stream": "stdout",
       "text": [
        "\n",
        "['Weed','CA'],"
       ]
      },
      {
       "output_type": "stream",
       "stream": "stdout",
       "text": [
        "\n",
        "['Weimar','CA'],"
       ]
      },
      {
       "output_type": "stream",
       "stream": "stdout",
       "text": [
        "\n",
        "['Weldon','CA'],"
       ]
      },
      {
       "output_type": "stream",
       "stream": "stdout",
       "text": [
        "\n",
        "['Weott','CA'],"
       ]
      },
      {
       "output_type": "stream",
       "stream": "stdout",
       "text": [
        "\n",
        "['West Covina','CA'],"
       ]
      },
      {
       "output_type": "stream",
       "stream": "stdout",
       "text": [
        "\n",
        "['West Hills','CA'],"
       ]
      },
      {
       "output_type": "stream",
       "stream": "stdout",
       "text": [
        "\n",
        "['West Hollywood','CA'],"
       ]
      },
      {
       "output_type": "stream",
       "stream": "stdout",
       "text": [
        "\n",
        "['West Point','CA'],"
       ]
      },
      {
       "output_type": "stream",
       "stream": "stdout",
       "text": [
        "\n",
        "['West Sacramento','CA'],"
       ]
      },
      {
       "output_type": "stream",
       "stream": "stdout",
       "text": [
        "\n",
        "['Westlake Village','CA'],"
       ]
      },
      {
       "output_type": "stream",
       "stream": "stdout",
       "text": [
        "\n",
        "['Westley','CA'],"
       ]
      },
      {
       "output_type": "stream",
       "stream": "stdout",
       "text": [
        "\n",
        "['Westminster','CA'],"
       ]
      },
      {
       "output_type": "stream",
       "stream": "stdout",
       "text": [
        "\n",
        "['Westmorland','CA'],"
       ]
      },
      {
       "output_type": "stream",
       "stream": "stdout",
       "text": [
        "\n",
        "['Westwood','CA'],"
       ]
      },
      {
       "output_type": "stream",
       "stream": "stdout",
       "text": [
        "\n",
        "['Wheatland','CA'],"
       ]
      },
      {
       "output_type": "stream",
       "stream": "stdout",
       "text": [
        "\n",
        "['White Water','CA'],"
       ]
      },
      {
       "output_type": "stream",
       "stream": "stdout",
       "text": [
        "\n",
        "['Whitethorn','CA'],"
       ]
      },
      {
       "output_type": "stream",
       "stream": "stdout",
       "text": [
        "\n",
        "['Whitmore','CA'],"
       ]
      },
      {
       "output_type": "stream",
       "stream": "stdout",
       "text": [
        "\n",
        "['Whittier','CA'],"
       ]
      },
      {
       "output_type": "stream",
       "stream": "stdout",
       "text": [
        "\n",
        "['Wildomar','CA'],"
       ]
      },
      {
       "output_type": "stream",
       "stream": "stdout",
       "text": [
        "\n",
        "['Williams','CA'],"
       ]
      },
      {
       "output_type": "stream",
       "stream": "stdout",
       "text": [
        "\n",
        "['Willits','CA'],"
       ]
      },
      {
       "output_type": "stream",
       "stream": "stdout",
       "text": [
        "\n",
        "['Willow Creek','CA'],"
       ]
      },
      {
       "output_type": "stream",
       "stream": "stdout",
       "text": [
        "\n",
        "['Willows','CA'],"
       ]
      },
      {
       "output_type": "stream",
       "stream": "stdout",
       "text": [
        "\n",
        "['Wilmington','CA'],"
       ]
      },
      {
       "output_type": "stream",
       "stream": "stdout",
       "text": [
        "\n",
        "['Wilton','CA'],"
       ]
      },
      {
       "output_type": "stream",
       "stream": "stdout",
       "text": [
        "\n",
        "['Winchester','CA'],"
       ]
      },
      {
       "output_type": "stream",
       "stream": "stdout",
       "text": [
        "\n",
        "['Windsor','CA'],"
       ]
      },
      {
       "output_type": "stream",
       "stream": "stdout",
       "text": [
        "\n",
        "['Winnetka','CA'],"
       ]
      },
      {
       "output_type": "stream",
       "stream": "stdout",
       "text": [
        "\n",
        "['Winterhaven','CA'],"
       ]
      },
      {
       "output_type": "stream",
       "stream": "stdout",
       "text": [
        "\n",
        "['Winters','CA'],"
       ]
      },
      {
       "output_type": "stream",
       "stream": "stdout",
       "text": [
        "\n",
        "['Winton','CA'],"
       ]
      },
      {
       "output_type": "stream",
       "stream": "stdout",
       "text": [
        "\n",
        "['Woodbridge','CA'],"
       ]
      },
      {
       "output_type": "stream",
       "stream": "stdout",
       "text": [
        "\n",
        "['Woodlake','CA'],"
       ]
      },
      {
       "output_type": "stream",
       "stream": "stdout",
       "text": [
        "\n",
        "['Woodland Hills','CA'],"
       ]
      },
      {
       "output_type": "stream",
       "stream": "stdout",
       "text": [
        "\n",
        "['Woodland Hills','CA'],"
       ]
      },
      {
       "output_type": "stream",
       "stream": "stdout",
       "text": [
        "\n",
        "['Woody','CA'],"
       ]
      },
      {
       "output_type": "stream",
       "stream": "stdout",
       "text": [
        "\n",
        "['Wrightwood','CA'],"
       ]
      },
      {
       "output_type": "stream",
       "stream": "stdout",
       "text": [
        "\n",
        "['Yermo','CA'],"
       ]
      },
      {
       "output_type": "stream",
       "stream": "stdout",
       "text": [
        "\n",
        "['Yettem','CA'],"
       ]
      },
      {
       "output_type": "stream",
       "stream": "stdout",
       "text": [
        "\n",
        "['Yolo','CA'],"
       ]
      },
      {
       "output_type": "stream",
       "stream": "stdout",
       "text": [
        "\n",
        "['Yorba Linda','CA'],"
       ]
      },
      {
       "output_type": "stream",
       "stream": "stdout",
       "text": [
        "\n",
        "['Yountville','CA'],"
       ]
      },
      {
       "output_type": "stream",
       "stream": "stdout",
       "text": [
        "\n",
        "['Yreka','CA'],"
       ]
      },
      {
       "output_type": "stream",
       "stream": "stdout",
       "text": [
        "\n",
        "['Yuba City','CA'],"
       ]
      },
      {
       "output_type": "stream",
       "stream": "stdout",
       "text": [
        "\n",
        "['Yucaipa','CA'],"
       ]
      },
      {
       "output_type": "stream",
       "stream": "stdout",
       "text": [
        "\n",
        "['Yucca Valley','CA'],"
       ]
      },
      {
       "output_type": "stream",
       "stream": "stdout",
       "text": [
        "\n",
        "['Zenia','CA'],"
       ]
      },
      {
       "output_type": "stream",
       "stream": "stdout",
       "text": [
        "\n"
       ]
      }
     ],
     "prompt_number": 40
    },
    {
     "cell_type": "markdown",
     "metadata": {},
     "source": [
      "#### Consolidate all state reviews files from official GS dataset  (Python)\n",
      "\n",
      "Code to consolidate the GS state reviews files into one large file for import into MySQL."
     ]
    },
    {
     "cell_type": "code",
     "collapsed": false,
     "input": [
      "retval = os.getcwd()\n",
      "print retval\n",
      "df = pd.DataFrame(columns=['universal-id','id','posted','comments','quality','url'])\n",
      "os.chdir(r'e:\\\\harvard\\harvardcs-109\\cs109finalproject\\data\\gsdatasets\\parent_reviews')\n",
      "tot_recs = 0\n",
      "for files in glob.glob(\"*.txt\"):\n",
      "    \n",
      "    xdf = pd.read_csv(files,delimiter='\\t')\n",
      "    df = pd.concat([df, xdf])\n",
      "    print files, len(xdf)\n",
      "    tot_recs += len(xdf)\n",
      "   \n",
      "os.chdir(r'e:\\\\harvard\\harvardcs-109\\cs109finalproject\\data\\gsdatasets\\parent_reviews\\bigfile')\n",
      "df.to_csv('bigreviewsfile.txt', index=False)\n",
      "\n",
      "print \"Total reviews records = {}\".format(tot_recs)"
     ],
     "language": "python",
     "metadata": {},
     "outputs": [
      {
       "output_type": "stream",
       "stream": "stdout",
       "text": [
        "e:\\harvard\\harvardcs-109\\cs109finalproject\\data\\gsdatasets\\parent_reviews\\bigfile\n",
        "local-gs-parent-review-feed-flat-AK.txt"
       ]
      },
      {
       "output_type": "stream",
       "stream": "stdout",
       "text": [
        " 1468\n",
        "local-gs-parent-review-feed-flat-AL.txt"
       ]
      },
      {
       "output_type": "stream",
       "stream": "stdout",
       "text": [
        " 12854\n",
        "local-gs-parent-review-feed-flat-AR.txt"
       ]
      },
      {
       "output_type": "stream",
       "stream": "stdout",
       "text": [
        " 5331\n",
        "local-gs-parent-review-feed-flat-AZ.txt"
       ]
      },
      {
       "output_type": "stream",
       "stream": "stdout",
       "text": [
        " 36170\n",
        "local-gs-parent-review-feed-flat-CA.txt"
       ]
      },
      {
       "output_type": "stream",
       "stream": "stdout",
       "text": [
        " 162349\n",
        "local-gs-parent-review-feed-flat-CO.txt"
       ]
      },
      {
       "output_type": "stream",
       "stream": "stdout",
       "text": [
        " 19518\n",
        "local-gs-parent-review-feed-flat-CT.txt"
       ]
      },
      {
       "output_type": "stream",
       "stream": "stdout",
       "text": [
        " 8660\n",
        "local-gs-parent-review-feed-flat-DC.txt"
       ]
      },
      {
       "output_type": "stream",
       "stream": "stdout",
       "text": [
        " 2589\n",
        "local-gs-parent-review-feed-flat-DE.txt"
       ]
      },
      {
       "output_type": "stream",
       "stream": "stdout",
       "text": [
        " 2125\n",
        "local-gs-parent-review-feed-flat-FL.txt"
       ]
      },
      {
       "output_type": "stream",
       "stream": "stdout",
       "text": [
        " 70957\n",
        "local-gs-parent-review-feed-flat-GA.txt"
       ]
      },
      {
       "output_type": "stream",
       "stream": "stdout",
       "text": [
        " 31553\n",
        "local-gs-parent-review-feed-flat-HI.txt"
       ]
      },
      {
       "output_type": "stream",
       "stream": "stdout",
       "text": [
        " 3826\n",
        "local-gs-parent-review-feed-flat-IA.txt"
       ]
      },
      {
       "output_type": "stream",
       "stream": "stdout",
       "text": [
        " 3834\n",
        "local-gs-parent-review-feed-flat-ID.txt"
       ]
      },
      {
       "output_type": "stream",
       "stream": "stdout",
       "text": [
        " 2714\n",
        "local-gs-parent-review-feed-flat-IL.txt"
       ]
      },
      {
       "output_type": "stream",
       "stream": "stdout",
       "text": [
        " 32732\n",
        "local-gs-parent-review-feed-flat-IN.txt"
       ]
      },
      {
       "output_type": "stream",
       "stream": "stdout",
       "text": [
        " 12746\n",
        "local-gs-parent-review-feed-flat-KS.txt"
       ]
      },
      {
       "output_type": "stream",
       "stream": "stdout",
       "text": [
        " 4532\n",
        "local-gs-parent-review-feed-flat-KY.txt"
       ]
      },
      {
       "output_type": "stream",
       "stream": "stdout",
       "text": [
        " 8402\n",
        "local-gs-parent-review-feed-flat-LA.txt"
       ]
      },
      {
       "output_type": "stream",
       "stream": "stdout",
       "text": [
        " 11347\n",
        "local-gs-parent-review-feed-flat-MA.txt"
       ]
      },
      {
       "output_type": "stream",
       "stream": "stdout",
       "text": [
        " 13133\n",
        "local-gs-parent-review-feed-flat-MD.txt"
       ]
      },
      {
       "output_type": "stream",
       "stream": "stdout",
       "text": [
        " 20853\n",
        "local-gs-parent-review-feed-flat-ME.txt"
       ]
      },
      {
       "output_type": "stream",
       "stream": "stdout",
       "text": [
        " 2782\n",
        "local-gs-parent-review-feed-flat-MI.txt"
       ]
      },
      {
       "output_type": "stream",
       "stream": "stdout",
       "text": [
        " 26843\n",
        "local-gs-parent-review-feed-flat-MN.txt"
       ]
      },
      {
       "output_type": "stream",
       "stream": "stdout",
       "text": [
        " 8302\n",
        "local-gs-parent-review-feed-flat-MO.txt"
       ]
      },
      {
       "output_type": "stream",
       "stream": "stdout",
       "text": [
        " 11179\n",
        "local-gs-parent-review-feed-flat-MS.txt"
       ]
      },
      {
       "output_type": "stream",
       "stream": "stdout",
       "text": [
        " 5540\n",
        "local-gs-parent-review-feed-flat-MT.txt"
       ]
      },
      {
       "output_type": "stream",
       "stream": "stdout",
       "text": [
        " 1293\n",
        "local-gs-parent-review-feed-flat-NC.txt"
       ]
      },
      {
       "output_type": "stream",
       "stream": "stdout",
       "text": [
        " 25427\n",
        "local-gs-parent-review-feed-flat-ND.txt"
       ]
      },
      {
       "output_type": "stream",
       "stream": "stdout",
       "text": [
        " 491\n",
        "local-gs-parent-review-feed-flat-NE.txt"
       ]
      },
      {
       "output_type": "stream",
       "stream": "stdout",
       "text": [
        " 2376\n",
        "local-gs-parent-review-feed-flat-NH.txt"
       ]
      },
      {
       "output_type": "stream",
       "stream": "stdout",
       "text": [
        " 3371\n",
        "local-gs-parent-review-feed-flat-NJ.txt"
       ]
      },
      {
       "output_type": "stream",
       "stream": "stdout",
       "text": [
        " 21511\n",
        "local-gs-parent-review-feed-flat-NM.txt"
       ]
      },
      {
       "output_type": "stream",
       "stream": "stdout",
       "text": [
        " 4882\n",
        "local-gs-parent-review-feed-flat-NV.txt"
       ]
      },
      {
       "output_type": "stream",
       "stream": "stdout",
       "text": [
        " 7114\n",
        "local-gs-parent-review-feed-flat-NY.txt"
       ]
      },
      {
       "output_type": "stream",
       "stream": "stdout",
       "text": [
        " 55548\n",
        "local-gs-parent-review-feed-flat-OH.txt"
       ]
      },
      {
       "output_type": "stream",
       "stream": "stdout",
       "text": [
        " 20095\n",
        "local-gs-parent-review-feed-flat-OK.txt"
       ]
      },
      {
       "output_type": "stream",
       "stream": "stdout",
       "text": [
        " 9108\n",
        "local-gs-parent-review-feed-flat-OR.txt"
       ]
      },
      {
       "output_type": "stream",
       "stream": "stdout",
       "text": [
        " 8772\n",
        "local-gs-parent-review-feed-flat-PA.txt"
       ]
      },
      {
       "output_type": "stream",
       "stream": "stdout",
       "text": [
        " 25420\n",
        "local-gs-parent-review-feed-flat-RI.txt"
       ]
      },
      {
       "output_type": "stream",
       "stream": "stdout",
       "text": [
        " 2816\n",
        "local-gs-parent-review-feed-flat-SC.txt"
       ]
      },
      {
       "output_type": "stream",
       "stream": "stdout",
       "text": [
        " 8333\n",
        "local-gs-parent-review-feed-flat-SD.txt"
       ]
      },
      {
       "output_type": "stream",
       "stream": "stdout",
       "text": [
        " 529\n",
        "local-gs-parent-review-feed-flat-TN.txt"
       ]
      },
      {
       "output_type": "stream",
       "stream": "stdout",
       "text": [
        " 16659\n",
        "local-gs-parent-review-feed-flat-TX.txt"
       ]
      },
      {
       "output_type": "stream",
       "stream": "stdout",
       "text": [
        " 65274\n",
        "local-gs-parent-review-feed-flat-UT.txt"
       ]
      },
      {
       "output_type": "stream",
       "stream": "stdout",
       "text": [
        " 5122\n",
        "local-gs-parent-review-feed-flat-VA.txt"
       ]
      },
      {
       "output_type": "stream",
       "stream": "stdout",
       "text": [
        " 22954\n",
        "local-gs-parent-review-feed-flat-VT.txt"
       ]
      },
      {
       "output_type": "stream",
       "stream": "stdout",
       "text": [
        " 1277\n",
        "local-gs-parent-review-feed-flat-WA.txt"
       ]
      },
      {
       "output_type": "stream",
       "stream": "stdout",
       "text": [
        " 19368\n",
        "local-gs-parent-review-feed-flat-WI.txt"
       ]
      },
      {
       "output_type": "stream",
       "stream": "stdout",
       "text": [
        " 9670\n",
        "local-gs-parent-review-feed-flat-WV.txt"
       ]
      },
      {
       "output_type": "stream",
       "stream": "stdout",
       "text": [
        " 3377\n",
        "local-gs-parent-review-feed-flat-WY.txt"
       ]
      },
      {
       "output_type": "stream",
       "stream": "stdout",
       "text": [
        " 776\n",
        "Total reviews records = 863902"
       ]
      },
      {
       "output_type": "stream",
       "stream": "stdout",
       "text": [
        "\n"
       ]
      }
     ],
     "prompt_number": 8
    },
    {
     "cell_type": "markdown",
     "metadata": {},
     "source": [
      "#### Consolidate all district/school entity files from official GS dataset  (Python)\n",
      "\n",
      "(The Wisconsin file had to be fixed manually due to a corrupt record at line 2655.  There was an empty cell intervening in the record which caused other cells to shift right.  Consultation w/ GS not deemed necessary.)"
     ]
    },
    {
     "cell_type": "code",
     "collapsed": false,
     "input": [
      "\n",
      "df = pd.DataFrame(columns=['entity','gs-id','universal-id','nces-code','state-id','name',\n",
      "                           'description','school-summary','level-code','level','street','city','state','zip',\n",
      "                           'phone','fax','county','fipscounty','lat','lon','web-site','subtype',\n",
      "                           'overview-url','parent-reviews-url','test-scores-url','type','district-id','universal-district-id',\n",
      "                           'district-name','district-spending'])\n",
      "retval = os.getcwd()\n",
      "print retval\n",
      "os.chdir(r'd:\\\\harvard\\harvardcs-109\\cs109finalproject\\data\\gsdatasets\\schools_states')\n",
      "\n",
      "tot_recs = 0\n",
      "\n",
      "for files in glob.glob(\"*.txt\"):\n",
      "  \n",
      "    xdf = pd.read_csv(files,delimiter='\\t')\n",
      "    df = pd.concat([df, xdf])\n",
      "    print files, len(xdf)\n",
      "    tot_recs += len(xdf)\n",
      "       \n",
      "os.chdir(r'd:\\\\harvard\\harvardcs-109\\cs109finalproject\\data\\gsdatasets\\schools_states\\bigfile')\n",
      "columns=['entity','gs_id','universal_id','nces_code','state_id','name',\n",
      "                           'description','school_summary','level_code','level','street','city','state','zip',\n",
      "                           'phone','fax','county','fipscounty','lat','lon','web_site','subtype',\n",
      "                           'overview_url','parent_reviews_url','test_scores_url','type','district_id','universal_district_id',\n",
      "                           'district_name','district_spending']\n",
      "df.columns = columns\n",
      "df.gs_id.astype('str')\n",
      "df.to_csv('bigschoolsfile.txt', sep='\\t', index=False)\n",
      "print \"Total districts + schools records = {}\".format(tot_recs)"
     ],
     "language": "python",
     "metadata": {},
     "outputs": [
      {
       "output_type": "stream",
       "stream": "stdout",
       "text": [
        "d:\\harvard\\harvardcs-109\\cs109finalproject\n",
        "local-greatschools-feed-flat-AK.txt"
       ]
      },
      {
       "output_type": "stream",
       "stream": "stdout",
       "text": [
        " 653\n",
        "local-greatschools-feed-flat-AL.txt"
       ]
      },
      {
       "output_type": "stream",
       "stream": "stdout",
       "text": [
        " 2244\n",
        "local-greatschools-feed-flat-AR.txt"
       ]
      },
      {
       "output_type": "stream",
       "stream": "stdout",
       "text": [
        " 1682\n",
        "local-greatschools-feed-flat-AZ.txt"
       ]
      },
      {
       "output_type": "stream",
       "stream": "stdout",
       "text": [
        " 3137\n",
        "local-greatschools-feed-flat-CA.txt"
       ]
      },
      {
       "output_type": "stream",
       "stream": "stdout",
       "text": [
        " 16012\n",
        "local-greatschools-feed-flat-CO.txt"
       ]
      },
      {
       "output_type": "stream",
       "stream": "stdout",
       "text": [
        " 2375\n",
        "local-greatschools-feed-flat-CT.txt"
       ]
      },
      {
       "output_type": "stream",
       "stream": "stdout",
       "text": [
        " 1721\n",
        "local-greatschools-feed-flat-DC.txt"
       ]
      },
      {
       "output_type": "stream",
       "stream": "stdout",
       "text": [
        " 327\n",
        "local-greatschools-feed-flat-DE.txt"
       ]
      },
      {
       "output_type": "stream",
       "stream": "stdout",
       "text": [
        " 414\n",
        "local-greatschools-feed-flat-FL.txt"
       ]
      },
      {
       "output_type": "stream",
       "stream": "stdout",
       "text": [
        " 6555\n",
        "local-greatschools-feed-flat-GA.txt"
       ]
      },
      {
       "output_type": "stream",
       "stream": "stdout",
       "text": [
        " 3303\n",
        "local-greatschools-feed-flat-HI.txt"
       ]
      },
      {
       "output_type": "stream",
       "stream": "stdout",
       "text": [
        " 444\n",
        "local-greatschools-feed-flat-IA.txt"
       ]
      },
      {
       "output_type": "stream",
       "stream": "stdout",
       "text": [
        " 2140\n",
        "local-greatschools-feed-flat-ID.txt"
       ]
      },
      {
       "output_type": "stream",
       "stream": "stdout",
       "text": [
        " 1054\n",
        "local-greatschools-feed-flat-IL.txt"
       ]
      },
      {
       "output_type": "stream",
       "stream": "stdout",
       "text": [
        " 6374\n",
        "local-greatschools-feed-flat-IN.txt"
       ]
      },
      {
       "output_type": "stream",
       "stream": "stdout",
       "text": [
        " 3165\n",
        "local-greatschools-feed-flat-KS.txt"
       ]
      },
      {
       "output_type": "stream",
       "stream": "stdout",
       "text": [
        " 2085\n",
        "local-greatschools-feed-flat-KY.txt"
       ]
      },
      {
       "output_type": "stream",
       "stream": "stdout",
       "text": [
        " 2084\n",
        "local-greatschools-feed-flat-LA.txt"
       ]
      },
      {
       "output_type": "stream",
       "stream": "stdout",
       "text": [
        " 2177\n",
        "local-greatschools-feed-flat-MA.txt"
       ]
      },
      {
       "output_type": "stream",
       "stream": "stdout",
       "text": [
        " 3055\n",
        "local-greatschools-feed-flat-MD.txt"
       ]
      },
      {
       "output_type": "stream",
       "stream": "stdout",
       "text": [
        " 2286\n",
        "local-greatschools-feed-flat-ME.txt"
       ]
      },
      {
       "output_type": "stream",
       "stream": "stdout",
       "text": [
        " 1282\n",
        "local-greatschools-feed-flat-MI.txt"
       ]
      },
      {
       "output_type": "stream",
       "stream": "stdout",
       "text": [
        " 5500\n",
        "local-greatschools-feed-flat-MN.txt"
       ]
      },
      {
       "output_type": "stream",
       "stream": "stdout",
       "text": [
        " 3593\n",
        "local-greatschools-feed-flat-MO.txt"
       ]
      },
      {
       "output_type": "stream",
       "stream": "stdout",
       "text": [
        " 3643\n",
        "local-greatschools-feed-flat-MS.txt"
       ]
      },
      {
       "output_type": "stream",
       "stream": "stdout",
       "text": [
        " 1536\n",
        "local-greatschools-feed-flat-MT.txt"
       ]
      },
      {
       "output_type": "stream",
       "stream": "stdout",
       "text": [
        " 1405\n",
        "local-greatschools-feed-flat-NC.txt"
       ]
      },
      {
       "output_type": "stream",
       "stream": "stdout",
       "text": [
        " 3652\n",
        "local-greatschools-feed-flat-ND.txt"
       ]
      },
      {
       "output_type": "stream",
       "stream": "stdout",
       "text": [
        " 844\n",
        "local-greatschools-feed-flat-NE.txt"
       ]
      },
      {
       "output_type": "stream",
       "stream": "stdout",
       "text": [
        " 1629\n",
        "local-greatschools-feed-flat-NH.txt"
       ]
      },
      {
       "output_type": "stream",
       "stream": "stdout",
       "text": [
        " 866\n",
        "local-greatschools-feed-flat-NJ.txt"
       ]
      },
      {
       "output_type": "stream",
       "stream": "stdout",
       "text": [
        " 4136\n",
        "local-greatschools-feed-flat-NM.txt"
       ]
      },
      {
       "output_type": "stream",
       "stream": "stdout",
       "text": [
        " 1324\n",
        "local-greatschools-feed-flat-NV.txt"
       ]
      },
      {
       "output_type": "stream",
       "stream": "stdout",
       "text": [
        " 823\n",
        "local-greatschools-feed-flat-NY.txt"
       ]
      },
      {
       "output_type": "stream",
       "stream": "stdout",
       "text": [
        " 7514\n",
        "local-greatschools-feed-flat-OH.txt"
       ]
      },
      {
       "output_type": "stream",
       "stream": "stdout",
       "text": [
        " 5376\n",
        "local-greatschools-feed-flat-OK.txt"
       ]
      },
      {
       "output_type": "stream",
       "stream": "stdout",
       "text": [
        " 2565\n",
        "local-greatschools-feed-flat-OR.txt"
       ]
      },
      {
       "output_type": "stream",
       "stream": "stdout",
       "text": [
        " 1987\n",
        "local-greatschools-feed-flat-PA.txt"
       ]
      },
      {
       "output_type": "stream",
       "stream": "stdout",
       "text": [
        " 7127\n",
        "local-greatschools-feed-flat-RI.txt"
       ]
      },
      {
       "output_type": "stream",
       "stream": "stdout",
       "text": [
        " 523\n",
        "local-greatschools-feed-flat-SC.txt"
       ]
      },
      {
       "output_type": "stream",
       "stream": "stdout",
       "text": [
        " 1753\n",
        "local-greatschools-feed-flat-SD.txt"
       ]
      },
      {
       "output_type": "stream",
       "stream": "stdout",
       "text": [
        " 1078\n",
        "local-greatschools-feed-flat-TN.txt"
       ]
      },
      {
       "output_type": "stream",
       "stream": "stdout",
       "text": [
        " 2537\n",
        "local-greatschools-feed-flat-TX.txt"
       ]
      },
      {
       "output_type": "stream",
       "stream": "stdout",
       "text": [
        " 11594\n",
        "local-greatschools-feed-flat-UT.txt"
       ]
      },
      {
       "output_type": "stream",
       "stream": "stdout",
       "text": [
        " 1377\n",
        "local-greatschools-feed-flat-VA.txt"
       ]
      },
      {
       "output_type": "stream",
       "stream": "stdout",
       "text": [
        " 2844\n",
        "local-greatschools-feed-flat-VT.txt"
       ]
      },
      {
       "output_type": "stream",
       "stream": "stdout",
       "text": [
        " 726\n",
        "local-greatschools-feed-flat-WA.txt"
       ]
      },
      {
       "output_type": "stream",
       "stream": "stdout",
       "text": [
        " 3316\n",
        "local-greatschools-feed-flat-WI.txt"
       ]
      },
      {
       "output_type": "stream",
       "stream": "stdout",
       "text": [
        " 3643\n",
        "local-greatschools-feed-flat-WV.txt"
       ]
      },
      {
       "output_type": "stream",
       "stream": "stdout",
       "text": [
        " 1010\n",
        "local-greatschools-feed-flat-WY.txt"
       ]
      },
      {
       "output_type": "stream",
       "stream": "stdout",
       "text": [
        " 467\n",
        "Total districts + schools records = 148957"
       ]
      },
      {
       "output_type": "stream",
       "stream": "stdout",
       "text": [
        "\n"
       ]
      }
     ],
     "prompt_number": 6
    },
    {
     "cell_type": "markdown",
     "metadata": {},
     "source": [
      "#### Consolidate all GS and parent rating files from official GS dataset  (Python)"
     ]
    },
    {
     "cell_type": "code",
     "collapsed": false,
     "input": [
      "\n",
      "df = pd.DataFrame(columns=['universal-id','count','avg-quality','avg-principal','avg-teachers',\n",
      "                           'avg-activities','avg-parents','avg-safety'])\n",
      "retval = os.getcwd()\n",
      "print retval\n",
      "os.chdir(r'e:\\\\harvard\\harvardcs-109\\cs109finalproject\\data\\gsdatasets\\parent_rating')\n",
      "\n",
      "tot_recs = 0\n",
      "\n",
      "for files in glob.glob(\"*.txt\"):\n",
      "    \n",
      "    xdf = pd.read_csv(files,delimiter='\\t')\n",
      "    df = pd.concat([df, xdf])\n",
      "    print files, len(xdf)\n",
      "    \n",
      "    tot_recs += len(xdf)\n",
      "       \n",
      "os.chdir(r'e:\\\\harvard\\harvardcs-109\\cs109finalproject\\data\\gsdatasets\\parent_rating\\bigfile')\n",
      "columns=columns=['universal_id','count','avg_quality','avg_principal','avg_teachers',\n",
      "                           'avg_activities','avg_parents','avg_safety']\n",
      "df.columns = columns\n",
      "df.to_csv('bigratingsfile.csv', sep=',', index=False)\n",
      "print \"Total gs/parent ratings records = {}\".format(tot_recs)"
     ],
     "language": "python",
     "metadata": {},
     "outputs": [
      {
       "output_type": "stream",
       "stream": "stdout",
       "text": [
        "e:\\harvard\\harvardcs-109\\cs109finalproject\\data\\gsdatasets\\schools_states\\bigfile\n",
        "local-gs-parent-ratings-feed-flat-AK.txt 296\n",
        "local-gs-parent-ratings-feed-flat-AL.txt 1563\n",
        "local-gs-parent-ratings-feed-flat-AR.txt 1001\n",
        "local-gs-parent-ratings-feed-flat-AZ.txt 2035\n",
        "local-gs-parent-ratings-feed-flat-CA.txt"
       ]
      },
      {
       "output_type": "stream",
       "stream": "stdout",
       "text": [
        " 11649\n",
        "local-gs-parent-ratings-feed-flat-CO.txt 1835\n",
        "local-gs-parent-ratings-feed-flat-CT.txt 1256\n",
        "local-gs-parent-ratings-feed-flat-DC.txt 230\n",
        "local-gs-parent-ratings-feed-flat-DE.txt 281\n",
        "local-gs-parent-ratings-feed-flat-FL.txt 4932\n",
        "local-gs-parent-ratings-feed-flat-GA.txt 2674\n",
        "local-gs-parent-ratings-feed-flat-HI.txt"
       ]
      },
      {
       "output_type": "stream",
       "stream": "stdout",
       "text": [
        " 394\n",
        "local-gs-parent-ratings-feed-flat-IA.txt 1020\n",
        "local-gs-parent-ratings-feed-flat-ID.txt 582\n",
        "local-gs-parent-ratings-feed-flat-IL.txt 4223\n",
        "local-gs-parent-ratings-feed-flat-IN.txt 2065\n",
        "local-gs-parent-ratings-feed-flat-KS.txt 1043\n",
        "local-gs-parent-ratings-feed-flat-KY.txt 1328\n",
        "local-gs-parent-ratings-feed-flat-LA.txt"
       ]
      },
      {
       "output_type": "stream",
       "stream": "stdout",
       "text": [
        " 1531\n",
        "local-gs-parent-ratings-feed-flat-MA.txt 2146\n",
        "local-gs-parent-ratings-feed-flat-MD.txt 1897\n",
        "local-gs-parent-ratings-feed-flat-ME.txt 610\n",
        "local-gs-parent-ratings-feed-flat-MI.txt 3383\n",
        "local-gs-parent-ratings-feed-flat-MN.txt 1617\n",
        "local-gs-parent-ratings-feed-flat-MO.txt"
       ]
      },
      {
       "output_type": "stream",
       "stream": "stdout",
       "text": [
        " 2149\n",
        "local-gs-parent-ratings-feed-flat-MS.txt 926\n",
        "local-gs-parent-ratings-feed-flat-MT.txt 419\n",
        "local-gs-parent-ratings-feed-flat-NC.txt 2835\n",
        "local-gs-parent-ratings-feed-flat-ND.txt 197\n",
        "local-gs-parent-ratings-feed-flat-NE.txt 629\n",
        "local-gs-parent-ratings-feed-flat-NH.txt 533\n",
        "local-gs-parent-ratings-feed-flat-NJ.txt"
       ]
      },
      {
       "output_type": "stream",
       "stream": "stdout",
       "text": [
        " 2879\n",
        "local-gs-parent-ratings-feed-flat-NM.txt 715\n",
        "local-gs-parent-ratings-feed-flat-NV.txt 634\n",
        "local-gs-parent-ratings-feed-flat-NY.txt 5458\n",
        "local-gs-parent-ratings-feed-flat-OH.txt 3555\n",
        "local-gs-parent-ratings-feed-flat-OK.txt"
       ]
      },
      {
       "output_type": "stream",
       "stream": "stdout",
       "text": [
        " 1517\n",
        "local-gs-parent-ratings-feed-flat-OR.txt 1364\n",
        "local-gs-parent-ratings-feed-flat-PA.txt 3914\n",
        "local-gs-parent-ratings-feed-flat-RI.txt 381\n",
        "local-gs-parent-ratings-feed-flat-SC.txt"
       ]
      },
      {
       "output_type": "stream",
       "stream": "stdout",
       "text": [
        " 1277\n",
        "local-gs-parent-ratings-feed-flat-SD.txt 213\n",
        "local-gs-parent-ratings-feed-flat-TN.txt 1930\n",
        "local-gs-parent-ratings-feed-flat-TX.txt 7776\n",
        "local-gs-parent-ratings-feed-flat-UT.txt"
       ]
      },
      {
       "output_type": "stream",
       "stream": "stdout",
       "text": [
        " 853\n",
        "local-gs-parent-ratings-feed-flat-VA.txt 2264\n",
        "local-gs-parent-ratings-feed-flat-VT.txt 327\n",
        "local-gs-parent-ratings-feed-flat-WA.txt 2366\n",
        "local-gs-parent-ratings-feed-flat-WI.txt"
       ]
      },
      {
       "output_type": "stream",
       "stream": "stdout",
       "text": [
        " 2109\n",
        "local-gs-parent-ratings-feed-flat-WV.txt 694\n",
        "local-gs-parent-ratings-feed-flat-WY.txt 238\n",
        "Total gs/parent ratings records = 97743"
       ]
      },
      {
       "output_type": "stream",
       "stream": "stdout",
       "text": [
        "\n"
       ]
      }
     ],
     "prompt_number": 17
    },
    {
     "cell_type": "markdown",
     "metadata": {},
     "source": [
      "#### Consolidate all census data files from official GS dataset  (Python)"
     ]
    },
    {
     "cell_type": "code",
     "collapsed": false,
     "input": [
      "df = pd.DataFrame(columns=['entity','universal-id','value','data-type','year','breakdown','grade','level-code'])\n",
      "retval = os.getcwd\n",
      "print retval\n",
      "os.chdir(r'e:\\\\harvard\\harvardcs-109\\cs109finalproject\\data\\gsdatasets\\census_data')\n",
      "\n",
      "tot_recs = 0\n",
      "\n",
      "for files in glob.glob(\"*.txt\"):\n",
      "    \n",
      "    #if (files != 'local-greatschools-feed-flat-WI.txt'): # skip the corrupt (or differently formatted) Wisconsin file\n",
      "    xdf = pd.read_csv(files,delimiter='\\t')\n",
      "    df = pd.concat([df, xdf])\n",
      "    print files, len(xdf)\n",
      "    \n",
      "    tot_recs += len(xdf)\n",
      "       \n",
      "os.chdir(r'e:\\\\harvard\\harvardcs-109\\cs109finalproject\\data\\gsdatasets\\census_data\\bigfile')\n",
      "columns=columns=['entity','universal_id','value','data_type','year','breakdown','grade','level_code']\n",
      "df.columns = columns\n",
      "df.to_csv('bigcensusfile.csv', sep=',', index=False)\n",
      "print \"Total gs/parent ratings records = {}\".format(tot_recs)"
     ],
     "language": "python",
     "metadata": {},
     "outputs": [
      {
       "output_type": "stream",
       "stream": "stdout",
       "text": [
        "<built-in function getcwd>\n",
        "local-gs-census-feed-flat-AK.txt 5532\n",
        "local-gs-census-feed-flat-AL.txt"
       ]
      },
      {
       "output_type": "stream",
       "stream": "stdout",
       "text": [
        " 17317\n",
        "local-gs-census-feed-flat-AR.txt 12644\n",
        "local-gs-census-feed-flat-AZ.txt"
       ]
      },
      {
       "output_type": "stream",
       "stream": "stdout",
       "text": [
        " 25728\n",
        "local-gs-census-feed-flat-CA.txt"
       ]
      },
      {
       "output_type": "stream",
       "stream": "stdout",
       "text": [
        " 188779\n",
        "local-gs-census-feed-flat-CO.txt"
       ]
      },
      {
       "output_type": "stream",
       "stream": "stdout",
       "text": [
        " 21332\n",
        "local-gs-census-feed-flat-CT.txt"
       ]
      },
      {
       "output_type": "stream",
       "stream": "stdout",
       "text": [
        " 13981\n",
        "local-gs-census-feed-flat-DC.txt"
       ]
      },
      {
       "output_type": "stream",
       "stream": "stdout",
       "text": [
        " 2579\n",
        "local-gs-census-feed-flat-DE.txt"
       ]
      },
      {
       "output_type": "stream",
       "stream": "stdout",
       "text": [
        " 3054\n",
        "local-gs-census-feed-flat-FL.txt"
       ]
      },
      {
       "output_type": "stream",
       "stream": "stdout",
       "text": [
        " 67725\n",
        "local-gs-census-feed-flat-GA.txt"
       ]
      },
      {
       "output_type": "stream",
       "stream": "stdout",
       "text": [
        " 47076\n",
        "local-gs-census-feed-flat-HI.txt"
       ]
      },
      {
       "output_type": "stream",
       "stream": "stdout",
       "text": [
        " 3934\n",
        "local-gs-census-feed-flat-IA.txt"
       ]
      },
      {
       "output_type": "stream",
       "stream": "stdout",
       "text": [
        " 16635\n",
        "local-gs-census-feed-flat-ID.txt"
       ]
      },
      {
       "output_type": "stream",
       "stream": "stdout",
       "text": [
        " 8035\n",
        "local-gs-census-feed-flat-IL.txt"
       ]
      },
      {
       "output_type": "stream",
       "stream": "stdout",
       "text": [
        " 93121\n",
        "local-gs-census-feed-flat-IN.txt"
       ]
      },
      {
       "output_type": "stream",
       "stream": "stdout",
       "text": [
        " 27993\n",
        "local-gs-census-feed-flat-KS.txt"
       ]
      },
      {
       "output_type": "stream",
       "stream": "stdout",
       "text": [
        " 16139\n",
        "local-gs-census-feed-flat-KY.txt"
       ]
      },
      {
       "output_type": "stream",
       "stream": "stdout",
       "text": [
        " 16270\n",
        "local-gs-census-feed-flat-LA.txt"
       ]
      },
      {
       "output_type": "stream",
       "stream": "stdout",
       "text": [
        " 19758\n",
        "local-gs-census-feed-flat-MA.txt"
       ]
      },
      {
       "output_type": "stream",
       "stream": "stdout",
       "text": [
        " 26611\n",
        "local-gs-census-feed-flat-MD.txt"
       ]
      },
      {
       "output_type": "stream",
       "stream": "stdout",
       "text": [
        " 21031\n",
        "local-gs-census-feed-flat-ME.txt"
       ]
      },
      {
       "output_type": "stream",
       "stream": "stdout",
       "text": [
        " 7758\n",
        "local-gs-census-feed-flat-MI.txt"
       ]
      },
      {
       "output_type": "stream",
       "stream": "stdout",
       "text": [
        " 45737\n",
        "local-gs-census-feed-flat-MN.txt"
       ]
      },
      {
       "output_type": "stream",
       "stream": "stdout",
       "text": [
        " 30497\n",
        "local-gs-census-feed-flat-MO.txt"
       ]
      },
      {
       "output_type": "stream",
       "stream": "stdout",
       "text": [
        " 33787\n",
        "local-gs-census-feed-flat-MS.txt"
       ]
      },
      {
       "output_type": "stream",
       "stream": "stdout",
       "text": [
        " 10982\n",
        "local-gs-census-feed-flat-MT.txt"
       ]
      },
      {
       "output_type": "stream",
       "stream": "stdout",
       "text": [
        " 9775\n",
        "local-gs-census-feed-flat-NC.txt"
       ]
      },
      {
       "output_type": "stream",
       "stream": "stdout",
       "text": [
        " 45958\n",
        "local-gs-census-feed-flat-ND.txt"
       ]
      },
      {
       "output_type": "stream",
       "stream": "stdout",
       "text": [
        " 5553\n",
        "local-gs-census-feed-flat-NE.txt"
       ]
      },
      {
       "output_type": "stream",
       "stream": "stdout",
       "text": [
        " 12196\n",
        "local-gs-census-feed-flat-NH.txt"
       ]
      },
      {
       "output_type": "stream",
       "stream": "stdout",
       "text": [
        " 6491\n",
        "local-gs-census-feed-flat-NJ.txt"
       ]
      },
      {
       "output_type": "stream",
       "stream": "stdout",
       "text": [
        " 54475\n",
        "local-gs-census-feed-flat-NM.txt"
       ]
      },
      {
       "output_type": "stream",
       "stream": "stdout",
       "text": [
        " 10108\n",
        "local-gs-census-feed-flat-NV.txt"
       ]
      },
      {
       "output_type": "stream",
       "stream": "stdout",
       "text": [
        " 7792\n",
        "local-gs-census-feed-flat-NY.txt"
       ]
      },
      {
       "output_type": "stream",
       "stream": "stdout",
       "text": [
        " 82371\n",
        "local-gs-census-feed-flat-OH.txt"
       ]
      },
      {
       "output_type": "stream",
       "stream": "stdout",
       "text": [
        " 71224\n",
        "local-gs-census-feed-flat-OK.txt"
       ]
      },
      {
       "output_type": "stream",
       "stream": "stdout",
       "text": [
        " 20109\n",
        "local-gs-census-feed-flat-OR.txt"
       ]
      },
      {
       "output_type": "stream",
       "stream": "stdout",
       "text": [
        " 16151\n",
        "local-gs-census-feed-flat-PA.txt"
       ]
      },
      {
       "output_type": "stream",
       "stream": "stdout",
       "text": [
        " 53205\n",
        "local-gs-census-feed-flat-RI.txt"
       ]
      },
      {
       "output_type": "stream",
       "stream": "stdout",
       "text": [
        " 4117\n",
        "local-gs-census-feed-flat-SC.txt"
       ]
      },
      {
       "output_type": "stream",
       "stream": "stdout",
       "text": [
        " 16362\n",
        "local-gs-census-feed-flat-SD.txt"
       ]
      },
      {
       "output_type": "stream",
       "stream": "stdout",
       "text": [
        " 8004\n",
        "local-gs-census-feed-flat-TN.txt"
       ]
      },
      {
       "output_type": "stream",
       "stream": "stdout",
       "text": [
        " 24551\n",
        "local-gs-census-feed-flat-TX.txt"
       ]
      },
      {
       "output_type": "stream",
       "stream": "stdout",
       "text": [
        " 204395\n",
        "local-gs-census-feed-flat-UT.txt"
       ]
      },
      {
       "output_type": "stream",
       "stream": "stdout",
       "text": [
        " 10723\n",
        "local-gs-census-feed-flat-VA.txt"
       ]
      },
      {
       "output_type": "stream",
       "stream": "stdout",
       "text": [
        " 19845\n",
        "local-gs-census-feed-flat-VT.txt"
       ]
      },
      {
       "output_type": "stream",
       "stream": "stdout",
       "text": [
        " 4520\n",
        "local-gs-census-feed-flat-WA.txt"
       ]
      },
      {
       "output_type": "stream",
       "stream": "stdout",
       "text": [
        " 34298\n",
        "local-gs-census-feed-flat-WI.txt"
       ]
      },
      {
       "output_type": "stream",
       "stream": "stdout",
       "text": [
        " 41346\n",
        "local-gs-census-feed-flat-WV.txt"
       ]
      },
      {
       "output_type": "stream",
       "stream": "stdout",
       "text": [
        " 8473\n",
        "local-gs-census-feed-flat-WY.txt"
       ]
      },
      {
       "output_type": "stream",
       "stream": "stdout",
       "text": [
        " 3878\n",
        "Total gs/parent ratings records = 1559955"
       ]
      },
      {
       "output_type": "stream",
       "stream": "stdout",
       "text": [
        "\n"
       ]
      }
     ],
     "prompt_number": 7
    },
    {
     "cell_type": "markdown",
     "metadata": {},
     "source": [
      "#### Consolidate all GS test result feed files from official GS dataset (Python)"
     ]
    },
    {
     "cell_type": "code",
     "collapsed": false,
     "input": [
      "df = pd.DataFrame(columns=['test-id','universal-id','year','subject-name','grade-name','level-code-name','score','proficiency-band-id','proficiency-band-name','number-tested'])\n",
      "\n",
      "retval = os.getcwd\n",
      "\n",
      "print retval\n",
      "\n",
      "os.chdir(r'e:\\\\harvard\\harvardcs-109\\cs109finalproject\\data\\gsdatasets\\test_result_feed')\n",
      "\n",
      "tot_recs = 0\n",
      "\n",
      "for files in glob.glob(\"*.txt\"):\n",
      "    \n",
      "    #if (files != 'local-greatschools-feed-flat-WI.txt'): # skip the corrupt (or differently formatted) Wisconsin file\n",
      "    xdf = pd.read_csv(files,delimiter='\\t')\n",
      "    df = pd.concat([df, xdf])\n",
      "    print files, len(xdf)\n",
      "    \n",
      "    tot_recs += len(xdf)\n",
      "       \n",
      "os.chdir(r'e:\\\\harvard\\harvardcs-109\\cs109finalproject\\data\\gsdatasets\\test_result_feed\\bigfile')\n",
      "columns=columns=['test-id','universal_id','year','subject_name','grade_name','level_code_name','score','proficiency_band_id','proficiency_band_name','number_tested']\n",
      "df.columns = columns\n",
      "df.to_csv('bigtestresultfeedfile.csv', sep=',', index=False)\n",
      "print \"Total gs/parent ratings records = {}\".format(tot_recs)"
     ],
     "language": "python",
     "metadata": {},
     "outputs": [
      {
       "output_type": "stream",
       "stream": "stdout",
       "text": [
        "<built-in function getcwd>\n",
        "local-gs-test-result-feed-flat-AK.txt"
       ]
      },
      {
       "output_type": "stream",
       "stream": "stdout",
       "text": [
        " 54847\n",
        "local-gs-test-result-feed-flat-AL.txt"
       ]
      },
      {
       "output_type": "stream",
       "stream": "stdout",
       "text": [
        " 266859\n",
        "local-gs-test-result-feed-flat-AR.txt"
       ]
      },
      {
       "output_type": "stream",
       "stream": "stdout",
       "text": [
        " 220600\n",
        "local-gs-test-result-feed-flat-AZ.txt"
       ]
      },
      {
       "output_type": "stream",
       "stream": "stdout",
       "text": [
        " 452452\n",
        "local-gs-test-result-feed-flat-CA.txt"
       ]
      },
      {
       "output_type": "stream",
       "stream": "stdout",
       "text": [
        " 5495167\n",
        "local-gs-test-result-feed-flat-CO.txt"
       ]
      },
      {
       "output_type": "stream",
       "stream": "stdout",
       "text": [
        " 645512\n",
        "local-gs-test-result-feed-flat-CT.txt"
       ]
      },
      {
       "output_type": "stream",
       "stream": "stdout",
       "text": [
        " 296820\n",
        "local-gs-test-result-feed-flat-DC.txt"
       ]
      },
      {
       "output_type": "stream",
       "stream": "stdout",
       "text": [
        " 30517\n",
        "local-gs-test-result-feed-flat-DE.txt"
       ]
      },
      {
       "output_type": "stream",
       "stream": "stdout",
       "text": [
        " 5365\n",
        "local-gs-test-result-feed-flat-FL.txt"
       ]
      },
      {
       "output_type": "stream",
       "stream": "stdout",
       "text": [
        " 448579\n",
        "local-gs-test-result-feed-flat-GA.txt"
       ]
      },
      {
       "output_type": "stream",
       "stream": "stdout",
       "text": [
        " 683076\n",
        "local-gs-test-result-feed-flat-HI.txt"
       ]
      },
      {
       "output_type": "stream",
       "stream": "stdout",
       "text": [
        " 36888\n",
        "local-gs-test-result-feed-flat-IA.txt"
       ]
      },
      {
       "output_type": "stream",
       "stream": "stdout",
       "text": [
        " 61735\n",
        "local-gs-test-result-feed-flat-ID.txt"
       ]
      },
      {
       "output_type": "stream",
       "stream": "stdout",
       "text": [
        " 134503\n",
        "local-gs-test-result-feed-flat-IL.txt"
       ]
      },
      {
       "output_type": "stream",
       "stream": "stdout",
       "text": [
        " 696821\n",
        "local-gs-test-result-feed-flat-IN.txt"
       ]
      },
      {
       "output_type": "stream",
       "stream": "stdout",
       "text": [
        " 68133\n",
        "local-gs-test-result-feed-flat-KS.txt"
       ]
      },
      {
       "output_type": "stream",
       "stream": "stdout",
       "text": [
        " 341928\n",
        "local-gs-test-result-feed-flat-KY.txt"
       ]
      },
      {
       "output_type": "stream",
       "stream": "stdout",
       "text": [
        " 132800\n",
        "local-gs-test-result-feed-flat-LA.txt"
       ]
      },
      {
       "output_type": "stream",
       "stream": "stdout",
       "text": [
        " 419209\n",
        "local-gs-test-result-feed-flat-MA.txt"
       ]
      },
      {
       "output_type": "stream",
       "stream": "stdout",
       "text": [
        " 329920\n",
        "local-gs-test-result-feed-flat-MD.txt"
       ]
      },
      {
       "output_type": "stream",
       "stream": "stdout",
       "text": [
        " 152320\n",
        "local-gs-test-result-feed-flat-ME.txt"
       ]
      },
      {
       "output_type": "stream",
       "stream": "stdout",
       "text": [
        " 115291\n",
        "local-gs-test-result-feed-flat-MI.txt"
       ]
      },
      {
       "output_type": "stream",
       "stream": "stdout",
       "text": [
        " 1299400\n",
        "local-gs-test-result-feed-flat-MN.txt"
       ]
      },
      {
       "output_type": "stream",
       "stream": "stdout",
       "text": [
        " 358352\n",
        "local-gs-test-result-feed-flat-MO.txt"
       ]
      },
      {
       "output_type": "stream",
       "stream": "stdout",
       "text": [
        " 500175\n",
        "local-gs-test-result-feed-flat-MS.txt"
       ]
      },
      {
       "output_type": "stream",
       "stream": "stdout",
       "text": [
        " 178826\n",
        "local-gs-test-result-feed-flat-MT.txt"
       ]
      },
      {
       "output_type": "stream",
       "stream": "stdout",
       "text": [
        " 111890\n",
        "local-gs-test-result-feed-flat-NC.txt"
       ]
      },
      {
       "output_type": "stream",
       "stream": "stdout",
       "text": [
        " 423593\n",
        "local-gs-test-result-feed-flat-ND.txt"
       ]
      },
      {
       "output_type": "stream",
       "stream": "stdout",
       "text": [
        " 94575\n",
        "local-gs-test-result-feed-flat-NE.txt"
       ]
      },
      {
       "output_type": "stream",
       "stream": "stdout",
       "text": [
        " 35418\n",
        "local-gs-test-result-feed-flat-NH.txt"
       ]
      },
      {
       "output_type": "stream",
       "stream": "stdout",
       "text": [
        " 91050\n",
        "local-gs-test-result-feed-flat-NJ.txt"
       ]
      },
      {
       "output_type": "stream",
       "stream": "stdout",
       "text": [
        " 366624\n",
        "local-gs-test-result-feed-flat-NM.txt"
       ]
      },
      {
       "output_type": "stream",
       "stream": "stdout",
       "text": [
        " 141655\n",
        "local-gs-test-result-feed-flat-NV.txt"
       ]
      },
      {
       "output_type": "stream",
       "stream": "stdout",
       "text": [
        " 52540\n",
        "local-gs-test-result-feed-flat-NY.txt"
       ]
      },
      {
       "output_type": "stream",
       "stream": "stdout",
       "text": [
        " 600133\n",
        "local-gs-test-result-feed-flat-OH.txt"
       ]
      },
      {
       "output_type": "stream",
       "stream": "stdout",
       "text": [
        " 139611\n",
        "local-gs-test-result-feed-flat-OK.txt"
       ]
      },
      {
       "output_type": "stream",
       "stream": "stdout",
       "text": [
        " 124361\n",
        "local-gs-test-result-feed-flat-OR.txt"
       ]
      },
      {
       "output_type": "stream",
       "stream": "stdout",
       "text": [
        " 47489\n",
        "local-gs-test-result-feed-flat-PA.txt"
       ]
      },
      {
       "output_type": "stream",
       "stream": "stdout",
       "text": [
        " 665680\n",
        "local-gs-test-result-feed-flat-RI.txt"
       ]
      },
      {
       "output_type": "stream",
       "stream": "stdout",
       "text": [
        " 49480\n",
        "local-gs-test-result-feed-flat-SC.txt"
       ]
      },
      {
       "output_type": "stream",
       "stream": "stdout",
       "text": [
        " 272751\n",
        "local-gs-test-result-feed-flat-SD.txt"
       ]
      },
      {
       "output_type": "stream",
       "stream": "stdout",
       "text": [
        " 85535\n",
        "local-gs-test-result-feed-flat-TN.txt"
       ]
      },
      {
       "output_type": "stream",
       "stream": "stdout",
       "text": [
        " 331250\n",
        "local-gs-test-result-feed-flat-TX.txt"
       ]
      },
      {
       "output_type": "stream",
       "stream": "stdout",
       "text": [
        " 2204956\n",
        "local-gs-test-result-feed-flat-UT.txt"
       ]
      },
      {
       "output_type": "stream",
       "stream": "stdout",
       "text": [
        " 30725\n",
        "local-gs-test-result-feed-flat-VA.txt"
       ]
      },
      {
       "output_type": "stream",
       "stream": "stdout",
       "text": [
        " 322476\n",
        "local-gs-test-result-feed-flat-VT.txt"
       ]
      },
      {
       "output_type": "stream",
       "stream": "stdout",
       "text": [
        " 96145\n",
        "local-gs-test-result-feed-flat-WA.txt"
       ]
      },
      {
       "output_type": "stream",
       "stream": "stdout",
       "text": [
        " 384432\n",
        "local-gs-test-result-feed-flat-WI.txt"
       ]
      },
      {
       "output_type": "stream",
       "stream": "stdout",
       "text": [
        " 393880\n",
        "local-gs-test-result-feed-flat-WV.txt"
       ]
      },
      {
       "output_type": "stream",
       "stream": "stdout",
       "text": [
        " 38323\n",
        "local-gs-test-result-feed-flat-WY.txt"
       ]
      },
      {
       "output_type": "stream",
       "stream": "stdout",
       "text": [
        " 48213\n",
        "Total gs/parent ratings records = 20578880"
       ]
      },
      {
       "output_type": "stream",
       "stream": "stdout",
       "text": [
        "\n"
       ]
      }
     ],
     "prompt_number": 4
    },
    {
     "cell_type": "code",
     "collapsed": false,
     "input": [
      "# inserts 75 LDA topic records per GS user review into the mysql database\n",
      "# this data was then normalized, rolled up into summary topics, and aggregated at the school level\n",
      "# using stored procedures\n",
      "sql = \"insert into topics (universal_id, id, topic_code, value) select universal_id, id,'{}',t{} from topic where id != '999999999'\"\n",
      "print\n",
      "for n in range(1,75):\n",
      "    print n\n",
      "    cnx = mysql_ops()\n",
      "    sql = \"insert into topics (universal_id, id, topic_code, value) select universal_id, id,'{}',t{} from topic where id != '999999999'\".format(n,n)\n",
      "    print sql\n",
      "    cnx.execute_sql(sql, cursor_type='sql')\n",
      "    print \"done\"\n",
      "    cnx = None\n",
      "    "
     ],
     "language": "python",
     "metadata": {},
     "outputs": [
      {
       "output_type": "stream",
       "stream": "stdout",
       "text": [
        "\n",
        "1\n",
        "insert into topics (universal_id, id, topic_code, value) select universal_id, id,'1',t1 from topic where id != '999999999'\n",
        "done\n",
        "2\n",
        "insert into topics (universal_id, id, topic_code, value) select universal_id, id,'2',t2 from topic where id != '999999999'\n",
        "done\n",
        "3\n",
        "insert into topics (universal_id, id, topic_code, value) select universal_id, id,'3',t3 from topic where id != '999999999'\n",
        "done\n",
        "4\n",
        "insert into topics (universal_id, id, topic_code, value) select universal_id, id,'4',t4 from topic where id != '999999999'\n",
        "done\n",
        "5\n",
        "insert into topics (universal_id, id, topic_code, value) select universal_id, id,'5',t5 from topic where id != '999999999'\n",
        "done\n",
        "6\n",
        "insert into topics (universal_id, id, topic_code, value) select universal_id, id,'6',t6 from topic where id != '999999999'\n",
        "done\n",
        "7\n",
        "insert into topics (universal_id, id, topic_code, value) select universal_id, id,'7',t7 from topic where id != '999999999'\n",
        "done\n",
        "8\n",
        "insert into topics (universal_id, id, topic_code, value) select universal_id, id,'8',t8 from topic where id != '999999999'\n",
        "done\n",
        "9\n",
        "insert into topics (universal_id, id, topic_code, value) select universal_id, id,'9',t9 from topic where id != '999999999'\n",
        "done\n",
        "10\n",
        "insert into topics (universal_id, id, topic_code, value) select universal_id, id,'10',t10 from topic where id != '999999999'\n",
        "done\n",
        "11\n",
        "insert into topics (universal_id, id, topic_code, value) select universal_id, id,'11',t11 from topic where id != '999999999'\n",
        "done\n",
        "12\n",
        "insert into topics (universal_id, id, topic_code, value) select universal_id, id,'12',t12 from topic where id != '999999999'\n",
        "done\n",
        "13\n",
        "insert into topics (universal_id, id, topic_code, value) select universal_id, id,'13',t13 from topic where id != '999999999'\n",
        "done\n",
        "14\n",
        "insert into topics (universal_id, id, topic_code, value) select universal_id, id,'14',t14 from topic where id != '999999999'\n",
        "done\n",
        "15\n",
        "insert into topics (universal_id, id, topic_code, value) select universal_id, id,'15',t15 from topic where id != '999999999'\n",
        "done\n",
        "16\n",
        "insert into topics (universal_id, id, topic_code, value) select universal_id, id,'16',t16 from topic where id != '999999999'\n",
        "done\n",
        "17\n",
        "insert into topics (universal_id, id, topic_code, value) select universal_id, id,'17',t17 from topic where id != '999999999'\n",
        "done\n",
        "18\n",
        "insert into topics (universal_id, id, topic_code, value) select universal_id, id,'18',t18 from topic where id != '999999999'\n",
        "done\n",
        "19\n",
        "insert into topics (universal_id, id, topic_code, value) select universal_id, id,'19',t19 from topic where id != '999999999'\n",
        "done\n",
        "20\n",
        "insert into topics (universal_id, id, topic_code, value) select universal_id, id,'20',t20 from topic where id != '999999999'\n",
        "done\n",
        "21\n",
        "insert into topics (universal_id, id, topic_code, value) select universal_id, id,'21',t21 from topic where id != '999999999'\n",
        "done\n",
        "22\n",
        "insert into topics (universal_id, id, topic_code, value) select universal_id, id,'22',t22 from topic where id != '999999999'\n",
        "done\n",
        "23\n",
        "insert into topics (universal_id, id, topic_code, value) select universal_id, id,'23',t23 from topic where id != '999999999'\n",
        "done\n",
        "24\n",
        "insert into topics (universal_id, id, topic_code, value) select universal_id, id,'24',t24 from topic where id != '999999999'\n",
        "done\n",
        "25\n",
        "insert into topics (universal_id, id, topic_code, value) select universal_id, id,'25',t25 from topic where id != '999999999'\n",
        "done\n",
        "26\n",
        "insert into topics (universal_id, id, topic_code, value) select universal_id, id,'26',t26 from topic where id != '999999999'\n",
        "done\n",
        "27\n",
        "insert into topics (universal_id, id, topic_code, value) select universal_id, id,'27',t27 from topic where id != '999999999'\n",
        "done\n",
        "28\n",
        "insert into topics (universal_id, id, topic_code, value) select universal_id, id,'28',t28 from topic where id != '999999999'\n",
        "done\n",
        "29\n",
        "insert into topics (universal_id, id, topic_code, value) select universal_id, id,'29',t29 from topic where id != '999999999'\n",
        "done\n",
        "30\n",
        "insert into topics (universal_id, id, topic_code, value) select universal_id, id,'30',t30 from topic where id != '999999999'\n",
        "done\n",
        "31\n",
        "insert into topics (universal_id, id, topic_code, value) select universal_id, id,'31',t31 from topic where id != '999999999'\n",
        "done\n",
        "32\n",
        "insert into topics (universal_id, id, topic_code, value) select universal_id, id,'32',t32 from topic where id != '999999999'\n",
        "done\n",
        "33\n",
        "insert into topics (universal_id, id, topic_code, value) select universal_id, id,'33',t33 from topic where id != '999999999'\n",
        "done\n",
        "34\n",
        "insert into topics (universal_id, id, topic_code, value) select universal_id, id,'34',t34 from topic where id != '999999999'\n",
        "done\n",
        "35\n",
        "insert into topics (universal_id, id, topic_code, value) select universal_id, id,'35',t35 from topic where id != '999999999'\n",
        "done\n",
        "36\n",
        "insert into topics (universal_id, id, topic_code, value) select universal_id, id,'36',t36 from topic where id != '999999999'\n",
        "done\n",
        "37\n",
        "insert into topics (universal_id, id, topic_code, value) select universal_id, id,'37',t37 from topic where id != '999999999'\n",
        "done\n",
        "38\n",
        "insert into topics (universal_id, id, topic_code, value) select universal_id, id,'38',t38 from topic where id != '999999999'\n",
        "done\n",
        "39\n",
        "insert into topics (universal_id, id, topic_code, value) select universal_id, id,'39',t39 from topic where id != '999999999'\n",
        "done\n",
        "40\n",
        "insert into topics (universal_id, id, topic_code, value) select universal_id, id,'40',t40 from topic where id != '999999999'\n",
        "done\n",
        "41\n",
        "insert into topics (universal_id, id, topic_code, value) select universal_id, id,'41',t41 from topic where id != '999999999'\n",
        "done\n",
        "42\n",
        "insert into topics (universal_id, id, topic_code, value) select universal_id, id,'42',t42 from topic where id != '999999999'\n",
        "done\n",
        "43\n",
        "insert into topics (universal_id, id, topic_code, value) select universal_id, id,'43',t43 from topic where id != '999999999'\n",
        "done\n",
        "44\n",
        "insert into topics (universal_id, id, topic_code, value) select universal_id, id,'44',t44 from topic where id != '999999999'\n",
        "done\n",
        "45\n",
        "insert into topics (universal_id, id, topic_code, value) select universal_id, id,'45',t45 from topic where id != '999999999'\n",
        "done\n",
        "46\n",
        "insert into topics (universal_id, id, topic_code, value) select universal_id, id,'46',t46 from topic where id != '999999999'\n",
        "done\n",
        "47\n",
        "insert into topics (universal_id, id, topic_code, value) select universal_id, id,'47',t47 from topic where id != '999999999'\n",
        "done\n",
        "48\n",
        "insert into topics (universal_id, id, topic_code, value) select universal_id, id,'48',t48 from topic where id != '999999999'\n",
        "done\n",
        "49\n",
        "insert into topics (universal_id, id, topic_code, value) select universal_id, id,'49',t49 from topic where id != '999999999'\n",
        "done\n",
        "50\n",
        "insert into topics (universal_id, id, topic_code, value) select universal_id, id,'50',t50 from topic where id != '999999999'\n",
        "done\n",
        "51\n",
        "insert into topics (universal_id, id, topic_code, value) select universal_id, id,'51',t51 from topic where id != '999999999'\n",
        "done\n",
        "52\n",
        "insert into topics (universal_id, id, topic_code, value) select universal_id, id,'52',t52 from topic where id != '999999999'\n",
        "done\n",
        "53\n",
        "insert into topics (universal_id, id, topic_code, value) select universal_id, id,'53',t53 from topic where id != '999999999'\n",
        "done\n",
        "54\n",
        "insert into topics (universal_id, id, topic_code, value) select universal_id, id,'54',t54 from topic where id != '999999999'\n",
        "done\n",
        "55\n",
        "insert into topics (universal_id, id, topic_code, value) select universal_id, id,'55',t55 from topic where id != '999999999'\n",
        "done\n",
        "56\n",
        "insert into topics (universal_id, id, topic_code, value) select universal_id, id,'56',t56 from topic where id != '999999999'\n",
        "done\n",
        "57\n",
        "insert into topics (universal_id, id, topic_code, value) select universal_id, id,'57',t57 from topic where id != '999999999'\n",
        "done\n",
        "58\n",
        "insert into topics (universal_id, id, topic_code, value) select universal_id, id,'58',t58 from topic where id != '999999999'\n",
        "done\n",
        "59\n",
        "insert into topics (universal_id, id, topic_code, value) select universal_id, id,'59',t59 from topic where id != '999999999'\n",
        "done\n",
        "60\n",
        "insert into topics (universal_id, id, topic_code, value) select universal_id, id,'60',t60 from topic where id != '999999999'\n",
        "done\n",
        "61\n",
        "insert into topics (universal_id, id, topic_code, value) select universal_id, id,'61',t61 from topic where id != '999999999'\n",
        "done\n",
        "62\n",
        "insert into topics (universal_id, id, topic_code, value) select universal_id, id,'62',t62 from topic where id != '999999999'\n",
        "done\n",
        "63\n",
        "insert into topics (universal_id, id, topic_code, value) select universal_id, id,'63',t63 from topic where id != '999999999'\n",
        "done\n",
        "64\n",
        "insert into topics (universal_id, id, topic_code, value) select universal_id, id,'64',t64 from topic where id != '999999999'\n",
        "done\n",
        "65\n",
        "insert into topics (universal_id, id, topic_code, value) select universal_id, id,'65',t65 from topic where id != '999999999'\n",
        "done\n",
        "66\n",
        "insert into topics (universal_id, id, topic_code, value) select universal_id, id,'66',t66 from topic where id != '999999999'\n",
        "done\n",
        "67\n",
        "insert into topics (universal_id, id, topic_code, value) select universal_id, id,'67',t67 from topic where id != '999999999'\n",
        "done\n",
        "68\n",
        "insert into topics (universal_id, id, topic_code, value) select universal_id, id,'68',t68 from topic where id != '999999999'\n",
        "done\n",
        "69\n",
        "insert into topics (universal_id, id, topic_code, value) select universal_id, id,'69',t69 from topic where id != '999999999'\n",
        "done\n",
        "70\n",
        "insert into topics (universal_id, id, topic_code, value) select universal_id, id,'70',t70 from topic where id != '999999999'\n",
        "done\n",
        "71\n",
        "insert into topics (universal_id, id, topic_code, value) select universal_id, id,'71',t71 from topic where id != '999999999'\n",
        "done\n",
        "72\n",
        "insert into topics (universal_id, id, topic_code, value) select universal_id, id,'72',t72 from topic where id != '999999999'\n",
        "done\n",
        "73\n",
        "insert into topics (universal_id, id, topic_code, value) select universal_id, id,'73',t73 from topic where id != '999999999'\n",
        "done\n",
        "74\n",
        "insert into topics (universal_id, id, topic_code, value) select universal_id, id,'74',t74 from topic where id != '999999999'\n",
        "done\n"
       ]
      }
     ],
     "prompt_number": 7
    }
   ],
   "metadata": {}
  }
 ]
}
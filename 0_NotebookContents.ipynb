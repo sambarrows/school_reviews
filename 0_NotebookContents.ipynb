{
 "metadata": {
  "name": ""
 },
 "nbformat": 3,
 "nbformat_minor": 0,
 "worksheets": [
  {
   "cells": [
    {
     "cell_type": "heading",
     "level": 1,
     "metadata": {},
     "source": [
      "# CS 109 Final Project:  GreatSchools project notebook contents \n",
      "<br>\n",
      "\n",
      "<img src=\"http://www.newschools.org/wp/wp-content/uploads/Bill-Jackson.jpg\">\n"
     ]
    },
    {
     "cell_type": "markdown",
     "metadata": {},
     "source": [
      "<br>\n",
      "<i>Project team: Samuel Barrows, Joseph Davin, Brian Feeny, Michael Lackner</i>\n",
      "<br>\n",
      "<br>\n",
      "\n",
      "Link to website and video:  https://sites.google.com/site/cs109greatschools/\n",
      "\n",
      "Ch1. Introduction - overview; motivation and goals; related work; initial questions\n",
      "\n",
      "Ch2i. Data - collection, scraping, API, scrubbing, ETL, storage, retrieval.\n",
      "\n",
      "Ch2ii. Data - we develop a measure of school performance that allows us to compare the performance of elementary schools nationwide. To the best of our knowledge this is the first measure to allow such comparison.\n",
      "\n",
      "Ch3. Text Processing and LDA\n",
      "\n",
      "Ch4. Exploration of data - we conducted some initial exploration of the scraped California data to see if this project had potential. Once we had the full dataset, we conducted more extensive analysis\n",
      "\n",
      "Ch5. Final analyses - What topics are talked about?  Effect of test scores, poverty, and charter schools on online review topics [hierarchical Bayesian Multinomial logit regression]"
     ]
    }
   ],
   "metadata": {}
  }
 ]
}
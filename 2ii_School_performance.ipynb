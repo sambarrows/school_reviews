{
 "metadata": {
  "name": ""
 },
 "nbformat": 3,
 "nbformat_minor": 0,
 "worksheets": [
  {
   "cells": [
    {
     "cell_type": "heading",
     "level": 1,
     "metadata": {},
     "source": [
      "Constructing a Nationwide Measure of School Performance"
     ]
    },
    {
     "cell_type": "heading",
     "level": 3,
     "metadata": {},
     "source": [
      "Code to load data"
     ]
    },
    {
     "cell_type": "code",
     "collapsed": false,
     "input": [
      "%matplotlib inline\n",
      "\n",
      "GS_api_key = '3ibtlgutdkievurqdaqqawxx'\n",
      "\n",
      "import json\n",
      "import glob\n",
      "import os\n",
      "import numpy as np\n",
      "import networkx as nx\n",
      "import requests\n",
      "from pattern import web\n",
      "import matplotlib.pyplot as plt\n",
      "import codecs\n",
      "import requests.exceptions\n",
      "import urllib2 \n",
      "import htmllib\n",
      "import pandas as pd\n",
      "# to install pymysql: pip install pymysql\n",
      "import pymysql\n",
      "import pandas.io.sql as psql\n",
      "from BeautifulSoup import BeautifulSoup as Soup\n",
      "\n",
      "# set some nicer defaults for matplotlib\n",
      "from matplotlib import rcParams\n",
      "\n",
      "#these colors come from colorbrewer2.org. Each is an RGB triplet\n",
      "dark2_colors = [(0.10588235294117647, 0.6196078431372549, 0.4666666666666667),\n",
      "                (0.8509803921568627, 0.37254901960784315, 0.00784313725490196),\n",
      "                (0.4588235294117647, 0.4392156862745098, 0.7019607843137254),\n",
      "                (0.9058823529411765, 0.1607843137254902, 0.5411764705882353),\n",
      "                (0.4, 0.6509803921568628, 0.11764705882352941),\n",
      "                (0.9019607843137255, 0.6705882352941176, 0.00784313725490196),\n",
      "                (0.6509803921568628, 0.4627450980392157, 0.11372549019607843),\n",
      "                (0.4, 0.4, 0.4)]\n",
      "\n",
      "rcParams['figure.figsize'] = (10, 6)\n",
      "rcParams['figure.dpi'] = 150\n",
      "rcParams['axes.color_cycle'] = dark2_colors\n",
      "rcParams['lines.linewidth'] = 2\n",
      "rcParams['axes.grid'] = False\n",
      "rcParams['axes.facecolor'] = 'white'\n",
      "rcParams['font.size'] = 14\n",
      "rcParams['patch.edgecolor'] = 'none'\n",
      "\n",
      "def remove_border(axes=None, top=False, right=False, left=True, bottom=True):\n",
      "    \"\"\"\n",
      "    Minimize chartjunk by stripping out unnecessary plot borders and axis ticks\n",
      "    \n",
      "    The top/right/left/bottom keywords toggle whether the corresponding plot border is drawn\n",
      "    \"\"\"\n",
      "    ax = axes or plt.gca()\n",
      "    ax.spines['top'].set_visible(top)\n",
      "    ax.spines['right'].set_visible(right)\n",
      "    ax.spines['left'].set_visible(left)\n",
      "    ax.spines['bottom'].set_visible(bottom)\n",
      "    \n",
      "    #turn off all ticks\n",
      "    ax.yaxis.set_ticks_position('none')\n",
      "    ax.xaxis.set_ticks_position('none')\n",
      "    \n",
      "    #now re-enable visibles\n",
      "    if top:\n",
      "        ax.xaxis.tick_top()\n",
      "    if bottom:\n",
      "        ax.xaxis.tick_bottom()\n",
      "    if left:\n",
      "        ax.yaxis.tick_left()\n",
      "    if right:\n",
      "        ax.yaxis.tick_right()"
     ],
     "language": "python",
     "metadata": {},
     "outputs": [],
     "prompt_number": 2
    },
    {
     "cell_type": "markdown",
     "metadata": {},
     "source": [
      "Connection and retrieval (from Michael code)"
     ]
    },
    {
     "cell_type": "code",
     "collapsed": false,
     "input": [
      "\"\"\"\n",
      "class mysql_ops\n",
      "\n",
      "functions:\n",
      "\n",
      "    mysql_connect - connects to our MySQL db\n",
      "    mysql_disconnect - disconnects\n",
      "    get_mysql_data - generic retrieval function that invokes a stored procedure returning a denormalized df combining school and review data\n",
      "    \n",
      "    retrieval methods (commented inline)\n",
      "    \n",
      "\"\"\"\n",
      "class mysql_ops(object):\n",
      "    \n",
      "    # returns a connection to our MySQL db\n",
      "    @classmethod\n",
      "    def mysql_connect(self):\n",
      "        \n",
      "        cnx = pymysql.connect(host='cs109instance.ccikshmkulj7.us-east-1.rds.amazonaws.com', \n",
      "                               port=3306, \n",
      "                               user='michael', \n",
      "                               passwd='michael', \n",
      "                               db='cs109gs')\n",
      "        this_cursor = cnx.cursor(pymysql.cursors.DictCursor)\n",
      "        return cnx, this_cursor\n",
      "    \n",
      "    # close cursor and MySQL connection\n",
      "    @classmethod\n",
      "    def mysql_disconnect(self, cnx, cursor):\n",
      "        cursor.close()\n",
      "        cnx.close() # close db connection\n",
      "        \n",
      "    # get data from mysql db\n",
      "    def get_mysql_data(self, sql, data_id1=None, data_id2=None, data_id3=None):\n",
      "        \n",
      "        cnx, cursor = self.mysql_connect()\n",
      "        \n",
      "        if data_id3:\n",
      "            cursor.callproc(sql, (data_id1, data_id2, data_id3))\n",
      "        elif data_id2:\n",
      "            cursor.callproc(sql, (data_id1, data_id2))\n",
      "        elif data_id1:\n",
      "            cursor.callproc(sql, (data_id1,))\n",
      "        else:\n",
      "            cursor.callproc(sql)\n",
      "        \n",
      "        if (cursor.rowcount > 0):\n",
      "            df = pd.DataFrame(cursor.fetchall())\n",
      "            self.mysql_disconnect(cnx, cursor)# close db connection\n",
      "            return df\n",
      "        else:\n",
      "            self.mysql_disconnect(cnx, cursor)# close db connection\n",
      "            print \"no rows returned\"\n",
      "        \n",
      "        return None\n",
      "    \n",
      "    # return all reviews for one school gsid (denormalized, i.e. with the associated school data repeated per review)\n",
      "    def get_reviews_gsid(self, gsid):\n",
      "        sql = 'school_reviews_by_gsid'\n",
      "        return self.get_mysql_data(sql, gsid)\n",
      "     \n",
      "    # return ethnic composition data for one school gsid \n",
      "    def get_race_gsid(self, gsid):\n",
      "        sql = 'school_race_by_gsid'\n",
      "        return self.get_mysql_data(sql, gsid)\n",
      "    \n",
      "    # return GS census data for one school gsid \n",
      "    def get_census_gsid(self, gsid):\n",
      "        sql = 'school_census_by_gsid'\n",
      "        return self.get_mysql_data(sql, gsid)\n",
      "    \n",
      "    # return GS test results data for one school gsid \n",
      "    def get_results_gsid(self, gsid):\n",
      "        sql = 'school_results_by_gsid'\n",
      "        return self.get_mysql_data(sql, gsid)\n",
      " \n",
      "    # return all reviews for one school ncesid (denormalized)\n",
      "    def get_reviews_ncesid(self, ncesid):\n",
      "        sql = 'school_reviews_by_ncesid'\n",
      "        return self.get_mysql_data(sql, ncesid)\n",
      "    \n",
      "    # return all reviews for one school ncesid \n",
      "    def get_reviews_districtncesid(self, districtncesid):\n",
      "        sql = 'school_reviews_by_districtncesid'\n",
      "        return self.get_mysql_data(sql, districtncesid)\n",
      "    \n",
      "    # return all reviews for one state \n",
      "    def get_reviews_state(self, state):\n",
      "        sql = 'school_reviews_by_state'\n",
      "        return self.get_mysql_data(sql, state)\n",
      "    \n",
      "    # return all census data for one state \n",
      "    def get_census_state(self, state):\n",
      "        sql = 'school_census_by_state'\n",
      "        return self.get_mysql_data(sql, state)\n",
      "    \n",
      "    # return all test results for one state \n",
      "    def get_results_state(self, state):\n",
      "        sql = 'school_results_by_state'\n",
      "        return self.get_mysql_data(sql, state)\n",
      "    \n",
      "    # return all test results for one state and grade\n",
      "    def get_results_state_grade(self, state, grade):\n",
      "        sql = 'school_results_by_state_grade'\n",
      "        return self.get_mysql_data(sql, state, grade)\n",
      "    \n",
      "    # return all test results for one state and year\n",
      "    def get_results_state_year(self, state, year):\n",
      "        sql = 'school_results_by_state_year'\n",
      "        return self.get_mysql_data(sql, state, year)\n",
      "    \n",
      "    # return all test results for one state, year and grade\n",
      "    def get_results_state_year_grade(self, state, year, grade):\n",
      "        sql = 'school_results_by_state_year_grade'\n",
      "        return self.get_mysql_data(sql, state, year, grade)\n",
      "    \n",
      "    # return all reviews for one county\n",
      "    def get_reviews_county(self, state, county):\n",
      "        sql = 'school_reviews_by_county'\n",
      "        return self.get_mysql_data(sql, state, county)\n",
      "    \n",
      "    # return all reviews containing text string\n",
      "    def get_reviews_string(self, text_string):\n",
      "        sql = 'school_reviews_by_string'\n",
      "        return self.get_mysql_data(sql, text_string)\n",
      "    \n",
      "    # note the psql syntax: returns all schools / reviews in db \n",
      "    # CAREFUL WITH THIS ONE:  IT WILL TAKE A LONG TIME AND RETURN ALL US SCHOOLS AND REVIEWS!\n",
      "    def get_all_reviews(self):\n",
      "        sql = 'school_reviews' \n",
      "        return self.get_mysql_data(sql)\n",
      "        #df = psql.frame_query(sql, cn)\n",
      "        #cn = cnx.mysql_disconnect()\n",
      "        #return df\n",
      "    \n",
      "    #return all cities and towns for a given state\n",
      "    def get_cities_towns_by_state(self, state):\n",
      "        sql = 'get_cities_towns_by_state' \n",
      "        return self.get_mysql_data(sql, state)\n",
      "\n",
      "def timer(dt1):\n",
      "    dt2 = datetime.datetime.now()\n",
      "    print dt2 - dt1\n",
      "    return dt2"
     ],
     "language": "python",
     "metadata": {},
     "outputs": [],
     "prompt_number": 3
    },
    {
     "cell_type": "heading",
     "level": 2,
     "metadata": {},
     "source": [
      "Methodological Approach"
     ]
    },
    {
     "cell_type": "markdown",
     "metadata": {},
     "source": [
      "Since the passage of No Child Left Behind (NCLB) in 2001, states have been required to test the proficiency of students in public schools in grades 3-8 and to make these results publicly available at the school level. School-level test results are therefore available for all states covering many years of the past decade, although there exists no database of results without substantial ommisions. However, as NCLB left it for each state to design and modify the examinations sat by its students, there is considerable variation in the difficulty of examinations across both states and years (Peterson and Lastra-Anderson 2010, http://educationnext.org/state-standards-rising-in-reading-but-not-in-math/).\n",
      "\n",
      "To the best of our knowledge, no measure currently exists that allows for the comparison of school performance nationwide. We thereofre contructed the first such measure. Greene and McGee have constructed a nationally comparable measure of performance at the school district level (http://globalreportcard.org/docs/AboutTheIndex/Global-Report-Card-Technical-Appendix-9-28-11.pdf). We follow their methodology, but applying it at the school level for the first time.\n",
      "\n",
      "In order to construct a measure of school performance that permits comparison of schools across states within any given year, we decide to focus on one exam in one subject. Specifically, we consider the percent of students in a school achieving the proficiency cut score or better in Mathematics in Grade 4 in a given year. The reasons for focusing on Grade 4 Mathematics are discussed below. We then conduct the following steps <i>separately for each year</i>:\n",
      "\n",
      "<b>Step 1.</b> First, we find the average and standard deviation of the school-level percent proficiency in Grade 4 Mathematics in each state. Making the assumption that school-level percent proficiency is normally distributed within each state, we then calculate the z-score for each school: the number of standard deviation units a school is above or below the mean on the standard normal curve. However, these z-scores do not take account of the fact that the proficiency cut score in some states is more difficult to achieve than the proficiency cut score in others. \n",
      "\n",
      "<b>Step 2</b> Therefore, we next adjust each z-score to account for the fact that more students achieve the cut scores in some states than others. In order to do this, we calculate the mean proficiency in each state, by taking the mean for each school weighted by the number of students who sat the test (note that this is different from the mean used in calculating the z-score in Step 1, which was the unweighted mean of school-level proficiency rates). We then find the mean and standard deviation of the state proficiency rates and calculate a z-score for each state. Each school's z-score is then shifted by substracting the state's z-score.\n",
      "\n",
      "<b>Step 3</b> Finally, we adjust each z-score to account for the fact that the number of students who achieve the cut score in each state is influenced not only by the difficulty of the exam, but also by the performance of the students, which varies across states. The National Assessment of Educational Progress (NAEP) is an exam sat by a sample of students in each state, which therefore does permit comparison across years and states. We find the mean percent proficient on the NAEP for each state, and again use the mean and standard deviation of state proficiency rates to construct a \"NAEP z-score\" for each state. We then shift each school's z-score by adding the appropriate state-level NAEP z-score. NAEP data is only available for odd numbered years. For school z-scores from even years, we add the most recent state-level NAEP score.\n",
      "\n",
      "A perhaps clearer interpretation of the measure we construct above is that we first come up with a measure of school performance relative to the state. However, we some state exam standards are much more stringent others. To do this we add a measure of the difference between the state's percent proficient in the state on the NAEP, which is nationally comparable, and the percent proficient on the state's own exams. If a state administers very easy exams (in a given year), for example, we would expect this difference to be large and negative, and we would therefore adjust the z-scores for the schools in that state down. Likewise, if a state administers difficult tests this difference will be large and positive, and we will shift the z-scores for the schools in that state up.\n",
      "\n",
      "<b>Why Grade 4 Mathematics?</b>\n",
      "\n",
      "Ideally, one would construct measures of school performance for elementary, middle, and high school performance respectively; however, owing to time constraints, we focus on the performance of elementary schools. No Child Left Behind (NCLB) only mandatated resting from Grades 3-8, so we need to consider either elementary or middle schools to ensure good coverage. An advantage to using elementary school results, rather than middle schools results, is that the sample size is considerably greater. A second advantage is that elementary schools sit exams in a smaller range of core subjects, as can be seen from browsing the test result data for different schools on the GreatSchools website, so it is easier to come up with comparable measures across different states. \n",
      "\n",
      "We use Grade 4 results, the penultimate year of elementary school, rather than any other year of elementary school, because the National Assessment of Educational Progress (NAEP) assesses students in Grades 4, 8, and 12. Our school level data is therefore, to the extent possible, consistent with the NAEP data that we employ in accounting for variation in the stringency of different tests. "
     ]
    },
    {
     "cell_type": "heading",
     "level": 2,
     "metadata": {},
     "source": [
      "Step 1"
     ]
    },
    {
     "cell_type": "heading",
     "level": 3,
     "metadata": {},
     "source": [
      "Building Functions"
     ]
    },
    {
     "cell_type": "markdown",
     "metadata": {},
     "source": [
      "A brief note on the methods employed below for drawing from the database: We first tried pulling all of the test results data for California, however, the notebook repeadedly froze over many attempts. We tried pulling each school-year dataset separately, but, again, we could only pull three years' data at a time. As this was only happening on one person's laptop, which had just 4GB RAM, we summized that it was probaby a RAM problem. We therefore created a new method: get_results_state_grade. Using this method, we were able to pull data for the whole state for Grade 4 only, and then methods on that one dataset to return the z-scores for the different years, before clearing the dataset from memory."
     ]
    },
    {
     "cell_type": "code",
     "collapsed": false,
     "input": [
      "def quick_look(data):\n",
      "    years = [str(x) for x in range(2003,2013+1,1)][::-1]\n",
      "    for x in years:\n",
      "        print x + ': ' + str(data[data['year']==x]['proficiency_band_name'].unique())\n",
      "\n",
      "def get_data(state):\n",
      "    cnx = mysql_ops()\n",
      "    data = cnx.get_results_state_grade(state, '4')\n",
      "    print quick_look(data)\n",
      "    return data\n",
      "        \n",
      "def get_zscores(data, year, names):\n",
      "    \"\"\"\n",
      "    Creates zscore for each school with results for Grade 4 math, for specified year\n",
      "    ---\n",
      "    Parameters:\n",
      "    data - dataset created using get_results_state_grade\n",
      "    year - string or integer specifying the year\n",
      "    names - list of the variable names that correspond to being at or above proficiency.\n",
      "    ---\n",
      "    Returns:\n",
      "    pandas dataframe of school-level z-scores, indexed by ncesid\n",
      "    \"\"\"\n",
      "    if type(year)==int:\n",
      "        year = str(year)\n",
      "        \n",
      "    ##Restrict to observations with Grade 4 math data\n",
      "    g4_math = data[data['subject_name']=='Math']\n",
      "    g4_math = g4_math[g4_math['year']==year]\n",
      "    g4_math = g4_math[g4_math['nces_code']!=\"\"]\n",
      "    \n",
      "    ##For each school, get the percentage proficient or better    \n",
      "    if len(names)==1:\n",
      "        mask0 = g4_math['proficiency_band_name']==names[0]\n",
      "        g4_math = g4_math[mask0]        \n",
      "        school_groupby = g4_math.groupby('nces_code')\n",
      "        prof = school_groupby.apply(lambda x:\\\n",
      "                                    float(x[x['proficiency_band_name']==names[0]]['score'].astype(np.float)))\n",
      "    \n",
      "    elif len(names)==2:\n",
      "        ##Make sure dataset contains data needed to calculate percentage (otherwise block of code below\n",
      "        ##crashes)\n",
      "        mask0 = g4_math['proficiency_band_name']==names[0]\n",
      "        mask1 = g4_math['proficiency_band_name']==names[1]\n",
      "        mask2 = [any(tup) for tup in zip(mask0, mask1)]\n",
      "        g4_math = g4_math[mask2]\n",
      "        ##Still potential for BUG if a school contains one proficiency label but not the other.\n",
      "        ##I had wanted to use filter instead, but couldn't get it work:\n",
      "        ##school_groupby = g4_math.groupby('nces_code').filter(lambda x: \\\n",
      "                                    ##any(x['proficiency_band_name']==names[0]))\n",
      "                                    ##(names[0] in x['proficiency_band_name'].tolist()) and \\\n",
      "                                    ##(names[1] in x['proficiency_band_name'].tolist()))\n",
      "        \n",
      "        school_groupby = g4_math.groupby('nces_code')\n",
      "        prof = school_groupby.apply(lambda x:\\\n",
      "                                    float(x[x['proficiency_band_name']==names[0]]['score'].astype(np.float)) + \\\n",
      "                                    float(x[x['proficiency_band_name']==names[1]]['score'].astype(np.float)))\n",
      "        \n",
      "    elif len(names)==3:\n",
      "        mask0 = g4_math['proficiency_band_name']==names[0]\n",
      "        mask1 = g4_math['proficiency_band_name']==names[1]\n",
      "        mask2 = g4_math['proficiency_band_name']==names[2]\n",
      "        mask3 = [any(tup) for tup in zip(mask0, mask1, mask2)]\n",
      "        g4_math = g4_math[mask3]        \n",
      "        school_groupby = g4_math.groupby('nces_code')\n",
      "        prof = school_groupby.apply(lambda x:\\\n",
      "                                    float(x[x['proficiency_band_name']==names[0]]['score'].astype(np.float)) + \\\n",
      "                                    float(x[x['proficiency_band_name']==names[1]]['score'].astype(np.float)) + \\\n",
      "                                    float(x[x['proficiency_band_name']==names[2]]['score'].astype(np.float)))\n",
      "    else:\n",
      "        print \"name length not recognised\"\n",
      "    \n",
      "    ##For each school, get zscore\n",
      "    this_state_mean = prof.mean() \n",
      "    state_std  = prof.std()\n",
      "    zscores = prof.apply(lambda x:(x-this_state_mean)/state_std)\n",
      "    \n",
      "    ##Convert to pandas dataframe\n",
      "    zscores = pd.DataFrame(zscores)\n",
      "    \n",
      "    return zscores\n",
      "\n",
      "def get_mean(data, year, names):\n",
      "    \"\"\"\n",
      "    Returns:\n",
      "    Weighted mean percent proficient or better for state for specified year, weighting each school percent proficient \n",
      "    or better by number of students who sat the test\n",
      "    \"\"\"\n",
      "    if type(year)==int:\n",
      "        year = str(year)\n",
      "    \n",
      "    ##Restrict to observations with Grade 4 math data\n",
      "    g4_math = data[data['subject_name']=='Math']\n",
      "    g4_math = g4_math[g4_math['year']==year]\n",
      "    g4_math = g4_math[g4_math['nces_code']!=\"\"]\n",
      "    \n",
      "    ##For each school, get the percentage proficient or better, multiplied by the number of students who stat the test \n",
      "    if len(names)==1:\n",
      "        mask0 = g4_math['proficiency_band_name']==names[0]\n",
      "        school_groupby = g4_math.groupby('nces_code')\n",
      "        prof = school_groupby.apply(lambda x:\\\n",
      "                                    float(x[x['proficiency_band_name']==names[0]]['score'].astype(np.float))*\\\n",
      "                                    float(x[x['proficiency_band_name']==names[0]]['number_tested'].astype(np.float)))\n",
      "    elif len(names)==2:\n",
      "        mask0 = g4_math['proficiency_band_name']==names[0]\n",
      "        mask1 = g4_math['proficiency_band_name']==names[1]\n",
      "        mask2 = [any(tup) for tup in zip(mask0, mask1)]\n",
      "        g4_math = g4_math[mask2]\n",
      "        school_groupby = g4_math.groupby('nces_code')\n",
      "        prof = school_groupby.apply(lambda x:\\\n",
      "                                    (float(x[x['proficiency_band_name']==names[0]]['score'].astype(np.float)) + \\\n",
      "                                    float(x[x['proficiency_band_name']==names[1]]['score'].astype(np.float)))*\\\n",
      "                                    float(x[x['proficiency_band_name']==names[1]]['number_tested'].astype(np.float)))\n",
      "        \n",
      "    elif len(names)==3:\n",
      "        mask0 = g4_math['proficiency_band_name']==names[0]\n",
      "        mask1 = g4_math['proficiency_band_name']==names[1]\n",
      "        mask2 = g4_math['proficiency_band_name']==names[2]\n",
      "        mask3 = [any(tup) for tup in zip(mask0, mask1, mask2)]\n",
      "        school_groupby = g4_math.groupby('nces_code')\n",
      "        prof = school_groupby.apply(lambda x:\\\n",
      "                                    (float(x[x['proficiency_band_name']==names[0]]['score'].astype(np.float)) + \\\n",
      "                                    float(x[x['proficiency_band_name']==names[1]]['score'].astype(np.float)) + \\\n",
      "                                    float(x[x['proficiency_band_name']==names[2]]['score'].astype(np.float)))*\n",
      "                                    float(x[x['proficiency_band_name']==names[2]]['number_tested'].astype(np.float)))\n",
      "    else:\n",
      "        print \"name length not recognised\"\n",
      "        \n",
      "    ##For each school, get the number of students who sat the test\n",
      "    num_test = school_groupby.apply(lambda x:\\\n",
      "                                    float(x[x['proficiency_band_name']==names[0]]['number_tested'].astype(np.float)))\n",
      "    \n",
      "    ##Calculate the state weighted mean    \n",
      "    state_weighted_mean = sum(prof)/sum(num_test)     \n",
      "    \n",
      "    return state_weighted_mean\n",
      "\n",
      "def state_zscores(data, year_low, year_high, names):\n",
      "    \"\"\"\n",
      "    Uses get_zscores() to return zscores for multiple years \n",
      "    ---\n",
      "    Parameters:\n",
      "    data - dataset created using get_results_state_grade\n",
      "    year_low - first year for which to return zscores\n",
      "    year_high - last year for which to return zscores\n",
      "    names - list of the variable names that correspond to being at or above proficiency\n",
      "    ---\n",
      "    Returns:\n",
      "    pandas daframe of school-level zscores, indexed by ncesid, for specified years    \n",
      "    \"\"\"\n",
      "    ##Get list of years for which to return zscores\n",
      "    years = [str(x) for x in range(year_low,year_high+1,1)]\n",
      "    \n",
      "    ##Create list of dataframes\n",
      "    zscore_list = []\n",
      "    [zscore_list.append(get_zscores(data,x,names)) for x in years]\n",
      "    \n",
      "    ##Make into (one) dataframe\n",
      "    if len(years)>1:  \n",
      "        zscore_df = zscore_list[0]\n",
      "        zscore_list = zscore_list[1:len(zscore_list)]\n",
      "        count = 2\n",
      "        for zscore in zscore_list:\n",
      "            zscore_df = pd.merge(zscore_df, zscore, left_index=True, right_index=True, how='outer')\n",
      "            zscore_df.columns = years[:count]\n",
      "            count += 1\n",
      "    elif len(years)==1:\n",
      "        zscore_df = zscore_list[0]\n",
      "        zscore_df.columns = years\n",
      "    \n",
      "    return zscore_df\n",
      "\n",
      "def state_means(data, year_low, year_high, names):\n",
      "    \"\"\"\n",
      "    Uses get_mean() to return weighted mean percent proficient for multiple specified years\n",
      "    \"\"\"\n",
      "    ##Get list of years for which to return zscores\n",
      "    years = [str(x) for x in range(year_low,year_high+1,1)]\n",
      "    \n",
      "    ##Create list of means\n",
      "    means_list = []\n",
      "    [means_list.append(get_mean(data,x,names)) for x in years]\n",
      "    \n",
      "    ##Make dataframe\n",
      "    years = years[::-1]\n",
      "    means_list = means_list[::-1]\n",
      "    w_means_orig = pd.merge(pd.DataFrame(years), pd.DataFrame(means_list), left_index=True, right_index=True)\n",
      "\n",
      "    w_means = pd.DataFrame(w_means_orig['0_x'],columns=['Year']) \n",
      "    w_means['Means'] = w_means_orig['0_y']\n",
      "    \n",
      "    ##There is a reason why the above code looks weird.\n",
      "    ##I had previously just renamed columns create from merging:\n",
      "    ##w_means.columns = ['Year','Mean']\n",
      "    ##However, this stopped working after I installed Pandas 0.12. I also tried using rename, but with no success:\n",
      "    ##w_means.rename(columns={'0_x':'Year'})\n",
      "    ##And I tried making a new dataframe in one step, but this did not work either. \n",
      "    ##Posts on github indicate this is a bug in pandas 0.12: https://github.com/pydata/pandas/issues/4403\n",
      "\n",
      "    return w_means\n",
      "\n",
      "def build_state_dfs_1(data, state, year_low, year_high, names):\n",
      "    \"\"\"\n",
      "    Uses state_zscores() and state_means() to create zscore and mean dataframes for state, for specified years.\n",
      "    Use this where just 1 exam type.\n",
      "    For parameters, see build_ful_dfs.\n",
      "    \"\"\"\n",
      "    new_zs = state_zscores(data, year_low, year_high, names)\n",
      "    new_zs['State'] = pd.Series([state]*new_zs.shape[0], index=new_zs.index)\n",
      "    \n",
      "    new_means_orig = state_means(data, year_low, year_high, names)\n",
      "    new_means = pd.DataFrame(new_means_orig['Year'],columns=['Year'])\n",
      "    new_means[state] = new_means_orig['Means']\n",
      "    ##Again, had originally just renamed columns but broke with Pandas 0.12 (see note under state_means())\n",
      "    \n",
      "    return (new_zs, new_means)\n",
      "\n",
      "def build_state_dfs_2(data, state, year_low, year_high, names, year_low_later, year_high_later, names_later):    \n",
      "    \"\"\"\n",
      "    Uses state_zscores() and state_means() to create zscore and mean dataframes for state, for specified years.\n",
      "    Use this where 2 exam types. \n",
      "    ***EARLIER YEARS SHOULD BE ENTERED FIRST (ie as names rather than names1).***\n",
      "    ***CRUCIAL THAT ASSIGNMENT OF NAMES CORRESPONDS TO ORDER IN WHICH YEARS ENTERED***\n",
      "    For parameters, see build_ful_dfs.\n",
      "    \"\"\"\n",
      "    new_zs_early = state_zscores(data, year_low, year_high, names)\n",
      "    new_means_early = state_means(data, year_low, year_high, names)\n",
      "    \n",
      "    new_zs_late = state_zscores(data, year_low_later, year_high_later, names_later)\n",
      "    new_means_late = state_means(data, year_low_later, year_high_later, names_later)\n",
      "\n",
      "    new_zs = pd.merge(pd.DataFrame(new_zs_early), pd.DataFrame(new_zs_late), left_index=True, right_index=True, how='outer')\n",
      "    new_zs['State'] = pd.Series([state]*new_zs.shape[0], index=new_zs.index)\n",
      "    \n",
      "    new_means_orig = pd.concat([new_means_late, new_means_early])\n",
      "    new_means = pd.DataFrame(new_means_orig['Year'],columns=['Year'])\n",
      "    new_means[state] = new_means_orig['Means']\n",
      "    ##Again, had originally just renamed columns but broke with Pandas 0.12 (see note under state_means())\n",
      "    \n",
      "    return (new_zs, new_means)\n",
      "\n",
      "def build_ful_dfs(data,state, year_low,year_high,names, year_low1=None,year_high1=None,names1=None):\n",
      "    \"\"\"\n",
      "    Uses build_state_dfs_1() and build_state_dfs_2() to add zscores and means for state, for specified years, to \n",
      "    existing zscore and mean dataframes (or if there are no existing dataframes, creates such dataframes).\n",
      "    ---\n",
      "    Parameters:\n",
      "    data - dataset created using get_results_state_grade\n",
      "    state - string giving two letters of state eg 'CA'\n",
      "    \n",
      "    year_low - first year for which to return zscores\n",
      "    year_high - last year for which to return zscores\n",
      "    names - list of the variable names that correspond to being at or above proficiency\n",
      "    \n",
      "    year_low1  - as above, if 2nd exam type\n",
      "    year_high1 - as above, if 2nd exam type\n",
      "    year_high1 - as above, if 2nd exam type\n",
      "    ---\n",
      "    Returns:\n",
      "    pandas dataframe of school-level zscores, indexed by ncesid\n",
      "    pandas dataframe of mean zscores for each state\n",
      "    ---\n",
      "    ***NB. IT IS IMPERATIVE TO DEFINE OUTPUT AS zscores_df, means_df***\n",
      "    \"\"\"  \n",
      "    ##Get zscore and mean dataframes for state, for specified years\n",
      "    if year_low1==None:\n",
      "        new_zs, new_means = build_state_dfs_1(data,state, year_low,year_high,names)\n",
      "    else:        \n",
      "        new_zs, new_means = build_state_dfs_2(data,state,year_low,year_high,names,year_low1,year_high1,names1)\n",
      "    \n",
      "    ##If zscore and mean dataframes don't exist yet, return dataframes for state\n",
      "    if not('zscores_df' in globals()):\n",
      "        all_zscores = new_zs\n",
      "        all_means = new_means\n",
      "\n",
      "    ##Else, attach datframes for state to existing dataframes\n",
      "    else:\n",
      "        ##Attach zscores for state to zscores_df\n",
      "        all_zscores = pd.concat([zscores_df, new_zs])\n",
      "        \n",
      "        ##Attach means for state to means_df\n",
      "        all_means = pd.merge(means_df, new_means, on='Year', how='outer')\n",
      "        new_cols = means_df.columns.tolist()\n",
      "        new_cols.append(state)     \n",
      "        all_means.columns = new_cols\n",
      "    \n",
      "    print all_zscores[all_zscores['State']==state].head()\n",
      "    print all_means\n",
      "    print 'zcores_df shape: ' + str(all_zscores.shape)\n",
      "    \n",
      "    return (all_zscores, all_means)"
     ],
     "language": "python",
     "metadata": {},
     "outputs": [],
     "prompt_number": 4
    },
    {
     "cell_type": "code",
     "collapsed": false,
     "input": [],
     "language": "python",
     "metadata": {},
     "outputs": []
    },
    {
     "cell_type": "heading",
     "level": 3,
     "metadata": {},
     "source": [
      "Calculating Z-Scores and Mean Percent Proficient for Each State-Year"
     ]
    },
    {
     "cell_type": "markdown",
     "metadata": {},
     "source": [
      "<b>1. California</b>\n",
      "\n",
      "We use the percentage of students in Grade 4 at or above proficient on the Math section of the California Standards Tests (CSTs). We have CST results data for 2006-2013."
     ]
    },
    {
     "cell_type": "code",
     "collapsed": false,
     "input": [
      "ca_g4 = get_data('CA')"
     ],
     "language": "python",
     "metadata": {},
     "outputs": [
      {
       "output_type": "stream",
       "stream": "stdout",
       "text": [
        "2013: ['far below basic' 'below basic' 'advanced' 'basic' 'proficient' None]\n",
        "2012: ['far below basic' 'below basic' 'advanced' 'basic' 'proficient' None]"
       ]
      },
      {
       "output_type": "stream",
       "stream": "stdout",
       "text": [
        "\n",
        "2011: ['far below basic' 'below basic' 'advanced' 'basic' 'proficient' None]"
       ]
      },
      {
       "output_type": "stream",
       "stream": "stdout",
       "text": [
        "\n",
        "2010: ['far below basic' 'below basic' 'advanced' 'basic' 'proficient' None]"
       ]
      },
      {
       "output_type": "stream",
       "stream": "stdout",
       "text": [
        "\n",
        "2009: ['far below basic' 'below basic' 'advanced' 'basic' 'proficient' None]"
       ]
      },
      {
       "output_type": "stream",
       "stream": "stdout",
       "text": [
        "\n",
        "2008: ['far below basic' 'below basic' 'advanced' 'basic' 'proficient' None]"
       ]
      },
      {
       "output_type": "stream",
       "stream": "stdout",
       "text": [
        "\n",
        "2007: ['far below basic' 'below basic' 'advanced' 'basic' 'proficient' None]"
       ]
      },
      {
       "output_type": "stream",
       "stream": "stdout",
       "text": [
        "\n",
        "2006: ['far below basic' 'below basic' 'advanced' 'basic' 'proficient' None]"
       ]
      },
      {
       "output_type": "stream",
       "stream": "stdout",
       "text": [
        "\n",
        "2005: []"
       ]
      },
      {
       "output_type": "stream",
       "stream": "stdout",
       "text": [
        "\n",
        "2004: []"
       ]
      },
      {
       "output_type": "stream",
       "stream": "stdout",
       "text": [
        "\n",
        "2003: []"
       ]
      },
      {
       "output_type": "stream",
       "stream": "stdout",
       "text": [
        "\n",
        "None\n"
       ]
      }
     ],
     "prompt_number": 5
    },
    {
     "cell_type": "code",
     "collapsed": false,
     "input": [
      "names = ['proficient', 'advanced']\n",
      "zscores_df, means_df = build_ful_dfs(ca_g4, 'CA', 2006, 2013, names)\n",
      "ca_g4 = None"
     ],
     "language": "python",
     "metadata": {},
     "outputs": [
      {
       "output_type": "stream",
       "stream": "stdout",
       "text": [
        "                  2006      2007      2008      2009      2010      2011      2012      2013 State\n",
        "nces_code                                                                                         \n",
        "01618              NaN       NaN       NaN       NaN       NaN       NaN       NaN -2.353310    CA\n",
        "01785              NaN       NaN       NaN       NaN       NaN       NaN       NaN -0.458437    CA\n",
        "05171              NaN       NaN       NaN       NaN       NaN       NaN       NaN -1.191936    CA\n",
        "060000106294  0.046115 -0.127992 -0.579329  0.416476  0.348486  0.759509 -0.478953 -1.253061    CA\n",
        "060000107534  0.357745 -0.075014  0.361910  0.819013  0.171198  0.128898  0.191426  0.030562    CA\n",
        "   Year         CA\n",
        "0  2013  72.500723\n",
        "1  2012  70.694859\n",
        "2  2011  71.546365\n",
        "3  2010  68.563789\n",
        "4  2009  65.920490\n",
        "5  2008  61.637839\n",
        "6  2007  57.205216\n",
        "7  2006  54.620344\n",
        "zcores_df shape: (5624, 9)\n"
       ]
      }
     ],
     "prompt_number": 6
    },
    {
     "cell_type": "markdown",
     "metadata": {},
     "source": [
      "<b>2. Texas</b>\n",
      "\n",
      "In 2012 and 2013 Texas used the State of Texas Assessments of Academic Readiness (STAAR). There were two Levels in our dataset, Level 1: Unsatisfactory Academic Performance and Level 2: Satisfactory Academic Performance. We use the proportion of students achieiving Level 2. For 2008-2011 Texas used the Texas Assessment of Knowledge and Skills (TAKS). We look at the proportion of students meeting standards or commentded. Proficiency levels are not available prior to 2008, although scorse are available for 2006-2007."
     ]
    },
    {
     "cell_type": "code",
     "collapsed": false,
     "input": [
      "tx_g4 = get_data('TX')"
     ],
     "language": "python",
     "metadata": {},
     "outputs": [
      {
       "output_type": "stream",
       "stream": "stdout",
       "text": [
        "2013: ['Level 1' 'Level 2' None]\n",
        "2012: ['Level 1' 'Level 2' None]"
       ]
      },
      {
       "output_type": "stream",
       "stream": "stdout",
       "text": [
        "\n",
        "2011: [None 'commended' 'below standard' 'meets standard']"
       ]
      },
      {
       "output_type": "stream",
       "stream": "stdout",
       "text": [
        "\n",
        "2010: [None 'commended' 'below standard' 'meets standard']"
       ]
      },
      {
       "output_type": "stream",
       "stream": "stdout",
       "text": [
        "\n",
        "2009: [None 'commended' 'below standard' 'meets standard']"
       ]
      },
      {
       "output_type": "stream",
       "stream": "stdout",
       "text": [
        "\n",
        "2008: [None 'commended' 'below standard' 'meets standard']"
       ]
      },
      {
       "output_type": "stream",
       "stream": "stdout",
       "text": [
        "\n",
        "2007: [None]"
       ]
      },
      {
       "output_type": "stream",
       "stream": "stdout",
       "text": [
        "\n",
        "2006: [None]"
       ]
      },
      {
       "output_type": "stream",
       "stream": "stdout",
       "text": [
        "\n",
        "2005: []"
       ]
      },
      {
       "output_type": "stream",
       "stream": "stdout",
       "text": [
        "\n",
        "2004: []"
       ]
      },
      {
       "output_type": "stream",
       "stream": "stdout",
       "text": [
        "\n",
        "2003: []"
       ]
      },
      {
       "output_type": "stream",
       "stream": "stdout",
       "text": [
        "\n",
        "None\n"
       ]
      }
     ],
     "prompt_number": 7
    },
    {
     "cell_type": "code",
     "collapsed": false,
     "input": [
      "names = ['meets standard','commended']\n",
      "names_later = ['Level 2']\n",
      "zscores_df, means_df = build_ful_dfs(tx_g4, 'TX', 2008, 2011, names, 2012, 2013, names_later)\n",
      "tx_g4 = None"
     ],
     "language": "python",
     "metadata": {},
     "outputs": [
      {
       "output_type": "stream",
       "stream": "stdout",
       "text": [
        "              2006  2007      2008      2009      2010      2011      2012  \\\n",
        "nces_code                                                                    \n",
        "480000101145   NaN   NaN -1.623419 -1.354932 -0.573304 -0.334941  1.270581   \n",
        "480000204732   NaN   NaN  1.412626  0.533371 -0.424542 -0.541055  1.604309   \n",
        "480000304219   NaN   NaN       NaN       NaN       NaN       NaN       NaN   \n",
        "480000500513   NaN   NaN -1.642805 -1.341840 -0.649400  0.305170  0.046908   \n",
        "480000600274   NaN   NaN  0.982182 -0.188170  1.156973  1.177748  0.269394   \n",
        "\n",
        "                  2013 State  \n",
        "nces_code                     \n",
        "480000101145 -1.187771    TX  \n",
        "480000204732  0.695017    TX  \n",
        "480000304219 -2.516798    TX  \n",
        "480000500513 -1.077019    TX  \n",
        "480000600274 -0.523258    TX  \n",
        "   Year         CA         TX\n",
        "0  2013  72.500723  68.383013\n",
        "1  2012  70.694859  68.214882\n",
        "2  2011  71.546365  88.361365\n",
        "3  2010  68.563789  88.179562\n",
        "4  2009  65.920490  86.106163\n",
        "5  2008  61.637839  84.381137\n",
        "6  2007  57.205216        NaN\n",
        "7  2006  54.620344        NaN\n",
        "zcores_df shape: (9921, 9)\n"
       ]
      }
     ],
     "prompt_number": 8
    },
    {
     "cell_type": "markdown",
     "metadata": {},
     "source": [
      "<b>3. New York</b>\n",
      "\n",
      "For 2012 and 2013 NY switched to a new assessment designed to a align to national Common Core standards that will be introduced in the next few years. We look at the proportion of students who are Level 3 (proficient) or Level 4 (excel). For the previous test in 2011, we look at the proportion of students who meet or exceed the proficiency standard. No data are available prior to 2011."
     ]
    },
    {
     "cell_type": "code",
     "collapsed": false,
     "input": [
      "ny_g4 = get_data('NY')"
     ],
     "language": "python",
     "metadata": {},
     "outputs": [
      {
       "output_type": "stream",
       "stream": "stdout",
       "text": [
        "2013: ['% level 1' '% level 2' '% level 3' '% level 4' None]\n",
        "2012: ['% level 1' '% level 2' '% level 3' '% level 4' None]"
       ]
      },
      {
       "output_type": "stream",
       "stream": "stdout",
       "text": [
        "\n",
        "2011: ['below standard' 'meets basic standard' 'meets proficiency standard'\n",
        " 'exceeds proficiency standard' None]"
       ]
      },
      {
       "output_type": "stream",
       "stream": "stdout",
       "text": [
        "\n",
        "2010: []"
       ]
      },
      {
       "output_type": "stream",
       "stream": "stdout",
       "text": [
        "\n",
        "2009: []"
       ]
      },
      {
       "output_type": "stream",
       "stream": "stdout",
       "text": [
        "\n",
        "2008: []"
       ]
      },
      {
       "output_type": "stream",
       "stream": "stdout",
       "text": [
        "\n",
        "2007: []\n",
        "2006: []"
       ]
      },
      {
       "output_type": "stream",
       "stream": "stdout",
       "text": [
        "\n",
        "2005: []"
       ]
      },
      {
       "output_type": "stream",
       "stream": "stdout",
       "text": [
        "\n",
        "2004: []"
       ]
      },
      {
       "output_type": "stream",
       "stream": "stdout",
       "text": [
        "\n",
        "2003: []\n",
        "None\n"
       ]
      }
     ],
     "prompt_number": 9
    },
    {
     "cell_type": "code",
     "collapsed": false,
     "input": [
      "names = ['meets proficiency standard', 'exceeds proficiency standard']\n",
      "names_later = ['% level 3', '% level 4']\n",
      "zscores_df, means_df = build_ful_dfs(ny_g4, 'NY', 2011, 2011, names, 2012, 2013, names_later)\n",
      "ny_g4 = None"
     ],
     "language": "python",
     "metadata": {},
     "outputs": [
      {
       "output_type": "stream",
       "stream": "stdout",
       "text": [
        "              2006  2007  2008  2009  2010      2011      2012      2013 State\n",
        "nces_code                                                                     \n",
        "360000104540   NaN   NaN   NaN   NaN   NaN  0.176025 -0.212574 -0.934719    NY\n",
        "360000204541   NaN   NaN   NaN   NaN   NaN -0.136297 -0.265966 -0.092735    NY\n",
        "360000304542   NaN   NaN   NaN   NaN   NaN -2.218444 -1.173631 -1.276466    NY\n",
        "360000404577   NaN   NaN   NaN   NaN   NaN  0.592454  0.588307 -0.162075    NY\n",
        "360000504421   NaN   NaN   NaN   NaN   NaN  0.488347  0.000994  0.313399    NY\n",
        "   Year         CA         TX         NY\n",
        "0  2013  72.500723  68.383013  36.930222\n",
        "1  2012  70.694859  68.214882  69.993086\n",
        "2  2011  71.546365  88.361365  67.490980\n",
        "3  2010  68.563789  88.179562        NaN\n",
        "4  2009  65.920490  86.106163        NaN\n",
        "5  2008  61.637839  84.381137        NaN\n",
        "6  2007  57.205216        NaN        NaN\n",
        "7  2006  54.620344        NaN        NaN\n",
        "zcores_df shape: (12261, 9)\n"
       ]
      }
     ],
     "prompt_number": 10
    },
    {
     "cell_type": "markdown",
     "metadata": {},
     "source": [
      "<b>4. Florida</b>\n",
      "\n",
      "Florida uses the Florida Comprehensive Assessment Test (FCAT). There are 5 Levels. Florida considers scores of level 3 and higher to be on or above grade level. The goal is for all students to score at or above level 3. "
     ]
    },
    {
     "cell_type": "code",
     "collapsed": false,
     "input": [
      "fl_g4 = get_data('FL')"
     ],
     "language": "python",
     "metadata": {},
     "outputs": [
      {
       "output_type": "stream",
       "stream": "stdout",
       "text": [
        "2013: [None '% level 4' '% level 1' '% level 3' '% level 2' '% level 5']\n",
        "2012: [None '% level 4' '% level 1' '% level 3' '% level 2' '% level 5']"
       ]
      },
      {
       "output_type": "stream",
       "stream": "stdout",
       "text": [
        "\n",
        "2011: [None '% level 4' '% level 1' '% level 3' '% level 2' '% level 5']"
       ]
      },
      {
       "output_type": "stream",
       "stream": "stdout",
       "text": [
        "\n",
        "2010: [None]\n",
        "2009: []"
       ]
      },
      {
       "output_type": "stream",
       "stream": "stdout",
       "text": [
        "\n",
        "2008: []\n",
        "2007: []"
       ]
      },
      {
       "output_type": "stream",
       "stream": "stdout",
       "text": [
        "\n",
        "2006: []\n",
        "2005: []"
       ]
      },
      {
       "output_type": "stream",
       "stream": "stdout",
       "text": [
        "\n",
        "2004: []\n",
        "2003: []"
       ]
      },
      {
       "output_type": "stream",
       "stream": "stdout",
       "text": [
        "\n",
        "None\n"
       ]
      }
     ],
     "prompt_number": 11
    },
    {
     "cell_type": "code",
     "collapsed": false,
     "input": [
      "names = ['% level 3', '% level 4','% level 5']\n",
      "zscores_df, means_df = build_ful_dfs(fl_g4, 'FL', 2011, 2013, names)\n",
      "fl_g4 = None"
     ],
     "language": "python",
     "metadata": {},
     "outputs": [
      {
       "output_type": "stream",
       "stream": "stdout",
       "text": [
        "              2006  2007  2008  2009  2010      2011      2012      2013 State\n",
        "nces_code                                                                     \n",
        "120003000001   NaN   NaN   NaN   NaN   NaN -1.485386 -1.889053 -2.117573    FL\n",
        "120003000002   NaN   NaN   NaN   NaN   NaN  0.181160  0.087610  0.041127    FL\n",
        "120003000003   NaN   NaN   NaN   NaN   NaN  1.560371  0.785256  1.091306    FL\n",
        "120003000004   NaN   NaN   NaN   NaN   NaN       NaN -3.342482       NaN    FL\n",
        "120003000005   NaN   NaN   NaN   NaN   NaN -1.830189 -2.063465 -1.184081    FL\n",
        "   Year         CA         TX         NY         FL\n",
        "0  2013  72.500723  68.383013  36.930222  61.525623\n",
        "1  2012  70.694859  68.214882  69.993086  59.828726\n",
        "2  2011  71.546365  88.361365  67.490980  58.195214\n",
        "3  2010  68.563789  88.179562        NaN        NaN\n",
        "4  2009  65.920490  86.106163        NaN        NaN\n",
        "5  2008  61.637839  84.381137        NaN        NaN\n",
        "6  2007  57.205216        NaN        NaN        NaN\n",
        "7  2006  54.620344        NaN        NaN        NaN\n",
        "zcores_df shape: (14297, 9)\n"
       ]
      }
     ],
     "prompt_number": 12
    },
    {
     "cell_type": "code",
     "collapsed": false,
     "input": [
      "##Very weird that results don't go back prior to 2010. They are listed as having this data, and I have used it before.\n",
      "#Maybe it is an issue with pulling data by grade?\n",
      "cnx = mysql_ops()\n",
      "fl_g4_2006 = cnx.get_results_state_year('FL','2006')\n",
      "fl_g4_2006\n",
      "\n",
      "##We confirmed in the original data supplied by GS that there is no results data prior to 2011."
     ],
     "language": "python",
     "metadata": {},
     "outputs": [
      {
       "output_type": "stream",
       "stream": "stdout",
       "text": [
        "no rows returned\n"
       ]
      }
     ],
     "prompt_number": 13
    },
    {
     "cell_type": "markdown",
     "metadata": {},
     "source": [
      "<b>5. Illinois</b>\n",
      "\n",
      "Illinois used the Illinois Standards Achievement Test (ISAT). We look at the proportion of students who meet or exceed the state standard."
     ]
    },
    {
     "cell_type": "code",
     "collapsed": false,
     "input": [
      "il_g4 = get_data('IL')"
     ],
     "language": "python",
     "metadata": {},
     "outputs": [
      {
       "output_type": "stream",
       "stream": "stdout",
       "text": [
        "2013: []\n",
        "2012: ['academic warning' 'below' 'meets' 'exceeds' None]"
       ]
      },
      {
       "output_type": "stream",
       "stream": "stdout",
       "text": [
        "\n",
        "2011: ['academic warning' 'below' 'meets' 'exceeds' None]"
       ]
      },
      {
       "output_type": "stream",
       "stream": "stdout",
       "text": [
        "\n",
        "2010: ['academic warning' 'below' 'meets' 'exceeds' None]"
       ]
      },
      {
       "output_type": "stream",
       "stream": "stdout",
       "text": [
        "\n",
        "2009: [None]"
       ]
      },
      {
       "output_type": "stream",
       "stream": "stdout",
       "text": [
        "\n",
        "2008: [None]"
       ]
      },
      {
       "output_type": "stream",
       "stream": "stdout",
       "text": [
        "\n",
        "2007: [None]"
       ]
      },
      {
       "output_type": "stream",
       "stream": "stdout",
       "text": [
        "\n",
        "2006: [None]"
       ]
      },
      {
       "output_type": "stream",
       "stream": "stdout",
       "text": [
        "\n",
        "2005: []\n",
        "2004: []"
       ]
      },
      {
       "output_type": "stream",
       "stream": "stdout",
       "text": [
        "\n",
        "2003: []\n",
        "None\n"
       ]
      }
     ],
     "prompt_number": 14
    },
    {
     "cell_type": "code",
     "collapsed": false,
     "input": [
      "names = ['meets', 'exceeds']\n",
      "zscores_df, means_df = build_ful_dfs(il_g4, 'IL', 2010, 2012, names)\n",
      "il_g4 = None"
     ],
     "language": "python",
     "metadata": {},
     "outputs": [
      {
       "output_type": "stream",
       "stream": "stdout",
       "text": [
        "              2006  2007  2008  2009      2010      2011      2012  2013 State\n",
        "nces_code                                                                     \n",
        "170000105651   NaN   NaN   NaN   NaN  0.969040  1.181660  1.149705   NaN    IL\n",
        "170000205089   NaN   NaN   NaN   NaN  0.944750  0.385056  0.710108   NaN    IL\n",
        "170000305123   NaN   NaN   NaN   NaN  0.920460  1.005666  0.783374   NaN    IL\n",
        "170000403009   NaN   NaN   NaN   NaN  0.766623  0.718518  0.627683   NaN    IL\n",
        "170000405125   NaN   NaN   NaN   NaN -1.710952 -0.958056  0.444518   NaN    IL\n",
        "   Year         CA         TX         NY         FL         IL\n",
        "0  2013  72.500723  68.383013  36.930222  61.525623        NaN\n",
        "1  2012  70.694859  68.214882  69.993086  59.828726  87.221695\n",
        "2  2011  71.546365  88.361365  67.490980  58.195214  86.714188\n",
        "3  2010  68.563789  88.179562        NaN        NaN  84.571926\n",
        "4  2009  65.920490  86.106163        NaN        NaN        NaN\n",
        "5  2008  61.637839  84.381137        NaN        NaN        NaN\n",
        "6  2007  57.205216        NaN        NaN        NaN        NaN\n",
        "7  2006  54.620344        NaN        NaN        NaN        NaN\n",
        "zcores_df shape: (16493, 9)\n"
       ]
      }
     ],
     "prompt_number": 15
    },
    {
     "cell_type": "markdown",
     "metadata": {},
     "source": [
      "<b>6. Pennsylvania</b>"
     ]
    },
    {
     "cell_type": "code",
     "collapsed": false,
     "input": [
      "pa_g4 = get_data('PA')"
     ],
     "language": "python",
     "metadata": {},
     "outputs": [
      {
       "output_type": "stream",
       "stream": "stdout",
       "text": [
        "2013: [None]\n",
        "2012: ['below basic' 'basic' 'proficient' 'advanced' None]"
       ]
      },
      {
       "output_type": "stream",
       "stream": "stdout",
       "text": [
        "\n",
        "2011: ['below basic' 'basic' 'proficient' 'advanced' None]"
       ]
      },
      {
       "output_type": "stream",
       "stream": "stdout",
       "text": [
        "\n",
        "2010: ['below basic' 'basic' 'proficient' 'advanced' None]"
       ]
      },
      {
       "output_type": "stream",
       "stream": "stdout",
       "text": [
        "\n",
        "2009: [None 'proficient' 'advanced' 'basic' 'below basic']"
       ]
      },
      {
       "output_type": "stream",
       "stream": "stdout",
       "text": [
        "\n",
        "2008: []\n",
        "2007: []"
       ]
      },
      {
       "output_type": "stream",
       "stream": "stdout",
       "text": [
        "\n",
        "2006: []\n",
        "2005: []"
       ]
      },
      {
       "output_type": "stream",
       "stream": "stdout",
       "text": [
        "\n",
        "2004: []\n",
        "2003: []"
       ]
      },
      {
       "output_type": "stream",
       "stream": "stdout",
       "text": [
        "\n",
        "None\n"
       ]
      }
     ],
     "prompt_number": 16
    },
    {
     "cell_type": "code",
     "collapsed": false,
     "input": [
      "#print pa_g4[pa_g4['nces_code']=='390501203842']"
     ],
     "language": "python",
     "metadata": {},
     "outputs": [],
     "prompt_number": 17
    },
    {
     "cell_type": "code",
     "collapsed": false,
     "input": [
      "names = ['proficient', 'advanced']\n",
      "zscores_df, means_df = build_ful_dfs(pa_g4, 'PA', 2009, 2012, names)\n",
      "pa_g4 = None"
     ],
     "language": "python",
     "metadata": {},
     "outputs": [
      {
       "output_type": "stream",
       "stream": "stdout",
       "text": [
        "              2006  2007  2008      2009      2010      2011      2012  2013 State\n",
        "nces_code                                                                         \n",
        "01197606       NaN   NaN   NaN       NaN       NaN       NaN  1.078058   NaN    PA\n",
        "01200519       NaN   NaN   NaN       NaN       NaN       NaN  0.535332   NaN    PA\n",
        "01202527       NaN   NaN   NaN       NaN       NaN       NaN -0.062277   NaN    PA\n",
        "420000407134   NaN   NaN   NaN  0.190006       NaN       NaN       NaN   NaN    PA\n",
        "420001300318   NaN   NaN   NaN -3.458623 -2.653241 -2.895552 -0.769650   NaN    PA\n",
        "   Year         CA         TX         NY         FL         IL         PA\n",
        "0  2013  72.500723  68.383013  36.930222  61.525623        NaN        NaN\n",
        "1  2012  70.694859  68.214882  69.993086  59.828726  87.221695  83.469164\n",
        "2  2011  71.546365  88.361365  67.490980  58.195214  86.714188  86.045621\n",
        "3  2010  68.563789  88.179562        NaN        NaN  84.571926  85.563673\n",
        "4  2009  65.920490  86.106163        NaN        NaN        NaN  82.639457\n",
        "5  2008  61.637839  84.381137        NaN        NaN        NaN        NaN\n",
        "6  2007  57.205216        NaN        NaN        NaN        NaN        NaN\n",
        "7  2006  54.620344        NaN        NaN        NaN        NaN        NaN\n",
        "zcores_df shape: (18286, 9)\n"
       ]
      }
     ],
     "prompt_number": 18
    },
    {
     "cell_type": "markdown",
     "metadata": {},
     "source": [
      "<b>7. Ohio</b>\n",
      "\n",
      "Scores instead of levels."
     ]
    },
    {
     "cell_type": "code",
     "collapsed": false,
     "input": [
      "oh_g4 = get_data('OH')\n",
      "print oh_g4.head()\n",
      "oh_g4=None"
     ],
     "language": "python",
     "metadata": {},
     "outputs": [
      {
       "output_type": "stream",
       "stream": "stdout",
       "text": [
        "2013: [None]\n",
        "2012: [None]\n",
        "2011: [None]\n",
        "2010: [None]"
       ]
      },
      {
       "output_type": "stream",
       "stream": "stdout",
       "text": [
        "\n",
        "2009: []\n",
        "2008: []\n",
        "2007: []\n",
        "2006: []\n",
        "2005: []\n",
        "2004: []\n",
        "2003: []\n",
        "None\n",
        "             city county grade_name level  \\\n",
        "0  College Corner  Union          4   K-5   \n",
        "1  College Corner  Union          4   K-5   \n",
        "2  College Corner  Union          4   K-5   \n",
        "3  College Corner  Union          4   K-5   \n",
        "4  College Corner  Union          4   K-5   \n",
        "\n",
        "                                     name     nces_code number_tested  \\\n",
        "0  College Corner Union Elementary School  181161001870            46   \n",
        "1  College Corner Union Elementary School  181161001870            46   \n",
        "2  College Corner Union Elementary School  181161001870            46   \n",
        "3  College Corner Union Elementary School  181161001870            37   \n",
        "4  College Corner Union Elementary School  181161001870            38   \n",
        "\n",
        "  proficiency_band_name    score state           subject_name  test-id  \\\n",
        "0                  None     89.0    OH  English/Language Arts  IN00049   \n",
        "1                  None     89.0    OH                   Math  IN00049   \n",
        "2                  None     87.0    OH                Science  IN00049   \n",
        "3                  None  81.0811    OH  English/Language Arts  IN00049   \n",
        "4                  None  84.2105    OH                   Math  IN00049   \n",
        "\n",
        "     type universal_id  year  \n",
        "0  public      1802907  2010  \n",
        "1  public      1802907  2010  \n",
        "2  public      1802907  2010  \n",
        "3  public      1802907  2012  \n",
        "4  public      1802907  2012  "
       ]
      },
      {
       "output_type": "stream",
       "stream": "stdout",
       "text": [
        "\n"
       ]
      }
     ],
     "prompt_number": 19
    },
    {
     "cell_type": "markdown",
     "metadata": {},
     "source": [
      "<b>8. Georgia</b>"
     ]
    },
    {
     "cell_type": "code",
     "collapsed": false,
     "input": [
      "ga_g4 = get_data('GA')"
     ],
     "language": "python",
     "metadata": {},
     "outputs": [
      {
       "output_type": "stream",
       "stream": "stdout",
       "text": [
        "2013: ['not meeting' 'meeting' 'exceeding' None]\n",
        "2012: ['not meeting' 'meeting' 'exceeding' None]"
       ]
      },
      {
       "output_type": "stream",
       "stream": "stdout",
       "text": [
        "\n",
        "2011: ['not meeting' 'meeting' 'exceeding' None]"
       ]
      },
      {
       "output_type": "stream",
       "stream": "stdout",
       "text": [
        "\n",
        "2010: ['not meeting' 'meeting' 'exceeding' None]"
       ]
      },
      {
       "output_type": "stream",
       "stream": "stdout",
       "text": [
        "\n",
        "2009: []\n",
        "2008: []"
       ]
      },
      {
       "output_type": "stream",
       "stream": "stdout",
       "text": [
        "\n",
        "2007: []\n",
        "2006: []"
       ]
      },
      {
       "output_type": "stream",
       "stream": "stdout",
       "text": [
        "\n",
        "2005: []\n",
        "2004: []"
       ]
      },
      {
       "output_type": "stream",
       "stream": "stdout",
       "text": [
        "\n",
        "2003: []\n",
        "None\n"
       ]
      }
     ],
     "prompt_number": 20
    },
    {
     "cell_type": "code",
     "collapsed": false,
     "input": [
      "names = ['meeting', 'exceeding']\n",
      "zscores_df, means_df = build_ful_dfs(ga_g4, 'GA', 2010, 2013, names)\n",
      "ga_g4 = None"
     ],
     "language": "python",
     "metadata": {},
     "outputs": [
      {
       "output_type": "stream",
       "stream": "stdout",
       "text": [
        "              2006  2007  2008  2009      2010      2011      2012      2013  \\\n",
        "nces_code                                                                      \n",
        "130000100596   NaN   NaN   NaN   NaN -0.002675  0.313776  0.176311  0.743492   \n",
        "130000100609   NaN   NaN   NaN   NaN -1.095439 -0.137056 -0.672199 -2.201727   \n",
        "130000100641   NaN   NaN   NaN   NaN -0.818982 -1.408256       NaN       NaN   \n",
        "130000100643   NaN   NaN   NaN   NaN -0.000685 -0.513982 -0.387044 -0.887706   \n",
        "130000101706   NaN   NaN   NaN   NaN  1.041936  0.853297  0.405826  0.365900   \n",
        "\n",
        "             State  \n",
        "nces_code           \n",
        "130000100596    GA  \n",
        "130000100609    GA  \n",
        "130000100641    GA  \n",
        "130000100643    GA  \n",
        "130000101706    GA  \n",
        "   Year         CA         TX         NY         FL         IL         PA         GA\n",
        "0  2013  72.500723  68.383013  36.930222  61.525623        NaN        NaN  84.419812\n",
        "1  2012  70.694859  68.214882  69.993086  59.828726  87.221695  83.469164  80.343068\n",
        "2  2011  71.546365  88.361365  67.490980  58.195214  86.714188  86.045621  81.197801\n",
        "3  2010  68.563789  88.179562        NaN        NaN  84.571926  85.563673  77.144024\n",
        "4  2009  65.920490  86.106163        NaN        NaN        NaN  82.639457        NaN\n",
        "5  2008  61.637839  84.381137        NaN        NaN        NaN        NaN        NaN\n",
        "6  2007  57.205216        NaN        NaN        NaN        NaN        NaN        NaN\n",
        "7  2006  54.620344        NaN        NaN        NaN        NaN        NaN        NaN\n",
        "zcores_df shape: (19538, 9)\n"
       ]
      }
     ],
     "prompt_number": 21
    },
    {
     "cell_type": "markdown",
     "metadata": {},
     "source": [
      "<b>9. Michigan</b>"
     ]
    },
    {
     "cell_type": "code",
     "collapsed": false,
     "input": [
      "mi_g4 = get_data('MI')"
     ],
     "language": "python",
     "metadata": {},
     "outputs": [
      {
       "output_type": "stream",
       "stream": "stdout",
       "text": [
        "2013: ['proficient' None]\n",
        "2012: ['not proficient' 'partially proficient' 'proficient' 'advanced' None]"
       ]
      },
      {
       "output_type": "stream",
       "stream": "stdout",
       "text": [
        "\n",
        "2011: ['not proficient' 'partially proficient' 'proficient' 'advanced' None\n",
        " '% level 1' '% level 2' '% level 3' '% level 4']"
       ]
      },
      {
       "output_type": "stream",
       "stream": "stdout",
       "text": [
        "\n",
        "2010: [None 'not proficient' 'partially proficient' 'proficient' 'advanced'\n",
        " '% level 1' '% level 2' '% level 3' '% level 4']"
       ]
      },
      {
       "output_type": "stream",
       "stream": "stdout",
       "text": [
        "\n",
        "2009: [None 'not proficient' 'partially proficient' 'proficient' 'advanced']"
       ]
      },
      {
       "output_type": "stream",
       "stream": "stdout",
       "text": [
        "\n",
        "2008: [None 'not proficient' 'partially proficient' 'proficient' 'advanced']"
       ]
      },
      {
       "output_type": "stream",
       "stream": "stdout",
       "text": [
        "\n",
        "2007: []\n",
        "2006: []"
       ]
      },
      {
       "output_type": "stream",
       "stream": "stdout",
       "text": [
        "\n",
        "2005: []\n",
        "2004: []"
       ]
      },
      {
       "output_type": "stream",
       "stream": "stdout",
       "text": [
        "\n",
        "2003: []\n",
        "None\n"
       ]
      }
     ],
     "prompt_number": 22
    },
    {
     "cell_type": "markdown",
     "metadata": {},
     "source": [
      "Beginning in the 2011-2012 school year, the Michigan State Board of Education implemented new definitions of what it means to be proficient on the MEAP test. In addition, they have recalculated past years' results using these new standards for proficiency, making the above year-over-year results comparable. We need to drop all of the results prior to recalculation"
     ]
    },
    {
     "cell_type": "code",
     "collapsed": false,
     "input": [
      "##Drop exams with results given in levels, rather than proficiency\n",
      "#mi_g4_11 = mi_g4[mi_g4['year']=='2011']\n",
      "#print mi_g4_11[mi_g4_11['proficiency_band_name']=='proficient'][:2]\n",
      "#print mi_g4_11[mi_g4_11['proficiency_band_name']=='% level 4'][:2]\n",
      "\n",
      "mask1 = mi_g4['test-id']=='MI00195'\n",
      "mask2 = mi_g4['year']=='2011'\n",
      "mask3 = mi_g4['year']=='2010'\n",
      "mask4 = [any(tup) for tup in zip(mask2, mask3)]  ##True if either 2010 or 2011\n",
      "mask5 = [all(tup) for tup in zip(mask1, mask4)]  \n",
      "mask6 = [not x for x in mask5]\n",
      "\n",
      "mi_g4 = mi_g4[mask6]\n",
      "quick_look(mi_g4)"
     ],
     "language": "python",
     "metadata": {},
     "outputs": [
      {
       "output_type": "stream",
       "stream": "stdout",
       "text": [
        "2013: ['proficient' None]\n",
        "2012: ['not proficient' 'partially proficient' 'proficient' 'advanced' None]"
       ]
      },
      {
       "output_type": "stream",
       "stream": "stdout",
       "text": [
        "\n",
        "2011: ['not proficient' 'partially proficient' 'proficient' 'advanced' None]"
       ]
      },
      {
       "output_type": "stream",
       "stream": "stdout",
       "text": [
        "\n",
        "2010: [None 'not proficient' 'partially proficient' 'proficient' 'advanced']"
       ]
      },
      {
       "output_type": "stream",
       "stream": "stdout",
       "text": [
        "\n",
        "2009: [None 'not proficient' 'partially proficient' 'proficient' 'advanced']"
       ]
      },
      {
       "output_type": "stream",
       "stream": "stdout",
       "text": [
        "\n",
        "2008: [None 'not proficient' 'partially proficient' 'proficient' 'advanced']"
       ]
      },
      {
       "output_type": "stream",
       "stream": "stdout",
       "text": [
        "\n",
        "2007: []\n",
        "2006: []"
       ]
      },
      {
       "output_type": "stream",
       "stream": "stdout",
       "text": [
        "\n",
        "2005: []"
       ]
      },
      {
       "output_type": "stream",
       "stream": "stdout",
       "text": [
        "\n",
        "2004: []\n",
        "2003: []"
       ]
      },
      {
       "output_type": "stream",
       "stream": "stdout",
       "text": [
        "\n"
       ]
      }
     ],
     "prompt_number": 23
    },
    {
     "cell_type": "code",
     "collapsed": false,
     "input": [
      "names = ['proficient', 'advanced']\n",
      "names_later = ['proficient']\n",
      "zscores_df, means_df = build_ful_dfs(mi_g4, 'MI', 2008, 2012, names, 2013, 2013, names_later)\n",
      "mi_g4 = None"
     ],
     "language": "python",
     "metadata": {},
     "outputs": [
      {
       "output_type": "stream",
       "stream": "stdout",
       "text": [
        "           2006  2007  2008  2009  2010  2011      2012      2013 State\n",
        "nces_code                                                              \n",
        "00636996    NaN   NaN   NaN   NaN   NaN   NaN  0.600575       NaN    MI\n",
        "00637184    NaN   NaN   NaN   NaN   NaN   NaN  0.639383  0.345297    MI\n",
        "00637606    NaN   NaN   NaN   NaN   NaN   NaN  0.435641       NaN    MI\n",
        "00637912    NaN   NaN   NaN   NaN   NaN   NaN -0.752852       NaN    MI\n",
        "00639498    NaN   NaN   NaN   NaN   NaN   NaN  0.954697       NaN    MI\n",
        "   Year         CA         TX         NY         FL         IL         PA  \\\n",
        "0  2013  72.500723  68.383013  36.930222  61.525623        NaN        NaN   \n",
        "1  2012  70.694859  68.214882  69.993086  59.828726  87.221695  83.469164   \n",
        "2  2011  71.546365  88.361365  67.490980  58.195214  86.714188  86.045621   \n",
        "3  2010  68.563789  88.179562        NaN        NaN  84.571926  85.563673   \n",
        "4  2009  65.920490  86.106163        NaN        NaN        NaN  82.639457   \n",
        "5  2008  61.637839  84.381137        NaN        NaN        NaN        NaN   \n",
        "6  2007  57.205216        NaN        NaN        NaN        NaN        NaN   \n",
        "7  2006  54.620344        NaN        NaN        NaN        NaN        NaN   \n",
        "\n",
        "          GA         MI  \n",
        "0  84.419812  45.481747  \n",
        "1  80.343068  40.579556  \n",
        "2  81.197801  91.970018  \n",
        "3  77.144024  93.024078  \n",
        "4        NaN  88.986695  \n",
        "5        NaN  87.231740  \n",
        "6        NaN        NaN  \n",
        "7        NaN        NaN  \n",
        "zcores_df shape: (21222, 9)\n"
       ]
      }
     ],
     "prompt_number": 24
    },
    {
     "cell_type": "markdown",
     "metadata": {},
     "source": [
      "<b>10. North Carolina</b>"
     ]
    },
    {
     "cell_type": "code",
     "collapsed": false,
     "input": [
      "nc_g4 = get_data('NC')"
     ],
     "language": "python",
     "metadata": {},
     "outputs": [
      {
       "output_type": "stream",
       "stream": "stdout",
       "text": [
        "2013: []\n",
        "2012: ['% level 1' '% level 2' '% level 3' '% level 4' None]"
       ]
      },
      {
       "output_type": "stream",
       "stream": "stdout",
       "text": [
        "\n",
        "2011: ['% level 1' '% level 2' '% level 3' '% level 4' None]"
       ]
      },
      {
       "output_type": "stream",
       "stream": "stdout",
       "text": [
        "\n",
        "2010: ['% level 1' '% level 2' '% level 3' '% level 4' None]"
       ]
      },
      {
       "output_type": "stream",
       "stream": "stdout",
       "text": [
        "\n",
        "2009: ['% level 1' '% level 2' '% level 3' '% level 4' None]"
       ]
      },
      {
       "output_type": "stream",
       "stream": "stdout",
       "text": [
        "\n",
        "2008: ['% level 1' '% level 2' '% level 3' '% level 4' None]"
       ]
      },
      {
       "output_type": "stream",
       "stream": "stdout",
       "text": [
        "\n",
        "2007: ['% level 1' None '% level 2' '% level 4' '% level 3']"
       ]
      },
      {
       "output_type": "stream",
       "stream": "stdout",
       "text": [
        "\n",
        "2006: [None '% level 1' '% level 2' '% level 3' '% level 4']"
       ]
      },
      {
       "output_type": "stream",
       "stream": "stdout",
       "text": [
        "\n",
        "2005: []\n",
        "2004: []\n",
        "2003: []"
       ]
      },
      {
       "output_type": "stream",
       "stream": "stdout",
       "text": [
        "\n",
        "None\n"
       ]
      }
     ],
     "prompt_number": 25
    },
    {
     "cell_type": "code",
     "collapsed": false,
     "input": [
      "names = ['% level 3', '% level 4']\n",
      "#zscores_df, means_df = build_ful_dfs(nc_g4, 'NC', 2006, 2007, names)\n",
      "nc_g4 = None\n",
      "\n",
      "##BUG: TypeError: only length-1 arrays can be converted to Python scalars"
     ],
     "language": "python",
     "metadata": {},
     "outputs": [],
     "prompt_number": 26
    },
    {
     "cell_type": "markdown",
     "metadata": {},
     "source": [
      "<b>11. New Jersey</b>"
     ]
    },
    {
     "cell_type": "code",
     "collapsed": false,
     "input": [
      "nj_g4 = get_data('NJ')"
     ],
     "language": "python",
     "metadata": {},
     "outputs": [
      {
       "output_type": "stream",
       "stream": "stdout",
       "text": [
        "2013: []\n",
        "2012: ['partially proficient' 'proficient' 'advanced proficient' None]"
       ]
      },
      {
       "output_type": "stream",
       "stream": "stdout",
       "text": [
        "\n",
        "2011: ['partially proficient' 'proficient' 'advanced proficient' None]"
       ]
      },
      {
       "output_type": "stream",
       "stream": "stdout",
       "text": [
        "\n",
        "2010: ['partially proficient' 'proficient' 'advanced proficient' None]"
       ]
      },
      {
       "output_type": "stream",
       "stream": "stdout",
       "text": [
        "\n",
        "2009: [None 'partially proficient' 'proficient' 'advanced proficient']"
       ]
      },
      {
       "output_type": "stream",
       "stream": "stdout",
       "text": [
        "\n",
        "2008: []\n",
        "2007: []\n",
        "2006: []"
       ]
      },
      {
       "output_type": "stream",
       "stream": "stdout",
       "text": [
        "\n",
        "2005: []\n",
        "2004: []\n",
        "2003: []"
       ]
      },
      {
       "output_type": "stream",
       "stream": "stdout",
       "text": [
        "\n",
        "None\n"
       ]
      }
     ],
     "prompt_number": 27
    },
    {
     "cell_type": "code",
     "collapsed": false,
     "input": [
      "names = ['proficient', 'advanced proficient']\n",
      "zscores_df, means_df = build_ful_dfs(nj_g4, 'NJ', 2009, 2012, names)\n",
      "nj_g4 = None"
     ],
     "language": "python",
     "metadata": {},
     "outputs": [
      {
       "output_type": "stream",
       "stream": "stdout",
       "text": [
        "              2006  2007  2008      2009      2010      2011      2012  2013  \\\n",
        "nces_code                                                                      \n",
        "340000406016   NaN   NaN   NaN  1.104917  0.835374  0.842723  0.976446   NaN   \n",
        "340000800107   NaN   NaN   NaN  0.456395  0.589364       NaN       NaN   NaN   \n",
        "340000800109   NaN   NaN   NaN  0.865988  0.858804  0.474024  0.516465   NaN   \n",
        "340000900177   NaN   NaN   NaN  1.224382  0.612794  0.812501  0.618683   NaN   \n",
        "340001100251   NaN   NaN   NaN -1.563127 -1.706729 -2.403031 -1.204207   NaN   \n",
        "\n",
        "             State  \n",
        "nces_code           \n",
        "340000406016    NJ  \n",
        "340000800107    NJ  \n",
        "340000800109    NJ  \n",
        "340000900177    NJ  \n",
        "340001100251    NJ  \n",
        "   Year         CA         TX         NY         FL         IL         PA  \\\n",
        "0  2013  72.500723  68.383013  36.930222  61.525623        NaN        NaN   \n",
        "1  2012  70.694859  68.214882  69.993086  59.828726  87.221695  83.469164   \n",
        "2  2011  71.546365  88.361365  67.490980  58.195214  86.714188  86.045621   \n",
        "3  2010  68.563789  88.179562        NaN        NaN  84.571926  85.563673   \n",
        "4  2009  65.920490  86.106163        NaN        NaN        NaN  82.639457   \n",
        "5  2008  61.637839  84.381137        NaN        NaN        NaN        NaN   \n",
        "6  2007  57.205216        NaN        NaN        NaN        NaN        NaN   \n",
        "7  2006  54.620344        NaN        NaN        NaN        NaN        NaN   \n",
        "\n",
        "          GA         MI         NJ  \n",
        "0  84.419812  45.481747        NaN  \n",
        "1  80.343068  40.579556  77.547905  \n",
        "2  81.197801  91.970018  79.655315  \n",
        "3  77.144024  93.024078  77.476831  \n",
        "4        NaN  88.986695  73.285278  \n",
        "5        NaN  87.231740        NaN  \n",
        "6        NaN        NaN        NaN  \n",
        "7        NaN        NaN        NaN  \n",
        "zcores_df shape: (22575, 9)\n"
       ]
      }
     ],
     "prompt_number": 28
    },
    {
     "cell_type": "markdown",
     "metadata": {},
     "source": [
      "<b>12. Virginia</b>"
     ]
    },
    {
     "cell_type": "code",
     "collapsed": false,
     "input": [
      "va_g4 = get_data('VA')"
     ],
     "language": "python",
     "metadata": {},
     "outputs": [
      {
       "output_type": "stream",
       "stream": "stdout",
       "text": [
        "2013: []\n",
        "2012: ['fail' 'proficient' 'advanced' None]"
       ]
      },
      {
       "output_type": "stream",
       "stream": "stdout",
       "text": [
        "\n",
        "2011: ['fail' 'proficient' 'advanced' None]"
       ]
      },
      {
       "output_type": "stream",
       "stream": "stdout",
       "text": [
        "\n",
        "2010: ['fail' 'proficient' 'advanced' None]"
       ]
      },
      {
       "output_type": "stream",
       "stream": "stdout",
       "text": [
        "\n",
        "2009: [None 'advanced' 'fail' 'proficient']"
       ]
      },
      {
       "output_type": "stream",
       "stream": "stdout",
       "text": [
        "\n",
        "2008: []\n",
        "2007: []\n",
        "2006: []\n",
        "2005: []"
       ]
      },
      {
       "output_type": "stream",
       "stream": "stdout",
       "text": [
        "\n",
        "2004: []\n",
        "2003: []\n",
        "None\n"
       ]
      }
     ],
     "prompt_number": 29
    },
    {
     "cell_type": "code",
     "collapsed": false,
     "input": [
      "names = ['proficient', 'advanced']\n",
      "zscores_df, means_df = build_ful_dfs(va_g4, 'VA', 2009, 2012, names)\n",
      "va_g4 = None"
     ],
     "language": "python",
     "metadata": {},
     "outputs": [
      {
       "output_type": "stream",
       "stream": "stdout",
       "text": [
        "              2006  2007  2008      2009      2010      2011      2012  2013  \\\n",
        "nces_code                                                                      \n",
        "510006000006   NaN   NaN   NaN  0.308820 -0.667819  0.150378  0.504590   NaN   \n",
        "510006000009   NaN   NaN   NaN -0.640326 -1.317235 -0.352704 -0.447289   NaN   \n",
        "510006000012   NaN   NaN   NaN  1.257966  0.371246  0.150378 -0.651263   NaN   \n",
        "510006001737   NaN   NaN   NaN  0.190177  0.371246  0.527689  0.368607   NaN   \n",
        "510006001738   NaN   NaN   NaN -1.826758 -0.278169 -0.604245  0.504590   NaN   \n",
        "\n",
        "             State  \n",
        "nces_code           \n",
        "510006000006    VA  \n",
        "510006000009    VA  \n",
        "510006000012    VA  \n",
        "510006001737    VA  \n",
        "510006001738    VA  \n",
        "   Year         CA         TX         NY         FL         IL         PA  \\\n",
        "0  2013  72.500723  68.383013  36.930222  61.525623        NaN        NaN   \n",
        "1  2012  70.694859  68.214882  69.993086  59.828726  87.221695  83.469164   \n",
        "2  2011  71.546365  88.361365  67.490980  58.195214  86.714188  86.045621   \n",
        "3  2010  68.563789  88.179562        NaN        NaN  84.571926  85.563673   \n",
        "4  2009  65.920490  86.106163        NaN        NaN        NaN  82.639457   \n",
        "5  2008  61.637839  84.381137        NaN        NaN        NaN        NaN   \n",
        "6  2007  57.205216        NaN        NaN        NaN        NaN        NaN   \n",
        "7  2006  54.620344        NaN        NaN        NaN        NaN        NaN   \n",
        "\n",
        "          GA         MI         NJ         VA  \n",
        "0  84.419812  45.481747        NaN        NaN  \n",
        "1  80.343068  40.579556  77.547905  71.698619  \n",
        "2  81.197801  91.970018  79.655315  89.933820  \n",
        "3  77.144024  93.024078  77.476831        NaN  \n",
        "4        NaN  88.986695  73.285278  87.692499  \n",
        "5        NaN  87.231740        NaN        NaN  \n",
        "6        NaN        NaN        NaN        NaN  \n",
        "7        NaN        NaN        NaN        NaN  \n",
        "zcores_df shape: (23690, 9)\n"
       ]
      }
     ],
     "prompt_number": 30
    },
    {
     "cell_type": "markdown",
     "metadata": {},
     "source": [
      "<b>13. Washington</b>\n",
      "\n",
      "Level 3 is Proficient, Level 4 is Advanced: http://www.k12.wa.us/assessment/StateTesting/PLD/default.aspx"
     ]
    },
    {
     "cell_type": "code",
     "collapsed": false,
     "input": [
      "wa_g4 = get_data('WA')"
     ],
     "language": "python",
     "metadata": {},
     "outputs": [
      {
       "output_type": "stream",
       "stream": "stdout",
       "text": [
        "2013: []\n",
        "2012: ['level 1' 'level 2' 'basic' 'level 3' 'level 4' None]"
       ]
      },
      {
       "output_type": "stream",
       "stream": "stdout",
       "text": [
        "\n",
        "2011: ['level 1' 'level 2' 'basic' 'level 3' 'level 4' None]"
       ]
      },
      {
       "output_type": "stream",
       "stream": "stdout",
       "text": [
        "\n",
        "2010: ['level 1' 'level 2' 'basic' 'level 3' 'level 4' None]"
       ]
      },
      {
       "output_type": "stream",
       "stream": "stdout",
       "text": [
        "\n",
        "2009: []\n",
        "2008: []\n",
        "2007: []"
       ]
      },
      {
       "output_type": "stream",
       "stream": "stdout",
       "text": [
        "\n",
        "2006: []\n",
        "2005: []\n",
        "2004: []"
       ]
      },
      {
       "output_type": "stream",
       "stream": "stdout",
       "text": [
        "\n",
        "2003: []\n",
        "None\n"
       ]
      }
     ],
     "prompt_number": 31
    },
    {
     "cell_type": "code",
     "collapsed": false,
     "input": [
      "names = ['level 3', 'level 4']\n",
      "zscores_df, means_df = build_ful_dfs(wa_g4, 'WA', 2010, 2012, names)\n",
      "wa_g4 = None"
     ],
     "language": "python",
     "metadata": {},
     "outputs": [
      {
       "output_type": "stream",
       "stream": "stdout",
       "text": [
        "              2006  2007  2008  2009      2010      2011      2012  2013 State\n",
        "nces_code                                                                     \n",
        "530000100376   NaN   NaN   NaN   NaN -0.209256  0.577035  0.871807   NaN    WA\n",
        "530000100377   NaN   NaN   NaN   NaN -0.860422  0.610207 -0.508943   NaN    WA\n",
        "530000100382   NaN   NaN   NaN   NaN  0.148885  0.803711 -0.565531   NaN    WA\n",
        "530000100383   NaN   NaN   NaN   NaN -0.567398  0.886642 -0.735295   NaN    WA\n",
        "530000100478   NaN   NaN   NaN   NaN -0.708484  0.588092  0.815219   NaN    WA\n",
        "   Year         CA         TX         NY         FL         IL         PA  \\\n",
        "0  2013  72.500723  68.383013  36.930222  61.525623        NaN        NaN   \n",
        "1  2012  70.694859  68.214882  69.993086  59.828726  87.221695  83.469164   \n",
        "2  2011  71.546365  88.361365  67.490980  58.195214  86.714188  86.045621   \n",
        "3  2010  68.563789  88.179562        NaN        NaN  84.571926  85.563673   \n",
        "4  2009  65.920490  86.106163        NaN        NaN        NaN  82.639457   \n",
        "5  2008  61.637839  84.381137        NaN        NaN        NaN        NaN   \n",
        "6  2007  57.205216        NaN        NaN        NaN        NaN        NaN   \n",
        "7  2006  54.620344        NaN        NaN        NaN        NaN        NaN   \n",
        "\n",
        "          GA         MI         NJ         VA         WA  \n",
        "0  84.419812  45.481747        NaN        NaN        NaN  \n",
        "1  80.343068  40.579556  77.547905  71.698619  59.718360  \n",
        "2  81.197801  91.970018  79.655315  89.933820  59.589577  \n",
        "3  77.144024  93.024078  77.476831        NaN  53.696618  \n",
        "4        NaN  88.986695  73.285278  87.692499        NaN  \n",
        "5        NaN  87.231740        NaN        NaN        NaN  \n",
        "6        NaN        NaN        NaN        NaN        NaN  \n",
        "7        NaN        NaN        NaN        NaN        NaN  \n",
        "zcores_df shape: (24804, 9)\n"
       ]
      }
     ],
     "prompt_number": 32
    },
    {
     "cell_type": "markdown",
     "metadata": {},
     "source": [
      "<b>14. Massachusetts</b>"
     ]
    },
    {
     "cell_type": "code",
     "collapsed": false,
     "input": [
      "ma_g4 = get_data('MA')"
     ],
     "language": "python",
     "metadata": {},
     "outputs": [
      {
       "output_type": "stream",
       "stream": "stdout",
       "text": [
        "2013: []\n",
        "2012: []\n",
        "2011: ['warning/failing' 'needs improvement' 'proficient'\n",
        " 'advanced/above proficient' None]"
       ]
      },
      {
       "output_type": "stream",
       "stream": "stdout",
       "text": [
        "\n",
        "2010: ['warning/failing' 'needs improvement' 'proficient'\n",
        " 'advanced/above proficient' None]"
       ]
      },
      {
       "output_type": "stream",
       "stream": "stdout",
       "text": [
        "\n",
        "2009: [None 'advanced/above proficient' 'warning/failing' 'proficient'\n",
        " 'needs improvement']"
       ]
      },
      {
       "output_type": "stream",
       "stream": "stdout",
       "text": [
        "\n",
        "2008: [None 'advanced/above proficient' 'warning/failing' 'proficient'\n",
        " 'needs improvement']"
       ]
      },
      {
       "output_type": "stream",
       "stream": "stdout",
       "text": [
        "\n",
        "2007: []\n",
        "2006: []\n",
        "2005: []\n",
        "2004: []\n",
        "2003: []"
       ]
      },
      {
       "output_type": "stream",
       "stream": "stdout",
       "text": [
        "\n",
        "None\n"
       ]
      }
     ],
     "prompt_number": 33
    },
    {
     "cell_type": "code",
     "collapsed": false,
     "input": [
      "names = ['proficient', 'advanced/above proficient']\n",
      "zscores_df, means_df = build_ful_dfs(ma_g4, 'MA', 2008, 2011, names)\n",
      "ma_g4 = None\n",
      "\n",
      "##small BUG - strange that there is no mean for 2010\n",
      "##(I have isolated the problem to get_mean(), so safe to leave for now - is not an issue of means lining up\n",
      "##in the wrong place in the dataframe)"
     ],
     "language": "python",
     "metadata": {},
     "outputs": [
      {
       "output_type": "stream",
       "stream": "stdout",
       "text": [
        "              2006  2007      2008      2009      2010      2011  2012  2013  \\\n",
        "nces_code                                                                      \n",
        "250000102398   NaN   NaN -1.274685 -0.849718 -1.289851  0.630415   NaN   NaN   \n",
        "250000102399   NaN   NaN  0.650395  0.341341  0.064030  0.995098   NaN   NaN   \n",
        "250000102401   NaN   NaN  0.650395 -0.124726 -1.081562       NaN   NaN   NaN   \n",
        "250000102402   NaN   NaN -2.508712 -0.901503 -1.498140 -0.359440   NaN   NaN   \n",
        "250000102403   NaN   NaN  1.292089  0.393126  0.532681  0.630415   NaN   NaN   \n",
        "\n",
        "             State  \n",
        "nces_code           \n",
        "250000102398    MA  \n",
        "250000102399    MA  \n",
        "250000102401    MA  \n",
        "250000102402    MA  \n",
        "250000102403    MA  \n",
        "   Year         CA         TX         NY         FL         IL         PA  \\\n",
        "0  2013  72.500723  68.383013  36.930222  61.525623        NaN        NaN   \n",
        "1  2012  70.694859  68.214882  69.993086  59.828726  87.221695  83.469164   \n",
        "2  2011  71.546365  88.361365  67.490980  58.195214  86.714188  86.045621   \n",
        "3  2010  68.563789  88.179562        NaN        NaN  84.571926  85.563673   \n",
        "4  2009  65.920490  86.106163        NaN        NaN        NaN  82.639457   \n",
        "5  2008  61.637839  84.381137        NaN        NaN        NaN        NaN   \n",
        "6  2007  57.205216        NaN        NaN        NaN        NaN        NaN   \n",
        "7  2006  54.620344        NaN        NaN        NaN        NaN        NaN   \n",
        "\n",
        "          GA         MI         NJ         VA         WA         MA  \n",
        "0  84.419812  45.481747        NaN        NaN        NaN        NaN  \n",
        "1  80.343068  40.579556  77.547905  71.698619  59.718360        NaN  \n",
        "2  81.197801  91.970018  79.655315  89.933820  59.589577  48.524384  \n",
        "3  77.144024  93.024078  77.476831        NaN  53.696618        NaN  \n",
        "4        NaN  88.986695  73.285278  87.692499        NaN  50.919308  \n",
        "5        NaN  87.231740        NaN        NaN        NaN  49.027628  \n",
        "6        NaN        NaN        NaN        NaN        NaN        NaN  \n",
        "7        NaN        NaN        NaN        NaN        NaN        NaN  \n",
        "zcores_df shape: (25792, 9)\n"
       ]
      }
     ],
     "prompt_number": 34
    },
    {
     "cell_type": "markdown",
     "metadata": {},
     "source": [
      "<b>15. Arizona</b>"
     ]
    },
    {
     "cell_type": "code",
     "collapsed": false,
     "input": [
      "az_g4 = get_data('AZ')"
     ],
     "language": "python",
     "metadata": {},
     "outputs": [
      {
       "output_type": "stream",
       "stream": "stdout",
       "text": [
        "2013: ['falls far below' 'approaches' 'meets' 'exceeds' None]\n",
        "2012: ['falls far below' 'approaches' 'meets' 'exceeds' None]"
       ]
      },
      {
       "output_type": "stream",
       "stream": "stdout",
       "text": [
        "\n",
        "2011: ['falls far below' 'approaches' 'meets' 'exceeds' None]"
       ]
      },
      {
       "output_type": "stream",
       "stream": "stdout",
       "text": [
        "\n",
        "2010: ['falls far below' 'approaches' 'meets' 'exceeds' None]"
       ]
      },
      {
       "output_type": "stream",
       "stream": "stdout",
       "text": [
        "\n",
        "2009: []\n",
        "2008: []\n",
        "2007: []"
       ]
      },
      {
       "output_type": "stream",
       "stream": "stdout",
       "text": [
        "\n",
        "2006: []\n",
        "2005: []\n",
        "2004: []"
       ]
      },
      {
       "output_type": "stream",
       "stream": "stdout",
       "text": [
        "\n",
        "2003: []\n",
        "None\n"
       ]
      }
     ],
     "prompt_number": 35
    },
    {
     "cell_type": "code",
     "collapsed": false,
     "input": [
      "names = ['meets', 'exceeds']\n",
      "zscores_df, means_df = build_ful_dfs(az_g4, 'AZ', 2010, 2013, names)\n",
      "az_g4 = None"
     ],
     "language": "python",
     "metadata": {},
     "outputs": [
      {
       "output_type": "stream",
       "stream": "stdout",
       "text": [
        "              2006  2007  2008  2009      2010      2011      2012      2013  \\\n",
        "nces_code                                                                      \n",
        "040000100120   NaN   NaN   NaN   NaN  1.063768  0.705563  1.477734  0.478088   \n",
        "040000100616   NaN   NaN   NaN   NaN  1.829099  0.870670  0.936040  1.157947   \n",
        "040000101872   NaN   NaN   NaN   NaN  1.665099  1.365990  1.329999  1.214602   \n",
        "040000102344   NaN   NaN   NaN   NaN  0.954435  1.200883  1.034530  1.441222   \n",
        "040000102484   NaN   NaN   NaN   NaN  1.501100  1.421025  1.231509  1.611187   \n",
        "\n",
        "             State  \n",
        "nces_code           \n",
        "040000100120    AZ  \n",
        "040000100616    AZ  \n",
        "040000101872    AZ  \n",
        "040000102344    AZ  \n",
        "040000102484    AZ  \n",
        "   Year         CA         TX         NY         FL         IL         PA  \\\n",
        "0  2013  72.500723  68.383013  36.930222  61.525623        NaN        NaN   \n",
        "1  2012  70.694859  68.214882  69.993086  59.828726  87.221695  83.469164   \n",
        "2  2011  71.546365  88.361365  67.490980  58.195214  86.714188  86.045621   \n",
        "3  2010  68.563789  88.179562        NaN        NaN  84.571926  85.563673   \n",
        "4  2009  65.920490  86.106163        NaN        NaN        NaN  82.639457   \n",
        "5  2008  61.637839  84.381137        NaN        NaN        NaN        NaN   \n",
        "6  2007  57.205216        NaN        NaN        NaN        NaN        NaN   \n",
        "7  2006  54.620344        NaN        NaN        NaN        NaN        NaN   \n",
        "\n",
        "          GA         MI         NJ         VA         WA         MA         AZ  \n",
        "0  84.419812  45.481747        NaN        NaN        NaN        NaN  64.277566  \n",
        "1  80.343068  40.579556  77.547905  71.698619  59.718360        NaN  66.527387  \n",
        "2  81.197801  91.970018  79.655315  89.933820  59.589577  48.524384  64.954950  \n",
        "3  77.144024  93.024078  77.476831        NaN  53.696618        NaN  63.268609  \n",
        "4        NaN  88.986695  73.285278  87.692499        NaN  50.919308        NaN  \n",
        "5        NaN  87.231740        NaN        NaN        NaN  49.027628        NaN  \n",
        "6        NaN        NaN        NaN        NaN        NaN        NaN        NaN  \n",
        "7        NaN        NaN        NaN        NaN        NaN        NaN        NaN  \n",
        "zcores_df shape: (26950, 9)\n"
       ]
      }
     ],
     "prompt_number": 36
    },
    {
     "cell_type": "markdown",
     "metadata": {},
     "source": [
      "<b>16. Indiana</b>\n",
      "\n",
      "Scores not levels."
     ]
    },
    {
     "cell_type": "code",
     "collapsed": false,
     "input": [
      "in_g4 = get_data('IN')"
     ],
     "language": "python",
     "metadata": {},
     "outputs": [
      {
       "output_type": "stream",
       "stream": "stdout",
       "text": [
        "2013: []\n",
        "2012: [None]\n",
        "2011: [None]\n",
        "2010: [None]"
       ]
      },
      {
       "output_type": "stream",
       "stream": "stdout",
       "text": [
        "\n",
        "2009: []\n",
        "2008: []\n",
        "2007: []\n",
        "2006: []\n",
        "2005: []\n",
        "2004: []\n",
        "2003: []\n",
        "None\n"
       ]
      }
     ],
     "prompt_number": 37
    },
    {
     "cell_type": "code",
     "collapsed": false,
     "input": [
      "print in_g4.head()\n",
      "in_g4=None"
     ],
     "language": "python",
     "metadata": {},
     "outputs": [
      {
       "output_type": "stream",
       "stream": "stdout",
       "text": [
        "          city  county grade_name level                           name  \\\n",
        "0  Worthington  Greene          4   K-6  Worthington Elementary School   \n",
        "1  Worthington  Greene          4   K-6  Worthington Elementary School   \n",
        "2  Worthington  Greene          4   K-6  Worthington Elementary School   \n",
        "3  Worthington  Greene          4   K-6  Worthington Elementary School   \n",
        "4  Worthington  Greene          4   K-6  Worthington Elementary School   \n",
        "\n",
        "      nces_code number_tested proficiency_band_name    score state  \\\n",
        "0  180000802090            38                  None     84.0    IN   \n",
        "1  180000802090            38                  None     89.0    IN   \n",
        "2  180000802090            38                  None     87.0    IN   \n",
        "3  180000802090            41                  None  82.9268    IN   \n",
        "4  180000802090            41                  None  87.8049    IN   \n",
        "\n",
        "            subject_name  test-id    type universal_id  year  \n",
        "0  English/Language Arts  IN00049  public      1800013  2010  \n",
        "1                   Math  IN00049  public      1800013  2010  \n",
        "2                Science  IN00049  public      1800013  2010  \n",
        "3  English/Language Arts  IN00049  public      1800013  2012  \n",
        "4                   Math  IN00049  public      1800013  2012  \n"
       ]
      }
     ],
     "prompt_number": 38
    },
    {
     "cell_type": "markdown",
     "metadata": {},
     "source": [
      "<b>17. Tennessee</b>"
     ]
    },
    {
     "cell_type": "code",
     "collapsed": false,
     "input": [
      "tn_g4 = get_data('TN')"
     ],
     "language": "python",
     "metadata": {},
     "outputs": [
      {
       "output_type": "stream",
       "stream": "stdout",
       "text": [
        "2013: []\n",
        "2012: ['below basic' 'basic' 'proficient' 'advanced' None]"
       ]
      },
      {
       "output_type": "stream",
       "stream": "stdout",
       "text": [
        "\n",
        "2011: ['below basic' 'basic' 'proficient' 'advanced' None]"
       ]
      },
      {
       "output_type": "stream",
       "stream": "stdout",
       "text": [
        "\n",
        "2010: ['below basic' 'basic' 'proficient' 'advanced' None]"
       ]
      },
      {
       "output_type": "stream",
       "stream": "stdout",
       "text": [
        "\n",
        "2009: []\n",
        "2008: []\n",
        "2007: []\n",
        "2006: []"
       ]
      },
      {
       "output_type": "stream",
       "stream": "stdout",
       "text": [
        "\n",
        "2005: []\n",
        "2004: []\n",
        "2003: []\n",
        "None\n"
       ]
      }
     ],
     "prompt_number": 39
    },
    {
     "cell_type": "code",
     "collapsed": false,
     "input": [
      "names = ['proficient', 'advanced']\n",
      "zscores_df, means_df = build_ful_dfs(tn_g4, 'TN', 2010, 2012, names)\n",
      "tn_g4 = None"
     ],
     "language": "python",
     "metadata": {},
     "outputs": [
      {
       "output_type": "stream",
       "stream": "stdout",
       "text": [
        "              2006  2007  2008  2009      2010      2011      2012  2013 State\n",
        "nces_code                                                                     \n",
        "470000100477   NaN   NaN   NaN   NaN  0.572461 -0.231276 -0.426143   NaN    TN\n",
        "470000100480   NaN   NaN   NaN   NaN -0.905063 -0.458529 -0.727551   NaN    TN\n",
        "470000100481   NaN   NaN   NaN   NaN  1.374032  1.486981  0.620854   NaN    TN\n",
        "470000100483   NaN   NaN   NaN   NaN  0.111856 -0.170305  0.335309   NaN    TN\n",
        "470000100485   NaN   NaN   NaN   NaN -0.097510  1.819547  1.366442   NaN    TN\n",
        "   Year         CA         TX         NY         FL         IL         PA  \\\n",
        "0  2013  72.500723  68.383013  36.930222  61.525623        NaN        NaN   \n",
        "1  2012  70.694859  68.214882  69.993086  59.828726  87.221695  83.469164   \n",
        "2  2011  71.546365  88.361365  67.490980  58.195214  86.714188  86.045621   \n",
        "3  2010  68.563789  88.179562        NaN        NaN  84.571926  85.563673   \n",
        "4  2009  65.920490  86.106163        NaN        NaN        NaN  82.639457   \n",
        "5  2008  61.637839  84.381137        NaN        NaN        NaN        NaN   \n",
        "6  2007  57.205216        NaN        NaN        NaN        NaN        NaN   \n",
        "7  2006  54.620344        NaN        NaN        NaN        NaN        NaN   \n",
        "\n",
        "          GA         MI         NJ         VA         WA         MA  \\\n",
        "0  84.419812  45.481747        NaN        NaN        NaN        NaN   \n",
        "1  80.343068  40.579556  77.547905  71.698619  59.718360        NaN   \n",
        "2  81.197801  91.970018  79.655315  89.933820  59.589577  48.524384   \n",
        "3  77.144024  93.024078  77.476831        NaN  53.696618        NaN   \n",
        "4        NaN  88.986695  73.285278  87.692499        NaN  50.919308   \n",
        "5        NaN  87.231740        NaN        NaN        NaN  49.027628   \n",
        "6        NaN        NaN        NaN        NaN        NaN        NaN   \n",
        "7        NaN        NaN        NaN        NaN        NaN        NaN   \n",
        "\n",
        "          AZ         TN  \n",
        "0  64.277566        NaN  \n",
        "1  66.527387  43.157480  \n",
        "2  64.954950  38.261756  \n",
        "3  63.268609        NaN  \n",
        "4        NaN        NaN  \n",
        "5        NaN        NaN  \n",
        "6        NaN        NaN  \n",
        "7        NaN        NaN  \n",
        "zcores_df shape: (27956, 9)\n"
       ]
      }
     ],
     "prompt_number": 40
    },
    {
     "cell_type": "markdown",
     "metadata": {},
     "source": [
      "<b>18. Missouri</b>"
     ]
    },
    {
     "cell_type": "code",
     "collapsed": false,
     "input": [
      "mo_g4 = get_data('MO')"
     ],
     "language": "python",
     "metadata": {},
     "outputs": [
      {
       "output_type": "stream",
       "stream": "stdout",
       "text": [
        "2013: ['below basic' 'basic' 'proficient' 'advanced' None]\n",
        "2012: ['below basic' 'basic' 'proficient' 'advanced' None]"
       ]
      },
      {
       "output_type": "stream",
       "stream": "stdout",
       "text": [
        "\n",
        "2011: ['below basic' 'basic' 'proficient' 'advanced' None]"
       ]
      },
      {
       "output_type": "stream",
       "stream": "stdout",
       "text": [
        "\n",
        "2010: ['below basic' 'basic' 'proficient' 'advanced' None]"
       ]
      },
      {
       "output_type": "stream",
       "stream": "stdout",
       "text": [
        "\n",
        "2009: []\n",
        "2008: []\n",
        "2007: []\n",
        "2006: []"
       ]
      },
      {
       "output_type": "stream",
       "stream": "stdout",
       "text": [
        "\n",
        "2005: []\n",
        "2004: []\n",
        "2003: []\n",
        "None\n"
       ]
      }
     ],
     "prompt_number": 41
    },
    {
     "cell_type": "code",
     "collapsed": false,
     "input": [
      "names = ['proficient', 'advanced']\n",
      "zscores_df, means_df = build_ful_dfs(mo_g4, 'MO', 2010, 2013, names)\n",
      "mo_g4 = None"
     ],
     "language": "python",
     "metadata": {},
     "outputs": [
      {
       "output_type": "stream",
       "stream": "stdout",
       "text": [
        "              2006  2007  2008  2009      2010      2011      2012      2013  \\\n",
        "nces_code                                                                      \n",
        "290000100048   NaN   NaN   NaN   NaN -0.626943 -0.642463 -0.285581  0.103870   \n",
        "290000201641   NaN   NaN   NaN   NaN -0.811465 -0.102109 -2.169885 -0.050524   \n",
        "290000302459   NaN   NaN   NaN   NaN -0.669119  0.623822  1.304300  0.913106   \n",
        "290000401482   NaN   NaN   NaN   NaN  1.302630  0.083468  0.624452 -0.130382   \n",
        "290000401484   NaN   NaN   NaN   NaN  0.870321 -0.522384  0.865343 -0.790548   \n",
        "\n",
        "             State  \n",
        "nces_code           \n",
        "290000100048    MO  \n",
        "290000201641    MO  \n",
        "290000302459    MO  \n",
        "290000401482    MO  \n",
        "290000401484    MO  \n",
        "   Year         CA         TX         NY         FL         IL         PA  \\\n",
        "0  2013  72.500723  68.383013  36.930222  61.525623        NaN        NaN   \n",
        "1  2012  70.694859  68.214882  69.993086  59.828726  87.221695  83.469164   \n",
        "2  2011  71.546365  88.361365  67.490980  58.195214  86.714188  86.045621   \n",
        "3  2010  68.563789  88.179562        NaN        NaN  84.571926  85.563673   \n",
        "4  2009  65.920490  86.106163        NaN        NaN        NaN  82.639457   \n",
        "5  2008  61.637839  84.381137        NaN        NaN        NaN        NaN   \n",
        "6  2007  57.205216        NaN        NaN        NaN        NaN        NaN   \n",
        "7  2006  54.620344        NaN        NaN        NaN        NaN        NaN   \n",
        "\n",
        "          GA         MI         NJ         VA         WA         MA  \\\n",
        "0  84.419812  45.481747        NaN        NaN        NaN        NaN   \n",
        "1  80.343068  40.579556  77.547905  71.698619  59.718360        NaN   \n",
        "2  81.197801  91.970018  79.655315  89.933820  59.589577  48.524384   \n",
        "3  77.144024  93.024078  77.476831        NaN  53.696618        NaN   \n",
        "4        NaN  88.986695  73.285278  87.692499        NaN  50.919308   \n",
        "5        NaN  87.231740        NaN        NaN        NaN  49.027628   \n",
        "6        NaN        NaN        NaN        NaN        NaN        NaN   \n",
        "7        NaN        NaN        NaN        NaN        NaN        NaN   \n",
        "\n",
        "          AZ         TN         MO  \n",
        "0  64.277566        NaN  50.950459  \n",
        "1  66.527387  43.157480  51.222335  \n",
        "2  64.954950  38.261756  51.228358  \n",
        "3  63.268609        NaN  49.227759  \n",
        "4        NaN        NaN        NaN  \n",
        "5        NaN        NaN        NaN  \n",
        "6        NaN        NaN        NaN  \n",
        "7        NaN        NaN        NaN  \n",
        "zcores_df shape: (29105, 9)\n"
       ]
      }
     ],
     "prompt_number": 42
    },
    {
     "cell_type": "markdown",
     "metadata": {},
     "source": [
      "<b>19. Maryland</b>"
     ]
    },
    {
     "cell_type": "code",
     "collapsed": false,
     "input": [
      "md_g4 = get_data('MD')"
     ],
     "language": "python",
     "metadata": {},
     "outputs": [
      {
       "output_type": "stream",
       "stream": "stdout",
       "text": [
        "2013: ['basic' 'proficient' 'advanced' None]\n",
        "2012: ['basic' 'proficient' 'advanced' None]\n",
        "2011: ['basic' 'proficient' 'advanced' None]"
       ]
      },
      {
       "output_type": "stream",
       "stream": "stdout",
       "text": [
        "\n",
        "2010: ['basic' 'proficient' 'advanced' None]\n",
        "2009: []\n",
        "2008: []"
       ]
      },
      {
       "output_type": "stream",
       "stream": "stdout",
       "text": [
        "\n",
        "2007: []\n",
        "2006: []\n",
        "2005: []\n",
        "2004: []\n",
        "2003: []\n",
        "None\n"
       ]
      }
     ],
     "prompt_number": 43
    },
    {
     "cell_type": "code",
     "collapsed": false,
     "input": [
      "names = ['proficient', 'advanced']\n",
      "zscores_df, means_df = build_ful_dfs(md_g4, 'MD', 2010, 2013, names)\n",
      "md_g4 = None"
     ],
     "language": "python",
     "metadata": {},
     "outputs": [
      {
       "output_type": "stream",
       "stream": "stdout",
       "text": [
        "              2006  2007  2008  2009      2010      2011      2012      2013  \\\n",
        "nces_code                                                                      \n",
        "240003000003   NaN   NaN   NaN   NaN  0.790628  0.104916  0.555960  0.634466   \n",
        "240003000005   NaN   NaN   NaN   NaN  1.236552  0.663085  1.051742  0.875892   \n",
        "240003000010   NaN   NaN   NaN   NaN  0.127768  0.145363  0.406289  1.074206   \n",
        "240003000014   NaN   NaN   NaN   NaN  1.236552  0.881499  0.275328  0.789668   \n",
        "240003000016   NaN   NaN   NaN   NaN  0.899096  0.654996  1.051742  1.074206   \n",
        "\n",
        "             State  \n",
        "nces_code           \n",
        "240003000003    MD  \n",
        "240003000005    MD  \n",
        "240003000010    MD  \n",
        "240003000014    MD  \n",
        "240003000016    MD  \n",
        "   Year         CA         TX         NY         FL         IL         PA  \\\n",
        "0  2013  72.500723  68.383013  36.930222  61.525623        NaN        NaN   \n",
        "1  2012  70.694859  68.214882  69.993086  59.828726  87.221695  83.469164   \n",
        "2  2011  71.546365  88.361365  67.490980  58.195214  86.714188  86.045621   \n",
        "3  2010  68.563789  88.179562        NaN        NaN  84.571926  85.563673   \n",
        "4  2009  65.920490  86.106163        NaN        NaN        NaN  82.639457   \n",
        "5  2008  61.637839  84.381137        NaN        NaN        NaN        NaN   \n",
        "6  2007  57.205216        NaN        NaN        NaN        NaN        NaN   \n",
        "7  2006  54.620344        NaN        NaN        NaN        NaN        NaN   \n",
        "\n",
        "          GA         MI         NJ         VA         WA         MA  \\\n",
        "0  84.419812  45.481747        NaN        NaN        NaN        NaN   \n",
        "1  80.343068  40.579556  77.547905  71.698619  59.718360        NaN   \n",
        "2  81.197801  91.970018  79.655315  89.933820  59.589577  48.524384   \n",
        "3  77.144024  93.024078  77.476831        NaN  53.696618        NaN   \n",
        "4        NaN  88.986695  73.285278  87.692499        NaN  50.919308   \n",
        "5        NaN  87.231740        NaN        NaN        NaN  49.027628   \n",
        "6        NaN        NaN        NaN        NaN        NaN        NaN   \n",
        "7        NaN        NaN        NaN        NaN        NaN        NaN   \n",
        "\n",
        "          AZ         TN         MO         MD  \n",
        "0  64.277566        NaN  50.950459  89.011313  \n",
        "1  66.527387  43.157480  51.222335  90.011316  \n",
        "2  64.954950  38.261756  51.228358  90.475668  \n",
        "3  63.268609        NaN  49.227759  90.356333  \n",
        "4        NaN        NaN        NaN        NaN  \n",
        "5        NaN        NaN        NaN        NaN  \n",
        "6        NaN        NaN        NaN        NaN  \n",
        "7        NaN        NaN        NaN        NaN  "
       ]
      },
      {
       "output_type": "stream",
       "stream": "stdout",
       "text": [
        "\n",
        "zcores_df shape: (29970, 9)\n"
       ]
      }
     ],
     "prompt_number": 44
    },
    {
     "cell_type": "markdown",
     "metadata": {},
     "source": [
      "<b>20. Wisconsin</b>"
     ]
    },
    {
     "cell_type": "code",
     "collapsed": false,
     "input": [
      "wi_g4 = get_data('WI')"
     ],
     "language": "python",
     "metadata": {},
     "outputs": [
      {
       "output_type": "stream",
       "stream": "stdout",
       "text": [
        "2013: []\n",
        "2012: ['minimal' 'basic' 'proficient' 'advanced' None]"
       ]
      },
      {
       "output_type": "stream",
       "stream": "stdout",
       "text": [
        "\n",
        "2011: ['minimal' 'basic' 'proficient' 'advanced' None]"
       ]
      },
      {
       "output_type": "stream",
       "stream": "stdout",
       "text": [
        "\n",
        "2010: ['minimal' 'basic' 'proficient' 'advanced' None]"
       ]
      },
      {
       "output_type": "stream",
       "stream": "stdout",
       "text": [
        "\n",
        "2009: []\n",
        "2008: []\n",
        "2007: []"
       ]
      },
      {
       "output_type": "stream",
       "stream": "stdout",
       "text": [
        "\n",
        "2006: []\n",
        "2005: []\n",
        "2004: []"
       ]
      },
      {
       "output_type": "stream",
       "stream": "stdout",
       "text": [
        "\n",
        "2003: []\n",
        "None\n"
       ]
      }
     ],
     "prompt_number": 45
    },
    {
     "cell_type": "code",
     "collapsed": false,
     "input": [
      "names = ['proficient', 'advanced']\n",
      "#zscores_df, means_df = build_ful_dfs(wi_g4, 'WI', 2010, 2012, names)\n",
      "wi_g4 = None\n",
      "\n",
      "##BUG: TypeError: only length-1 arrays can be converted to Python scalars"
     ],
     "language": "python",
     "metadata": {},
     "outputs": [],
     "prompt_number": 46
    },
    {
     "cell_type": "markdown",
     "metadata": {},
     "source": [
      "<b>21. Minnesota</b>"
     ]
    },
    {
     "cell_type": "code",
     "collapsed": false,
     "input": [
      "mn_g4 = get_data('MN')"
     ],
     "language": "python",
     "metadata": {},
     "outputs": [
      {
       "output_type": "stream",
       "stream": "stdout",
       "text": [
        "2013: ['does not meet' 'partially meets' 'meets' 'exceeds' None]\n",
        "2012: ['does not meet' 'partially meets' 'meets' 'exceeds' None]\n",
        "2011: ['does not meet' 'partially meets' 'meets' 'exceeds' None]"
       ]
      },
      {
       "output_type": "stream",
       "stream": "stdout",
       "text": [
        "\n",
        "2010: ['does not meet' 'partially meets' 'meets' 'exceeds' None]\n",
        "2009: []"
       ]
      },
      {
       "output_type": "stream",
       "stream": "stdout",
       "text": [
        "\n",
        "2008: []\n",
        "2007: []\n",
        "2006: []\n",
        "2005: []\n",
        "2004: []"
       ]
      },
      {
       "output_type": "stream",
       "stream": "stdout",
       "text": [
        "\n",
        "2003: []\n",
        "None\n"
       ]
      }
     ],
     "prompt_number": 47
    },
    {
     "cell_type": "code",
     "collapsed": false,
     "input": [
      "names = ['meets', 'exceeds']\n",
      "zscores_df, means_df = build_ful_dfs(mn_g4, 'MN', 2010, 2012, names)\n",
      "mn_g4 = None"
     ],
     "language": "python",
     "metadata": {},
     "outputs": [
      {
       "output_type": "stream",
       "stream": "stdout",
       "text": [
        "              2006  2007  2008  2009      2010      2011      2012  2013 State\n",
        "nces_code                                                                     \n",
        "270000101610   NaN   NaN   NaN   NaN -1.216445 -0.044183 -0.194149   NaN    MN\n",
        "270000501769   NaN   NaN   NaN   NaN  0.192011 -0.139409  0.510725   NaN    MN\n",
        "270000600092   NaN   NaN   NaN   NaN  0.209400  0.643555  0.510725   NaN    MN\n",
        "270000601069   NaN   NaN   NaN   NaN  1.044040  0.384331  0.910338   NaN    MN\n",
        "270000701845   NaN   NaN   NaN   NaN  0.418060  0.569491 -0.327353   NaN    MN\n",
        "   Year         CA         TX         NY         FL         IL         PA  \\\n",
        "0  2013  72.500723  68.383013  36.930222  61.525623        NaN        NaN   \n",
        "1  2012  70.694859  68.214882  69.993086  59.828726  87.221695  83.469164   \n",
        "2  2011  71.546365  88.361365  67.490980  58.195214  86.714188  86.045621   \n",
        "3  2010  68.563789  88.179562        NaN        NaN  84.571926  85.563673   \n",
        "4  2009  65.920490  86.106163        NaN        NaN        NaN  82.639457   \n",
        "5  2008  61.637839  84.381137        NaN        NaN        NaN        NaN   \n",
        "6  2007  57.205216        NaN        NaN        NaN        NaN        NaN   \n",
        "7  2006  54.620344        NaN        NaN        NaN        NaN        NaN   \n",
        "\n",
        "          GA         MI         NJ         VA         WA         MA  \\\n",
        "0  84.419812  45.481747        NaN        NaN        NaN        NaN   \n",
        "1  80.343068  40.579556  77.547905  71.698619  59.718360        NaN   \n",
        "2  81.197801  91.970018  79.655315  89.933820  59.589577  48.524384   \n",
        "3  77.144024  93.024078  77.476831        NaN  53.696618        NaN   \n",
        "4        NaN  88.986695  73.285278  87.692499        NaN  50.919308   \n",
        "5        NaN  87.231740        NaN        NaN        NaN  49.027628   \n",
        "6        NaN        NaN        NaN        NaN        NaN        NaN   \n",
        "7        NaN        NaN        NaN        NaN        NaN        NaN   \n",
        "\n",
        "          AZ         TN         MO         MD         MN  \n",
        "0  64.277566        NaN  50.950459  89.011313        NaN  \n",
        "1  66.527387  43.157480  51.222335  90.011316  73.664272  \n",
        "2  64.954950  38.261756  51.228358  90.475668  67.416287  \n",
        "3  63.268609        NaN  49.227759  90.356333  77.222287  \n",
        "4        NaN        NaN        NaN        NaN        NaN  \n",
        "5        NaN        NaN        NaN        NaN        NaN  \n",
        "6        NaN        NaN        NaN        NaN        NaN  \n",
        "7        NaN        NaN        NaN        NaN        NaN  "
       ]
      },
      {
       "output_type": "stream",
       "stream": "stdout",
       "text": [
        "\n",
        "zcores_df shape: (30844, 9)\n"
       ]
      }
     ],
     "prompt_number": 48
    },
    {
     "cell_type": "markdown",
     "metadata": {},
     "source": [
      "<b>22. Colorado</b>"
     ]
    },
    {
     "cell_type": "code",
     "collapsed": false,
     "input": [
      "co_g4 = get_data('CO')"
     ],
     "language": "python",
     "metadata": {},
     "outputs": [
      {
       "output_type": "stream",
       "stream": "stdout",
       "text": [
        "2013: []\n",
        "2012: ['unsatisfactory' 'partially proficient' 'proficient' 'advanced' None]"
       ]
      },
      {
       "output_type": "stream",
       "stream": "stdout",
       "text": [
        "\n",
        "2011: ['unsatisfactory' 'partially proficient' 'proficient' 'advanced' None]"
       ]
      },
      {
       "output_type": "stream",
       "stream": "stdout",
       "text": [
        "\n",
        "2010: [None 'unsatisfactory' 'partially proficient' 'proficient' 'advanced']"
       ]
      },
      {
       "output_type": "stream",
       "stream": "stdout",
       "text": [
        "\n",
        "2009: [None 'unsatisfactory' 'partially proficient' 'proficient' 'advanced']"
       ]
      },
      {
       "output_type": "stream",
       "stream": "stdout",
       "text": [
        "\n",
        "2008: [None 'unsatisfactory' 'partially proficient' 'proficient' 'advanced']"
       ]
      },
      {
       "output_type": "stream",
       "stream": "stdout",
       "text": [
        "\n",
        "2007: [None 'unsatisfactory' 'partially proficient' 'proficient' 'advanced']"
       ]
      },
      {
       "output_type": "stream",
       "stream": "stdout",
       "text": [
        "\n",
        "2006: [None 'unsatisfactory' 'partially proficient' 'proficient' 'advanced']"
       ]
      },
      {
       "output_type": "stream",
       "stream": "stdout",
       "text": [
        "\n",
        "2005: []\n",
        "2004: []"
       ]
      },
      {
       "output_type": "stream",
       "stream": "stdout",
       "text": [
        "\n",
        "2003: []\n",
        "None\n"
       ]
      }
     ],
     "prompt_number": 49
    },
    {
     "cell_type": "code",
     "collapsed": false,
     "input": [
      "names = ['proficient', 'advanced']\n",
      "zscores_df, means_df = build_ful_dfs(co_g4, 'CO', 2006, 2012, names)\n",
      "co_g4 = None"
     ],
     "language": "python",
     "metadata": {},
     "outputs": [
      {
       "output_type": "stream",
       "stream": "stdout",
       "text": [
        "                  2006      2007      2008      2009      2010      2011      2012  2013 State\n",
        "nces_code                                                                                     \n",
        "080000100214       NaN       NaN       NaN       NaN       NaN       NaN  0.250818   NaN    CO\n",
        "080000400709  1.066383  0.042264 -0.940623  0.249290  0.576956  0.968948  1.199107   NaN    CO\n",
        "080001601820 -0.742717 -0.861445  0.064777  0.627664  0.016722 -0.354179 -0.223327   NaN    CO\n",
        "080001701816  0.274902  0.494119 -0.382067  0.951984  0.464909  0.968948  1.404761   NaN    CO\n",
        "080002001912  1.009849  0.268192  0.790900  0.681717  0.184792  0.853894  1.119131   NaN    CO\n",
        "   Year         CA         TX         NY         FL         IL         PA  \\\n",
        "0  2013  72.500723  68.383013  36.930222  61.525623        NaN        NaN   \n",
        "1  2012  70.694859  68.214882  69.993086  59.828726  87.221695  83.469164   \n",
        "2  2011  71.546365  88.361365  67.490980  58.195214  86.714188  86.045621   \n",
        "3  2010  68.563789  88.179562        NaN        NaN  84.571926  85.563673   \n",
        "4  2009  65.920490  86.106163        NaN        NaN        NaN  82.639457   \n",
        "5  2008  61.637839  84.381137        NaN        NaN        NaN        NaN   \n",
        "6  2007  57.205216        NaN        NaN        NaN        NaN        NaN   \n",
        "7  2006  54.620344        NaN        NaN        NaN        NaN        NaN   \n",
        "\n",
        "          GA         MI         NJ         VA         WA         MA  \\\n",
        "0  84.419812  45.481747        NaN        NaN        NaN        NaN   \n",
        "1  80.343068  40.579556  77.547905  71.698619  59.718360        NaN   \n",
        "2  81.197801  91.970018  79.655315  89.933820  59.589577  48.524384   \n",
        "3  77.144024  93.024078  77.476831        NaN  53.696618        NaN   \n",
        "4        NaN  88.986695  73.285278  87.692499        NaN  50.919308   \n",
        "5        NaN  87.231740        NaN        NaN        NaN  49.027628   \n",
        "6        NaN        NaN        NaN        NaN        NaN        NaN   \n",
        "7        NaN        NaN        NaN        NaN        NaN        NaN   \n",
        "\n",
        "          AZ         TN         MO         MD         MN         CO  \n",
        "0  64.277566        NaN  50.950459  89.011313        NaN        NaN  \n",
        "1  66.527387  43.157480  51.222335  90.011316  73.664272  71.453705  \n",
        "2  64.954950  38.261756  51.228358  90.475668  67.416287  70.994267  \n",
        "3  63.268609        NaN  49.227759  90.356333  77.222287  70.185464  \n",
        "4        NaN        NaN        NaN        NaN        NaN  70.387031  \n",
        "5        NaN        NaN        NaN        NaN        NaN  68.708139  \n",
        "6        NaN        NaN        NaN        NaN        NaN  71.019215  \n",
        "7        NaN        NaN        NaN        NaN        NaN  69.672622  "
       ]
      },
      {
       "output_type": "stream",
       "stream": "stdout",
       "text": [
        "\n",
        "zcores_df shape: (31820, 9)\n"
       ]
      }
     ],
     "prompt_number": 50
    },
    {
     "cell_type": "markdown",
     "metadata": {},
     "source": [
      "<b>23. Alabama</b>\n",
      "\n",
      "Leve 3 - Meets academic content standards, Level 4 - Exceeds academic content standards: http://www.madison.k12.al.us/Testing/ARMT%20II.htm"
     ]
    },
    {
     "cell_type": "code",
     "collapsed": false,
     "input": [
      "al_g4 = get_data('AL')"
     ],
     "language": "python",
     "metadata": {},
     "outputs": [
      {
       "output_type": "stream",
       "stream": "stdout",
       "text": [
        "2013: []\n",
        "2012: ['% level 1' '% level 2' '% level 3' '% level 4' None]\n",
        "2011: ['% level 1' '% level 2' '% level 3' '% level 4' None]"
       ]
      },
      {
       "output_type": "stream",
       "stream": "stdout",
       "text": [
        "\n",
        "2010: ['% level 1' '% level 2' '% level 3' '% level 4' None]\n",
        "2009: [None '% level 1' '% level 2' '% level 3' '% level 4']"
       ]
      },
      {
       "output_type": "stream",
       "stream": "stdout",
       "text": [
        "\n",
        "2008: []\n",
        "2007: []\n",
        "2006: []\n",
        "2005: []\n",
        "2004: []\n",
        "2003: []"
       ]
      },
      {
       "output_type": "stream",
       "stream": "stdout",
       "text": [
        "\n",
        "None\n"
       ]
      }
     ],
     "prompt_number": 51
    },
    {
     "cell_type": "code",
     "collapsed": false,
     "input": [
      "names = ['% level 3', '% level 4']\n",
      "zscores_df, means_df = build_ful_dfs(al_g4, 'AL', 2009, 2012, names)\n",
      "al_g4 = None"
     ],
     "language": "python",
     "metadata": {},
     "outputs": [
      {
       "output_type": "stream",
       "stream": "stdout",
       "text": [
        "              2006  2007  2008      2009      2010      2011      2012  2013  \\\n",
        "nces_code                                                                      \n",
        "010000500889   NaN   NaN   NaN  0.037291  0.817854  0.611624  0.454443   NaN   \n",
        "010000600872   NaN   NaN   NaN -1.133682       NaN -0.034634       NaN   NaN   \n",
        "010000600876   NaN   NaN   NaN  0.770727  1.504734  0.793288  0.875864   NaN   \n",
        "010000600877   NaN   NaN   NaN -0.332232  1.027734  1.155842  0.778613   NaN   \n",
        "010000600880   NaN   NaN   NaN  0.242737  0.656819  0.621674 -0.238963   NaN   \n",
        "\n",
        "             State  \n",
        "nces_code           \n",
        "010000500889    AL  \n",
        "010000600872    AL  \n",
        "010000600876    AL  \n",
        "010000600877    AL  \n",
        "010000600880    AL  \n",
        "   Year         CA         TX         NY         FL         IL         PA  \\\n",
        "0  2013  72.500723  68.383013  36.930222  61.525623        NaN        NaN   \n",
        "1  2012  70.694859  68.214882  69.993086  59.828726  87.221695  83.469164   \n",
        "2  2011  71.546365  88.361365  67.490980  58.195214  86.714188  86.045621   \n",
        "3  2010  68.563789  88.179562        NaN        NaN  84.571926  85.563673   \n",
        "4  2009  65.920490  86.106163        NaN        NaN        NaN  82.639457   \n",
        "5  2008  61.637839  84.381137        NaN        NaN        NaN        NaN   \n",
        "6  2007  57.205216        NaN        NaN        NaN        NaN        NaN   \n",
        "7  2006  54.620344        NaN        NaN        NaN        NaN        NaN   \n",
        "\n",
        "          GA         MI         NJ         VA         WA         MA  \\\n",
        "0  84.419812  45.481747        NaN        NaN        NaN        NaN   \n",
        "1  80.343068  40.579556  77.547905  71.698619  59.718360        NaN   \n",
        "2  81.197801  91.970018  79.655315  89.933820  59.589577  48.524384   \n",
        "3  77.144024  93.024078  77.476831        NaN  53.696618        NaN   \n",
        "4        NaN  88.986695  73.285278  87.692499        NaN  50.919308   \n",
        "5        NaN  87.231740        NaN        NaN        NaN  49.027628   \n",
        "6        NaN        NaN        NaN        NaN        NaN        NaN   \n",
        "7        NaN        NaN        NaN        NaN        NaN        NaN   \n",
        "\n",
        "          AZ         TN         MO         MD         MN         CO         AL  \n",
        "0  64.277566        NaN  50.950459  89.011313        NaN        NaN        NaN  \n",
        "1  66.527387  43.157480  51.222335  90.011316  73.664272  71.453705  85.328230  \n",
        "2  64.954950  38.261756  51.228358  90.475668  67.416287  70.994267  82.443362  \n",
        "3  63.268609        NaN  49.227759  90.356333  77.222287  70.185464  81.316326  \n",
        "4        NaN        NaN        NaN        NaN        NaN  70.387031  79.298160  \n",
        "5        NaN        NaN        NaN        NaN        NaN  68.708139        NaN  \n",
        "6        NaN        NaN        NaN        NaN        NaN  71.019215        NaN  \n",
        "7        NaN        NaN        NaN        NaN        NaN  69.672622        NaN  "
       ]
      },
      {
       "output_type": "stream",
       "stream": "stdout",
       "text": [
        "\n",
        "zcores_df shape: (32567, 9)\n"
       ]
      }
     ],
     "prompt_number": 52
    },
    {
     "cell_type": "markdown",
     "metadata": {},
     "source": [
      "<b>24. South Carolina</b>"
     ]
    },
    {
     "cell_type": "code",
     "collapsed": false,
     "input": [
      "sc_g4 = get_data('SC')"
     ],
     "language": "python",
     "metadata": {},
     "outputs": [
      {
       "output_type": "stream",
       "stream": "stdout",
       "text": [
        "2013: []\n",
        "2012: ['not met' 'met' 'exemplary' None]"
       ]
      },
      {
       "output_type": "stream",
       "stream": "stdout",
       "text": [
        "\n",
        "2011: ['not met' 'met' 'exemplary' None]"
       ]
      },
      {
       "output_type": "stream",
       "stream": "stdout",
       "text": [
        "\n",
        "2010: ['not met' 'met' 'exemplary' None]"
       ]
      },
      {
       "output_type": "stream",
       "stream": "stdout",
       "text": [
        "\n",
        "2009: [None 'not met' 'met' 'exemplary']"
       ]
      },
      {
       "output_type": "stream",
       "stream": "stdout",
       "text": [
        "\n",
        "2008: []\n",
        "2007: []\n",
        "2006: []\n",
        "2005: []"
       ]
      },
      {
       "output_type": "stream",
       "stream": "stdout",
       "text": [
        "\n",
        "2004: []\n",
        "2003: []\n",
        "None\n"
       ]
      }
     ],
     "prompt_number": 53
    },
    {
     "cell_type": "code",
     "collapsed": false,
     "input": [
      "names = ['met', 'exemplary']\n",
      "#zscores_df, means_df = build_ful_dfs(sc_g4, 'SC', 2009, 2012, names)\n",
      "sc_g4 = None\n",
      "\n",
      "##BUG: TypeError: only length-1 arrays can be converted to Python scalars"
     ],
     "language": "python",
     "metadata": {},
     "outputs": [],
     "prompt_number": 54
    },
    {
     "cell_type": "markdown",
     "metadata": {},
     "source": [
      "<b>25. Louisiana</b>"
     ]
    },
    {
     "cell_type": "code",
     "collapsed": false,
     "input": [
      "la_g4 = get_data('LA')"
     ],
     "language": "python",
     "metadata": {},
     "outputs": [
      {
       "output_type": "stream",
       "stream": "stdout",
       "text": [
        "2013: []\n",
        "2012: ['unsatisfactory' 'approaching basic' 'basic' 'mastery' 'advanced' None]"
       ]
      },
      {
       "output_type": "stream",
       "stream": "stdout",
       "text": [
        "\n",
        "2011: ['unsatisfactory' 'approaching basic' 'basic' 'mastery' 'advanced' None]"
       ]
      },
      {
       "output_type": "stream",
       "stream": "stdout",
       "text": [
        "\n",
        "2010: ['unsatisfactory' 'approaching basic' 'basic' 'mastery' 'advanced' None]"
       ]
      },
      {
       "output_type": "stream",
       "stream": "stdout",
       "text": [
        "\n",
        "2009: [None 'advanced' 'mastery' 'basic' 'approaching basic' 'unsatisfactory']"
       ]
      },
      {
       "output_type": "stream",
       "stream": "stdout",
       "text": [
        "\n",
        "2008: []\n",
        "2007: []\n",
        "2006: []"
       ]
      },
      {
       "output_type": "stream",
       "stream": "stdout",
       "text": [
        "\n",
        "2005: []\n",
        "2004: []\n",
        "2003: []"
       ]
      },
      {
       "output_type": "stream",
       "stream": "stdout",
       "text": [
        "\n",
        "None\n"
       ]
      }
     ],
     "prompt_number": 55
    },
    {
     "cell_type": "code",
     "collapsed": false,
     "input": [
      "names = ['mastery', 'advanced']\n",
      "zscores_df, means_df = build_ful_dfs(la_g4, 'LA', 2009, 2012, names)\n",
      "la_g4 = None"
     ],
     "language": "python",
     "metadata": {},
     "outputs": [
      {
       "output_type": "stream",
       "stream": "stdout",
       "text": [
        "              2006  2007  2008      2009      2010      2011      2012  2013 State\n",
        "nces_code                                                                         \n",
        "220001801789   NaN   NaN   NaN       NaN -1.444605       NaN       NaN   NaN    LA\n",
        "220002201922   NaN   NaN   NaN  3.758215  3.874463  3.323424  3.380053   NaN    LA\n",
        "220002301921   NaN   NaN   NaN -0.521580  0.868033 -0.471109 -0.818573   NaN    LA\n",
        "220003000002   NaN   NaN   NaN -0.816738 -0.461733  0.506270  0.150341   NaN    LA\n",
        "220003000009   NaN   NaN   NaN -0.521580  0.174242 -0.298631  0.419484   NaN    LA\n",
        "<class 'pandas.core.frame.DataFrame'>\n",
        "Int64Index: 8 entries, 0 to 7\n",
        "Data columns (total 21 columns):\n",
        "Year    8  non-null values\n",
        "CA      8  non-null values\n",
        "TX      6  non-null values\n",
        "NY      3  non-null values\n",
        "FL      3  non-null values\n",
        "IL      3  non-null values\n",
        "PA      4  non-null values\n",
        "GA      4  non-null values\n",
        "MI      6  non-null values\n",
        "NJ      4  non-null values\n",
        "VA      3  non-null values\n",
        "WA      3  non-null values\n",
        "MA      3  non-null values\n",
        "AZ      4  non-null values\n",
        "TN      2  non-null values\n",
        "MO      4  non-null values\n",
        "MD      4  non-null values\n",
        "MN      3  non-null values\n",
        "CO      7  non-null values\n",
        "AL      4  non-null values\n",
        "LA      3  non-null values\n",
        "dtypes: float64(20), object(1)\n",
        "zcores_df shape: (33336, 9)\n"
       ]
      }
     ],
     "prompt_number": 56
    },
    {
     "cell_type": "markdown",
     "metadata": {},
     "source": [
      "<b>26. Kentucky</b>\n",
      "\n",
      "There does not appear to be any data for Kentucky."
     ]
    },
    {
     "cell_type": "code",
     "collapsed": false,
     "input": [
      "##ky_g4 = get_data('KY')"
     ],
     "language": "python",
     "metadata": {},
     "outputs": [],
     "prompt_number": 57
    },
    {
     "cell_type": "markdown",
     "metadata": {},
     "source": [
      "<b>27. Oregon</b>\n",
      "\n",
      "Scores not levels."
     ]
    },
    {
     "cell_type": "code",
     "collapsed": false,
     "input": [
      "or_g4 = get_data('OR')\n",
      "print or_g4.head()"
     ],
     "language": "python",
     "metadata": {},
     "outputs": [
      {
       "output_type": "stream",
       "stream": "stdout",
       "text": [
        "2013: []\n",
        "2012: []\n",
        "2011: []\n",
        "2010: [None]\n",
        "2009: [None]\n",
        "2008: [None]\n",
        "2007: [None]\n",
        "2006: []\n",
        "2005: []\n",
        "2004: []\n",
        "2003: []\n",
        "None\n",
        "         city county grade_name level                          name  \\\n",
        "0  Falls City   Polk          4   K-8  Falls City Elementary School   \n",
        "1  Falls City   Polk          4   K-8  Falls City Elementary School   \n",
        "2  Falls City   Polk          4   K-8  Falls City Elementary School   \n",
        "3  Falls City   Polk          4   K-8  Falls City Elementary School   \n",
        "4  Falls City   Polk          4   K-8  Falls City Elementary School   \n",
        "\n",
        "      nces_code number_tested proficiency_band_name score state subject_name  \\\n",
        "0  410000301061             0                  None  66.7    OR      Reading   \n",
        "1  410000301061             0                  None  55.6    OR         Math   \n",
        "2  410000301061             0                  None  83.3    OR      Reading   \n",
        "3  410000301061             0                  None  91.7    OR         Math   \n",
        "4  410000301061             0                  None  37.5    OR      Writing   \n",
        "\n",
        "   test-id    type universal_id  year  \n",
        "0  OR00060  public      4100002  2007  \n",
        "1  OR00060  public      4100002  2007  \n",
        "2  OR00060  public      4100002  2008  \n",
        "3  OR00060  public      4100002  2008  \n",
        "4  OR00060  public      4100002  2009  "
       ]
      },
      {
       "output_type": "stream",
       "stream": "stdout",
       "text": [
        "\n"
       ]
      }
     ],
     "prompt_number": 58
    },
    {
     "cell_type": "markdown",
     "metadata": {},
     "source": [
      "<b>28. Oklahoma</b>"
     ]
    },
    {
     "cell_type": "code",
     "collapsed": false,
     "input": [
      "ok_g4 = get_data('OK')"
     ],
     "language": "python",
     "metadata": {},
     "outputs": [
      {
       "output_type": "stream",
       "stream": "stdout",
       "text": [
        "2013: []\n",
        "2012: []\n",
        "2011: []\n",
        "2010: []\n",
        "2009: [None]\n",
        "2008: [None 'satisfactory' 'limited knowledge' 'unsatisfactory' 'advanced']\n",
        "2007: []"
       ]
      },
      {
       "output_type": "stream",
       "stream": "stdout",
       "text": [
        "\n",
        "2006: []\n",
        "2005: []\n",
        "2004: []\n",
        "2003: []\n",
        "None\n"
       ]
      }
     ],
     "prompt_number": 59
    },
    {
     "cell_type": "code",
     "collapsed": false,
     "input": [
      "names = ['satisfactory', 'advanced']\n",
      "zscores_df, means_df = build_ful_dfs(ok_g4, 'OK', 2008, 2008, names)\n",
      "ok_g4 = None"
     ],
     "language": "python",
     "metadata": {},
     "outputs": [
      {
       "output_type": "stream",
       "stream": "stdout",
       "text": [
        "              2006  2007      2008  2009  2010  2011  2012  2013 State\n",
        "nces_code                                                             \n",
        "400001301028   NaN   NaN  0.682754   NaN   NaN   NaN   NaN   NaN    OK\n",
        "400001401566   NaN   NaN -0.653023   NaN   NaN   NaN   NaN   NaN    OK\n",
        "400001501640   NaN   NaN  0.368453   NaN   NaN   NaN   NaN   NaN    OK\n",
        "400002025620   NaN   NaN -0.495872   NaN   NaN   NaN   NaN   NaN    OK\n",
        "400002100848   NaN   NaN -0.338722   NaN   NaN   NaN   NaN   NaN    OK\n",
        "<class 'pandas.core.frame.DataFrame'>\n",
        "Int64Index: 8 entries, 0 to 7\n",
        "Data columns (total 22 columns):\n",
        "Year    8  non-null values\n",
        "CA      8  non-null values\n",
        "TX      6  non-null values\n",
        "NY      3  non-null values\n",
        "FL      3  non-null values\n",
        "IL      3  non-null values\n",
        "PA      4  non-null values\n",
        "GA      4  non-null values\n",
        "MI      6  non-null values\n",
        "NJ      4  non-null values\n",
        "VA      3  non-null values\n",
        "WA      3  non-null values\n",
        "MA      3  non-null values\n",
        "AZ      4  non-null values\n",
        "TN      2  non-null values\n",
        "MO      4  non-null values\n",
        "MD      4  non-null values\n",
        "MN      3  non-null values\n",
        "CO      7  non-null values\n",
        "AL      4  non-null values\n",
        "LA      3  non-null values\n",
        "OK      1  non-null values\n",
        "dtypes: float64(21), object(1)\n",
        "zcores_df shape: (34150, 9)\n"
       ]
      }
     ],
     "prompt_number": 60
    },
    {
     "cell_type": "markdown",
     "metadata": {},
     "source": [
      "<b>29. Connecticut</b>\n",
      "\n",
      "Level 3 - Proficient, Level 4 - Goal, Level 5 - Advanced."
     ]
    },
    {
     "cell_type": "code",
     "collapsed": false,
     "input": [
      "ct_g4 = get_data('CT')"
     ],
     "language": "python",
     "metadata": {},
     "outputs": [
      {
       "output_type": "stream",
       "stream": "stdout",
       "text": [
        "2013: []\n",
        "2012: ['% level 1' '% level 2' '% level 3' '% level 4' '% level 5' None]"
       ]
      },
      {
       "output_type": "stream",
       "stream": "stdout",
       "text": [
        "\n",
        "2011: ['% level 1' '% level 2' '% level 3' '% level 4' '% level 5' None]"
       ]
      },
      {
       "output_type": "stream",
       "stream": "stdout",
       "text": [
        "\n",
        "2010: ['% level 1' '% level 2' '% level 3' '% level 4' '% level 5' None]"
       ]
      },
      {
       "output_type": "stream",
       "stream": "stdout",
       "text": [
        "\n",
        "2009: [None '% level 1' '% level 2' '% level 3' '% level 4' '% level 5']"
       ]
      },
      {
       "output_type": "stream",
       "stream": "stdout",
       "text": [
        "\n",
        "2008: []\n",
        "2007: []\n",
        "2006: []\n",
        "2005: []\n",
        "2004: []"
       ]
      },
      {
       "output_type": "stream",
       "stream": "stdout",
       "text": [
        "\n",
        "2003: []\n",
        "None\n"
       ]
      }
     ],
     "prompt_number": 61
    },
    {
     "cell_type": "code",
     "collapsed": false,
     "input": [
      "names = ['% level 3', '% level 4', '% level 5']\n",
      "zscores_df, means_df = build_ful_dfs(ct_g4, 'CT', 2009, 2012, names)\n",
      "ct_g4 = None"
     ],
     "language": "python",
     "metadata": {},
     "outputs": [
      {
       "output_type": "stream",
       "stream": "stdout",
       "text": [
        "              2006  2007  2008      2009      2010      2011      2012  2013  \\\n",
        "nces_code                                                                      \n",
        "090000700747   NaN   NaN   NaN -0.633233 -1.690908 -0.687191  0.484558   NaN   \n",
        "090000900774   NaN   NaN   NaN       NaN -0.652185 -0.302979 -0.010593   NaN   \n",
        "090001000775   NaN   NaN   NaN -0.633233 -1.377331 -1.524900 -0.955289   NaN   \n",
        "090001600823   NaN   NaN   NaN -1.481999 -0.920032       NaN -0.961804   NaN   \n",
        "090002400981   NaN   NaN   NaN       NaN       NaN  0.685895  0.588800   NaN   \n",
        "\n",
        "             State  \n",
        "nces_code           \n",
        "090000700747    CT  \n",
        "090000900774    CT  \n",
        "090001000775    CT  \n",
        "090001600823    CT  \n",
        "090002400981    CT  \n",
        "<class 'pandas.core.frame.DataFrame'>\n",
        "Int64Index: 8 entries, 0 to 7\n",
        "Data columns (total 23 columns):\n",
        "Year    8  non-null values\n",
        "CA      8  non-null values\n",
        "TX      6  non-null values\n",
        "NY      3  non-null values\n",
        "FL      3  non-null values\n",
        "IL      3  non-null values\n",
        "PA      4  non-null values\n",
        "GA      4  non-null values\n",
        "MI      6  non-null values\n",
        "NJ      4  non-null values\n",
        "VA      3  non-null values\n",
        "WA      3  non-null values\n",
        "MA      3  non-null values\n",
        "AZ      4  non-null values\n",
        "TN      2  non-null values\n",
        "MO      4  non-null values\n",
        "MD      4  non-null values\n",
        "MN      3  non-null values\n",
        "CO      7  non-null values\n",
        "AL      4  non-null values\n",
        "LA      3  non-null values\n",
        "OK      1  non-null values\n",
        "CT      4  non-null values\n",
        "dtypes: float64(22), object(1)\n",
        "zcores_df shape: (34733, 9)\n"
       ]
      }
     ],
     "prompt_number": 62
    },
    {
     "cell_type": "markdown",
     "metadata": {},
     "source": [
      "<b>30. Iowa</b>\n",
      "\n",
      "Scores not levels (although could probably get something out of it for 2012)."
     ]
    },
    {
     "cell_type": "code",
     "collapsed": false,
     "input": [
      "ia_g4 = get_data('IA')"
     ],
     "language": "python",
     "metadata": {},
     "outputs": [
      {
       "output_type": "stream",
       "stream": "stdout",
       "text": [
        "2013: []\n",
        "2012: ['not proficient' None]\n",
        "2011: [None]\n",
        "2010: [None]\n",
        "2009: [None]\n",
        "2008: [None]\n",
        "2007: []\n",
        "2006: []\n",
        "2005: []\n",
        "2004: []\n",
        "2003: []\n",
        "None\n"
       ]
      }
     ],
     "prompt_number": 63
    },
    {
     "cell_type": "code",
     "collapsed": false,
     "input": [
      "print ia_g4.head()\n",
      "ia_g4=None"
     ],
     "language": "python",
     "metadata": {},
     "outputs": [
      {
       "output_type": "stream",
       "stream": "stdout",
       "text": [
        "    city   county grade_name level                           name  \\\n",
        "0  Adair  Guthrie          4  PK-6  Adair-Casey Elementary School   \n",
        "1  Adair  Guthrie          4  PK-6  Adair-Casey Elementary School   \n",
        "2  Adair  Guthrie          4  PK-6  Adair-Casey Elementary School   \n",
        "3  Adair  Guthrie          4  PK-6  Adair-Casey Elementary School   \n",
        "4  Adair  Guthrie          4  PK-6  Adair-Casey Elementary School   \n",
        "\n",
        "      nces_code number_tested proficiency_band_name    score state  \\\n",
        "0  190309000006            24        not proficient  29.1667    IA   \n",
        "1  190309000006            24                  None  70.8333    IA   \n",
        "2  190309000006            24        not proficient     25.0    IA   \n",
        "3  190309000006            24                  None     75.0    IA   \n",
        "4  190309000006             0                  None    64.81    IA   \n",
        "\n",
        "  subject_name  test-id    type universal_id  year  \n",
        "0      Reading  IA00189  public      1900051  2012  \n",
        "1      Reading  IA00189  public      1900051  2012  \n",
        "2         Math  IA00189  public      1900051  2012  \n",
        "3         Math  IA00189  public      1900051  2012  \n",
        "4      Reading  IA00027  public      1900051  2008  \n"
       ]
      }
     ],
     "prompt_number": 64
    },
    {
     "cell_type": "markdown",
     "metadata": {},
     "source": [
      "<b>31. Mississippi</b>"
     ]
    },
    {
     "cell_type": "code",
     "collapsed": false,
     "input": [
      "ms_g4 = get_data('MS')\n",
      "##complication - mutilpe exams for one year. Deal with it later if time\n",
      "ms_g4=None"
     ],
     "language": "python",
     "metadata": {},
     "outputs": [
      {
       "output_type": "stream",
       "stream": "stdout",
       "text": [
        "2013: []\n",
        "2012: ['minimal' 'basic' 'proficient' 'advanced' None 'Score 0' 'Score 1'\n",
        " 'Score 2' 'Score 3' 'Score 4']\n",
        "2011: ['minimal' 'basic' 'proficient' 'advanced' None 'Score 0' 'Score 1'\n",
        " 'Score 2' 'Score 3' 'Score 4']"
       ]
      },
      {
       "output_type": "stream",
       "stream": "stdout",
       "text": [
        "\n",
        "2010: ['minimal' 'basic' 'proficient' 'advanced' None]\n",
        "2009: [None 'minimal' 'basic' 'proficient' 'advanced']\n",
        "2008: []"
       ]
      },
      {
       "output_type": "stream",
       "stream": "stdout",
       "text": [
        "\n",
        "2007: []\n",
        "2006: []\n",
        "2005: []\n",
        "2004: []\n",
        "2003: []\n",
        "None\n"
       ]
      }
     ],
     "prompt_number": 65
    },
    {
     "cell_type": "markdown",
     "metadata": {},
     "source": [
      "<b>32. Arkansas</b>"
     ]
    },
    {
     "cell_type": "code",
     "collapsed": false,
     "input": [
      "ar_g4 = get_data('AR')"
     ],
     "language": "python",
     "metadata": {},
     "outputs": [
      {
       "output_type": "stream",
       "stream": "stdout",
       "text": [
        "2013: []\n",
        "2012: ['below basic' 'basic' 'proficient' 'advanced' None]\n",
        "2011: ['below basic' 'basic' 'proficient' 'advanced' None]\n",
        "2010: ['below basic' 'basic' 'proficient' 'advanced' None]"
       ]
      },
      {
       "output_type": "stream",
       "stream": "stdout",
       "text": [
        "\n",
        "2009: [None 'proficient' 'advanced' 'basic' 'below basic']\n",
        "2008: []\n",
        "2007: []\n",
        "2006: []\n",
        "2005: []"
       ]
      },
      {
       "output_type": "stream",
       "stream": "stdout",
       "text": [
        "\n",
        "2004: []\n",
        "2003: []\n",
        "None\n"
       ]
      }
     ],
     "prompt_number": 66
    },
    {
     "cell_type": "code",
     "collapsed": false,
     "input": [
      "names = ['proficient', 'advanced']\n",
      "zscores_df, means_df = build_ful_dfs(ar_g4, 'AR', 2009, 2012, names)\n",
      "ar_g4 = None"
     ],
     "language": "python",
     "metadata": {},
     "outputs": [
      {
       "output_type": "stream",
       "stream": "stdout",
       "text": [
        "              2006  2007  2008      2009      2010      2011      2012  2013  \\\n",
        "nces_code                                                                      \n",
        "050000100218   NaN   NaN   NaN  0.119340 -0.184036  0.292505 -0.223142   NaN   \n",
        "050000100391   NaN   NaN   NaN       NaN       NaN  1.585024  0.805225   NaN   \n",
        "050000601131   NaN   NaN   NaN -0.398113  0.263370 -0.919231 -0.935089   NaN   \n",
        "050000900190   NaN   NaN   NaN  0.932479  0.114235  0.615635  0.647014   NaN   \n",
        "050001201285   NaN   NaN   NaN -1.285174 -0.482308 -2.454097 -0.302248   NaN   \n",
        "\n",
        "             State  \n",
        "nces_code           \n",
        "050000100218    AR  \n",
        "050000100391    AR  \n",
        "050000601131    AR  \n",
        "050000900190    AR  \n",
        "050001201285    AR  \n",
        "<class 'pandas.core.frame.DataFrame'>\n",
        "Int64Index: 8 entries, 0 to 7\n",
        "Data columns (total 24 columns):\n",
        "Year    8  non-null values\n",
        "CA      8  non-null values\n",
        "TX      6  non-null values\n",
        "NY      3  non-null values\n",
        "FL      3  non-null values\n",
        "IL      3  non-null values\n",
        "PA      4  non-null values\n",
        "GA      4  non-null values\n",
        "MI      6  non-null values\n",
        "NJ      4  non-null values\n",
        "VA      3  non-null values\n",
        "WA      3  non-null values\n",
        "MA      3  non-null values\n",
        "AZ      4  non-null values\n",
        "TN      2  non-null values\n",
        "MO      4  non-null values\n",
        "MD      4  non-null values\n",
        "MN      3  non-null values\n",
        "CO      7  non-null values\n",
        "AL      4  non-null values\n",
        "LA      3  non-null values\n",
        "OK      1  non-null values\n",
        "CT      4  non-null values\n",
        "AR      4  non-null values\n",
        "dtypes: float64(23), object(1)\n",
        "zcores_df shape: (35246, 9)\n"
       ]
      }
     ],
     "prompt_number": 67
    },
    {
     "cell_type": "markdown",
     "metadata": {},
     "source": [
      "<b>33. Kansas</b>"
     ]
    },
    {
     "cell_type": "code",
     "collapsed": false,
     "input": [
      "ks_g4 = get_data('KS')"
     ],
     "language": "python",
     "metadata": {},
     "outputs": [
      {
       "output_type": "stream",
       "stream": "stdout",
       "text": [
        "2013: []\n",
        "2012: ['academic warning' 'approaches standard' 'meets standard'\n",
        " 'exceeds standard' 'exemplary' None]"
       ]
      },
      {
       "output_type": "stream",
       "stream": "stdout",
       "text": [
        "\n",
        "2011: ['academic warning' 'approaches standard' 'meets standard'\n",
        " 'exceeds standard' 'exemplary' None]"
       ]
      },
      {
       "output_type": "stream",
       "stream": "stdout",
       "text": [
        "\n",
        "2010: ['academic warning' 'approaches standard' 'meets standard'\n",
        " 'exceeds standard' 'exemplary' None]"
       ]
      },
      {
       "output_type": "stream",
       "stream": "stdout",
       "text": [
        "\n",
        "2009: ['academic warning' 'approaches standard' 'meets standard'\n",
        " 'exceeds standard' 'exemplary' None]"
       ]
      },
      {
       "output_type": "stream",
       "stream": "stdout",
       "text": [
        "\n",
        "2008: []\n",
        "2007: []\n",
        "2006: []\n",
        "2005: []"
       ]
      },
      {
       "output_type": "stream",
       "stream": "stdout",
       "text": [
        "\n",
        "2004: []\n",
        "2003: []\n",
        "None\n"
       ]
      }
     ],
     "prompt_number": 68
    },
    {
     "cell_type": "code",
     "collapsed": false,
     "input": [
      "names = ['meets standard', 'exceeds standard', 'exemplary']\n",
      "zscores_df, means_df = build_ful_dfs(ks_g4, 'KS', 2009, 2012, names)\n",
      "ks_g4 = None"
     ],
     "language": "python",
     "metadata": {},
     "outputs": [
      {
       "output_type": "stream",
       "stream": "stdout",
       "text": [
        "              2006  2007  2008      2009      2010      2011      2012  2013  \\\n",
        "nces_code                                                                      \n",
        "200000100524   NaN   NaN   NaN  0.796883  1.131085  0.622744  0.454274   NaN   \n",
        "200000200907   NaN   NaN   NaN  0.625248  1.131085  0.863851  0.374666   NaN   \n",
        "200000200909   NaN   NaN   NaN  1.088664  0.584764 -1.687872  0.135841   NaN   \n",
        "200000301608   NaN   NaN   NaN  0.719647 -0.551937 -0.000118  0.410047   NaN   \n",
        "200000400597   NaN   NaN   NaN  1.088664  1.139897  0.813621  0.870006   NaN   \n",
        "\n",
        "             State  \n",
        "nces_code           \n",
        "200000100524    KS  \n",
        "200000200907    KS  \n",
        "200000200909    KS  \n",
        "200000301608    KS  \n",
        "200000400597    KS  \n",
        "<class 'pandas.core.frame.DataFrame'>\n",
        "Int64Index: 8 entries, 0 to 7\n",
        "Data columns (total 25 columns):\n",
        "Year    8  non-null values\n",
        "CA      8  non-null values\n",
        "TX      6  non-null values\n",
        "NY      3  non-null values\n",
        "FL      3  non-null values\n",
        "IL      3  non-null values\n",
        "PA      4  non-null values\n",
        "GA      4  non-null values\n",
        "MI      6  non-null values\n",
        "NJ      4  non-null values\n",
        "VA      3  non-null values\n",
        "WA      3  non-null values\n",
        "MA      3  non-null values\n",
        "AZ      4  non-null values\n",
        "TN      2  non-null values\n",
        "MO      4  non-null values\n",
        "MD      4  non-null values\n",
        "MN      3  non-null values\n",
        "CO      7  non-null values\n",
        "AL      4  non-null values\n",
        "LA      3  non-null values\n",
        "OK      1  non-null values\n",
        "CT      4  non-null values\n",
        "AR      4  non-null values\n",
        "KS      4  non-null values\n",
        "dtypes: float64(24), object(1)\n",
        "zcores_df shape: (36003, 9)\n"
       ]
      }
     ],
     "prompt_number": 69
    },
    {
     "cell_type": "markdown",
     "metadata": {},
     "source": [
      "<b>34. Utah</b>"
     ]
    },
    {
     "cell_type": "code",
     "collapsed": false,
     "input": [
      "ut_g4 = get_data('UT')\n",
      "ut_g4=None"
     ],
     "language": "python",
     "metadata": {},
     "outputs": [
      {
       "output_type": "stream",
       "stream": "stdout",
       "text": [
        "2013: []\n",
        "2012: []\n",
        "2011: []\n",
        "2010: [None]\n",
        "2009: [None]\n",
        "2008: [None]\n",
        "2007: []\n",
        "2006: []\n",
        "2005: []\n",
        "2004: []\n",
        "2003: []\n",
        "None\n"
       ]
      }
     ],
     "prompt_number": 70
    },
    {
     "cell_type": "markdown",
     "metadata": {},
     "source": [
      "<b>35. Nevada</b>"
     ]
    },
    {
     "cell_type": "code",
     "collapsed": false,
     "input": [
      "nv_g4 = get_data('NV')"
     ],
     "language": "python",
     "metadata": {},
     "outputs": [
      {
       "output_type": "stream",
       "stream": "stdout",
       "text": [
        "2013: []\n",
        "2012: []\n",
        "2011: ['emergent/developing' 'approaches standard' 'meets standard'\n",
        " 'exceeds standard' None]\n",
        "2010: ['approaches standard' 'meets standard' 'exceeds standard' None\n",
        " 'emergent/developing']\n",
        "2009: [None]\n",
        "2008: [None 'exceeds standard' 'emergent/developing' 'meets standard'\n",
        " 'approaches standard']\n",
        "2007: []\n",
        "2006: []\n",
        "2005: []\n",
        "2004: []\n",
        "2003: []\n",
        "None\n"
       ]
      }
     ],
     "prompt_number": 71
    },
    {
     "cell_type": "code",
     "collapsed": false,
     "input": [
      "names = ['meets standard', 'exceeds standard']\n",
      "##zscores_df, means_df = build_ful_dfs(nv_g4, 'NV', 2008, 2008, names, 2010, 2011, names)\n",
      "nv_g4 = None\n",
      "\n",
      "##BUG: TypeError: only length-1 arrays can be converted to Python scalars"
     ],
     "language": "python",
     "metadata": {},
     "outputs": [],
     "prompt_number": 72
    },
    {
     "cell_type": "markdown",
     "metadata": {},
     "source": [
      "<b>36. New Mexico</b>"
     ]
    },
    {
     "cell_type": "code",
     "collapsed": false,
     "input": [
      "nm_g4 = get_data('NM')"
     ],
     "language": "python",
     "metadata": {},
     "outputs": [
      {
       "output_type": "stream",
       "stream": "stdout",
       "text": [
        "2013: []\n",
        "2012: ['beginning step' 'near proficient' 'proficient' 'advanced proficient' None]\n",
        "2011: ['beginning step' 'near proficient' 'proficient' 'advanced proficient' None]"
       ]
      },
      {
       "output_type": "stream",
       "stream": "stdout",
       "text": [
        "\n",
        "2010: ['beginning step' 'near proficient' 'proficient' 'advanced proficient' None]\n",
        "2009: [None 'proficient' 'near proficient' 'advanced proficient' 'beginning step']"
       ]
      },
      {
       "output_type": "stream",
       "stream": "stdout",
       "text": [
        "\n",
        "2008: []\n",
        "2007: []\n",
        "2006: []\n",
        "2005: []\n",
        "2004: []\n",
        "2003: []\n",
        "None\n"
       ]
      }
     ],
     "prompt_number": 73
    },
    {
     "cell_type": "code",
     "collapsed": false,
     "input": [
      "names = ['proficient', 'advanced proficient']\n",
      "zscores_df, means_df = build_ful_dfs(nm_g4, 'NM', 2009, 2012, names)\n",
      "nm_g4 = None"
     ],
     "language": "python",
     "metadata": {},
     "outputs": [
      {
       "output_type": "stream",
       "stream": "stdout",
       "text": [
        "              2006  2007  2008      2009      2010      2011      2012  2013 State\n",
        "nces_code                                                                         \n",
        "350000100607   NaN   NaN   NaN -1.233121       NaN  1.092711 -1.525470   NaN    NM\n",
        "350001000101   NaN   NaN   NaN  0.505331  0.522291  0.170652 -0.147029   NaN    NM\n",
        "350001000650   NaN   NaN   NaN -0.132537  0.571124 -0.274295  0.315959   NaN    NM\n",
        "350001000710   NaN   NaN   NaN  0.726051  0.549420  1.017660  0.621110   NaN    NM\n",
        "350001000736   NaN   NaN   NaN  0.477441  1.129998  1.173124  0.652677   NaN    NM\n",
        "<class 'pandas.core.frame.DataFrame'>\n",
        "Int64Index: 8 entries, 0 to 7\n",
        "Data columns (total 26 columns):\n",
        "Year    8  non-null values\n",
        "CA      8  non-null values\n",
        "TX      6  non-null values\n",
        "NY      3  non-null values\n",
        "FL      3  non-null values\n",
        "IL      3  non-null values\n",
        "PA      4  non-null values\n",
        "GA      4  non-null values\n",
        "MI      6  non-null values\n",
        "NJ      4  non-null values\n",
        "VA      3  non-null values\n",
        "WA      3  non-null values\n",
        "MA      3  non-null values\n",
        "AZ      4  non-null values\n",
        "TN      2  non-null values\n",
        "MO      4  non-null values\n",
        "MD      4  non-null values\n",
        "MN      3  non-null values\n",
        "CO      7  non-null values\n",
        "AL      4  non-null values\n",
        "LA      3  non-null values\n",
        "OK      1  non-null values\n",
        "CT      4  non-null values\n",
        "AR      4  non-null values\n",
        "KS      4  non-null values\n",
        "NM      4  non-null values\n",
        "dtypes: float64(25), object(1)\n",
        "zcores_df shape: (36425, 9)\n"
       ]
      }
     ],
     "prompt_number": 74
    },
    {
     "cell_type": "markdown",
     "metadata": {},
     "source": [
      "<b>37. Nebraska</b>"
     ]
    },
    {
     "cell_type": "code",
     "collapsed": false,
     "input": [
      "ne_g4 = get_data('NE')"
     ],
     "language": "python",
     "metadata": {},
     "outputs": [
      {
       "output_type": "stream",
       "stream": "stdout",
       "text": [
        "2013: []\n",
        "2012: ['basic' 'proficient' 'advanced' None]\n",
        "2011: ['proficient' 'advanced' None 'basic']\n",
        "2010: ['proficient' 'basic' 'advanced' None]\n",
        "2009: []\n",
        "2008: []\n",
        "2007: []\n",
        "2006: []\n",
        "2005: []\n",
        "2004: []\n",
        "2003: []\n",
        "None\n"
       ]
      }
     ],
     "prompt_number": 75
    },
    {
     "cell_type": "code",
     "collapsed": false,
     "input": [
      "names = ['proficient', 'advanced']\n",
      "zscores_df, means_df = build_ful_dfs(ne_g4, 'NE', 2012, 2012, names)\n",
      "ne_g4 = None\n",
      "##BUG 2010 and 2011: KeyError: u'no item named nces_code'"
     ],
     "language": "python",
     "metadata": {},
     "outputs": [
      {
       "output_type": "stream",
       "stream": "stdout",
       "text": [
        "              2006  2007  2008  2009  2010  2011      2012  2013 State\n",
        "nces_code                                                             \n",
        "310001601013   NaN   NaN   NaN   NaN   NaN   NaN  0.326611   NaN    NE\n",
        "310001601862   NaN   NaN   NaN   NaN   NaN   NaN  0.301188   NaN    NE\n",
        "310008801316   NaN   NaN   NaN   NaN   NaN   NaN  1.314651   NaN    NE\n",
        "310009500181   NaN   NaN   NaN   NaN   NaN   NaN -0.348260   NaN    NE\n",
        "310009800998   NaN   NaN   NaN   NaN   NaN   NaN -0.066294   NaN    NE\n",
        "<class 'pandas.core.frame.DataFrame'>\n",
        "Int64Index: 8 entries, 0 to 7\n",
        "Data columns (total 27 columns):\n",
        "Year    8  non-null values\n",
        "CA      8  non-null values\n",
        "TX      6  non-null values\n",
        "NY      3  non-null values\n",
        "FL      3  non-null values\n",
        "IL      3  non-null values\n",
        "PA      4  non-null values\n",
        "GA      4  non-null values\n",
        "MI      6  non-null values\n",
        "NJ      4  non-null values\n",
        "VA      3  non-null values\n",
        "WA      3  non-null values\n",
        "MA      3  non-null values\n",
        "AZ      4  non-null values\n",
        "TN      2  non-null values\n",
        "MO      4  non-null values\n",
        "MD      4  non-null values\n",
        "MN      3  non-null values\n",
        "CO      7  non-null values\n",
        "AL      4  non-null values\n",
        "LA      3  non-null values\n",
        "OK      1  non-null values\n",
        "CT      4  non-null values\n",
        "AR      4  non-null values\n",
        "KS      4  non-null values\n",
        "NM      4  non-null values\n",
        "NE      1  non-null values\n",
        "dtypes: float64(26), object(1)\n",
        "zcores_df shape: (36504, 9)\n"
       ]
      }
     ],
     "prompt_number": 76
    },
    {
     "cell_type": "markdown",
     "metadata": {},
     "source": [
      "<b>38. West Virginia</b>"
     ]
    },
    {
     "cell_type": "code",
     "collapsed": false,
     "input": [
      "wv_g4 = get_data('WV')\n",
      "wv_g4=None"
     ],
     "language": "python",
     "metadata": {},
     "outputs": [
      {
       "output_type": "stream",
       "stream": "stdout",
       "text": [
        "2013: []\n",
        "2012: [None]\n",
        "2011: [None]\n",
        "2010: [None]\n",
        "2009: [None]\n",
        "2008: []\n",
        "2007: []\n",
        "2006: []\n",
        "2005: []\n",
        "2004: []\n",
        "2003: []\n",
        "None\n"
       ]
      }
     ],
     "prompt_number": 77
    },
    {
     "cell_type": "markdown",
     "metadata": {},
     "source": [
      "<b>39. Idaho</b>"
     ]
    },
    {
     "cell_type": "code",
     "collapsed": false,
     "input": [
      "id_g4 = get_data('ID')"
     ],
     "language": "python",
     "metadata": {},
     "outputs": [
      {
       "output_type": "stream",
       "stream": "stdout",
       "text": [
        "2013: []\n",
        "2012: []\n",
        "2011: ['below basic' 'basic' 'proficient' 'advanced' None]\n",
        "2010: ['below basic' 'basic' 'proficient' 'advanced' None]"
       ]
      },
      {
       "output_type": "stream",
       "stream": "stdout",
       "text": [
        "\n",
        "2009: []\n",
        "2008: [None 'below basic' 'basic' 'proficient' 'advanced']\n",
        "2007: []\n",
        "2006: []"
       ]
      },
      {
       "output_type": "stream",
       "stream": "stdout",
       "text": [
        "\n",
        "2005: []\n",
        "2004: []\n",
        "2003: []\n",
        "None\n"
       ]
      }
     ],
     "prompt_number": 78
    },
    {
     "cell_type": "code",
     "collapsed": false,
     "input": [
      "names = ['proficient', 'advanced']\n",
      "zscores_df, means_df = build_ful_dfs(id_g4, 'ID', 2008, 2008, names, 2010, 2011, names)\n",
      "id_g4 = None"
     ],
     "language": "python",
     "metadata": {},
     "outputs": [
      {
       "output_type": "stream",
       "stream": "stdout",
       "text": [
        "              2006  2007      2008  2009      2010      2011  2012  2013 State\n",
        "nces_code                                                                     \n",
        "160000100613   NaN   NaN  1.096210   NaN  0.562600  1.165963   NaN   NaN    ID\n",
        "160000100619   NaN   NaN -0.805668   NaN  1.192014  1.175448   NaN   NaN    ID\n",
        "160000200603   NaN   NaN -0.186875   NaN  1.003190  1.080600   NaN   NaN    ID\n",
        "160000200614   NaN   NaN -0.860267   NaN -2.440605 -1.394933   NaN   NaN    ID\n",
        "160000200615   NaN   NaN -0.141375   NaN  0.346801  1.459992   NaN   NaN    ID\n",
        "<class 'pandas.core.frame.DataFrame'>\n",
        "Int64Index: 8 entries, 0 to 7\n",
        "Data columns (total 28 columns):\n",
        "Year    8  non-null values\n",
        "CA      8  non-null values\n",
        "TX      6  non-null values\n",
        "NY      3  non-null values\n",
        "FL      3  non-null values\n",
        "IL      3  non-null values\n",
        "PA      4  non-null values\n",
        "GA      4  non-null values\n",
        "MI      6  non-null values\n",
        "NJ      4  non-null values\n",
        "VA      3  non-null values\n",
        "WA      3  non-null values\n",
        "MA      3  non-null values\n",
        "AZ      4  non-null values\n",
        "TN      2  non-null values\n",
        "MO      4  non-null values\n",
        "MD      4  non-null values\n",
        "MN      3  non-null values\n",
        "CO      7  non-null values\n",
        "AL      4  non-null values\n",
        "LA      3  non-null values\n",
        "OK      1  non-null values\n",
        "CT      4  non-null values\n",
        "AR      4  non-null values\n",
        "KS      4  non-null values\n",
        "NM      4  non-null values\n",
        "NE      1  non-null values\n",
        "ID      3  non-null values\n",
        "dtypes: float64(27), object(1)\n",
        "zcores_df shape: (36854, 9)\n"
       ]
      }
     ],
     "prompt_number": 79
    },
    {
     "cell_type": "markdown",
     "metadata": {},
     "source": [
      "<b>40. Hawaii</b>"
     ]
    },
    {
     "cell_type": "code",
     "collapsed": false,
     "input": [
      "hi_g4 = get_data('HI')"
     ],
     "language": "python",
     "metadata": {},
     "outputs": [
      {
       "output_type": "stream",
       "stream": "stdout",
       "text": [
        "2013: []\n",
        "2012: ['well below' 'approaches' 'meets' 'exceeds' None]\n",
        "2011: ['well below' 'approaches' 'meets' 'exceeds' None]\n",
        "2010: ['well below' 'approaches' 'meets' 'exceeds' None]\n",
        "2009: [None 'well below' 'approaches' 'meets' 'exceeds']\n",
        "2008: []\n",
        "2007: []\n",
        "2006: []\n",
        "2005: []\n",
        "2004: []\n",
        "2003: []\n",
        "None\n"
       ]
      }
     ],
     "prompt_number": 80
    },
    {
     "cell_type": "code",
     "collapsed": false,
     "input": [
      "names = ['meets', 'exceeds']\n",
      "zscores_df, means_df = build_ful_dfs(hi_g4, 'HI', 2009, 2012, names)\n",
      "hi_g4 = None"
     ],
     "language": "python",
     "metadata": {},
     "outputs": [
      {
       "output_type": "stream",
       "stream": "stdout",
       "text": [
        "              2006  2007  2008      2009      2010      2011      2012  2013  \\\n",
        "nces_code                                                                      \n",
        "150003000001   NaN   NaN   NaN  0.956652  1.186005  0.663611  1.372500   NaN   \n",
        "150003000002   NaN   NaN   NaN -0.621707 -1.025780 -0.006278  0.161263   NaN   \n",
        "150003000003   NaN   NaN   NaN  0.009636  0.338631  0.846308  1.718568   NaN   \n",
        "150003000004   NaN   NaN   NaN  2.219339  0.875299  0.541813  0.449653   NaN   \n",
        "150003000005   NaN   NaN   NaN -0.242901  1.197699  1.759793 -0.588551   NaN   \n",
        "\n",
        "             State  \n",
        "nces_code           \n",
        "150003000001    HI  \n",
        "150003000002    HI  \n",
        "150003000003    HI  \n",
        "150003000004    HI  \n",
        "150003000005    HI  \n",
        "<class 'pandas.core.frame.DataFrame'>\n",
        "Int64Index: 8 entries, 0 to 7\n",
        "Data columns (total 29 columns):\n",
        "Year    8  non-null values\n",
        "CA      8  non-null values\n",
        "TX      6  non-null values\n",
        "NY      3  non-null values\n",
        "FL      3  non-null values\n",
        "IL      3  non-null values\n",
        "PA      4  non-null values\n",
        "GA      4  non-null values\n",
        "MI      6  non-null values\n",
        "NJ      4  non-null values\n",
        "VA      3  non-null values\n",
        "WA      3  non-null values\n",
        "MA      3  non-null values\n",
        "AZ      4  non-null values\n",
        "TN      2  non-null values\n",
        "MO      4  non-null values\n",
        "MD      4  non-null values\n",
        "MN      3  non-null values\n",
        "CO      7  non-null values\n",
        "AL      4  non-null values\n",
        "LA      3  non-null values\n",
        "OK      1  non-null values\n",
        "CT      4  non-null values\n",
        "AR      4  non-null values\n",
        "KS      4  non-null values\n",
        "NM      4  non-null values\n",
        "NE      1  non-null values\n",
        "ID      3  non-null values\n",
        "HI      4  non-null values\n",
        "dtypes: float64(28), object(1)\n",
        "zcores_df shape: (37054, 9)\n"
       ]
      }
     ],
     "prompt_number": 81
    },
    {
     "cell_type": "markdown",
     "metadata": {},
     "source": [
      "<b>41. Maine</b>\n",
      "\n",
      "Uses the New England Common Assessment Program (NECAP). Level 3 - Proficient, Level 4 - Proficient With Distinction:http://www.education.nh.gov/news/2012/necap11.htm"
     ]
    },
    {
     "cell_type": "code",
     "collapsed": false,
     "input": [
      "me_g4 = get_data('ME')"
     ],
     "language": "python",
     "metadata": {},
     "outputs": [
      {
       "output_type": "stream",
       "stream": "stdout",
       "text": [
        "2013: []\n",
        "2012: ['% level 1' '% level 2' '% level 3' '% level 4' None]\n",
        "2011: ['% level 1' '% level 2' '% level 3' '% level 4' None]\n",
        "2010: [None 'proficient with distinction' 'substantially below proficient'\n",
        " 'proficient' 'partially proficient']\n",
        "2009: ['partially meets' 'exceeds' None 'meets' 'does not meet']\n",
        "2008: []\n",
        "2007: []\n",
        "2006: []"
       ]
      },
      {
       "output_type": "stream",
       "stream": "stdout",
       "text": [
        "\n",
        "2005: []\n",
        "2004: []\n",
        "2003: []\n",
        "None\n"
       ]
      }
     ],
     "prompt_number": 82
    },
    {
     "cell_type": "code",
     "collapsed": false,
     "input": [
      "names = ['proficient', 'proficient with distinction']  \n",
      "names_later = ['% level 3', '% level 4']\n",
      "zscores_df, means_df = build_ful_dfs(me_g4, 'ME', 2010, 2010, names, 2011, 2012, names_later)\n",
      "me_g4 = None\n",
      "\n",
      "##Did not include 2009, as code not set up for three exam types."
     ],
     "language": "python",
     "metadata": {},
     "outputs": [
      {
       "output_type": "stream",
       "stream": "stdout",
       "text": [
        "              2006  2007  2008  2009      2010      2011      2012  2013 State\n",
        "nces_code                                                                     \n",
        "230000800455   NaN   NaN   NaN   NaN  0.174923 -2.193307       NaN   NaN    ME\n",
        "230006000640   NaN   NaN   NaN   NaN -1.315558       NaN       NaN   NaN    ME\n",
        "230006200560   NaN   NaN   NaN   NaN -2.158004  1.099908  1.286588   NaN    ME\n",
        "230006900630   NaN   NaN   NaN   NaN -1.574773       NaN       NaN   NaN    ME\n",
        "230222000001   NaN   NaN   NaN   NaN -1.639576 -0.188742  0.329719   NaN    ME\n",
        "<class 'pandas.core.frame.DataFrame'>\n",
        "Int64Index: 8 entries, 0 to 7\n",
        "Data columns (total 30 columns):\n",
        "Year    8  non-null values\n",
        "CA      8  non-null values\n",
        "TX      6  non-null values\n",
        "NY      3  non-null values\n",
        "FL      3  non-null values\n",
        "IL      3  non-null values\n",
        "PA      4  non-null values\n",
        "GA      4  non-null values\n",
        "MI      6  non-null values\n",
        "NJ      4  non-null values\n",
        "VA      3  non-null values\n",
        "WA      3  non-null values\n",
        "MA      3  non-null values\n",
        "AZ      4  non-null values\n",
        "TN      2  non-null values\n",
        "MO      4  non-null values\n",
        "MD      4  non-null values\n",
        "MN      3  non-null values\n",
        "CO      7  non-null values\n",
        "AL      4  non-null values\n",
        "LA      3  non-null values\n",
        "OK      1  non-null values\n",
        "CT      4  non-null values\n",
        "AR      4  non-null values\n",
        "KS      4  non-null values\n",
        "NM      4  non-null values\n",
        "NE      1  non-null values\n",
        "ID      3  non-null values\n",
        "HI      4  non-null values\n",
        "ME      3  non-null values\n",
        "dtypes: float64(29), object(1)\n",
        "zcores_df shape: (37424, 9)\n"
       ]
      }
     ],
     "prompt_number": 83
    },
    {
     "cell_type": "markdown",
     "metadata": {},
     "source": [
      "<b>42. New Hampshire</b>\n",
      "\n",
      "Uses the New England Common Assessment Program (NECAP): http://education.nh.gov/instruction/assessment/necap/. Level 3 - Proficient, Level 4 - Proficient With Distinction:http://www.education.nh.gov/news/2012/necap11.htm"
     ]
    },
    {
     "cell_type": "code",
     "collapsed": false,
     "input": [
      "nh_g4 = get_data('NH')"
     ],
     "language": "python",
     "metadata": {},
     "outputs": [
      {
       "output_type": "stream",
       "stream": "stdout",
       "text": [
        "2013: []\n",
        "2012: ['achievement level 1' 'achievement level 2' 'achievement level 3'\n",
        " 'achievement level 4' None]\n",
        "2011: ['achievement level 1' 'achievement level 2' 'achievement level 3'\n",
        " 'achievement level 4' None]\n",
        "2010: ['achievement level 1' 'achievement level 2' 'achievement level 3'\n",
        " 'achievement level 4' None]\n",
        "2009: [None 'achievement level 1' 'achievement level 2' 'achievement level 3'\n",
        " 'achievement level 4']\n",
        "2008: []\n",
        "2007: []\n",
        "2006: []\n",
        "2005: []\n",
        "2004: []"
       ]
      },
      {
       "output_type": "stream",
       "stream": "stdout",
       "text": [
        "\n",
        "2003: []\n",
        "None\n"
       ]
      }
     ],
     "prompt_number": 84
    },
    {
     "cell_type": "code",
     "collapsed": false,
     "input": [
      "names = ['achievement level 3', 'achievement level 4']\n",
      "zscores_df, means_df = build_ful_dfs(nh_g4, 'NH', 2009, 2012, names)\n",
      "nh_g4 = None"
     ],
     "language": "python",
     "metadata": {},
     "outputs": [
      {
       "output_type": "stream",
       "stream": "stdout",
       "text": [
        "              2006  2007  2008      2009      2010      2011      2012  2013 State\n",
        "nces_code                                                                         \n",
        "330003100606   NaN   NaN   NaN  0.279668 -0.251493  0.245973       NaN   NaN    NH\n",
        "330003500141   NaN   NaN   NaN  0.047645  0.999930 -0.483804  0.387898   NaN    NH\n",
        "330003900617   NaN   NaN   NaN       NaN       NaN -0.321631       NaN   NaN    NH\n",
        "330004200683   NaN   NaN   NaN       NaN -0.877204  0.245973       NaN   NaN    NH\n",
        "330061600295   NaN   NaN   NaN -1.112471 -1.033632 -1.943358 -2.867613   NaN    NH\n",
        "<class 'pandas.core.frame.DataFrame'>\n",
        "Int64Index: 8 entries, 0 to 7\n",
        "Data columns (total 31 columns):\n",
        "Year    8  non-null values\n",
        "CA      8  non-null values\n",
        "TX      6  non-null values\n",
        "NY      3  non-null values\n",
        "FL      3  non-null values\n",
        "IL      3  non-null values\n",
        "PA      4  non-null values\n",
        "GA      4  non-null values\n",
        "MI      6  non-null values\n",
        "NJ      4  non-null values\n",
        "VA      3  non-null values\n",
        "WA      3  non-null values\n",
        "MA      3  non-null values\n",
        "AZ      4  non-null values\n",
        "TN      2  non-null values\n",
        "MO      4  non-null values\n",
        "MD      4  non-null values\n",
        "MN      3  non-null values\n",
        "CO      7  non-null values\n",
        "AL      4  non-null values\n",
        "LA      3  non-null values\n",
        "OK      1  non-null values\n",
        "CT      4  non-null values\n",
        "AR      4  non-null values\n",
        "KS      4  non-null values\n",
        "NM      4  non-null values\n",
        "NE      1  non-null values\n",
        "ID      3  non-null values\n",
        "HI      4  non-null values\n",
        "ME      3  non-null values\n",
        "NH      4  non-null values\n",
        "dtypes: float64(30), object(1)\n",
        "zcores_df shape: (37682, 9)\n"
       ]
      }
     ],
     "prompt_number": 85
    },
    {
     "cell_type": "markdown",
     "metadata": {},
     "source": [
      "<b>43. Rhode Island</b>\n",
      "\n",
      "Uses the New England Common Assessment Program (NECAP): http://education.nh.gov/instruction/assessment/necap/. Level 3 - Proficient, Level 4 - Proficient With Distinction:http://www.education.nh.gov/news/2012/necap11.htm"
     ]
    },
    {
     "cell_type": "code",
     "collapsed": false,
     "input": [
      "ri_g4 = get_data('RI')"
     ],
     "language": "python",
     "metadata": {},
     "outputs": [
      {
       "output_type": "stream",
       "stream": "stdout",
       "text": [
        "2013: []\n",
        "2012: ['% level 1' '% level 2' '% level 3' '% level 4' None]\n",
        "2011: ['achievement level 1' 'achievement level 2' 'achievement level 3'\n",
        " 'achievement level 4' None]\n",
        "2010: ['achievement level 1' 'achievement level 2' 'achievement level 3'\n",
        " 'achievement level 4' None]\n",
        "2009: [None 'substantially below proficient' 'partially proficient' 'proficient'\n",
        " 'proficient with distinction']\n",
        "2008: []\n",
        "2007: []\n",
        "2006: []\n",
        "2005: []\n",
        "2004: []\n",
        "2003: []\n",
        "None\n"
       ]
      }
     ],
     "prompt_number": 86
    },
    {
     "cell_type": "code",
     "collapsed": false,
     "input": [
      "names = ['achievement level 3', 'achievement level 4']  \n",
      "names_later = ['% level 3', '% level 4']\n",
      "#zscores_df, means_df = build_ful_dfs(ri_g4, 'RI', 2011, 2012, names)\n",
      "ri_g4 = None\n",
      "\n",
      "##Did not include 2009, as code not set up for three exam types.\n",
      "##BUG 2011 and 2012: Exception: Length mismatch (2 vs 1)"
     ],
     "language": "python",
     "metadata": {},
     "outputs": [],
     "prompt_number": 87
    },
    {
     "cell_type": "markdown",
     "metadata": {},
     "source": [
      "<b>44. Montana</b>"
     ]
    },
    {
     "cell_type": "code",
     "collapsed": false,
     "input": [
      "mt_g4 = get_data('MT')"
     ],
     "language": "python",
     "metadata": {},
     "outputs": [
      {
       "output_type": "stream",
       "stream": "stdout",
       "text": [
        "2013: []\n",
        "2012: []\n",
        "2011: ['novice' 'nearing proficient' 'proficient' 'advanced' None]\n",
        "2010: ['novice' 'nearing proficient' 'proficient' 'advanced' None]\n",
        "2009: [None 'advanced' 'novice' 'proficient' 'nearing proficient']\n",
        "2008: [None 'proficient' 'nearing proficient' 'advanced' 'novice']"
       ]
      },
      {
       "output_type": "stream",
       "stream": "stdout",
       "text": [
        "\n",
        "2007: []\n",
        "2006: []\n",
        "2005: []\n",
        "2004: []\n",
        "2003: []\n",
        "None\n"
       ]
      }
     ],
     "prompt_number": 88
    },
    {
     "cell_type": "code",
     "collapsed": false,
     "input": [
      "names = ['proficient', 'advanced']\n",
      "zscores_df, means_df = build_ful_dfs(mt_g4, 'MT', 2008, 2011, names)\n",
      "mt_g4 = None"
     ],
     "language": "python",
     "metadata": {},
     "outputs": [
      {
       "output_type": "stream",
       "stream": "stdout",
       "text": [
        "              2006  2007      2008      2009      2010      2011  2012  2013  \\\n",
        "nces_code                                                                      \n",
        "300000200705   NaN   NaN -0.539071 -0.009046 -1.258813  0.117422   NaN   NaN   \n",
        "300000300233   NaN   NaN -0.197062  0.977468 -0.060241  1.133749   NaN   NaN   \n",
        "300000500337   NaN   NaN -0.710076  0.593824  0.002842 -0.673054   NaN   NaN   \n",
        "300000500415   NaN   NaN  0.771963 -0.831141 -0.060241  0.625586   NaN   NaN   \n",
        "300000500416   NaN   NaN -1.223089 -0.118658 -1.258813 -0.673054   NaN   NaN   \n",
        "\n",
        "             State  \n",
        "nces_code           \n",
        "300000200705    MT  \n",
        "300000300233    MT  \n",
        "300000500337    MT  \n",
        "300000500415    MT  \n",
        "300000500416    MT  \n",
        "<class 'pandas.core.frame.DataFrame'>\n",
        "Int64Index: 8 entries, 0 to 7\n",
        "Data columns (total 32 columns):\n",
        "Year    8  non-null values\n",
        "CA      8  non-null values\n",
        "TX      6  non-null values\n",
        "NY      3  non-null values\n",
        "FL      3  non-null values\n",
        "IL      3  non-null values\n",
        "PA      4  non-null values\n",
        "GA      4  non-null values\n",
        "MI      6  non-null values\n",
        "NJ      4  non-null values\n",
        "VA      3  non-null values\n",
        "WA      3  non-null values\n",
        "MA      3  non-null values\n",
        "AZ      4  non-null values\n",
        "TN      2  non-null values\n",
        "MO      4  non-null values\n",
        "MD      4  non-null values\n",
        "MN      3  non-null values\n",
        "CO      7  non-null values\n",
        "AL      4  non-null values\n",
        "LA      3  non-null values\n",
        "OK      1  non-null values\n",
        "CT      4  non-null values\n",
        "AR      4  non-null values\n",
        "KS      4  non-null values\n",
        "NM      4  non-null values\n",
        "NE      1  non-null values\n",
        "ID      3  non-null values\n",
        "HI      4  non-null values\n",
        "ME      3  non-null values\n",
        "NH      4  non-null values\n",
        "MT      2  non-null values\n",
        "dtypes: float64(31), object(1)\n",
        "zcores_df shape: (37937, 9)\n"
       ]
      }
     ],
     "prompt_number": 89
    },
    {
     "cell_type": "markdown",
     "metadata": {},
     "source": [
      "<b>45. Delaware</b>\n",
      "\n",
      "Scores instead of levels"
     ]
    },
    {
     "cell_type": "code",
     "collapsed": false,
     "input": [
      "de_g4 = get_data('DE')\n",
      "print de_g4.head()\n",
      "de_g4=None"
     ],
     "language": "python",
     "metadata": {},
     "outputs": [
      {
       "output_type": "stream",
       "stream": "stdout",
       "text": [
        "2013: [None]\n",
        "2012: [None]\n",
        "2011: [None]\n",
        "2010: []\n",
        "2009: []\n",
        "2008: []\n",
        "2007: []\n",
        "2006: []\n",
        "2005: []\n",
        "2004: []\n",
        "2003: []\n",
        "None\n",
        "         city      county grade_name level                      name  \\\n",
        "0  Wilmington  New Castle          4  PK-8  East Side Charter School   \n",
        "1  Wilmington  New Castle          4  PK-8  East Side Charter School   \n",
        "2  Wilmington  New Castle          4  PK-8  East Side Charter School   \n",
        "3  Wilmington  New Castle          4  PK-8  East Side Charter School   \n",
        "4  Wilmington  New Castle          4  PK-8  East Side Charter School   \n",
        "\n",
        "      nces_code number_tested proficiency_band_name  score state  \\\n",
        "0  100000600017            59                  None  40.68    DE   \n",
        "1  100000600017            56                  None  23.21    DE   \n",
        "2  100000600017            58                  None  32.76    DE   \n",
        "3  100000600017            37                  None  35.14    DE   \n",
        "4  100000600017            35                  None  48.57    DE   \n",
        "\n",
        "            subject_name  test-id     type universal_id  year  \n",
        "0         Social Studies  DE00188  charter      1000003  2011  \n",
        "1  English Language Arts  DE00188  charter      1000003  2011  \n",
        "2                   Math  DE00188  charter      1000003  2011  \n",
        "3         Social Studies  DE00188  charter      1000003  2012  \n",
        "4  English Language Arts  DE00188  charter      1000003  2012  "
       ]
      },
      {
       "output_type": "stream",
       "stream": "stdout",
       "text": [
        "\n"
       ]
      }
     ],
     "prompt_number": 90
    },
    {
     "cell_type": "markdown",
     "metadata": {},
     "source": [
      "<b>46. South Dakota</b>"
     ]
    },
    {
     "cell_type": "code",
     "collapsed": false,
     "input": [
      "sd_g4 = get_data('SD')"
     ],
     "language": "python",
     "metadata": {},
     "outputs": [
      {
       "output_type": "stream",
       "stream": "stdout",
       "text": [
        "2013: []\n",
        "2012: ['below basic' 'basic' 'proficient' 'advanced' None]\n",
        "2011: ['below basic' 'basic' 'proficient' 'advanced' None]\n",
        "2010: ['below basic' 'basic' 'proficient' 'advanced' None]\n",
        "2009: [None 'proficient' 'basic' 'advanced' 'below basic']\n",
        "2008: []\n",
        "2007: []\n",
        "2006: []\n",
        "2005: []\n",
        "2004: []\n",
        "2003: []\n",
        "None\n"
       ]
      }
     ],
     "prompt_number": 91
    },
    {
     "cell_type": "code",
     "collapsed": false,
     "input": [
      "names = ['proficient', 'advanced']\n",
      "zscores_df, means_df = build_ful_dfs(sd_g4, 'SD', 2009, 2012, names)\n",
      "sd_g4 = None"
     ],
     "language": "python",
     "metadata": {},
     "outputs": [
      {
       "output_type": "stream",
       "stream": "stdout",
       "text": [
        "              2006  2007  2008      2009      2010      2011      2012  2013  \\\n",
        "nces_code                                                                      \n",
        "460000200423   NaN   NaN   NaN -0.414101  0.572438  0.707755  0.339414   NaN   \n",
        "460000300757   NaN   NaN   NaN       NaN  0.452141 -0.180750       NaN   NaN   \n",
        "460000300872   NaN   NaN   NaN  0.532000       NaN       NaN       NaN   NaN   \n",
        "460002500304   NaN   NaN   NaN       NaN  0.091250  0.200038  0.719339   NaN   \n",
        "460002500913   NaN   NaN   NaN  1.185856       NaN       NaN       NaN   NaN   \n",
        "\n",
        "             State  \n",
        "nces_code           \n",
        "460000200423    SD  \n",
        "460000300757    SD  \n",
        "460000300872    SD  \n",
        "460002500304    SD  \n",
        "460002500913    SD  \n",
        "<class 'pandas.core.frame.DataFrame'>\n",
        "Int64Index: 8 entries, 0 to 7\n",
        "Data columns (total 33 columns):\n",
        "Year    8  non-null values\n",
        "CA      8  non-null values\n",
        "TX      6  non-null values\n",
        "NY      3  non-null values\n",
        "FL      3  non-null values\n",
        "IL      3  non-null values\n",
        "PA      4  non-null values\n",
        "GA      4  non-null values\n",
        "MI      6  non-null values\n",
        "NJ      4  non-null values\n",
        "VA      3  non-null values\n",
        "WA      3  non-null values\n",
        "MA      3  non-null values\n",
        "AZ      4  non-null values\n",
        "TN      2  non-null values\n",
        "MO      4  non-null values\n",
        "MD      4  non-null values\n",
        "MN      3  non-null values\n",
        "CO      7  non-null values\n",
        "AL      4  non-null values\n",
        "LA      3  non-null values\n",
        "OK      1  non-null values\n",
        "CT      4  non-null values\n",
        "AR      4  non-null values\n",
        "KS      4  non-null values\n",
        "NM      4  non-null values\n",
        "NE      1  non-null values\n",
        "ID      3  non-null values\n",
        "HI      4  non-null values\n",
        "ME      3  non-null values\n",
        "NH      4  non-null values\n",
        "MT      2  non-null values\n",
        "SD      3  non-null values\n",
        "dtypes: float64(32), object(1)\n",
        "zcores_df shape: (38198, 9)\n"
       ]
      }
     ],
     "prompt_number": 92
    },
    {
     "cell_type": "markdown",
     "metadata": {},
     "source": [
      "<b>47. Alaska</b>"
     ]
    },
    {
     "cell_type": "code",
     "collapsed": false,
     "input": [
      "ak_g4 = get_data('AK')\n",
      "ak_g4=None"
     ],
     "language": "python",
     "metadata": {},
     "outputs": [
      {
       "output_type": "stream",
       "stream": "stdout",
       "text": [
        "2013: []\n",
        "2012: []\n",
        "2011: ['not proficient' None]\n",
        "2010: ['not proficient' None]\n",
        "2009: ['not proficient' None]\n",
        "2008: [None]\n",
        "2007: []\n",
        "2006: []\n",
        "2005: []\n",
        "2004: []\n",
        "2003: []\n",
        "None\n"
       ]
      }
     ],
     "prompt_number": 93
    },
    {
     "cell_type": "markdown",
     "metadata": {},
     "source": [
      "<b>48. North Dakota</b>"
     ]
    },
    {
     "cell_type": "code",
     "collapsed": false,
     "input": [
      "nd_g4 = get_data('ND')"
     ],
     "language": "python",
     "metadata": {},
     "outputs": [
      {
       "output_type": "stream",
       "stream": "stdout",
       "text": [
        "2013: ['unsatisfactory' 'partially proficient' 'proficient' 'advanced' None]\n",
        "2012: ['unsatisfactory' 'partially proficient' 'proficient' 'advanced' None]\n",
        "2011: ['unsatisfactory' 'partially proficient' 'proficient' 'advanced' None]\n",
        "2010: ['unsatisfactory' 'partially proficient' 'proficient' 'advanced' None]\n",
        "2009: []\n",
        "2008: []\n",
        "2007: []\n",
        "2006: []\n",
        "2005: []"
       ]
      },
      {
       "output_type": "stream",
       "stream": "stdout",
       "text": [
        "\n",
        "2004: []\n",
        "2003: []\n",
        "None\n"
       ]
      }
     ],
     "prompt_number": 94
    },
    {
     "cell_type": "code",
     "collapsed": false,
     "input": [
      "names = ['proficient', 'advanced']\n",
      "zscores_df, means_df = build_ful_dfs(nd_g4, 'ND', 2010, 2013, names)\n",
      "nd_g4 = None"
     ],
     "language": "python",
     "metadata": {},
     "outputs": [
      {
       "output_type": "stream",
       "stream": "stdout",
       "text": [
        "              2006  2007  2008  2009      2010      2011      2012      2013  \\\n",
        "nces_code                                                                      \n",
        "380001400048   NaN   NaN   NaN   NaN  0.160566 -0.623314  0.523702  0.328636   \n",
        "380001400049   NaN   NaN   NaN   NaN  0.398011 -0.181452  0.221638 -0.415350   \n",
        "380001400050   NaN   NaN   NaN   NaN  0.939042  0.978435  0.876111  0.968678   \n",
        "380001400052   NaN   NaN   NaN   NaN -1.880021 -2.587141 -0.410595 -0.460597   \n",
        "380001400053   NaN   NaN   NaN   NaN  0.506109 -0.241704  0.408964 -0.390789   \n",
        "\n",
        "             State  \n",
        "nces_code           \n",
        "380001400048    ND  \n",
        "380001400049    ND  \n",
        "380001400050    ND  \n",
        "380001400052    ND  \n",
        "380001400053    ND  \n",
        "<class 'pandas.core.frame.DataFrame'>\n",
        "Int64Index: 8 entries, 0 to 7\n",
        "Data columns (total 34 columns):\n",
        "Year    8  non-null values\n",
        "CA      8  non-null values\n",
        "TX      6  non-null values\n",
        "NY      3  non-null values\n",
        "FL      3  non-null values\n",
        "IL      3  non-null values\n",
        "PA      4  non-null values\n",
        "GA      4  non-null values\n",
        "MI      6  non-null values\n",
        "NJ      4  non-null values\n",
        "VA      3  non-null values\n",
        "WA      3  non-null values\n",
        "MA      3  non-null values\n",
        "AZ      4  non-null values\n",
        "TN      2  non-null values\n",
        "MO      4  non-null values\n",
        "MD      4  non-null values\n",
        "MN      3  non-null values\n",
        "CO      7  non-null values\n",
        "AL      4  non-null values\n",
        "LA      3  non-null values\n",
        "OK      1  non-null values\n",
        "CT      4  non-null values\n",
        "AR      4  non-null values\n",
        "KS      4  non-null values\n",
        "NM      4  non-null values\n",
        "NE      1  non-null values\n",
        "ID      3  non-null values\n",
        "HI      4  non-null values\n",
        "ME      3  non-null values\n",
        "NH      4  non-null values\n",
        "MT      2  non-null values\n",
        "SD      3  non-null values\n",
        "ND      4  non-null values\n",
        "dtypes: float64(33), object(1)\n",
        "zcores_df shape: (38411, 9)\n"
       ]
      }
     ],
     "prompt_number": 95
    },
    {
     "cell_type": "markdown",
     "metadata": {},
     "source": [
      "<b>49. District of Columbia</b>"
     ]
    },
    {
     "cell_type": "code",
     "collapsed": false,
     "input": [
      "dc_g4 = get_data('DC')"
     ],
     "language": "python",
     "metadata": {},
     "outputs": [
      {
       "output_type": "stream",
       "stream": "stdout",
       "text": [
        "2013: [None]\n",
        "2012: ['below basic' 'basic' 'proficient' 'advanced' None]\n",
        "2011: [None 'proficient' 'below basic' 'advanced' 'basic']\n",
        "2010: [None 'proficient' 'below basic' 'advanced' 'basic']\n",
        "2009: []\n",
        "2008: []\n",
        "2007: []\n",
        "2006: []\n",
        "2005: []\n",
        "2004: []\n",
        "2003: []\n",
        "None\n"
       ]
      }
     ],
     "prompt_number": 96
    },
    {
     "cell_type": "code",
     "collapsed": false,
     "input": [
      "names = ['proficient', 'advanced']\n",
      "zscores_df, means_df = build_ful_dfs(dc_g4, 'DC', 2010, 2012, names)\n",
      "dc_g4 = None"
     ],
     "language": "python",
     "metadata": {},
     "outputs": [
      {
       "output_type": "stream",
       "stream": "stdout",
       "text": [
        "              2006  2007  2008  2009      2010      2011      2012  2013 State\n",
        "nces_code                                                                     \n",
        "110000100215   NaN   NaN   NaN   NaN -0.055372 -0.224090 -0.835704   NaN    DC\n",
        "110000700221   NaN   NaN   NaN   NaN -0.716927  0.395733  0.055766   NaN    DC\n",
        "110000700370   NaN   NaN   NaN   NaN  0.266841  1.552734  0.965715   NaN    DC\n",
        "110000700380   NaN   NaN   NaN   NaN  0.709480  0.602340  0.444003   NaN    DC\n",
        "110000700398   NaN   NaN   NaN   NaN -1.283743 -0.926554 -1.808833   NaN    DC\n",
        "<class 'pandas.core.frame.DataFrame'>\n",
        "Int64Index: 8 entries, 0 to 7\n",
        "Data columns (total 35 columns):\n",
        "Year    8  non-null values\n",
        "CA      8  non-null values\n",
        "TX      6  non-null values\n",
        "NY      3  non-null values\n",
        "FL      3  non-null values\n",
        "IL      3  non-null values\n",
        "PA      4  non-null values\n",
        "GA      4  non-null values\n",
        "MI      6  non-null values\n",
        "NJ      4  non-null values\n",
        "VA      3  non-null values\n",
        "WA      3  non-null values\n",
        "MA      3  non-null values\n",
        "AZ      4  non-null values\n",
        "TN      2  non-null values\n",
        "MO      4  non-null values\n",
        "MD      4  non-null values\n",
        "MN      3  non-null values\n",
        "CO      7  non-null values\n",
        "AL      4  non-null values\n",
        "LA      3  non-null values\n",
        "OK      1  non-null values\n",
        "CT      4  non-null values\n",
        "AR      4  non-null values\n",
        "KS      4  non-null values\n",
        "NM      4  non-null values\n",
        "NE      1  non-null values\n",
        "ID      3  non-null values\n",
        "HI      4  non-null values\n",
        "ME      3  non-null values\n",
        "NH      4  non-null values\n",
        "MT      2  non-null values\n",
        "SD      3  non-null values\n",
        "ND      4  non-null values\n",
        "DC      3  non-null values\n",
        "dtypes: float64(34), object(1)\n",
        "zcores_df shape: (38518, 9)\n"
       ]
      }
     ],
     "prompt_number": 97
    },
    {
     "cell_type": "markdown",
     "metadata": {},
     "source": [
      "<b>50. Vermont</b>"
     ]
    },
    {
     "cell_type": "code",
     "collapsed": false,
     "input": [
      "vt_g4 = get_data('VT')"
     ],
     "language": "python",
     "metadata": {},
     "outputs": [
      {
       "output_type": "stream",
       "stream": "stdout",
       "text": [
        "2013: ['substantially below proficient' 'partially proficient' 'proficient'\n",
        " 'proficient with distinction' None]\n",
        "2012: ['academic warning' 'below' 'meets' 'exceeds' None]\n",
        "2011: ['academic warning' 'below' 'meets' 'exceeds' None]\n",
        "2010: ['academic warning' 'below' 'meets' 'exceeds' None]\n",
        "2009: []\n",
        "2008: []\n",
        "2007: []\n",
        "2006: []\n",
        "2005: []\n",
        "2004: []\n",
        "2003: []\n",
        "None\n"
       ]
      }
     ],
     "prompt_number": 98
    },
    {
     "cell_type": "code",
     "collapsed": false,
     "input": [
      "names = ['meets', 'exceeds']\n",
      "names_later = ['proficient', 'proficient with distinction']\n",
      "zscores_df, means_df = build_ful_dfs(vt_g4, 'VT', 2010, 2012, names, 2013, 2013, names_later)\n",
      "vt_g4 = None"
     ],
     "language": "python",
     "metadata": {},
     "outputs": [
      {
       "output_type": "stream",
       "stream": "stdout",
       "text": [
        "              2006  2007  2008  2009      2010      2011      2012      2013  \\\n",
        "nces_code                                                                      \n",
        "500000100418   NaN   NaN   NaN   NaN -0.126837  0.730999  0.495389  0.432062   \n",
        "500000300461   NaN   NaN   NaN   NaN -1.503703 -0.088043       NaN       NaN   \n",
        "500000800130   NaN   NaN   NaN   NaN  0.266553  0.594492  0.104292  1.069785   \n",
        "500000900177   NaN   NaN   NaN   NaN  1.053334  0.799253       NaN  0.290346   \n",
        "500002400131   NaN   NaN   NaN   NaN  1.250029  1.686548 -0.743083  1.140643   \n",
        "\n",
        "             State  \n",
        "nces_code           \n",
        "500000100418    VT  \n",
        "500000300461    VT  \n",
        "500000800130    VT  \n",
        "500000900177    VT  \n",
        "500002400131    VT  \n",
        "<class 'pandas.core.frame.DataFrame'>\n",
        "Int64Index: 8 entries, 0 to 7\n",
        "Data columns (total 36 columns):\n",
        "Year    8  non-null values\n",
        "CA      8  non-null values\n",
        "TX      6  non-null values\n",
        "NY      3  non-null values\n",
        "FL      3  non-null values\n",
        "IL      3  non-null values\n",
        "PA      4  non-null values\n",
        "GA      4  non-null values\n",
        "MI      6  non-null values\n",
        "NJ      4  non-null values\n",
        "VA      3  non-null values\n",
        "WA      3  non-null values\n",
        "MA      3  non-null values\n",
        "AZ      4  non-null values\n",
        "TN      2  non-null values\n",
        "MO      4  non-null values\n",
        "MD      4  non-null values\n",
        "MN      3  non-null values\n",
        "CO      7  non-null values\n",
        "AL      4  non-null values\n",
        "LA      3  non-null values\n",
        "OK      1  non-null values\n",
        "CT      4  non-null values\n",
        "AR      4  non-null values\n",
        "KS      4  non-null values\n",
        "NM      4  non-null values\n",
        "NE      1  non-null values\n",
        "ID      3  non-null values\n",
        "HI      4  non-null values\n",
        "ME      3  non-null values\n",
        "NH      4  non-null values\n",
        "MT      2  non-null values\n",
        "SD      3  non-null values\n",
        "ND      4  non-null values\n",
        "DC      3  non-null values\n",
        "VT      4  non-null values\n",
        "dtypes: float64(35), object(1)\n",
        "zcores_df shape: (38717, 9)\n"
       ]
      }
     ],
     "prompt_number": 99
    },
    {
     "cell_type": "markdown",
     "metadata": {},
     "source": [
      "<b>51. Wyoming</b>"
     ]
    },
    {
     "cell_type": "code",
     "collapsed": false,
     "input": [
      "wy_g4 = get_data('WY')"
     ],
     "language": "python",
     "metadata": {},
     "outputs": [
      {
       "output_type": "stream",
       "stream": "stdout",
       "text": [
        "2013: []\n",
        "2012: ['below basic' 'basic' 'proficient' 'advanced' None]\n",
        "2011: ['below basic' 'basic' 'proficient' 'advanced' None]\n",
        "2010: []\n",
        "2009: [None 'proficient' 'advanced' 'basic' 'below basic']\n",
        "2008: []\n",
        "2007: []\n",
        "2006: []\n",
        "2005: []\n",
        "2004: []\n",
        "2003: []\n",
        "None\n"
       ]
      }
     ],
     "prompt_number": 100
    },
    {
     "cell_type": "code",
     "collapsed": false,
     "input": [
      "names = ['proficient', 'advanced']\n",
      "zscores_df, means_df = build_ful_dfs(wy_g4, 'WY', 2009, 2009, names, 2011, 2012, names)\n",
      "wy_g4 = None"
     ],
     "language": "python",
     "metadata": {},
     "outputs": [
      {
       "output_type": "stream",
       "stream": "stdout",
       "text": [
        "              2006  2007  2008      2009  2010      2011      2012  2013 State\n",
        "nces_code                                                                     \n",
        "560073000004   NaN   NaN   NaN  0.621316   NaN  0.571024  0.516354   NaN    WY\n",
        "560073000005   NaN   NaN   NaN -0.063831   NaN -0.252870  1.062568   NaN    WY\n",
        "560073000006   NaN   NaN   NaN  1.685784   NaN  0.615632  0.896929   NaN    WY\n",
        "560073000007   NaN   NaN   NaN       NaN   NaN       NaN -1.269191   NaN    WY\n",
        "560073000014   NaN   NaN   NaN  0.397675   NaN  0.592873  0.157471   NaN    WY\n",
        "<class 'pandas.core.frame.DataFrame'>\n",
        "Int64Index: 8 entries, 0 to 7\n",
        "Data columns (total 37 columns):\n",
        "Year    8  non-null values\n",
        "CA      8  non-null values\n",
        "TX      6  non-null values\n",
        "NY      3  non-null values\n",
        "FL      3  non-null values\n",
        "IL      3  non-null values\n",
        "PA      4  non-null values\n",
        "GA      4  non-null values\n",
        "MI      6  non-null values\n",
        "NJ      4  non-null values\n",
        "VA      3  non-null values\n",
        "WA      3  non-null values\n",
        "MA      3  non-null values\n",
        "AZ      4  non-null values\n",
        "TN      2  non-null values\n",
        "MO      4  non-null values\n",
        "MD      4  non-null values\n",
        "MN      3  non-null values\n",
        "CO      7  non-null values\n",
        "AL      4  non-null values\n",
        "LA      3  non-null values\n",
        "OK      1  non-null values\n",
        "CT      4  non-null values\n",
        "AR      4  non-null values\n",
        "KS      4  non-null values\n",
        "NM      4  non-null values\n",
        "NE      1  non-null values\n",
        "ID      3  non-null values\n",
        "HI      4  non-null values\n",
        "ME      3  non-null values\n",
        "NH      4  non-null values\n",
        "MT      2  non-null values\n",
        "SD      3  non-null values\n",
        "ND      4  non-null values\n",
        "DC      3  non-null values\n",
        "VT      4  non-null values\n",
        "WY      2  non-null values\n",
        "dtypes: float64(36), object(1)\n",
        "zcores_df shape: (38874, 9)\n"
       ]
      }
     ],
     "prompt_number": 101
    },
    {
     "cell_type": "code",
     "collapsed": false,
     "input": [
      "##zscores_df.to_csv('zscores_df.csv', index_label='ncesid')\n",
      "##means_df.to_csv('means_df.csv', index_label='ncesid')\n",
      "zscores_df=None\n",
      "means_df=None"
     ],
     "language": "python",
     "metadata": {},
     "outputs": [],
     "prompt_number": 104
    },
    {
     "cell_type": "markdown",
     "metadata": {},
     "source": [
      "<b>Unresolved Coding Issues</b>\n",
      "\n",
      "I have not been able to eliminate all bugs in this code and, owing to time constraints, have set some aside for now, commenting out the appropriate lines. Nebraska for some years produces: KeyError: u'no item named nces_code'. Rhode Island for some years produces: Exception: Length mismatch (2 vs 1). More importantly, I have no data for North Carolina, South Carolina, Wisconsin, Nevada as they produce:  TypeError: only length-1 arrays can be converted to Python scalars. However, I strongly suspect that the bug arises from trying to calculate percent proficient or mean percent proficient for schools where either the relevant 'proficiency_band_name is missing', or there is some other reason why the 'score' cannot convert to a float, perhaps because it is empty, None etc. I have worked on this bug for a long time but been unfortunately been unable to fix it. \n"
     ]
    },
    {
     "cell_type": "heading",
     "level": 2,
     "metadata": {},
     "source": [
      "Steps 2 and 3"
     ]
    },
    {
     "cell_type": "heading",
     "level": 3,
     "metadata": {},
     "source": [
      "Step 2"
     ]
    },
    {
     "cell_type": "code",
     "collapsed": false,
     "input": [
      "means_df = pd.read_csv('means_df.csv')"
     ],
     "language": "python",
     "metadata": {},
     "outputs": [],
     "prompt_number": 4
    },
    {
     "cell_type": "code",
     "collapsed": false,
     "input": [
      "year_list = means_df['Year'].values.tolist()\n",
      "step2_zdict = {}\n",
      "for year in year_list:\n",
      "    \n",
      "    ##Get list of all state means for year, dropping NaNs\n",
      "    year_row = means_df[means_df['Year']==year]\n",
      "    year_row = year_row.values.tolist()[0][2:]\n",
      "    full_row = []\n",
      "    for x in year_row:\n",
      "        if np.isnan(x)==False:\n",
      "            full_row.append(x)\n",
      "    \n",
      "    ##Get list of all states (corresponding to order of list just created)\n",
      "    state_names = means_df.columns[2:].tolist()\n",
      "    \n",
      "    ##Calculate Step 2 zscore for each state (for year)\n",
      "    new_zscores = []\n",
      "    for x in year_row:\n",
      "        new_zscores.append((x-np.mean(full_row))/float(np.std(full_row)))\n",
      "    \n",
      "    ##Link state names and zscores\n",
      "    year_zscores = {}\n",
      "    for i in range(0, len(state_names)):\n",
      "        year_zscores[state_names[i]] = new_zscores[i]\n",
      "    \n",
      "    ##Add to dictionary for all years\n",
      "    step2_zdict[year] = year_zscores\n",
      "\n",
      "#step2_zdict[2012]"
     ],
     "language": "python",
     "metadata": {},
     "outputs": [],
     "prompt_number": 166
    },
    {
     "cell_type": "heading",
     "level": 3,
     "metadata": {},
     "source": [
      "Step 3"
     ]
    },
    {
     "cell_type": "code",
     "collapsed": false,
     "input": [
      "naep_df = pd.read_csv('NaepMathG4.csv')\n",
      "##naep_df.head()"
     ],
     "language": "python",
     "metadata": {},
     "outputs": [],
     "prompt_number": 185
    },
    {
     "cell_type": "code",
     "collapsed": false,
     "input": [
      "year_list = [2005, 2007, 2008, 2009, 2011, 2013]\n",
      "\n",
      "naep_zdict = {}\n",
      "for year in year_list:\n",
      "    all_states = naep_df[naep_df['Year']==year]['Proficient'].values.tolist()\n",
      "    prof_float = []\n",
      "    [prof_float.append(float(x)) for x in all_states]\n",
      "    naep_zscore = []\n",
      "    for x in prof_float:\n",
      "        naep_zscore.append((x-np.mean(prof_float))/np.std(prof_float))\n",
      "    state_names = naep_df[naep_df['Year']==year]['State'].values.tolist()\n",
      "    year_zscores= {}\n",
      "    for i in range(0, len(state_names)):\n",
      "        year_zscores[state_names[i]] = naep_zscore[i]\n",
      "    naep_zdict[year] = year_zscores\n",
      "    \n",
      "#naep_zdict[2012]"
     ],
     "language": "python",
     "metadata": {},
     "outputs": [],
     "prompt_number": 165
    },
    {
     "cell_type": "heading",
     "level": 3,
     "metadata": {},
     "source": [
      "Combining z-scores from Steps 2 and 3"
     ]
    },
    {
     "cell_type": "markdown",
     "metadata": {},
     "source": [
      "Were we to first make the Step 2 adjustment to school z-scores and then the Step 3 adjustment, we would first subtract the Step 2 z-score and then add the Step 3 z-score. However, it will be easier to first substact the Step 2 z-score from the Step 3 z-score, and then add to each school z-score the state level \"Step 4\" z-score corresponding to the year and state."
     ]
    },
    {
     "cell_type": "code",
     "collapsed": false,
     "input": [
      "step4_zdict = {}\n",
      "for year in step2_zdict:\n",
      "    state_zdict = {}\n",
      "    for state in step2_zdict[year]:\n",
      "        if year%2 != 0:\n",
      "            state_zdict[state] = naep_zdict[year][state] - step2_zdict[year][state]\n",
      "        elif year%2 == 0:\n",
      "            state_zdict[state] = naep_zdict[year-1][state] - step2_zdict[year][state]\n",
      "    step4_zdict[year] = state_zdict\n",
      "    \n",
      "#step4_zdict[2012]"
     ],
     "language": "python",
     "metadata": {},
     "outputs": [],
     "prompt_number": 184
    },
    {
     "cell_type": "heading",
     "level": 3,
     "metadata": {},
     "source": [
      "Final school-level z-score measure "
     ]
    },
    {
     "cell_type": "code",
     "collapsed": false,
     "input": [
      "school_zs = pd.read_csv('zscores_df.csv')\n",
      "print school_zs.head()\n",
      "school_zs.shape"
     ],
     "language": "python",
     "metadata": {},
     "outputs": [
      {
       "output_type": "stream",
       "stream": "stdout",
       "text": [
        "         ncesid      2006      2007      2008      2009      2010      2011      2012      2013 State\n",
        "0         01618       NaN       NaN       NaN       NaN       NaN       NaN       NaN -2.353310    CA\n",
        "1         01785       NaN       NaN       NaN       NaN       NaN       NaN       NaN -0.458437    CA\n",
        "2         05171       NaN       NaN       NaN       NaN       NaN       NaN       NaN -1.191936    CA\n",
        "3  060000106294  0.046115 -0.127992 -0.579329  0.416476  0.348486  0.759509 -0.478953 -1.253061    CA\n",
        "4  060000107534  0.357745 -0.075014  0.361910  0.819013  0.171198  0.128898  0.191426  0.030562    CA\n"
       ]
      },
      {
       "metadata": {},
       "output_type": "pyout",
       "prompt_number": 7,
       "text": [
        "(38874, 10)"
       ]
      }
     ],
     "prompt_number": 7
    },
    {
     "cell_type": "code",
     "collapsed": false,
     "input": [
      "school_zs[school_zs['ncesid']=='060000106294']\n",
      "school_zs[school_zs['ncesid']=='110007000000']\n",
      "\n",
      "\n"
     ],
     "language": "python",
     "metadata": {},
     "outputs": [
      {
       "html": [
        "<div style=\"max-height:1000px;max-width:1500px;overflow:auto;\">\n",
        "<table border=\"1\" class=\"dataframe\">\n",
        "  <tbody>\n",
        "    <tr>\n",
        "      <td>Int64Index([], dtype=int64)</td>\n",
        "      <td>Empty DataFrame</td>\n",
        "    </tr>\n",
        "  </tbody>\n",
        "</table>\n",
        "</div>"
       ],
       "metadata": {},
       "output_type": "pyout",
       "prompt_number": 12,
       "text": [
        "Empty DataFrame\n",
        "Columns: [ncesid, 2006, 2007, 2008, 2009, 2010, 2011, 2012, 2013, State]\n",
        "Index: []"
       ]
      }
     ],
     "prompt_number": 12
    },
    {
     "cell_type": "code",
     "collapsed": false,
     "input": [
      "#school_df = school_zs.irow(slice(0, 5))\n",
      "#print school_test\n",
      "school_df = school_zs\n",
      "\n",
      "final_zscores = pd.DataFrame(school_df['ncesid'])\n",
      "all_years = range(2006, 2013+1)\n",
      "for i in range(0,len(all_years)):\n",
      "    new_col = school_df.apply(lambda x:x[i+1] - step4_zdict[all_years[i]][x['State']], axis=1)\n",
      "    final_zscores[all_years[i]] = new_col\n",
      "    print all_years[i] \n",
      "print final_zscores.head()\n",
      "\n",
      "##final_zscores.to_csv('final_zscores_df.csv', index=False)"
     ],
     "language": "python",
     "metadata": {},
     "outputs": [
      {
       "output_type": "stream",
       "stream": "stdout",
       "text": [
        "2006\n",
        "2007"
       ]
      },
      {
       "output_type": "stream",
       "stream": "stdout",
       "text": [
        "\n",
        "2008"
       ]
      },
      {
       "output_type": "stream",
       "stream": "stdout",
       "text": [
        "\n",
        "2009"
       ]
      },
      {
       "output_type": "stream",
       "stream": "stdout",
       "text": [
        "\n",
        "2010"
       ]
      },
      {
       "output_type": "stream",
       "stream": "stdout",
       "text": [
        "\n",
        "2011"
       ]
      },
      {
       "output_type": "stream",
       "stream": "stdout",
       "text": [
        "\n",
        "2012"
       ]
      },
      {
       "output_type": "stream",
       "stream": "stdout",
       "text": [
        "\n",
        "2013"
       ]
      },
      {
       "output_type": "stream",
       "stream": "stdout",
       "text": [
        "\n",
        "         ncesid      2006      2007      2008      2009      2010      2011      2012      2013\n",
        "0         01618       NaN       NaN       NaN       NaN       NaN       NaN       NaN -0.658262\n",
        "1         01785       NaN       NaN       NaN       NaN       NaN       NaN       NaN  1.236611\n",
        "2         05171       NaN       NaN       NaN       NaN       NaN       NaN       NaN  0.503112\n",
        "3  060000106294 -0.070446 -0.108716 -0.435382  0.988231  1.223754  1.638920  0.419646  0.441987\n",
        "4  060000107534  0.241184 -0.055737  0.505857  1.390768  1.046466  1.008309  1.090025  1.725611\n"
       ]
      }
     ],
     "prompt_number": 276
    },
    {
     "cell_type": "code",
     "collapsed": false,
     "input": [
      "check_zscores = pd.read_csv('final_zscores_df.csv')\n",
      "print check_zscores.head()\n",
      "print check_zscores.shape\n",
      "\n",
      "def make_hist(year):\n",
      "    all_scores = []\n",
      "    for x in check_zscores[str(year)]:\n",
      "        if np.isnan(x)==False:\n",
      "            all_scores.append(x)\n",
      "    bins = range(-12,12)\n",
      "    bins = [x/float(2) for x in bins]\n",
      "    plt.hist(all_scores, bins=bins)\n",
      "\n",
      "print make_hist(2010)\n",
      "plt.show()\n",
      "print make_hist(2012)\n",
      "plt.show()\n",
      "print make_hist(2012)\n",
      "plt.show()\n",
      "print make_hist(2013)\n",
      "plt.show()"
     ],
     "language": "python",
     "metadata": {},
     "outputs": [
      {
       "output_type": "stream",
       "stream": "stdout",
       "text": [
        "         ncesid      2006      2007      2008      2009      2010      2011      2012      2013\n",
        "0         01618       NaN       NaN       NaN       NaN       NaN       NaN       NaN -0.658262\n",
        "1         01785       NaN       NaN       NaN       NaN       NaN       NaN       NaN  1.236611\n",
        "2         05171       NaN       NaN       NaN       NaN       NaN       NaN       NaN  0.503112\n",
        "3  060000106294 -0.070446 -0.108716 -0.435382  0.988231  1.223754  1.638920  0.419646  0.441987\n",
        "4  060000107534  0.241184 -0.055737  0.505857  1.390768  1.046466  1.008309  1.090025  1.725611\n",
        "(38874, 9)\n",
        "None"
       ]
      },
      {
       "output_type": "stream",
       "stream": "stdout",
       "text": [
        "\n"
       ]
      },
      {
       "metadata": {},
       "output_type": "display_data",
       "png": "[encoded data removed]",
       "text": [
        "<matplotlib.figure.Figure at 0x10687b190>"
       ]
      },
      {
       "output_type": "stream",
       "stream": "stdout",
       "text": [
        "None\n"
       ]
      },
      {
       "metadata": {},
       "output_type": "display_data",
       "png": "[encoded data removed]",
       "text": [
        "<matplotlib.figure.Figure at 0x10682f110>"
       ]
      },
      {
       "output_type": "stream",
       "stream": "stdout",
       "text": [
        "None\n"
       ]
      },
      {
       "metadata": {},
       "output_type": "display_data",
       "png": "[encoded data removed]",
       "text": [
        "<matplotlib.figure.Figure at 0x10680bdd0>"
       ]
      },
      {
       "output_type": "stream",
       "stream": "stdout",
       "text": [
        "None\n"
       ]
      },
      {
       "metadata": {},
       "output_type": "display_data",
       "png": "[encoded data removed]",
       "text": [
        "<matplotlib.figure.Figure at 0x107000b10>"
       ]
      }
     ],
     "prompt_number": 6
    }
   ],
   "metadata": {}
  }
 ]
}